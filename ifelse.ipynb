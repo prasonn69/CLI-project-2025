{
 "cells": [
  {
   "cell_type": "raw",
   "id": "8544f91b-f31c-464c-8898-a06515bd8712",
   "metadata": {},
   "source": [
    "1.2. 💻 Exercises ➞ List¶\n",
    "1.2.1. Exercises ➞ Level 1\n",
    "Get two numbers from the user using input prompt. If num_1 is greater than num_2 return num_1 is greater than num_2, if num_1 is less num_2 return num_1 is smaller than num_2, else num_1 is equal to num_2. Output:\n",
    "Enter number one: 9\n",
    "Enter number two: 6\n",
    "9 is greater than 6\n",
    "1.2.2. Exercises ➞ Level 2\n",
    "Write a code which gives grade to students according to theirs scores:\n",
    " 90-100, A\n",
    " 70-89, B\n",
    " 60-69, C\n",
    " 50-59, D\n",
    " 0-49, F\n",
    "Check if the season is Autumn, Winter, Spring or Summer.\n",
    "\n",
    "If the user input is:\n",
    "September, October or November, the season is Autumn.\n",
    "December, January or February, the season is Winter.\n",
    "March, April or May, the season is Spring\n",
    "June, July or August, the season is Summer\n",
    "The following list contains some fruits:\n",
    "\n",
    "If a fruit doesn't exist in the list add the fruit to the list and print the modified list. If the fruit exists print ('That fruit already exist in the list')\n",
    " fruits = ['banana', 'orange', 'mango', 'pear']\n",
    "1.2.3. Exercises ➞ Level 3\n",
    "Here we have a person dictionary. Feel free to modify it!\n",
    "    person={\n",
    "    'first_name': 'Ramesh',\n",
    "    'last_name': 'Pradhan',\n",
    "    'age': 96,\n",
    "    'country': 'Finland',\n",
    "    'is_marred': True,\n",
    "    'skills': ['Python', 'Matlab', 'R', 'C', 'C++'],\n",
    "    'address': {\n",
    "        'street': 'Space street',\n",
    "        'zipcode': '02210'\n",
    "    }\n",
    "    }\n",
    "Check if the person dictionary has skills key, if so print out the middle skill in the skills list.\n",
    "Check if the person dictionary has skills key, if so check if the person has 'Python' skill and print out the result.\n",
    "If a person skills has only Python and Matlab, print('He knows machine learning'), if the person skills has Python, and R print('He knows statistics'), if the person skills has C, and C++, Print('He knows software development'), else print('unknown title') - for more accurate results more conditions can be nested!\n",
    "If the person is married and if he lives in Finland, print the information in the following format:\n",
    "    Ramesh Pradhan lives in Finland. He is married."
   ]
  },
  {
   "cell_type": "code",
   "execution_count": 8,
   "id": "d64b0f15-71d6-4567-92c2-dcea51b0b6fb",
   "metadata": {},
   "outputs": [
    {
     "name": "stdin",
     "output_type": "stream",
     "text": [
      "Enter first num 9\n",
      "Enter the second num 6\n"
     ]
    },
    {
     "name": "stdout",
     "output_type": "stream",
     "text": [
      "9>6\n"
     ]
    }
   ],
   "source": [
    "#Get two numbers from the user using input prompt. If num_1 is greater than num_2 return num_1 is greater than num_2, if num_1 is less num_2 return num_1 is smaller than num_2, else num_1 is equal to num_2. Output:\n",
    "num_1=int(input('Enter first num'))\n",
    "num_2=int(input('Enter the second num'))\n",
    "if num_1>num_2:\n",
    "    print(f'{num_1}>{num_2}')\n",
    "else:\n",
    "    print(f'{num_2}>{num_1}')"
   ]
  },
  {
   "cell_type": "code",
   "execution_count": 7,
   "id": "029d8f10-7172-4a86-9551-7a95f1a65e46",
   "metadata": {},
   "outputs": [
    {
     "name": "stdout",
     "output_type": "stream",
     "text": [
      "9>6\n"
     ]
    }
   ],
   "source": [
    "#Enter number one: 9\n",
    "#Enter number two: 6\n",
    "#9 is greater than 6\n",
    "a=9\n",
    "b=6\n",
    "if a>b:\n",
    "   print(f'{a}>{b}')\n",
    "\n"
   ]
  },
  {
   "cell_type": "code",
   "execution_count": 12,
   "id": "3c715362-214c-40ce-938a-3ce388120729",
   "metadata": {},
   "outputs": [
    {
     "name": "stdin",
     "output_type": "stream",
     "text": [
      "Enter the marks of student:  99\n"
     ]
    },
    {
     "name": "stdout",
     "output_type": "stream",
     "text": [
      "A\n"
     ]
    }
   ],
   "source": [
    "marks = int(input(\"Enter the marks of student: \"))\n",
    "\n",
    "if marks >= 90 and marks <= 100:\n",
    "    print('A')\n",
    "elif marks >= 70 and marks <= 89:\n",
    "    print('B')\n",
    "elif marks >= 60 and marks <= 69:\n",
    "    print('C')\n",
    "elif marks >= 50 and marks <= 59:\n",
    "    print('D')\n",
    "elif marks >= 0 and marks <= 49:\n",
    "    print('F')\n",
    "else:\n",
    "    print(\"Invalid score! Please enter a number between 0 and 100\")"
   ]
  },
  {
   "cell_type": "code",
   "execution_count": null,
   "id": "bb598fee-883a-4b95-9da9-3e126f446f6b",
   "metadata": {},
   "outputs": [],
   "source": []
  }
 ],
 "metadata": {
  "kernelspec": {
   "display_name": "Python 3 (ipykernel)",
   "language": "python",
   "name": "python3"
  },
  "language_info": {
   "codemirror_mode": {
    "name": "ipython",
    "version": 3
   },
   "file_extension": ".py",
   "mimetype": "text/x-python",
   "name": "python",
   "nbconvert_exporter": "python",
   "pygments_lexer": "ipython3",
   "version": "3.13.1"
  }
 },
 "nbformat": 4,
 "nbformat_minor": 5
}
