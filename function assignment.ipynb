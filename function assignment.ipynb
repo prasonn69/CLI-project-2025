{
 "cells": [
  {
   "cell_type": "raw",
   "id": "a176634b-7bc5-4b7e-9dac-64d250d1c0cb",
   "metadata": {},
   "source": [
    "2.12. 💻 Exercises ➞ Functions\n",
    "2.12.1. Exercises ➞ Level 1\n",
    "Area of a circle is calculated as follows: area = π x r x r and perimeter = 2 x π x r. Write a function that calculates area_of_circle and perimeter_of_circle.\n",
    "\n",
    "Write a function called add_all_nums which takes arbitrary number of arguments and sums all the arguments. Check if all the list items are number types. If not do give a reasonable feedback.\n",
    "\n",
    "Temperature in °C can be converted to °F using this formula: °F = (°C x 9/5) + 32. Write a function which converts °C to °F, convert_celsius_2_fahrenheit.\n",
    "\n",
    "Write a function called check_season, it takes a month parameter and returns the season: Autumn, Winter, Spring or Summer.\n",
    "\n",
    "Write a function called calculate_slope which return the slope of a linear equation\n",
    "\n",
    "Quadratic equation is calculated as follows: ax² + bx + c = 0. Write a function which calculates solution set of a quadratic equation, solve_quadratic_eqn.\n",
    "\n",
    "Declare a function named print_list. It takes a list as a parameter and it prints out each element of the list.\n",
    "\n",
    "Declare a function named reverse_list. It takes an array as a parameter and it returns the reverse of the array (use loops).\n",
    "\n",
    "print(reverse_list([1, 2, 3, 4, 5])) #[5, 4, 3, 2, 1] print(reverse_list1([\"A\", \"B\", \"C\"])) #[\"C\", \"B\", \"A\"] ```\n",
    "\n",
    "Declare a function named capitalize_list_items. It takes a list as a parameter and it returns a capitalized list of items\n",
    "\n",
    "Declare a function named add_item. It takes a list and an item parameters. It returns a list with the item added at the end.\n",
    "\n",
    "food_staff = ['Potato', 'Tomato', 'Mango', 'Milk'] print(add_item(food_staff, 'Fungi')) #['Potato', 'Tomato', 'Mango', 'Milk', 'Fungi'] numbers = [2, 3, 7, 9] print(add_item(numbers, 5)) #[2, 3, 7, 9, 5] ```\n",
    "\n",
    "Declare a function named remove_item. It takes a list and an item parameters. It returns a list with the item removed from it.\n",
    "\n",
    "food_staff = ['Potato', 'Tomato', 'Mango', 'Milk'] print(remove_item(food_staff, 'Mango')) # ['Potato', 'Tomato', 'Milk'] numbers = [2, 3, 7, 9] print(remove_item(numbers, 3)) # [2, 7, 9] ```\n",
    "\n",
    "Declare a function named sum_of_numbers. It takes a number parameter and it adds all the numbers in that range.\n",
    "\n",
    "print(sum_of_numbers(5)) # 15 print(sum_all_numbers(10)) # 55 print(sum_all_numbers(100)) # 5050 ```\n",
    "\n",
    "Declare a function named sum_of_odds. It takes a number parameter and it adds all the odd numbers in that range.\n",
    "Declare a function named sum_of_even. It takes a number parameter and it adds all the even numbers in that - range.\n",
    "2.12.2. Exercises ➞ Level 2\n",
    "Declare a function named evens_and_odds. It takes a positive integer as parameter and it counts number of evens and odds in the number.\n",
    "\n",
    "print(evens_and_odds(100)) #The number of odds are 50. #The number of evens are 51.\n",
    "\n",
    "\n",
    "Call your function factorial, it takes a whole number as a parameter and it return a factorial of the number\n",
    "\n",
    "Call your function is_empty, it takes a parameter and it checks if it is empty or not\n",
    "\n",
    "Write different functions which take lists. They should calculate_mean, calculate_median, calculate_mode, calculate_range, calculate_variance, calculate_std (standard deviation).\n",
    "\n",
    "2.12.3. Exercises ➞ Level 3\n",
    "Write a function called is_prime, which checks if a number is prime.\n",
    "Write a functions which checks if all items are unique in the list.\n",
    "Write a function which checks if all the items of the list are of the same data type.\n",
    "Write a function which check if provided variable is a valid python variable\n",
    "Go to the data folder and access the countries-data.py file.\n",
    "Create a function called the most_spoken_languages in the world. It should return 10 or 20 most spoken languages in the world in descending order\n",
    "Create a function called the most_populated_countries. It should return 10 or 20 most populated countries in descending order."
   ]
  },
  {
   "cell_type": "code",
   "execution_count": 8,
   "id": "c3d0a3ce-893b-4e8e-b3de-120a772649ec",
   "metadata": {},
   "outputs": [],
   "source": [
    "#Area of a circle is calculated as follows: area = π x r x r and perimeter = 2 x π x r. Write a function that calculates area_of_circle and perimeter_of_circle.\n",
    "def area(r):\n",
    "    pi=3.14\n",
    "    a=pi*r**2\n",
    "    return a\n",
    "def perimeter(r):\n",
    "    pi=3.14\n",
    "    p=2*pi*r**2\n",
    "    return p\n",
    "\n",
    "    "
   ]
  },
  {
   "cell_type": "code",
   "execution_count": 7,
   "id": "31cde51b-a417-4261-88e9-bd530aaf43cf",
   "metadata": {},
   "outputs": [
    {
     "data": {
      "text/plain": [
       "50.24"
      ]
     },
     "execution_count": 7,
     "metadata": {},
     "output_type": "execute_result"
    }
   ],
   "source": [
    "area(4)"
   ]
  },
  {
   "cell_type": "code",
   "execution_count": 9,
   "id": "38cca7b8-dd8b-49a8-a30c-39e00bb83bd5",
   "metadata": {},
   "outputs": [
    {
     "data": {
      "text/plain": [
       "12717.0"
      ]
     },
     "execution_count": 9,
     "metadata": {},
     "output_type": "execute_result"
    }
   ],
   "source": [
    "perimeter(45)"
   ]
  },
  {
   "cell_type": "code",
   "execution_count": 29,
   "id": "60ca1cd2-6443-4aeb-b354-534be5e98000",
   "metadata": {},
   "outputs": [],
   "source": [
    "#Write a function called add_all_nums which takes arbitrary number of arguments and sums all the arguments. Check if all the list items are number types. If not do give a reasonable feedback.\n",
    "def add_all_nums(*args):\n",
    "    if not args:\n",
    "        return \"Error: No numbers provided to sum\"\n",
    "    \n",
    "    sum = 0\n",
    "    for num in args:\n",
    "        if not isinstance(num, (int, float)):\n",
    "            return f\"Error: '{num}' is not a number. All arguments must be numbers.\"\n",
    "        sum += num\n",
    "    \n",
    "    return f\"Sum: {sum}\"\n"
   ]
  },
  {
   "cell_type": "code",
   "execution_count": 30,
   "id": "eff1f341-44a7-408d-aa72-26f9f9e297ca",
   "metadata": {},
   "outputs": [
    {
     "data": {
      "text/plain": [
       "13"
      ]
     },
     "execution_count": 30,
     "metadata": {},
     "output_type": "execute_result"
    }
   ],
   "source": [
    "add(2,5,6)"
   ]
  },
  {
   "cell_type": "code",
   "execution_count": 36,
   "id": "025161db-c6ef-4e52-b770-75061b2b1781",
   "metadata": {},
   "outputs": [],
   "source": [
    "#Temperature in °C can be converted to °F using this formula: °F = (°C x 9/5) + 32. Write a function which converts °C to °F, convert_celsius_2_fahrenheit\n",
    "def convert_celsius_2_fahrenheit(C):\n",
    "    F = (C * 9/5) + 32\n",
    "    return F\n",
    "    \n",
    "    "
   ]
  },
  {
   "cell_type": "code",
   "execution_count": 37,
   "id": "6e68ebf8-5866-4630-a344-85a052501611",
   "metadata": {},
   "outputs": [
    {
     "data": {
      "text/plain": [
       "194.0"
      ]
     },
     "execution_count": 37,
     "metadata": {},
     "output_type": "execute_result"
    }
   ],
   "source": [
    "convert_celsius_2_fahrenheit(90)"
   ]
  },
  {
   "cell_type": "code",
   "execution_count": 38,
   "id": "05829eea-c206-4e7b-8558-b40584169bc8",
   "metadata": {},
   "outputs": [],
   "source": [
    "#Write a function called check_season, it takes a month parameter and returns the season: Autumn, Winter, Spring or Summer\n",
    "def check_season(month):\n",
    "    month = month.lower()\n",
    "    if month in ['september', 'october', 'november']:\n",
    "        return 'Autumn'\n",
    "    elif month in ['december', 'january', 'february']:\n",
    "        return 'Winter'\n",
    "    elif month in ['march', 'april', 'may']:\n",
    "        return 'Spring'\n",
    "    elif month in ['june', 'july', 'august']:\n",
    "        return 'Summer'\n",
    "    else:\n",
    "        return 'Invalid month'"
   ]
  },
  {
   "cell_type": "code",
   "execution_count": 40,
   "id": "701db64e-40b4-43ac-869d-f9d3945df19d",
   "metadata": {},
   "outputs": [
    {
     "data": {
      "text/plain": [
       "'Summer'"
      ]
     },
     "execution_count": 40,
     "metadata": {},
     "output_type": "execute_result"
    }
   ],
   "source": [
    "check_season('june')"
   ]
  },
  {
   "cell_type": "code",
   "execution_count": 42,
   "id": "a974c518-56b5-49d6-8ee3-63aed03ee38b",
   "metadata": {},
   "outputs": [],
   "source": [
    "#Write a function called calculate_slope which return the slope of a linear equation\n",
    "def slope(x1,y1,x2,y2):\n",
    "    s=y2-y1/x2-x1\n",
    "    return s"
   ]
  },
  {
   "cell_type": "code",
   "execution_count": 43,
   "id": "11369712-04ae-459b-80e4-242e85e61b9b",
   "metadata": {},
   "outputs": [
    {
     "data": {
      "text/plain": [
       "2.3333333333333335"
      ]
     },
     "execution_count": 43,
     "metadata": {},
     "output_type": "execute_result"
    }
   ],
   "source": [
    "slope(1,2,3,4)"
   ]
  },
  {
   "cell_type": "code",
   "execution_count": 3,
   "id": "a544edc7-4fcf-463e-be86-b09b619fa89d",
   "metadata": {},
   "outputs": [],
   "source": [
    "#Quadratic equation is calculated as follows: ax² + bx + c = 0. Write a function which calculates solution set of a quadratic equation, solve_quadratic_eqn\n",
    "import math \n",
    "def Quadratic(a,b,c):\n",
    "    q=b**2-4*a*c\n",
    "    return q\n",
    "def solve_quadratic_eqn(a, b, c):\n",
    "    discriminant = b**2 - 4*a*c\n",
    "    if discriminant < 0:\n",
    "        return \"No real solutions\"\n",
    "    elif discriminant == 0:\n",
    "        x = -b / (2*a)\n",
    "        return (x,)\n",
    "    else:\n",
    "        x1 = (-b + math.sqrt(discriminant)) / (2*a)\n",
    "        x2 = (-b - math.sqrt(discriminant)) / (2*a)\n",
    "        return (x1, x2)"
   ]
  },
  {
   "cell_type": "code",
   "execution_count": 47,
   "id": "d2fb175c-14be-4a09-a57e-8073e3455972",
   "metadata": {},
   "outputs": [
    {
     "data": {
      "text/plain": [
       "4020"
      ]
     },
     "execution_count": 47,
     "metadata": {},
     "output_type": "execute_result"
    }
   ],
   "source": [
    "Quadratic(7,66,12)"
   ]
  },
  {
   "cell_type": "code",
   "execution_count": 6,
   "id": "5dafd83c-734d-4782-ae39-55b054863164",
   "metadata": {},
   "outputs": [
    {
     "data": {
      "text/plain": [
       "'No real solutions'"
      ]
     },
     "execution_count": 6,
     "metadata": {},
     "output_type": "execute_result"
    }
   ],
   "source": [
    "solve_quadratic_eqn(100,122,111)"
   ]
  },
  {
   "cell_type": "code",
   "execution_count": 16,
   "id": "46451509-8fbb-4778-8311-49b77791633c",
   "metadata": {},
   "outputs": [],
   "source": [
    "#Declare a function named print_list. It takes a list as a parameter and it prints out each element of the list.\n",
    "def print_list(lst):\n",
    "    for item in lst:\n",
    "        print(item)"
   ]
  },
  {
   "cell_type": "code",
   "execution_count": 17,
   "id": "8e71db65-325a-4afd-9cf4-b681a316942c",
   "metadata": {},
   "outputs": [
    {
     "name": "stdout",
     "output_type": "stream",
     "text": [
      "apple\n",
      "banana\n",
      "mango\n"
     ]
    }
   ],
   "source": [
    "print_list(['apple','banana','mango'])"
   ]
  },
  {
   "cell_type": "code",
   "execution_count": 19,
   "id": "86a9641c-0c2d-4c35-ac2c-31966e14b29d",
   "metadata": {},
   "outputs": [],
   "source": [
    "def reverse_list(arr):\n",
    "    reversed_arr = []\n",
    "    for i in range(len(arr)-1, -1, -1):\n",
    "        reversed_arr.append(arr[i])\n",
    "    return reversed_arr"
   ]
  },
  {
   "cell_type": "code",
   "execution_count": 20,
   "id": "b6c40b61-dc54-4fdb-9500-d0c6914ff590",
   "metadata": {},
   "outputs": [],
   "source": [
    "def reverse_list(arr):\n",
    "    return arr[::-1]"
   ]
  },
  {
   "cell_type": "code",
   "execution_count": 21,
   "id": "33ca6033-8374-47e0-aae3-6e032dd1efcc",
   "metadata": {},
   "outputs": [
    {
     "data": {
      "text/plain": [
       "[5, 4, 3, 2, 1]"
      ]
     },
     "execution_count": 21,
     "metadata": {},
     "output_type": "execute_result"
    }
   ],
   "source": [
    "reverse_list([1,2,3,4,5])"
   ]
  },
  {
   "cell_type": "code",
   "execution_count": 22,
   "id": "3199f640-0e42-48ec-9528-6902253e6b0a",
   "metadata": {},
   "outputs": [],
   "source": [
    "\n",
    "def remove_item(lst, item):\n",
    "    return [x for x in lst if x != item]\n",
    "\n",
    "# Declare a function named sum_of_numbers. It takes a number parameter and it adds all the numbers in that range.\n",
    "# print(sum_of_numbers(5)) # 15\n",
    "# print(sum_all_numbers(10)) # 55\n",
    "# print(sum_all_numbers(100)) # 5050\n",
    "def sum_of_numbers(n):\n",
    "    return sum(range(1, n + 1))\n",
    "\n",
    "# Declare a function named sum_of_odds. It takes a number parameter and it adds all the odd numbers in that range.\n",
    "def sum_of_odds(n):\n",
    "    return sum(x for x in range(1, n + 1) if x % 2 != 0)\n",
    "\n",
    "# Declare a function named sum_of_even. It takes a number parameter and it adds all the even numbers in that - range.\n",
    "def sum_of_even(n):\n",
    "    return sum(x for x in range(1, n + 1) if x % 2 == 0)\n",
    "\n"
   ]
  },
  {
   "cell_type": "code",
   "execution_count": 23,
   "id": "c8dd0db7-baeb-489c-80a9-bc66324910b8",
   "metadata": {},
   "outputs": [],
   "source": [
    "# Declare a function named evens_and_odds. It takes a positive integer as parameter and it counts number of evens and odds in the number.\n",
    "# print(evens_and_odds(100))\n",
    "# #The number of odds are 50.\n",
    "# #The number of evens are 51.\n",
    "def evens_and_odds(n):\n",
    "    evens = len([x for x in range(n + 1) if x % 2 == 0])\n",
    "    odds = len([x for x in range(n + 1) if x % 2 != 0])\n",
    "    return f\"The number of odds are {odds}.\\nThe number of evens are {evens}.\"\n",
    "\n",
    "# Call your function factorial, it takes a whole number as a parameter and it return a factorial of the number\n",
    "def factorial(n):\n",
    "    if n == 0:\n",
    "        return 1\n",
    "    return n * factorial(n - 1)\n",
    "\n",
    "# Call your function is_empty, it takes a parameter and it checks if it is empty or not\n",
    "def is_empty(param):\n",
    "    return len(param) == 0\n",
    "\n",
    "# Write different functions which take lists. They should calculate_mean, calculate_median, calculate_mode, calculate_range, calculate_variance, calculate_std (standard deviation).\n",
    "def calculate_mean(lst):\n",
    "    return sum(lst) / len(lst) if lst else 0\n",
    "\n",
    "# Write different functions which take lists. They should calculate_mean, calculate_median, calculate_mode, calculate_range, calculate_variance, calculate_std (standard deviation).\n",
    "def calculate_median(lst):\n",
    "    if not lst:\n",
    "        return 0\n",
    "    sorted_lst = sorted(lst)\n",
    "    n = len(lst)\n",
    "    mid = n // 2\n",
    "    return sorted_lst[mid] if n % 2 else (sorted_lst[mid-1] + sorted_lst[mid]) / 2\n",
    "\n",
    "# Write different functions which take lists. They should calculate_mean, calculate_median, calculate_mode, calculate_range, calculate_variance, calculate_std (standard deviation).\n",
    "def calculate_mode(lst):\n",
    "    if not lst:\n",
    "        return None\n",
    "    freq = {}\n",
    "    for item in lst:\n",
    "        freq[item] = freq.get(item, 0) + 1\n",
    "    max_freq = max(freq.values())\n",
    "    return [item for item, count in freq.items() if count == max_freq]\n",
    "\n",
    "# Write different functions which take lists. They should calculate_mean, calculate_median, calculate_mode, calculate_range, calculate_variance, calculate_std (standard deviation).\n",
    "def calculate_range(lst):\n",
    "    return max(lst) - min(lst) if lst else 0\n",
    "\n",
    "# Write different functions which take lists. They should calculate_mean, calculate_median, calculate_mode, calculate_range, calculate_variance, calculate_std (standard deviation).\n",
    "def calculate_variance(lst):\n",
    "    if not lst:\n",
    "        return 0\n",
    "    mean = calculate_mean(lst)\n",
    "    return sum((x - mean) ** 2 for x in lst) / len(lst)\n",
    "\n",
    "# Write different functions which take lists. They should calculate_mean, calculate_median, calculate_mode, calculate_range, calculate_variance, calculate_std (standard deviation).\n",
    "def calculate_std(lst):\n",
    "    return math.sqrt(calculate_variance(lst)) if lst else 0\n",
    "\n",
    "# Write a function called is_prime, which checks if a number is prime.\n",
    "def is_prime(n):\n",
    "    if n < 2:\n",
    "        return False\n",
    "    for i in range(2, int(math.sqrt(n)) + 1):\n",
    "        if n % i == 0:\n",
    "            return False\n",
    "    return True\n",
    "\n",
    "# Write a functions which checks if all items are unique in the list.\n",
    "def are_items_unique(lst):\n",
    "    return len(lst) == len(set(lst))\n",
    "\n",
    "# Write a function which checks if all the items of the list are of the same data type.\n",
    "def same_data_type(lst):\n",
    "    if not lst:\n",
    "        return True\n",
    "    return all(isinstance(x, type(lst[0])) for x in lst)\n",
    "\n",
    "# Write a function which check if provided variable is a valid python variable\n",
    "def is_valid_variable(var_name):\n",
    "    return var_name.isidentifier() and not var_name[0].isdigit()\n",
    "\n",
    "# Go to the data folder and access the countries-data.py file.\n",
    "# Create a function called the most_spoken_languages in the world. It should return 10 or 20 most spoken languages in the world in descending order\n",
    "def most_spoken_languages(countries, n=10):\n",
    "    lang_count = {}\n",
    "    for country in countries:\n",
    "        for lang in country.get('languages', []):\n",
    "            lang_count[lang] = lang_count.get(lang, 0) + 1\n",
    "    return sorted(lang_count.items(), key=lambda x: x[1], reverse=True)[:n]\n",
    "\n",
    "# Create a function called the most_populated_countries. It should return 10 or 20 most populated countries in descending order.\n",
    "def most_populated_countries(countries, n=10):\n",
    "    return sorted(countries, key=lambda x: x.get('population', 0), reverse=True)[:n]"
   ]
  },
  {
   "cell_type": "code",
   "execution_count": null,
   "id": "7fdf8190-bdf0-464f-b747-530dba921869",
   "metadata": {},
   "outputs": [],
   "source": []
  }
 ],
 "metadata": {
  "kernelspec": {
   "display_name": "Python 3 (ipykernel)",
   "language": "python",
   "name": "python3"
  },
  "language_info": {
   "codemirror_mode": {
    "name": "ipython",
    "version": 3
   },
   "file_extension": ".py",
   "mimetype": "text/x-python",
   "name": "python",
   "nbconvert_exporter": "python",
   "pygments_lexer": "ipython3",
   "version": "3.13.1"
  }
 },
 "nbformat": 4,
 "nbformat_minor": 5
}
