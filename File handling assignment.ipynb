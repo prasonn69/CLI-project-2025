{
 "cells": [
  {
   "cell_type": "raw",
   "id": "686e1476-57be-4702-b6ce-c93b953a07d1",
   "metadata": {},
   "source": [
    "#. Beginner Level\n",
    "1.1. Line Counter\n",
    "Create a program that reads a text file and counts the number of lines in it.\n",
    "\n",
    "Requirements:\n",
    "\n",
    "Write a function called count_lines(file_path) that takes a file path as input and returns the number of lines in the file.\n",
    "Handle the case where the file does not exist by returning an appropriate error message.\n",
    "Include a main() function that:\n",
    "Asks the user for a file path\n",
    "Calls your count_lines() function\n",
    "Displays the result or error message\n"
   ]
  },
  {
   "cell_type": "code",
   "execution_count": 25,
   "id": "598765fc-a12e-486d-9b7f-a72011e5ec18",
   "metadata": {},
   "outputs": [
    {
     "name": "stdout",
     "output_type": "stream",
     "text": [
      "Hello world\n",
      "wrhfjdkjcbhdbhcbfhd\n",
      "dcnd\n",
      "cedc'eds\n",
      "sc\n",
      "dsc\n",
      "\n"
     ]
    }
   ],
   "source": [
    "#Create a program that reads a text file and counts the number of lines in it.\n",
    "with open('hello.txt','r')as f:\n",
    "    print(f.read())\n",
    "    def line():\n",
    "        lines = f.split('\\n')\n",
    "        return len([line for line in lines if line.strip()])"
   ]
  },
  {
   "cell_type": "code",
   "execution_count": 26,
   "id": "20363100-d8e1-4c3a-8bad-018f39e3163e",
   "metadata": {},
   "outputs": [
    {
     "ename": "AttributeError",
     "evalue": "'_io.TextIOWrapper' object has no attribute 'split'",
     "output_type": "error",
     "traceback": [
      "\u001b[31m---------------------------------------------------------------------------\u001b[39m",
      "\u001b[31mAttributeError\u001b[39m                            Traceback (most recent call last)",
      "\u001b[36mCell\u001b[39m\u001b[36m \u001b[39m\u001b[32mIn[26]\u001b[39m\u001b[32m, line 1\u001b[39m\n\u001b[32m----> \u001b[39m\u001b[32m1\u001b[39m \u001b[43mline\u001b[49m\u001b[43m(\u001b[49m\u001b[43m)\u001b[49m\n",
      "\u001b[36mCell\u001b[39m\u001b[36m \u001b[39m\u001b[32mIn[25]\u001b[39m\u001b[32m, line 5\u001b[39m, in \u001b[36mline\u001b[39m\u001b[34m()\u001b[39m\n\u001b[32m      4\u001b[39m \u001b[38;5;28;01mdef\u001b[39;00m\u001b[38;5;250m \u001b[39m\u001b[34mline\u001b[39m():\n\u001b[32m----> \u001b[39m\u001b[32m5\u001b[39m     lines = \u001b[43mf\u001b[49m\u001b[43m.\u001b[49m\u001b[43msplit\u001b[49m(\u001b[33m'\u001b[39m\u001b[38;5;130;01m\\n\u001b[39;00m\u001b[33m'\u001b[39m)\n\u001b[32m      6\u001b[39m     \u001b[38;5;28;01mreturn\u001b[39;00m \u001b[38;5;28mlen\u001b[39m([line \u001b[38;5;28;01mfor\u001b[39;00m line \u001b[38;5;129;01min\u001b[39;00m lines \u001b[38;5;28;01mif\u001b[39;00m line.strip()])\n",
      "\u001b[31mAttributeError\u001b[39m: '_io.TextIOWrapper' object has no attribute 'split'"
     ]
    }
   ],
   "source": [
    "line()"
   ]
  },
  {
   "cell_type": "code",
   "execution_count": null,
   "id": "d154e923-9355-43f2-a997-1a8664cfbbec",
   "metadata": {},
   "outputs": [],
   "source": []
  }
 ],
 "metadata": {
  "kernelspec": {
   "display_name": "Python 3 (ipykernel)",
   "language": "python",
   "name": "python3"
  },
  "language_info": {
   "codemirror_mode": {
    "name": "ipython",
    "version": 3
   },
   "file_extension": ".py",
   "mimetype": "text/x-python",
   "name": "python",
   "nbconvert_exporter": "python",
   "pygments_lexer": "ipython3",
   "version": "3.13.1"
  }
 },
 "nbformat": 4,
 "nbformat_minor": 5
}
