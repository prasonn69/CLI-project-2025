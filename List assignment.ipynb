{
 "cells": [
  {
   "cell_type": "markdown",
   "id": "f85d9e6e-84ff-4d06-86d5-eca267ab9094",
   "metadata": {},
   "source": [
    "1.9. 💻 Exercises ➞ List\n",
    "1.9.1. Exercises ➞ Level 1\n",
    "Declare a list with more than 5 items with different data types\n",
    "\n",
    "Find the length of your list\n",
    "\n",
    "Get the first item, the middle item and the last item of the list\n",
    "\n",
    "Declare a list called my_info, put your (name, age, height, marital status, country)\n",
    "\n",
    "Declare a list variable named mix_fruits and assign initial values Guava, Mango, Apple, Pear, Fig, Orange and Banana and print the list.\n",
    "\n",
    "Print the list using print()\n",
    "\n",
    "Print the number of mix_fruits in the list\n",
    "\n",
    "Print the first, middle and last fruit\n",
    "\n",
    "Print the list after modifying one of the fruit\n",
    "\n",
    "Add an fruit to variable mix_fruits\n",
    "\n",
    "Insert an fruit in the middle of the mix_fruits list\n",
    "\n",
    "Change one of the fruit names to uppercase\n",
    "\n",
    "Join the elements in mix_fruits with a string -#-\n",
    "\n",
    "Check if a certain fruit exists in the mix_fruits list.\n",
    "\n",
    "Sort the list using sort() method\n",
    "\n",
    "Reverse the list in descending order using reverse() method\n",
    "\n",
    "Slice out the first 3 fruits from the list\n",
    "\n",
    "Slice out the last 3 fruits from the list\n",
    "\n",
    "Slice out the middle fruit or fruits from the list\n",
    "\n",
    "Remove the first fruit from the list\n",
    "\n",
    "Remove the middle fruit or companies from the list\n",
    "\n",
    "Remove the last fruit from the list\n",
    "\n",
    "Remove all fruits from the list\n",
    "\n",
    "Delete the fruits list\n",
    "\n",
    "Join the following lists:\n",
    "\n",
    "front_end = ['HTML', 'CSS', 'JS', 'React', 'Redux'] back_end = ['Node','Express', 'MongoDB']\n",
    "\n",
    "\n",
    "After joining the lists in question 25. Copy the joined list and assign it to a variable full_stack. Then insert 'Python' and 'SQL' after 'Redux'.\n",
    "\n",
    "1.9.2. Exercises ➞ Level 2\n",
    "The following is a list of 10 students ages:\n",
    "\n",
    "ages = [19, 23, 19, 25, 21, 20, 25, 26, 25, 24] ```\n",
    "\n",
    "    - Sort the list and find the min and max age\n",
    "    - Add the min age and the max age again to the list\n",
    "    - Find the median age (one middle item or two middle items divided by two)\n",
    "    - Find the average age (sum of all items divided by their number )\n",
    "    - Find the range of the ages (max - min)\n",
    "    - Compare the value of (min - average) and (max - average), use **[abs()](../04_Python_Functions/blob/main/002_Python_Functions_Built_in/001_Python_abs%28%29.ipynb)** method\n",
    "Find the middle country(ies) in the countries list\n",
    "Divide the countries list into two equal lists if it is even if not one more country for the first half.\n",
    "['India', 'Russia', 'China', 'Finland', 'Sweden', 'Norway', 'Denmark']. Unpack the first three countries and the rest as scandic countries."
   ]
  },
  {
   "cell_type": "code",
   "execution_count": 2,
   "id": "44219d8e-bf8b-487a-beb4-d8612077b7e5",
   "metadata": {},
   "outputs": [
    {
     "name": "stdout",
     "output_type": "stream",
     "text": [
      "[1, 2, 3, 4, 5]\n",
      "5\n"
     ]
    }
   ],
   "source": [
    "#Declare a list with more than 5 items with different data types\n",
    "\n",
    "#Find the length of your list\n",
    "\n",
    "list=[1,2,3,4,5]\n",
    "print(list)\n",
    "print(len(list))"
   ]
  },
  {
   "cell_type": "code",
   "execution_count": 3,
   "id": "254d2f88-5f23-4f48-99a3-42d2453e8127",
   "metadata": {},
   "outputs": [
    {
     "name": "stdout",
     "output_type": "stream",
     "text": [
      "1 3 5\n"
     ]
    }
   ],
   "source": [
    "#Get the first item, the middle item and the last item of the list\n",
    "x=[1,2,3,4,5]\n",
    "print(x[0],x[2],x[-1])\n"
   ]
  },
  {
   "cell_type": "code",
   "execution_count": 6,
   "id": "2628ae51-6551-46fd-bf7f-396dd084984e",
   "metadata": {},
   "outputs": [
    {
     "name": "stdout",
     "output_type": "stream",
     "text": [
      "['Prason', 16, 5.5, 'Unmarried', 'Nepal']\n"
     ]
    }
   ],
   "source": [
    "#Declare a list called my_info, put your (name, age, height, marital status, country)\n",
    "my_info=['Prason',16,5.5,'Unmarried','Nepal']\n",
    "print(my_info)"
   ]
  },
  {
   "cell_type": "code",
   "execution_count": 9,
   "id": "8d085ddb-9695-46c0-b7d0-95391c31e10e",
   "metadata": {},
   "outputs": [
    {
     "name": "stdout",
     "output_type": "stream",
     "text": [
      "['Guava', 'Mango', 'Apple', 'Pear', 'Fig', 'Orange', 'Banana']\n"
     ]
    }
   ],
   "source": [
    "#Declare a list variable named mix_fruits and assign initial values Guava, Mango, Apple, Pear, Fig, Orange and Banana and print the list.\n",
    "mix_fruits=['Guava','Mango','Apple','Pear','Fig','Orange','Banana']\n",
    "print(mix_fruits)\n"
   ]
  },
  {
   "cell_type": "code",
   "execution_count": 10,
   "id": "6b17d893-4eac-4b0a-82da-883bc677dd28",
   "metadata": {},
   "outputs": [
    {
     "name": "stdout",
     "output_type": "stream",
     "text": [
      "7\n"
     ]
    }
   ],
   "source": [
    "#Print the number of mix_fruits in the list\n",
    "mix_fruits=['Guava','Mango','Apple','Pear','Fig','Orange','Banana']\n",
    "print(len(mix_fruits))\n"
   ]
  },
  {
   "cell_type": "code",
   "execution_count": 12,
   "id": "c01aa7c2-3bdf-4c81-9c96-f3415a36949d",
   "metadata": {},
   "outputs": [
    {
     "name": "stdout",
     "output_type": "stream",
     "text": [
      "Guava Pear Banana\n"
     ]
    }
   ],
   "source": [
    "#Print the first, middle and last fruit\n",
    "x=['Guava','Mango','Apple','Pear','Fig','Orange','Banana']\n",
    "print(x[0],x[3],x[-1])"
   ]
  },
  {
   "cell_type": "code",
   "execution_count": 17,
   "id": "c5e39de2-d1c0-4254-be62-c670479d8ffd",
   "metadata": {},
   "outputs": [
    {
     "name": "stdout",
     "output_type": "stream",
     "text": [
      "['Guava', 'Mango', 'Apple', 'Kiwi', 'Fig', 'Orange', 'Banana']\n"
     ]
    }
   ],
   "source": [
    "#Print the list after modifying one of the fruit\n",
    "x=['Guava','Mango','Apple','Pear','Fig','Orange','Banana']\n",
    "x[3]='Kiwi'\n",
    "print(x)\n"
   ]
  },
  {
   "cell_type": "code",
   "execution_count": 20,
   "id": "5b9f98fc-81b0-41c1-a47b-a0bde6e805c4",
   "metadata": {},
   "outputs": [
    {
     "name": "stdout",
     "output_type": "stream",
     "text": [
      "['Guava', 'Mango', 'Apple', 'Pear', 'Fig', 'Orange', 'Banana', 'Jackfruit']\n"
     ]
    }
   ],
   "source": [
    "#Add an fruit to variable mix_fruits\n",
    "x=['Guava','Mango','Apple','Pear','Fig','Orange','Banana']\n",
    "x.append('Jackfruit')\n",
    "print(x)"
   ]
  },
  {
   "cell_type": "code",
   "execution_count": 25,
   "id": "121f1131-681b-45fd-a91f-bdc1925072a1",
   "metadata": {},
   "outputs": [
    {
     "name": "stdout",
     "output_type": "stream",
     "text": [
      "['Guava', 'Mango', 'Apple', 'Jackfruit', 'Fig', 'Orange', 'Banana', 'Pear']\n"
     ]
    }
   ],
   "source": [
    "#Insert an fruit in the middle of the mix_fruits list\n",
    "x=['Guava','Mango','Apple','Pear','Fig','Orange','Banana']\n",
    "x.append(x[3])\n",
    "x[3]='Jackfruit'\n",
    "print(x)"
   ]
  },
  {
   "cell_type": "code",
   "execution_count": 29,
   "id": "b5ee841c-0742-4c15-bba4-63b789cc72a0",
   "metadata": {},
   "outputs": [
    {
     "name": "stdout",
     "output_type": "stream",
     "text": [
      "['guava', 'mango', 'APPLE', 'PEAR', 'fig', 'orange', 'banana']\n"
     ]
    }
   ],
   "source": [
    "#Change one of the fruit names to uppercase\n",
    "x = ['guava', 'mango', 'apple', 'pear', 'fig', 'orange', 'banana']\n",
    "x[2] = x[2].upper() \n",
    "x[3]=x[3].upper()\n",
    "print(x)"
   ]
  },
  {
   "cell_type": "code",
   "execution_count": 41,
   "id": "b11abc87-a346-4bc6-8930-8b669c44fd6a",
   "metadata": {},
   "outputs": [
    {
     "name": "stdout",
     "output_type": "stream",
     "text": [
      "Guava-#-Mango-#-Apple-#-Pear-#-Fig-#-Orange-#-Banana\n"
     ]
    }
   ],
   "source": [
    "#Join the elements in mix_fruits with a string -#-\n",
    "mix_fruits = ['Guava', 'Mango', 'Apple', 'Pear', 'Fig', 'Orange', 'Banana']\n",
    "result='-#-'.join(mix_fruits)\n",
    "print(result)"
   ]
  },
  {
   "cell_type": "code",
   "execution_count": 60,
   "id": "2f4ec430-9cb0-4033-8cca-8ea044cea20f",
   "metadata": {},
   "outputs": [
    {
     "name": "stdin",
     "output_type": "stream",
     "text": [
      "Enter a fruit:  Apple\n"
     ]
    },
    {
     "name": "stdout",
     "output_type": "stream",
     "text": [
      "True\n"
     ]
    }
   ],
   "source": [
    "#Check if a certain fruit exists in the mix_fruits list.\n",
    "mix_fruits = ['Guava', 'Mango', 'Apple', 'Pear', 'Fig', 'Orange', 'Banana']\n",
    "fruit = input('Enter a fruit: ')\n",
    "exists = fruit in mix_fruits\n",
    "\n",
    "print(exists)\n"
   ]
  },
  {
   "cell_type": "code",
   "execution_count": 63,
   "id": "f09de1e9-3a28-41af-b59c-3fdbb1a33b86",
   "metadata": {},
   "outputs": [
    {
     "name": "stdout",
     "output_type": "stream",
     "text": [
      "['Apple', 'Banana', 'Fig', 'Guava', 'Mango', 'Orange', 'Pear']\n"
     ]
    }
   ],
   "source": [
    "#Sort the list using sort() method\n",
    "mix_fruits = ['Guava', 'Mango', 'Apple', 'Pear', 'Fig', 'Orange', 'Banana']\n",
    "mix_fruits.sort()\n",
    "print(mix_fruits)"
   ]
  },
  {
   "cell_type": "code",
   "execution_count": 64,
   "id": "fc3020e3-5c0c-4480-bca1-af84a10a90da",
   "metadata": {},
   "outputs": [
    {
     "name": "stdout",
     "output_type": "stream",
     "text": [
      "['Banana', 'Orange', 'Fig', 'Pear', 'Apple', 'Mango', 'Guava']\n"
     ]
    }
   ],
   "source": [
    "#Reverse the list in descending order using reverse() method\n",
    "mix_fruits = ['Guava', 'Mango', 'Apple', 'Pear', 'Fig', 'Orange', 'Banana']\n",
    "mix_fruits.reverse()\n",
    "print(mix_fruits)"
   ]
  },
  {
   "cell_type": "code",
   "execution_count": 67,
   "id": "07cd6b05-5506-4cf9-bb80-9d6d2b620696",
   "metadata": {},
   "outputs": [
    {
     "name": "stdout",
     "output_type": "stream",
     "text": [
      "['Banana', 'Orange', 'Fig', 'Pear', 'Apple', 'Mango', 'Guava']\n"
     ]
    }
   ],
   "source": [
    "mix_fruits = ['Guava', 'Mango', 'Apple', 'Pear', 'Fig', 'Orange', 'Banana']\n",
    "result=print(mix_fruits[-1:-8:-1])"
   ]
  },
  {
   "cell_type": "code",
   "execution_count": 71,
   "id": "e06f9bfd-2963-4337-aa42-9ede7b5aa404",
   "metadata": {},
   "outputs": [
    {
     "name": "stdout",
     "output_type": "stream",
     "text": [
      "['Guava', 'Mango', 'Apple']\n"
     ]
    }
   ],
   "source": [
    "#Slice out the first 3 fruits from the list\n",
    "mix_fruits = ['Guava', 'Mango', 'Apple', 'Pear', 'Fig', 'Orange', 'Banana']\n",
    "result=print(mix_fruits[0:3:1])"
   ]
  },
  {
   "cell_type": "code",
   "execution_count": 72,
   "id": "51410d19-7730-4c89-b746-9cfc5e01692d",
   "metadata": {},
   "outputs": [
    {
     "name": "stdout",
     "output_type": "stream",
     "text": [
      "['Banana', 'Orange', 'Fig']\n"
     ]
    }
   ],
   "source": [
    "#Slice out the last 3 fruits from the list\n",
    "mix_fruits = ['Guava', 'Mango', 'Apple', 'Pear', 'Fig', 'Orange', 'Banana']\n",
    "result=print(mix_fruits[-1:-4:-1])"
   ]
  },
  {
   "cell_type": "code",
   "execution_count": 73,
   "id": "02edaa44-4422-4e34-be29-efbb222af159",
   "metadata": {},
   "outputs": [
    {
     "data": {
      "text/plain": [
       "'Banana'"
      ]
     },
     "execution_count": 73,
     "metadata": {},
     "output_type": "execute_result"
    }
   ],
   "source": [
    "#Remove the first fruit from the list\n",
    "mix_fruits = ['Guava', 'Mango', 'Apple', 'Pear', 'Fig', 'Orange', 'Banana']\n",
    "mix_fruits.pop([0:])"
   ]
  },
  {
   "cell_type": "code",
   "execution_count": 75,
   "id": "88931da7-2eb4-4d05-bc85-51c1ee366368",
   "metadata": {},
   "outputs": [
    {
     "name": "stdout",
     "output_type": "stream",
     "text": [
      "['HTML', 'CSS', 'JS', 'React', 'Redux', 'Python', 'SQL', 'Node', 'Express', 'MongoDB']\n"
     ]
    }
   ],
   "source": [
    "# Remove the middle fruit or companies from the list\n",
    "# Remove the last fruit from the list\n",
    "# Remove all fruits from the list\n",
    "# Delete the fruits list\n",
    "fruits = ['apple', 'banana', 'orange', 'grape', 'mango']\n",
    "fruits.pop(2)\n",
    "fruits.pop()\n",
    "fruits.clear()\n",
    "del fruits\n",
    "\n",
    "# Join the following lists: front_end = ['HTML', 'CSS', 'JS', 'React', 'Redux'] back_end = ['Node','Express', 'MongoDB']\n",
    "# After joining the lists in question 25. Copy the joined list and assign it to a variable full_stack. Then insert 'Python' and 'SQL' after 'Redux'\n",
    "front_end = ['HTML', 'CSS', 'JS', 'React', 'Redux']\n",
    "back_end = ['Node', 'Express', 'MongoDB']\n",
    "joined_list = front_end + back_end\n",
    "full_stack = joined_list[:]\n",
    "full_stack.insert(5, 'Python')\n",
    "full_stack.insert(6, 'SQL')\n",
    "print(full_stack)\n",
    "\n",
    "\n"
   ]
  },
  {
   "cell_type": "code",
   "execution_count": null,
   "id": "5ce187a0-2005-476d-93c7-65c7a275c922",
   "metadata": {},
   "outputs": [],
   "source": [
    "# Find the middle country(ies) in the countries list\n",
    "# Divide the countries list into two equal lists if it is even if not one more country for the first half\n",
    "# Unpack the first three countries and the rest as scandic countries\n",
    "countries = ['India', 'Russia', 'China', 'Finland', 'Sweden', 'Norway', 'Denmark']\n",
    "middle = countries[3]\n",
    "print(middle)\n",
    "first_half = countries[:4]\n",
    "second_half = countries[4:]\n",
    "print(first_half)\n",
    "print(second_half)\n",
    "india, russia, china, *scandic = countries\n",
    "print(india)\n",
    "print(russia)\n",
    "print(china)\n",
    "print(scandic)"
   ]
  },
  {
   "cell_type": "code",
   "execution_count": null,
   "id": "b45497c9-0f98-4dbc-b903-017f126d56da",
   "metadata": {},
   "outputs": [],
   "source": [
    "# Sort the list and find the min and max age\n",
    "# Add the min age and the max age again to the list\n",
    "# Find the median age (one middle item or two middle items divided by two)\n",
    "# Find the average age (sum of all items divided by their number)\n",
    "# Find the range of the ages (max - min)\n",
    "# Compare the value of (min - average) and (max - average), use abs() method\n",
    "ages = [19, 23, 19, 25, 21, 20, 25, 26, 25, 24]\n",
    "ages.sort()\n",
    "min_age = ages[0]\n",
    "max_age = ages[-1]\n",
    "print(ages)\n",
    "print(min_age)\n",
    "print(max_age)\n",
    "ages.append(min_age)\n",
    "ages.append(max_age)\n",
    "print(ages)\n",
    "ages.sort()\n",
    "median = (ages[5] + ages[6]) / 2\n",
    "print(median)\n",
    "average = sum(ages) / len(ages)\n",
    "print(average)\n",
    "range_ages = max_age - min_age\n",
    "print(range_ages)\n",
    "min_diff = abs(min_age - average)\n",
    "max_diff = abs(max_age - average)\n",
    "print(min_diff)\n",
    "print(max_diff)\n"
   ]
  }
 ],
 "metadata": {
  "kernelspec": {
   "display_name": "Python 3 (ipykernel)",
   "language": "python",
   "name": "python3"
  },
  "language_info": {
   "codemirror_mode": {
    "name": "ipython",
    "version": 3
   },
   "file_extension": ".py",
   "mimetype": "text/x-python",
   "name": "python",
   "nbconvert_exporter": "python",
   "pygments_lexer": "ipython3",
   "version": "3.13.1"
  }
 },
 "nbformat": 4,
 "nbformat_minor": 5
}
