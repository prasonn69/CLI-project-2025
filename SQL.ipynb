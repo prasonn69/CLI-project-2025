{
 "cells": [
  {
   "cell_type": "code",
   "execution_count": 4,
   "id": "32022526-c9da-4d02-b108-db44bd14d719",
   "metadata": {},
   "outputs": [],
   "source": [
    "import sqlite3\n",
    "\n",
    "# Connect to SQLite database (creates a new database if it doesn't exist)\n",
    "con = sqlite3.connect('students1.sqlite3')\n",
    "cur = con.cursor()\n",
    "\n",
    "# Create the student table\n",
    "create_table_query = '''\n",
    "    CREATE TABLE IF NOT EXISTS student (\n",
    "        id INTEGER PRIMARY KEY,\n",
    "        name VARCHAR NOT NULL,\n",
    "        address VARCHAR NOT NULL,\n",
    "        college VARCHAR NOT NULL,\n",
    "        age INTEGER NOT NULL,\n",
    "        gender VARCHAR(1) NOT NULL,\n",
    "        faculty VARCHAR NOT NULL\n",
    "    );\n",
    "'''\n",
    "\n",
    "cur.execute(create_table_query)\n",
    "con.commit()\n",
    ")"
   ]
  },
  {
   "cell_type": "code",
   "execution_count": 6,
   "id": "326ef2c8-db19-4bc1-ab4a-a12aee296e01",
   "metadata": {},
   "outputs": [],
   "source": [
    "import sqlite3\n",
    "\n",
    "# Connect to SQLite database\n",
    "con = sqlite3.connect('students1.sqlite3')\n",
    "cur = con.cursor()\n",
    "\n",
    "# Data to insert\n",
    "students = [\n",
    "    (1, 'ram', 'kathmandu', 'ncit', 18, 'm', 'IT'),\n",
    "    (2, 'shyam', 'lalitpur', 'islington', 20, 'm', 'CSIT'),\n",
    "    (3, 'gita', 'pokhara', 'ncit', 21, 'f', 'SE'),\n",
    "    (4, 'sita', 'kathmandu', 'ioe pulchowk', 24, 'f', 'CE')\n",
    "]\n",
    "\n",
    "# Insert records using parameterized query\n",
    "cur.executemany(\"\"\"\n",
    "    INSERT INTO student (id, name, address, college, age, gender, faculty)\n",
    "    VALUES (?, ?, ?, ?, ?, ?, ?)\n",
    "\"\"\", students)\n",
    "\n",
    "# Commit changes and close connection\n",
    "con.commit()\n"
   ]
  },
  {
   "cell_type": "code",
   "execution_count": 8,
   "id": "b0901bf5-cc2b-4a31-b992-44d0354ec830",
   "metadata": {},
   "outputs": [
    {
     "name": "stdout",
     "output_type": "stream",
     "text": [
      "[(1, 'ram', 'kathmandu', 'ncit', 18, 'm', 'IT'), (2, 'shyam', 'lalitpur', 'islington', 20, 'm', 'CSIT'), (3, 'gita', 'pokhara', 'ncit', 21, 'f', 'SE'), (4, 'sita', 'kathmandu', 'ioe pulchowk', 24, 'f', 'CE')]\n"
     ]
    }
   ],
   "source": [
    "import sqlite3\n",
    "\n",
    "# Connect to SQLite database\n",
    "con = sqlite3.connect('students1.sqlite3')\n",
    "cur = con.cursor()\n",
    "\n",
    "# Fetch all records from student table\n",
    "students = cur.execute('SELECT * FROM student;').fetchall()\n",
    "\n",
    "# Print the results\n",
    "print(students)\n"
   ]
  },
  {
   "cell_type": "code",
   "execution_count": 12,
   "id": "38cc3cd0-d7b7-414d-a80f-8a2e82ade7c8",
   "metadata": {},
   "outputs": [
    {
     "name": "stdout",
     "output_type": "stream",
     "text": [
      "(1, 'ram', 'kathmandu', 'ncit', 18, 'm', 'IT')\n",
      "(2, 'shyam', 'lalitpur', 'islington', 20, 'm', 'CSIT')\n",
      "(3, 'gita', 'pokhara', 'ncit', 21, 'f', 'SE')\n",
      "(4, 'sita', 'kathmandu', 'ioe pulchowk', 24, 'f', 'CE')\n"
     ]
    }
   ],
   "source": [
    "import sqlite3\n",
    "\n",
    "# Connect to SQLite database\n",
    "con = sqlite3.connect('students1.sqlite3')\n",
    "cur = con.cursor()\n",
    "\n",
    "# Fetch all records from student table (fixed typo in 'from')\n",
    "students = cur.execute('SELECT * FROM student;')\n",
    "\n",
    "# Print each student record\n",
    "for student in students:\n",
    "    print(student)\n",
    "\n",
    "# Close connection after we're done\n"
   ]
  },
  {
   "cell_type": "code",
   "execution_count": 22,
   "id": "be58b5aa-e18b-4411-a96f-da28eb647e30",
   "metadata": {},
   "outputs": [
    {
     "ename": "ProgrammingError",
     "evalue": "Cannot operate on a closed database.",
     "output_type": "error",
     "traceback": [
      "\u001b[31m---------------------------------------------------------------------------\u001b[39m",
      "\u001b[31mProgrammingError\u001b[39m                          Traceback (most recent call last)",
      "\u001b[36mCell\u001b[39m\u001b[36m \u001b[39m\u001b[32mIn[22]\u001b[39m\u001b[32m, line 1\u001b[39m\n\u001b[32m----> \u001b[39m\u001b[32m1\u001b[39m \u001b[43mcur\u001b[49m\u001b[43m.\u001b[49m\u001b[43mexecute\u001b[49m\u001b[43m(\u001b[49m\u001b[33;43m\"\u001b[39;49m\u001b[33;43mSELECT * FROM student WHERE address = \u001b[39;49m\u001b[33;43m'\u001b[39;49m\u001b[33;43mlalitpur\u001b[39;49m\u001b[33;43m'\u001b[39;49m\u001b[33;43m;\u001b[39;49m\u001b[33;43m\"\u001b[39;49m\u001b[43m)\u001b[49m\n\u001b[32m      2\u001b[39m \u001b[38;5;28mprint\u001b[39m(\u001b[33m\"\u001b[39m\u001b[38;5;130;01m\\n\u001b[39;00m\u001b[33mStudents living in Lalitpur:\u001b[39m\u001b[33m\"\u001b[39m)\n\u001b[32m      3\u001b[39m \u001b[38;5;28;01mfor\u001b[39;00m student \u001b[38;5;129;01min\u001b[39;00m lalitpur_students:\n",
      "\u001b[31mProgrammingError\u001b[39m: Cannot operate on a closed database."
     ]
    }
   ],
   "source": [
    "\n",
    "cur.execute(\"SELECT * FROM student WHERE address = 'lalitpur';\")\n",
    "print(\"\\nStudents living in Lalitpur:\")\n",
    "for student in lalitpur_students:\n",
    "    print(student)\n"
   ]
  },
  {
   "cell_type": "code",
   "execution_count": 23,
   "id": "44174b2a-c083-4f42-9b66-8de8bc0954de",
   "metadata": {},
   "outputs": [
    {
     "ename": "NameError",
     "evalue": "name 'address' is not defined",
     "output_type": "error",
     "traceback": [
      "\u001b[31m---------------------------------------------------------------------------\u001b[39m",
      "\u001b[31mNameError\u001b[39m                                 Traceback (most recent call last)",
      "\u001b[36mCell\u001b[39m\u001b[36m \u001b[39m\u001b[32mIn[23]\u001b[39m\u001b[32m, line 1\u001b[39m\n\u001b[32m----> \u001b[39m\u001b[32m1\u001b[39m cur.execute(\u001b[33mf\u001b[39m\u001b[33m\"\"\"\u001b[39m\u001b[33mSELECT * FROM student WHERE address =\u001b[39m\u001b[33m'\u001b[39m\u001b[38;5;132;01m{\u001b[39;00m\u001b[43maddress\u001b[49m\u001b[38;5;132;01m}\u001b[39;00m\u001b[33m'\u001b[39m\u001b[33m;\u001b[39m\u001b[33m\"\"\"\u001b[39m)\n\u001b[32m      2\u001b[39m \u001b[38;5;28;01mfor\u001b[39;00m student \u001b[38;5;129;01min\u001b[39;00m students:\n\u001b[32m      3\u001b[39m     \u001b[38;5;28mprint\u001b[39m(student)\n",
      "\u001b[31mNameError\u001b[39m: name 'address' is not defined"
     ]
    }
   ],
   "source": [
    "\n",
    "cur.execute(f\"\"\"SELECT * FROM student WHERE address ='{address}';\"\"\")\n",
    "for student in students:\n",
    "    print(student)"
   ]
  },
  {
   "cell_type": "code",
   "execution_count": 24,
   "id": "f721c3ac-bb2f-4259-a976-092796e3bf53",
   "metadata": {},
   "outputs": [],
   "source": [
    "address=input('Enter the address: ')\n",
    "students=cur.execute(f\"\"\"\"SELECT*FROM student where address='{address}';\"\"\")\n",
    "for student in students:\n",
    "    print(student)"
   ]
  },
  {
   "cell_type": "code",
   "execution_count": 25,
   "id": "270628ad-7010-4273-9189-3256464354ae",
   "metadata": {},
   "outputs": [],
   "source": [
    "#SQL injection\n",
    "#SELECT*FROM student adddress=Lalitpur or true address='kathmandu'\n"
   ]
  },
  {
   "cell_type": "code",
   "execution_count": 26,
   "id": "7e59efb3-7f2d-4ea3-8c2d-17b18c634f2a",
   "metadata": {},
   "outputs": [
    {
     "name": "stdout",
     "output_type": "stream",
     "text": [
      "University column already exists\n"
     ]
    },
    {
     "name": "stdin",
     "output_type": "stream",
     "text": [
      "Enter address to search:  lalitpur\n"
     ]
    },
    {
     "name": "stdout",
     "output_type": "stream",
     "text": [
      "\n",
      "Students in lalitpur:\n",
      "<generator object <genexpr> at 0x106fd9cc0>\n"
     ]
    }
   ],
   "source": [
    "import sqlite3\n",
    "\n",
    "# Connect to database and create cursor\n",
    "con = sqlite3.connect('students1.sqlite3')\n",
    "cur = con.cursor()\n",
    "\n",
    "# Add university column if it doesn't exist\n",
    "try:\n",
    "    cur.execute(\"ALTER TABLE student ADD COLUMN university VARCHAR NOT NULL DEFAULT 'tu'\")\n",
    "    print(\"University column added\")\n",
    "except sqlite3.OperationalError:\n",
    "    print(\"University column already exists\")\n",
    "\n",
    "# Get address from user and query students\n",
    "address = input(\"Enter address to search: \")\n",
    "cur.execute(\"SELECT * FROM student WHERE address = ?\", (address,))\n",
    "students = cur.fetchall()\n",
    "\n",
    "# Print results\n",
    "print(f\"\\nStudents in {address}:\")\n",
    "print(student for student in students) if students else print(\"No students found\")\n",
    "\n",
    "# Save and close\n",
    "con.commit()\n"
   ]
  },
  {
   "cell_type": "code",
   "execution_count": 28,
   "id": "6ca2fa58-59aa-46f1-9b4b-f18e0eee408d",
   "metadata": {},
   "outputs": [
    {
     "ename": "ProgrammingError",
     "evalue": "Cannot operate on a closed database.",
     "output_type": "error",
     "traceback": [
      "\u001b[31m---------------------------------------------------------------------------\u001b[39m",
      "\u001b[31mProgrammingError\u001b[39m                          Traceback (most recent call last)",
      "\u001b[36mCell\u001b[39m\u001b[36m \u001b[39m\u001b[32mIn[28]\u001b[39m\u001b[32m, line 8\u001b[39m\n\u001b[32m      1\u001b[39m student=(\u001b[32m11\u001b[39m,\u001b[33m'\u001b[39m\u001b[33mramesh pradhan\u001b[39m\u001b[33m'\u001b[39m,\u001b[33m'\u001b[39m\u001b[33mlalitpur\u001b[39m\u001b[33m'\u001b[39m,\u001b[33m'\u001b[39m\u001b[33mncit\u001b[39m\u001b[33m'\u001b[39m,\u001b[32m23\u001b[39m,\u001b[33m'\u001b[39m\u001b[33mm\u001b[39m\u001b[33m'\u001b[39m,\u001b[33m'\u001b[39m\u001b[33mIT\u001b[39m\u001b[33m'\u001b[39m,\u001b[33m'\u001b[39m\u001b[33mTU\u001b[39m\u001b[33m'\u001b[39m)\n\u001b[32m      2\u001b[39m INSERT_RECORDS=\u001b[33m\"\"\"\u001b[39m\u001b[33m\"\u001b[39m\n\u001b[32m      3\u001b[39m \u001b[33mINSERT into student\u001b[39m\n\u001b[32m      4\u001b[39m \u001b[33m(\u001b[39m\u001b[33m'\u001b[39m\u001b[33mid,\u001b[39m\u001b[33m'\u001b[39m\u001b[33mnames\u001b[39m\u001b[33m'\u001b[39m\u001b[33m,\u001b[39m\u001b[33m'\u001b[39m\u001b[33maddress\u001b[39m\u001b[33m'\u001b[39m\u001b[33m,\u001b[39m\u001b[33m'\u001b[39m\u001b[33mcollege\u001b[39m\u001b[33m'\u001b[39m\u001b[33m,\u001b[39m\u001b[33m'\u001b[39m\u001b[33mage\u001b[39m\u001b[33m'\u001b[39m\u001b[33m,\u001b[39m\u001b[33m'\u001b[39m\u001b[33mgender\u001b[39m\u001b[33m'\u001b[39m\u001b[33m,\u001b[39m\u001b[33m'\u001b[39m\u001b[33mfaculty\u001b[39m\u001b[33m'\u001b[39m\u001b[33m,university)\u001b[39m\n\u001b[32m      5\u001b[39m \u001b[33mvalues\u001b[39m\n\u001b[32m      6\u001b[39m \u001b[33m(?,?,?,?,?,?,?,?)\u001b[39m\n\u001b[32m      7\u001b[39m \u001b[33m\"\"\"\u001b[39m\n\u001b[32m----> \u001b[39m\u001b[32m8\u001b[39m \u001b[43mcur\u001b[49m\u001b[43m.\u001b[49m\u001b[43mexecute\u001b[49m\u001b[43m(\u001b[49m\u001b[43mINSERT_RECORDS\u001b[49m\u001b[43m,\u001b[49m\u001b[43mstudent\u001b[49m\u001b[43m)\u001b[49m\n\u001b[32m      9\u001b[39m con.commit()\n",
      "\u001b[31mProgrammingError\u001b[39m: Cannot operate on a closed database."
     ]
    }
   ],
   "source": [
    "student=(11,'ramesh pradhan','lalitpur','ncit',23,'m','IT','TU')\n",
    "INSERT_RECORDS=\"\"\"\"\n",
    "INSERT into student\n",
    "('id,'names','address','college','age','gender','faculty',university)\n",
    "values\n",
    "(?,?,?,?,?,?,?,?)\n",
    "\"\"\"\n",
    "cur.execute(INSERT_RECORDS,student)\n",
    "con.commit()"
   ]
  },
  {
   "cell_type": "code",
   "execution_count": 29,
   "id": "fb4e6ce6-d028-4026-80ba-78eea804f757",
   "metadata": {},
   "outputs": [
    {
     "name": "stdout",
     "output_type": "stream",
     "text": [
      "Record inserted successfully!\n"
     ]
    }
   ],
   "source": [
    "import sqlite3\n",
    "\n",
    "# Connect to the database\n",
    "con = sqlite3.connect('your_database.db')\n",
    "cur = con.cursor()\n",
    "\n",
    "# Create table if it doesn’t exist\n",
    "cur.execute(\"\"\"\n",
    "CREATE TABLE IF NOT EXISTS student (\n",
    "    id INTEGER,\n",
    "    names TEXT,\n",
    "    address TEXT,\n",
    "    college TEXT,\n",
    "    age INTEGER,\n",
    "    gender TEXT,\n",
    "    faculty TEXT,\n",
    "    university TEXT\n",
    ")\n",
    "\"\"\")\n",
    "\n",
    "# Define the student tuple\n",
    "student = (11, 'ramesh pradhan', 'lalitpur', 'ncit', 23, 'm', 'IT', 'TU')\n",
    "\n",
    "# Insert query\n",
    "INSERT_RECORDS = \"\"\"\n",
    "INSERT INTO student\n",
    "(id, names, address, college, age, gender, faculty, university)\n",
    "VALUES\n",
    "(?, ?, ?, ?, ?, ?, ?, ?)\n",
    "\"\"\"\n",
    "\n",
    "# Execute the query\n",
    "cur.execute(INSERT_RECORDS, student)\n",
    "\n",
    "# Commit the transaction\n",
    "con.commit()\n",
    "\n",
    "print(\"Record inserted successfully!\")"
   ]
  },
  {
   "cell_type": "code",
   "execution_count": 32,
   "id": "187e60c0-4e99-4d47-81c2-b13e043d1657",
   "metadata": {},
   "outputs": [],
   "source": [
    "import sqlite3\n",
    "\n",
    "# Connect to the database\n",
    "con = sqlite3.connect('your_database.db')\n",
    "cur = con.cursor()\n",
    "\n",
    "# Create table if it doesn’t exist\n",
    "cur.execute(\"\"\"\n",
    "CREATE TABLE IF NOT EXISTS student (\n",
    "    id INTEGER,\n",
    "    names TEXT,\n",
    "    address TEXT,\n",
    "    college TEXT,\n",
    "    age INTEGER,\n",
    "    gender TEXT,\n",
    "    faculty TEXT,\n",
    "    university TEXT\n",
    ")\n",
    "\"\"\")\n",
    "\n",
    "# Define the list of students\n",
    "students = [\n",
    "    (18, 'hari bahadur', 'lalitpur', 'ncit', 23, 'm', 'SE', 'PU'),\n",
    "    (19, 'madan bahadur', 'kathmandu', 'british college', 24, 'm', 'IT', 'UK'),\n",
    "    (13, 'maya devi', 'lalitpur', 'ncit', 21, 'f', 'CE', 'PU'),  # Fixed syntax here\n",
    "]\n",
    "\n",
    "# Insert query\n",
    "INSERT_RECORDS = \"\"\"\n",
    "INSERT INTO student\n",
    "(id, names, address, college, age, gender, faculty, university)\n",
    "VALUES\n",
    "(?, ?, ?, ?, ?, ?, ?, ?)\n",
    "\"\"\"\n",
    "\n",
    "# Execute the query for multiple records\n",
    "cur.executemany(INSERT_RECORDS, students)\n",
    "con.commit()\n",
    "\n"
   ]
  },
  {
   "cell_type": "code",
   "execution_count": null,
   "id": "33569533-34f9-4b7b-bfb5-ac8dd11f93ae",
   "metadata": {},
   "outputs": [],
   "source": []
  }
 ],
 "metadata": {
  "kernelspec": {
   "display_name": "Python 3 (ipykernel)",
   "language": "python",
   "name": "python3"
  },
  "language_info": {
   "codemirror_mode": {
    "name": "ipython",
    "version": 3
   },
   "file_extension": ".py",
   "mimetype": "text/x-python",
   "name": "python",
   "nbconvert_exporter": "python",
   "pygments_lexer": "ipython3",
   "version": "3.13.1"
  }
 },
 "nbformat": 4,
 "nbformat_minor": 5
}
