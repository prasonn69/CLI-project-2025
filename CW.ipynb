{
 "cells": [
  {
   "cell_type": "code",
   "execution_count": null,
   "metadata": {},
   "outputs": [],
   "source": [
    "#modules=> pi cos exp log10\n",
    "from math import pi\n",
    "print(pi)\n",
    "\n",
    "import math\n",
    "print(math.pi)\n",
    "print(math.cos(math.pi))\n",
    "print(math.log10(1000))\n",
    "print(math.sinh(1))\n"
   ]
  },
  {
   "cell_type": "code",
   "execution_count": null,
   "metadata": {},
   "outputs": [],
   "source": [
    "import random\n",
    "x=['a','b','c','d','e']\n",
    "random.shuffle(x)\n",
    "print(x)"
   ]
  },
  {
   "cell_type": "code",
   "execution_count": null,
   "metadata": {},
   "outputs": [],
   "source": [
    "import random\n",
    "print(random.randrange(10,20))\n"
   ]
  },
  {
   "cell_type": "code",
   "execution_count": null,
   "metadata": {},
   "outputs": [],
   "source": [
    "import random\n",
    "x=['a','b','c','d']\n",
    "print(random.choice(x))\n",
    "print(random.random())\n"
   ]
  },
  {
   "cell_type": "code",
   "execution_count": 1,
   "metadata": {},
   "outputs": [
    {
     "name": "stdout",
     "output_type": "stream",
     "text": [
      "T\n",
      "i\n",
      "T h i s   i s\n",
      "This\n",
      "is stri\n",
      "e\n",
      "e\n",
      "immutable\n",
      "immutable\n",
      "immutable.\n",
      "Ti ssrn\n",
      "This is string\n",
      "This is string. Strings in python are immutable.\n",
      "This is string. Strings in python are immutable.\n",
      "This is string. Strings in python are immutable.\n",
      "\n",
      ".elbatummi era nohtyp ni sgnirtS .gnirts si sihT\n",
      "False\n",
      "9\n",
      "-1\n"
     ]
    }
   ],
   "source": [
    "s='This is string'\n",
    "print(s[0]) #indexing\n",
    "print(s[5])\n",
    "print(s[0],s[1],s[2],s[3],s[4],s[5],s[6])\n",
    "print(s[0:4])#slicing\n",
    "print(s[5:12])#one number is added at the end\n",
    "s='This is string. Strings in python are immutable.'\n",
    "print(s[46])\n",
    "print(s[-2])#Negative indexing\n",
    "print(s[38:47])\n",
    "print(s[-10:-1])\n",
    "print(s[-10:])\n",
    "print(s[0:14:2])#start:stop:step\n",
    "print(s[0:14:1])#start:stop:step\n",
    "print(s[0:])\n",
    "print(s[:])\n",
    "print(s[::])\n",
    "print(s[-47:0])\n",
    "text = \"This is string. Strings in python are immutable.\"\n",
    "reversed_text = text[::-1]\n",
    "print(reversed_text)\n",
    "print(s.endswith('T'))\n",
    "print(s.find('t'))\n",
    "print(s.find('t',10,15))"
   ]
  },
  {
   "cell_type": "code",
   "execution_count": 2,
   "metadata": {},
   "outputs": [
    {
     "name": "stdout",
     "output_type": "stream",
     "text": [
      "[1, 2, 3, 4] <class 'list'>\n"
     ]
    }
   ],
   "source": [
    "#list\n",
    "x=[1,2,3,4]\n",
    "print(x,type(x))\n"
   ]
  },
  {
   "cell_type": "code",
   "execution_count": 3,
   "metadata": {},
   "outputs": [
    {
     "name": "stdout",
     "output_type": "stream",
     "text": [
      "5\n"
     ]
    }
   ],
   "source": [
    "X=[1,[[2,[3,4,5,6],7],8],9]\n",
    "print(X[1][0][1][2])"
   ]
  },
  {
   "cell_type": "code",
   "execution_count": null,
   "metadata": {},
   "outputs": [],
   "source": [
    "X#support any type of datasrtucture\n",
    "x=[1,1.5,'ram','1',8j,[1,2,3,4],{'ram':'ram'},1,2]\n",
    "print(x)\n"
   ]
  },
  {
   "cell_type": "code",
   "execution_count": null,
   "metadata": {},
   "outputs": [],
   "source": [
    "x=[1,[2,4,[5,6,7]]]\n",
    "print(x[1][2][0])\n",
    "\n"
   ]
  },
  {
   "cell_type": "code",
   "execution_count": null,
   "metadata": {},
   "outputs": [],
   "source": [
    "s='this is StRing. Strings in python are immutable'\n",
    "print(s.capitalize())#First string capital/upper case all of others are in lower case\n",
    "print(s.title())#All first letters are capitalized\n",
    "print(s.upper())\n",
    "print(s.lower())\n",
    "print(s.count('t'))"
   ]
  },
  {
   "cell_type": "code",
   "execution_count": 2,
   "metadata": {},
   "outputs": [],
   "source": [
    "#triple quotatiom ==> multiline string\n"
   ]
  },
  {
   "cell_type": "code",
   "execution_count": 1,
   "metadata": {},
   "outputs": [
    {
     "name": "stdout",
     "output_type": "stream",
     "text": [
      "this is ram. my age is 22\n",
      "this is ram. my age is 22\n",
      "shresthaprason99@gmail.com\n",
      "xtha\n",
      "Help on method_descriptor:\n",
      "\n",
      "strip(self, chars=None, /) unbound builtins.str method\n",
      "    Return a copy of the string with leading and trailing whitespace removed.\n",
      "\n",
      "    If chars is given and not None, remove characters in chars instead.\n",
      "\n",
      "None\n"
     ]
    },
    {
     "data": {
      "text/plain": [
       "['ram', 'hari', 'sita']"
      ]
     },
     "execution_count": 1,
     "metadata": {},
     "output_type": "execute_result"
    }
   ],
   "source": [
    "name='ram'\n",
    "age=22\n",
    "s=f'this is {name}. my age is {age}' #f-string interpolation\n",
    "print(s)\n",
    "s='this is {}. my age is {}'.format(name,age)\n",
    "print(s)\n",
    "x='     shresthaprason99@gmail.com      '\n",
    "print(x.strip())\n",
    "x='#######xtha#####'\n",
    "print(x.strip('#'))\n",
    "print(help(str.strip))\n",
    "x='ram-->hari-->sita'\n",
    "\n",
    "x.split('-->')"
   ]
  },
  {
   "cell_type": "code",
   "execution_count": null,
   "metadata": {},
   "outputs": [],
   "source": [
    "#Output;ram+hari+sita\n",
    "'+'.join(x)\n"
   ]
  },
  {
   "cell_type": "code",
   "execution_count": null,
   "metadata": {},
   "outputs": [],
   "source": [
    "print('hello')"
   ]
  },
  {
   "cell_type": "code",
   "execution_count": null,
   "metadata": {},
   "outputs": [],
   "source": [
    "x=\"    prason shrestha    \"\n",
    "print(x.split())\n",
    "print(x.strip())\n",
    "print('-'.join(x))\n",
    "\n",
    "\n"
   ]
  },
  {
   "cell_type": "code",
   "execution_count": null,
   "metadata": {},
   "outputs": [],
   "source": []
  },
  {
   "cell_type": "code",
   "execution_count": null,
   "metadata": {},
   "outputs": [],
   "source": [
    "x='Prason82'\n",
    "print(x.strip('82'))\n"
   ]
  },
  {
   "cell_type": "code",
   "execution_count": null,
   "metadata": {},
   "outputs": [],
   "source": [
    "#list==> mutable objects==> can be changed once defined\n",
    "fruits=['apple','banana','mango','orange']\n",
    "fruits[0]='Ram'\n",
    "print(fruits)\n",
    "\n",
    "del fruits[0]\n",
    "print(fruits)\n",
    "    "
   ]
  },
  {
   "cell_type": "code",
   "execution_count": null,
   "metadata": {},
   "outputs": [],
   "source": [
    "#number and strings===> integer,float,complex===>immutable====> cannot be changed once defined\n",
    "fruits=['apple','banana','mango','orange']\n",
    "fruits.append('grapes')\n",
    "print(fruits)\n",
    "fruits.clear()\n"
   ]
  },
  {
   "cell_type": "code",
   "execution_count": null,
   "metadata": {},
   "outputs": [],
   "source": [
    "fruits1=['apple','banana','mango','orange']\n",
    "fruits2=fruits1.copy()\n",
    "print(id(fruits1))\n",
    "print(id(fruits2))\n",
    "fruits2.append('grapes')\n",
    "print(fruits1,fruits2)\n"
   ]
  },
  {
   "cell_type": "code",
   "execution_count": null,
   "metadata": {},
   "outputs": [],
   "source": [
    "fruits=['apple','banana','mango','orange','apple']\n",
    "fruits.count('apple')\n"
   ]
  },
  {
   "cell_type": "code",
   "execution_count": null,
   "metadata": {},
   "outputs": [],
   "source": [
    "fruits=['apple','banana','mango','orange','apple']\n",
    "fruits.append(['ram',1,22,'grapes'])\n",
    "print(fruits)\n",
    "fruits.extend(['ram',1,22,'grapes'])\n",
    "\n",
    "fruits=['apple','banana','ramesh']\n",
    "fruits.extend('ramesh')\n",
    "print(fruits)"
   ]
  },
  {
   "cell_type": "code",
   "execution_count": null,
   "metadata": {},
   "outputs": [],
   "source": [
    "fruits=['apple','banana']\n",
    "fruits.append(1)\n",
    "fruits.extend(1)\n",
    "fruits.extend('1')\n",
    "print(fruits)\n"
   ]
  },
  {
   "cell_type": "code",
   "execution_count": null,
   "metadata": {},
   "outputs": [],
   "source": [
    "fruits=['apple','banana','mango','orange']\n",
    "fruits.insert(1,'grapes')\n",
    "print(fruits)\n"
   ]
  },
  {
   "cell_type": "code",
   "execution_count": null,
   "metadata": {},
   "outputs": [],
   "source": [
    "fruits=['apple','banana','mango','orange','apple']\n",
    "fruits.index('apple')\n"
   ]
  },
  {
   "cell_type": "code",
   "execution_count": null,
   "metadata": {},
   "outputs": [],
   "source": [
    "fruits=['apple','banana','mango']\n",
    "fruits.index('adf')#returns value error\n"
   ]
  },
  {
   "cell_type": "code",
   "execution_count": null,
   "metadata": {},
   "outputs": [],
   "source": [
    "print(fruits.pop())\n",
    "print(fruits)"
   ]
  },
  {
   "cell_type": "code",
   "execution_count": null,
   "metadata": {},
   "outputs": [],
   "source": [
    "fruits=['apple','banana','mango','orange']\n",
    "fruits.pop(2)\n",
    "print(fruits)"
   ]
  },
  {
   "cell_type": "code",
   "execution_count": null,
   "metadata": {},
   "outputs": [],
   "source": [
    "fruits.pop(22)#Raises index error\n",
    "print(fruits)\n",
    "fruits=[]\n",
    "fruits.pop()#Raises index error\n"
   ]
  },
  {
   "cell_type": "code",
   "execution_count": null,
   "metadata": {},
   "outputs": [],
   "source": [
    "fruits=['apple','banana','orange']\n",
    "fruits.remove('apple')\n",
    "print(fruits)"
   ]
  },
  {
   "cell_type": "code",
   "execution_count": null,
   "metadata": {},
   "outputs": [],
   "source": [
    "x=[1,7,8,9,10,4,3]\n",
    "x.sort()\n",
    "print(x)"
   ]
  },
  {
   "cell_type": "code",
   "execution_count": null,
   "metadata": {},
   "outputs": [],
   "source": [
    "x=[1,7,8,9,10,4,3]\n",
    "x.sort()\n",
    "x.sort(reverse=True)\n",
    "print(x)"
   ]
  },
  {
   "cell_type": "code",
   "execution_count": null,
   "metadata": {},
   "outputs": [],
   "source": [
    "#supports any type of datastructure\n",
    "#ordered collection\n",
    "#immutabale===> cannot be changed\n",
    "x=(1,2,3,4)\n",
    "x[0]='ram'##error\n",
    "x=(1,1.5,4j,'string',[1,2,3])\n",
    "print(x,type(x))"
   ]
  },
  {
   "cell_type": "code",
   "execution_count": null,
   "metadata": {},
   "outputs": [],
   "source": [
    "#Indexing and slicing same as list\n",
    "x=(1,2,3,4)\n",
    "x[1:3]"
   ]
  },
  {
   "cell_type": "code",
   "execution_count": null,
   "metadata": {},
   "outputs": [],
   "source": [
    "help(tuple)\n"
   ]
  },
  {
   "cell_type": "code",
   "execution_count": null,
   "metadata": {},
   "outputs": [],
   "source": [
    "x=(1,2,3,4,1,5,15)\n",
    "print(x.count(1))\n",
    "print(x.index(1))"
   ]
  },
  {
   "cell_type": "code",
   "execution_count": null,
   "metadata": {},
   "outputs": [],
   "source": [
    "x=(1,)\n",
    "print(type(x))\n",
    "y=1,\n",
    "print(type(y))"
   ]
  },
  {
   "cell_type": "code",
   "execution_count": null,
   "metadata": {},
   "outputs": [],
   "source": [
    "#tuple unpacking\n",
    "x,y,z=1,2,3\n",
    "print(x)\n",
    "print(y)\n",
    "print(z)"
   ]
  },
  {
   "cell_type": "code",
   "execution_count": null,
   "metadata": {},
   "outputs": [],
   "source": [
    "#list vs tuple\n",
    "#list => mutable , tuple=>immutable\n",
    "#list=>[],tuple,tuple=> faster than list\n",
    "#list=> takes more memory than tuple, tuple=> takes less memory than list\n",
    "#list=.homogenous datastructure,tuple=>heteregenous"
   ]
  },
  {
   "cell_type": "code",
   "execution_count": null,
   "metadata": {},
   "outputs": [],
   "source": [
    "fruits=['apple','banana','orange']#same type of datastructures ==>homogenous\n",
    "person=['ram',1,2345,23456.56,22]#different type of datastructure===> heterogenous\n"
   ]
  },
  {
   "cell_type": "code",
   "execution_count": null,
   "metadata": {},
   "outputs": [],
   "source": [
    "person={\n",
    "    'id':1,#key:value pair with comma\n",
    "    'name':'ram',\n",
    "    'age':22,\n",
    "    'phone':324324,\n",
    "    'salary':3222323.556,#last comma is optional\n",
    "}\n",
    "print(person,type(person))\n",
    "person['name']#specific element\n",
    "\n",
    "person['email']='shresthaprason99@gmail.com'\n",
    "del person['age']\n",
    "print(person)\n",
    "person.clear()\n",
    "print(person)\n"
   ]
  },
  {
   "cell_type": "code",
   "execution_count": null,
   "metadata": {},
   "outputs": [],
   "source": [
    "x={\n",
    "    id:'1',#key:value pair with comma\n",
    "    'name':'ram',\n",
    "    'age':22,\n",
    "    'phone':324324,\n",
    "    'salary':3222323.556,#last comma is optional\n",
    "  }\n",
    "y=x.copy()\n",
    "y['email']='ram@gmail.com'\n",
    "print(x)\n",
    "print(y) #As for when to use this pattern, you would use the .copy() method when you want to create a new dictionary based on an existing one without modifying the original. This is especially important because dictionaries are mutable objects in Python - if you had done y = x instead, both variables would reference the same dictionary, and changes to one would affect the other."
   ]
  },
  {
   "cell_type": "code",
   "execution_count": null,
   "metadata": {},
   "outputs": [],
   "source": [
    "mylist = [1, 2, 3, 4]\n",
    "mylist.insert(2, 'Hari')\n",
    "print(mylist)\n"
   ]
  },
  {
   "cell_type": "code",
   "execution_count": null,
   "metadata": {},
   "outputs": [],
   "source": [
    "person={\n",
    "    'id':1,\n",
    "    'name':'ram', \n",
    "    'address':'ktm',\n",
    "    'age':26\n",
    "}\n",
    "print(person['name'])"
   ]
  },
  {
   "cell_type": "code",
   "execution_count": null,
   "metadata": {},
   "outputs": [],
   "source": [
    "person={\n",
    "    'id':1,\n",
    "    'name':'ram', \n",
    "    'address':'ktm',\n",
    "    'age':26\n",
    "}\n",
    "print(person['name'])"
   ]
  },
  {
   "cell_type": "code",
   "execution_count": null,
   "metadata": {},
   "outputs": [],
   "source": []
  },
  {
   "cell_type": "code",
   "execution_count": null,
   "metadata": {},
   "outputs": [],
   "source": [
    "person={\n",
    "    'id':1,\n",
    "    'name':'ram',\n",
    "    'address':'ktm',\n",
    "    'age':29,\n",
    "\n",
    "}\n",
    "print(person.get('email'))\n",
    "print('hello')"
   ]
  },
  {
   "cell_type": "code",
   "execution_count": null,
   "metadata": {},
   "outputs": [],
   "source": [
    "person={\n",
    "    'id':1,\n",
    "    'name':'ram',\n",
    "    'address':'ktm',\n",
    "    'age':29,\n",
    "\n",
    "}\n",
    "print(person.get('age'))\n",
    "print('hello')"
   ]
  },
  {
   "cell_type": "code",
   "execution_count": null,
   "metadata": {},
   "outputs": [],
   "source": [
    "person={\n",
    "    'id':1,\n",
    "    'name':'ram',\n",
    "    'address':'ktm',\n",
    "    'age':29,\n",
    "\n",
    "}\n",
    "print(person.get('age',123))\n",
    "print(person.get('email','ram@gmail.com'))\n"
   ]
  },
  {
   "cell_type": "code",
   "execution_count": null,
   "metadata": {},
   "outputs": [],
   "source": [
    "person={\n",
    "    'id':1,\n",
    "    'name':'ram',\n",
    "    'address':'ktm',\n",
    "    'age':29,\n",
    "}\n",
    "print(person.setdefault('email','ram@gmail.com'))\n",
    "print(person)"
   ]
  },
  {
   "cell_type": "code",
   "execution_count": null,
   "metadata": {},
   "outputs": [],
   "source": [
    "person={\n",
    "    'id':1,\n",
    "    'name':'ram',\n",
    "    'address':'ktm',\n",
    "    'age':29,\n",
    "}\n",
    "print(person.values())"
   ]
  },
  {
   "cell_type": "code",
   "execution_count": null,
   "metadata": {},
   "outputs": [],
   "source": [
    "\n",
    "person={\n",
    "    'id':1,\n",
    "    'name':'ram',\n",
    "    'address':'ktm',\n",
    "    'age':29,\n",
    "}\n",
    "print(person.keys())"
   ]
  },
  {
   "cell_type": "code",
   "execution_count": null,
   "metadata": {},
   "outputs": [],
   "source": [
    "help(dict)"
   ]
  },
  {
   "cell_type": "code",
   "execution_count": null,
   "metadata": {},
   "outputs": [],
   "source": [
    "person={\n",
    "    'id':1,\n",
    "    'name':'ram',\n",
    "    'address':'ktm',\n",
    "    'age':29,\n",
    "}\n",
    "print(person.items())"
   ]
  },
  {
   "cell_type": "code",
   "execution_count": null,
   "metadata": {},
   "outputs": [],
   "source": [
    "person={\n",
    "    'id':1,\n",
    "    'name':'ram',\n",
    "    'address':'ktm',\n",
    "    'age':29,\n",
    "}\n",
    "person.pop('name')\n",
    "print(person)"
   ]
  },
  {
   "cell_type": "code",
   "execution_count": null,
   "metadata": {},
   "outputs": [],
   "source": [
    "person={\n",
    "    'id':1,\n",
    "    'name':'ram',\n",
    "    'address':'ktm',\n",
    "    'age':29,\n",
    "}\n",
    "print(person.popitem())#removes last value by default\n",
    "print(person)"
   ]
  },
  {
   "cell_type": "code",
   "execution_count": null,
   "metadata": {},
   "outputs": [],
   "source": [
    "person={\n",
    "    'id':1,\n",
    "    'name':'ram',\n",
    "    'address':'ktm',\n",
    "    'age':29,\n",
    "    'contact':93245678\n",
    "\n",
    "\n",
    "}\n",
    "person['email']='ram@gmail.com'\n",
    "print(person)\n"
   ]
  },
  {
   "cell_type": "code",
   "execution_count": null,
   "metadata": {},
   "outputs": [],
   "source": [
    "person={\n",
    "    'id':1,\n",
    "    'name':'ram',\n",
    "    'address':'ktm',\n",
    "    'age':29,\n",
    "    'contact':93245678\n",
    "\n",
    "\n",
    "}\n",
    "person.update({'email':'ram@gamil.com','college':'broadway'})\n",
    "print(person)"
   ]
  },
  {
   "cell_type": "code",
   "execution_count": null,
   "metadata": {},
   "outputs": [],
   "source": [
    "#tuple,int,float,complex(number datatypes),string=>immutable\n",
    "#list,dictionary,set==>mutable\n",
    "\n"
   ]
  },
  {
   "cell_type": "code",
   "execution_count": null,
   "metadata": {},
   "outputs": [],
   "source": [
    "#set datatypes\n",
    "s={1,2,3,4,5}\n",
    "print(s,type(s))"
   ]
  },
  {
   "cell_type": "code",
   "execution_count": null,
   "metadata": {},
   "outputs": [],
   "source": [
    "#unordered collection\n",
    "s={'ram',1,'hari',4,5,3,'shyam',(7,8,9)}\n",
    "print(s)"
   ]
  },
  {
   "cell_type": "code",
   "execution_count": null,
   "metadata": {},
   "outputs": [],
   "source": [
    "s={'ram',1,'hari',4,5,3,'shyam',(7,8,9),1,'ram','ram'}\n",
    "print(s) #unique unordered collection"
   ]
  },
  {
   "cell_type": "code",
   "execution_count": null,
   "metadata": {},
   "outputs": [],
   "source": [
    "#empty_string=''#str()\n",
    "#empty_list=[]#list()\n",
    "#empty_tuple=()#tuple()\n",
    "#empty_dict={}#dict()\n",
    "#empty set =set()"
   ]
  },
  {
   "cell_type": "code",
   "execution_count": null,
   "metadata": {},
   "outputs": [],
   "source": [
    "print([])"
   ]
  },
  {
   "cell_type": "code",
   "execution_count": null,
   "metadata": {},
   "outputs": [],
   "source": [
    "tea={'ram','hari','sita'}\n",
    "coffee={'shyam','sita','gita'}\n",
    "tea_or_coffee=tea|coffee #union\n",
    "print(tea_or_coffee)"
   ]
  },
  {
   "cell_type": "code",
   "execution_count": null,
   "metadata": {},
   "outputs": [],
   "source": [
    "tea={'ram','hari','sita'}\n",
    "coffee={'shyam','sita','gita'}\n",
    "tea_or_coffee=tea.union(coffee)#union\n",
    "print(tea_or_coffee)"
   ]
  },
  {
   "cell_type": "code",
   "execution_count": null,
   "metadata": {},
   "outputs": [],
   "source": [
    "# Example 1:\n",
    "\n",
    "# Intersection of sets\n",
    "# initialize A and B\n",
    "A = {1, 2, 3, 4, 5}\n",
    "B = {4, 5, 6, 7, 8}\n",
    "\n",
    "# use & operator\n",
    "print(A & B)     # ▶ {4, 5}\n",
    "\n",
    "tea={'ram','hari','sita'}\n",
    "coffee={'shyam','sita','gita'}\n",
    "tea_and_coffee=tea&coffee #intersection\n",
    "tea_and_coffee=tea.intersection(coffee)#intersection\n",
    "print(tea_and_coffee)\n",
    "\n"
   ]
  },
  {
   "cell_type": "code",
   "execution_count": null,
   "metadata": {},
   "outputs": [],
   "source": [
    "# Example 1:\n",
    "\n",
    "# Difference of two sets\n",
    "# initialize A and B\n",
    "A = {1, 2, 3, 4, 5}\n",
    "B = {4, 5, 6, 7, 8}\n",
    "\n",
    "# use - operator on A\n",
    "print(A - B)    # ▶ {1, 2, 3}\n",
    "print(B - A)    # ▶ {8, 6, 7}\n",
    "\n",
    "\n",
    "tea={'ram','hari','sita'}\n",
    "coffee={'shyam','sita','gita'}\n",
    "tea_only=tea-coffee#difference\n",
    "print(tea_only)\n",
    "\n",
    "\n",
    "tea={'ram','hari','sita'}\n",
    "coffee={'shyam','sita','gita'}\n",
    "tea_only=tea.difference(coffee)#difference\n",
    "print(tea_only)"
   ]
  },
  {
   "cell_type": "code",
   "execution_count": null,
   "metadata": {},
   "outputs": [],
   "source": [
    "ea={'ram','hari','sita'}\n",
    "coffee={'shyam','sita','gita'}\n",
    "coffee_only=coffee.difference(tea)#difference\n",
    "print(coffee_only)"
   ]
  },
  {
   "cell_type": "code",
   "execution_count": null,
   "metadata": {},
   "outputs": [],
   "source": [
    "tea={'ram','hari','sita'}\n",
    "coffee={'shyam','gita','sita'}\n",
    "tea_only_or_coffee_only=tea.symmetric_difference(coffee)\n",
    "print(tea_only_or_coffee_only)"
   ]
  },
  {
   "cell_type": "code",
   "execution_count": 4,
   "metadata": {},
   "outputs": [
    {
     "name": "stdout",
     "output_type": "stream",
     "text": [
      "{'ram', 'jar', 1, 3, 4.5, 'shyam', 33, 7}\n"
     ]
    }
   ],
   "source": [
    "s={'ram','jar',1,4.5,3,7,'shyam'}\n",
    "s.add(33)\n",
    "print(s)"
   ]
  },
  {
   "cell_type": "code",
   "execution_count": null,
   "metadata": {},
   "outputs": [],
   "source": [
    "s={'ram','jar',1,4.5,3,7,'shyam'}\n",
    "s.clear()\n",
    "print(s)"
   ]
  },
  {
   "cell_type": "code",
   "execution_count": null,
   "metadata": {},
   "outputs": [],
   "source": [
    "s1={'ram',1,'hari',4.5,3,'shyam',(7,8,9),1,2,3,'ram'}\n",
    "s2=s1.copy()\n",
    "s1.add(33)\n",
    "print(s1,s2)"
   ]
  },
  {
   "cell_type": "code",
   "execution_count": null,
   "metadata": {},
   "outputs": [],
   "source": [
    "s={'ram',1,'hari',4.5,3,'shyam',(7,8,9),1,2,3,'ram'}\n",
    "s.update((4,5,6))\n",
    "print(s)"
   ]
  },
  {
   "cell_type": "code",
   "execution_count": null,
   "metadata": {},
   "outputs": [],
   "source": [
    "s={'ram',1,'hari',4.5,3,'shyam',(7,8,9),1,2,3,'ram'}\n",
    "s.update(('77'))\n",
    "print(s)"
   ]
  },
  {
   "cell_type": "code",
   "execution_count": null,
   "metadata": {},
   "outputs": [],
   "source": [
    "s={'ram',1,'hari',4.5,3,'shyam',(7,8,9),1,2,3,'ram'}\n",
    "s.remove(('hari'))\n",
    "print(s)#key error if the member is not there"
   ]
  },
  {
   "cell_type": "code",
   "execution_count": null,
   "metadata": {},
   "outputs": [],
   "source": [
    "s={'ram',1,'hari',4.5,3,'shyam',(7,8,9),1,2,3,'ram'}\n",
    "s.discard((11))\n",
    "print(s)#no issue even if the member is not there"
   ]
  },
  {
   "cell_type": "code",
   "execution_count": null,
   "metadata": {},
   "outputs": [],
   "source": [
    "s={'ram',1,'hari',4.5,3,'shyam',(7,8,9),1,2,3,'ram'}\n",
    "s.pop()\n",
    "print(s)"
   ]
  },
  {
   "cell_type": "code",
   "execution_count": null,
   "metadata": {},
   "outputs": [],
   "source": [
    "help(set.pop)"
   ]
  },
  {
   "cell_type": "code",
   "execution_count": null,
   "metadata": {},
   "outputs": [],
   "source": [
    "x=[1,2,3,4,5]\n",
    "print(max(x))\n",
    "print(min(x))\n",
    "print(sum(x))"
   ]
  },
  {
   "cell_type": "code",
   "execution_count": null,
   "metadata": {},
   "outputs": [],
   "source": [
    "x=[7,22,11,1,4,3,18,5,15]\n",
    "sorted(x,reverse=True)"
   ]
  },
  {
   "cell_type": "code",
   "execution_count": null,
   "metadata": {},
   "outputs": [],
   "source": [
    "#flow control\n",
    "#if....else....\n"
   ]
  },
  {
   "cell_type": "code",
   "execution_count": null,
   "metadata": {},
   "outputs": [],
   "source": [
    "age=17\n",
    "if age<18:\n",
    "    print('Unauthorized') #Indentation=> tab\n",
    "    "
   ]
  },
  {
   "cell_type": "code",
   "execution_count": null,
   "metadata": {},
   "outputs": [],
   "source": [
    "age=19\n",
    "if age>=18:\n",
    "    print('Authorized')\n",
    "    print('Hi')\n",
    "\n",
    "print('hello')"
   ]
  },
  {
   "cell_type": "code",
   "execution_count": null,
   "metadata": {},
   "outputs": [],
   "source": []
  },
  {
   "cell_type": "code",
   "execution_count": null,
   "metadata": {},
   "outputs": [],
   "source": [
    "age=int(input('Enter the age: '))\n",
    "\n",
    "if age>=18:\n",
    "    print('authorized')\n",
    "\n"
   ]
  },
  {
   "cell_type": "code",
   "execution_count": 1,
   "metadata": {},
   "outputs": [
    {
     "name": "stdout",
     "output_type": "stream",
     "text": [
      "Enter marks :  45\n"
     ]
    },
    {
     "name": "stdout",
     "output_type": "stream",
     "text": [
      "Pass\n"
     ]
    }
   ],
   "source": [
    "marks = int(input(\"Enter marks : \"))\n",
    "if marks>=45:\n",
    "    print('Pass')\n",
    "if marks<45:\n",
    "    print('Fail')    \n"
   ]
  },
  {
   "cell_type": "code",
   "execution_count": 2,
   "metadata": {},
   "outputs": [
    {
     "name": "stdout",
     "output_type": "stream",
     "text": [
      "Enter the value of x 3\n",
      "Enter the value of y 4\n"
     ]
    },
    {
     "name": "stdout",
     "output_type": "stream",
     "text": [
      "y is greater than x\n"
     ]
    }
   ],
   "source": [
    "x=int(input('Enter the value of x'))\n",
    "y=int(input('Enter the value of y'))\n",
    "if x>y:\n",
    "    print('x is greater than y')\n",
    "elif y>x:\n",
    "    print('y is greater than x')\n",
    "elif x==y:\n",
    "    print('x and y are equal')"
   ]
  },
  {
   "cell_type": "code",
   "execution_count": 3,
   "metadata": {},
   "outputs": [
    {
     "name": "stdout",
     "output_type": "stream",
     "text": [
      "Enter the value of x 4\n",
      "Enter the value of y 7\n"
     ]
    },
    {
     "name": "stdout",
     "output_type": "stream",
     "text": [
      "y is greater than x\n"
     ]
    }
   ],
   "source": [
    "x=int(input('Enter the value of x'))\n",
    "y=int(input('Enter the value of y'))\n",
    "if x>y:\n",
    "    print('x is greater than y')\n",
    "elif y>x:\n",
    "    print('y is greater than x')\n",
    "else:\n",
    "    print('x and y are equal')"
   ]
  },
  {
   "cell_type": "code",
   "execution_count": 4,
   "metadata": {},
   "outputs": [
    {
     "name": "stdout",
     "output_type": "stream",
     "text": [
      "hello1\n"
     ]
    }
   ],
   "source": [
    "if True:\n",
    "    print('hello1')\n",
    "elif True:\n",
    "    print('hello2')\n",
    "elif True:\n",
    "    print('hello3')\n",
    "else:\n",
    "    print('hello4')\n",
    "    "
   ]
  },
  {
   "cell_type": "code",
   "execution_count": 1,
   "metadata": {},
   "outputs": [
    {
     "name": "stdout",
     "output_type": "stream",
     "text": [
      "hello2\n",
      "hello3\n",
      "hello4\n"
     ]
    }
   ],
   "source": [
    "if False:\n",
    "    print('hello1')\n",
    "if True:\n",
    "    print('hello2')\n",
    "if True:\n",
    "    print('hello3')\n",
    "if True:\n",
    "    print('hello4')\n",
    "else:\n",
    "    print('hello5')\n",
    "    "
   ]
  },
  {
   "cell_type": "code",
   "execution_count": 2,
   "metadata": {},
   "outputs": [
    {
     "name": "stdout",
     "output_type": "stream",
     "text": [
      "hello2\n",
      "hello4\n"
     ]
    }
   ],
   "source": [
    "if False:\n",
    "    print('hello1')\n",
    "if True:\n",
    "    print('hello2')\n",
    "elif True:\n",
    "    print('hello3')\n",
    "if True:\n",
    "    print('hello4')\n",
    "else:\n",
    "    prinr('hello5')\n",
    "    "
   ]
  },
  {
   "cell_type": "code",
   "execution_count": 4,
   "metadata": {},
   "outputs": [
    {
     "name": "stdout",
     "output_type": "stream",
     "text": [
      "enter the username:  hgs8\n",
      "enter the. password:  yuotube\n"
     ]
    },
    {
     "name": "stdout",
     "output_type": "stream",
     "text": [
      "You are not signed in\n"
     ]
    }
   ],
   "source": [
    "#username:'admin'\n",
    "#password:'admin123'\n",
    "username=input('enter the username: ')\n",
    "passsword=input('enter the. password: ')\n",
    "if username=='admin'and password='admin123':\n",
    "    print('You are signed in')\n",
    "else:\n",
    "    print('You are not signed in')\n",
    "\n"
   ]
  },
  {
   "cell_type": "code",
   "execution_count": null,
   "metadata": {},
   "outputs": [],
   "source": []
  },
  {
   "cell_type": "code",
   "execution_count": 17,
   "metadata": {},
   "outputs": [
    {
     "name": "stdout",
     "output_type": "stream",
     "text": [
      "enter the username:  788\n",
      "enter the. password:  u9809\n",
      "enter the secret:  0998\n"
     ]
    },
    {
     "name": "stdout",
     "output_type": "stream",
     "text": [
      "You are not signed in\n"
     ]
    }
   ],
   "source": [
    "#username:'admin'\n",
    "#password:'admin123'\n",
    "#secret='secretkey123'\n",
    "username=input('enter the username: ')\n",
    "password=input('enter the. password: ')\n",
    "secret=input('enter the secret: ')\n",
    "if(\n",
    "(username=='admin'and password=='admin123') or (secret=='secret123')\n",
    "    ):\n",
    "    print('You are signed in')\n",
    "else:\n",
    "    print('You are not signed in')\n",
    "    \n"
   ]
  },
  {
   "cell_type": "code",
   "execution_count": 18,
   "metadata": {},
   "outputs": [
    {
     "name": "stdout",
     "output_type": "stream",
     "text": [
      "enter the username:  admin\n",
      "enter the. password:  admin123\n",
      "enter the secret:  secretkey123\n"
     ]
    },
    {
     "name": "stdout",
     "output_type": "stream",
     "text": [
      "You are signed in\n"
     ]
    }
   ],
   "source": [
    "#username:'admin'\n",
    "#password:'admin123'\n",
    "#secret='secretkey123'\n",
    "username=input('enter the username: ')\n",
    "password=input('enter the. password: ')\n",
    "secret=input('enter the secret: ')\n",
    "if username=='admin' and password=='admin123' or secret=='secretkey123':\n",
    "    print('You are signed in')\n",
    "else:\n",
    "    print('You are not signed in')\n",
    "    \n",
    "    \n"
   ]
  },
  {
   "cell_type": "code",
   "execution_count": 26,
   "metadata": {},
   "outputs": [
    {
     "ename": "IndentationError",
     "evalue": "unexpected indent (1631693433.py, line 10)",
     "output_type": "error",
     "traceback": [
      "  \u001b[36mCell\u001b[39m\u001b[36m \u001b[39m\u001b[32mIn[26]\u001b[39m\u001b[32m, line 10\u001b[39m\n\u001b[31m    \u001b[39m\u001b[31mif secret=='secret123'\u001b[39m\n    ^\n\u001b[31mIndentationError\u001b[39m\u001b[31m:\u001b[39m unexpected indent\n"
     ]
    }
   ],
   "source": [
    "username:'admin'\n",
    "#password:'admin123'\n",
    "#secret='secretkey123'\n",
    "username=input('enter the username: ')\n",
    "password=input('enter the. password: ')\n",
    "if username=='admin' and password=='admin123':\n",
    "    print('You are signed in')\n",
    "else:\n",
    "   secret=input('enter the secret: ')\n",
    "    if secret=='secret123'\n",
    "        print('You are signed in')\n",
    "    else:\n",
    "        print('You are not signed in')\n",
    "\n"
   ]
  },
  {
   "cell_type": "code",
   "execution_count": 23,
   "metadata": {},
   "outputs": [
    {
     "name": "stdout",
     "output_type": "stream",
     "text": [
      "enter the username:  admin\n",
      "enter the password:  admin123\n"
     ]
    },
    {
     "name": "stdout",
     "output_type": "stream",
     "text": [
      "You are signed in\n"
     ]
    }
   ],
   "source": [
    "username = 'admin'  # Default value\n",
    "# password = 'admin123'  # Default value, commented out\n",
    "# secret = 'secretkey123'  # Default value, commented out\n",
    "\n",
    "username = input('enter the username: ')\n",
    "password = input('enter the password: ')\n",
    "\n",
    "if username == 'admin' and password == 'admin123':\n",
    "    print('You are signed in')\n",
    "else:\n",
    "    secret = input('enter the secret: ')\n",
    "    if secret == 'secretkey123':\n",
    "        print('You are signed in')\n",
    "    else:\n",
    "        print('You are not signed in')"
   ]
  },
  {
   "cell_type": "code",
   "execution_count": 1,
   "metadata": {},
   "outputs": [
    {
     "name": "stdin",
     "output_type": "stream",
     "text": [
      "Enter your Math marks:  67\n",
      "Enter your Science marks:  89\n",
      "Enter your EPH marks:  89\n",
      "Enter your Nepali marks:  89\n",
      "Enter your Computer marks:  99\n"
     ]
    },
    {
     "name": "stdout",
     "output_type": "stream",
     "text": [
      "Your total score is 433 out of 500\n",
      "Wow! You got Distinction\n"
     ]
    }
   ],
   "source": [
    "Math = int(input('Enter your Math marks: '))\n",
    "Science = int(input('Enter your Science marks: '))\n",
    "EPH = int(input('Enter your EPH marks: '))\n",
    "Nepali = int(input('Enter your Nepali marks: '))\n",
    "Computer = int(input('Enter your Computer marks: '))\n",
    "\n",
    "total = Math + Science + EPH + Nepali + Computer\n",
    "percent = total / 5\n",
    "\n",
    "print('Your total score is', total, 'out of 500')\n",
    "if percent < 35:\n",
    "    print(\"Sorry, you failed\")\n",
    "elif percent >= 35 and percent < 50:\n",
    "    print('You got Third Division')\n",
    "elif 50 <= percent < 60:\n",
    "    print('You got Second Division')\n",
    "elif 60 <= percent < 80:\n",
    "    print('You got First Division')\n",
    "elif 80 <= percent <= 100:\n",
    "    print('Wow! You got Distinction')\n",
    "                "
   ]
  },
  {
   "cell_type": "code",
   "execution_count": 3,
   "metadata": {},
   "outputs": [
    {
     "name": "stdout",
     "output_type": "stream",
     "text": [
      "[1, 4, 9, 16, 25, 36]\n"
     ]
    }
   ],
   "source": [
    "x=[1,2,3,4,5,6]\n",
    "#output=[1.4,9,16,25,36]\n",
    "output=[]\n",
    "for i in x:\n",
    "    output.append(i**2)\n",
    "print(output)\n"
   ]
  },
  {
   "cell_type": "code",
   "execution_count": 6,
   "metadata": {},
   "outputs": [
    {
     "name": "stdout",
     "output_type": "stream",
     "text": [
      "['odd', 'even', 'odd', 'even', 'odd']\n"
     ]
    }
   ],
   "source": [
    "x=[1,2,3,4,5]\n",
    "#output=[odd,even,odd,even,odd]\n",
    "output=[]\n",
    "for i in x:\n",
    "    if i%2==0:\n",
    "        output.append('even')\n",
    "    else:\n",
    "        output.append('odd')\n",
    "print(output)"
   ]
  },
  {
   "cell_type": "code",
   "execution_count": 10,
   "metadata": {},
   "outputs": [
    {
     "name": "stdout",
     "output_type": "stream",
     "text": [
      "[11, 24, 12, 13, 14, 4, 5, 6, 7, 8, 9, 10, 44, 55]\n"
     ]
    }
   ],
   "source": [
    "x=[11,24,12,13,14,11,12,4,5,6,7,8,9,10,10,12,7,44,55]\n",
    "#unique item\n",
    "output=[]# This is your new empty box where you'll keep one of each crayon\n",
    "for i in x:# \"i\" is like your hand picking each crayon from the big box\n",
    "    if i not in output:# You check: \"Do I already have this color in my new box?\"\n",
    "        output.append(i)# If you don’t have it, add it to your new box!\n",
    "print(output)"
   ]
  },
  {
   "cell_type": "code",
   "execution_count": 15,
   "metadata": {},
   "outputs": [
    {
     "name": "stdout",
     "output_type": "stream",
     "text": [
      "4\n"
     ]
    }
   ],
   "source": [
    "name='rAmesh pradhan'\n",
    "#output=count vowels\n",
    "count=0\n",
    "for i in name:\n",
    "    if i in 'AEIOUaeiou':\n",
    "        count=count+1\n",
    "print(count)\n",
    "  "
   ]
  },
  {
   "cell_type": "code",
   "execution_count": 19,
   "metadata": {},
   "outputs": [
    {
     "name": "stdout",
     "output_type": "stream",
     "text": [
      "4\n"
     ]
    }
   ],
   "source": [
    "name='Prason Shrestha'# This is the name we’re going to play with!\n",
    "count=0 # This is like a scoreboard starting at zero\n",
    "for i in name:# \"i\" is like your finger pointing at each letter\n",
    "    if i in 'AEIOUaeiou':# You ask: \"Is this letter an A, E, I, O, or U (big or small)?\"\n",
    "        count=count+1 # If yes, add 1 to your scoreboard!\n",
    "print(count)\n",
    "    \n",
    "    \n"
   ]
  },
  {
   "cell_type": "code",
   "execution_count": 24,
   "metadata": {},
   "outputs": [
    {
     "name": "stdout",
     "output_type": "stream",
     "text": [
      "AeAaAA\n"
     ]
    }
   ],
   "source": [
    "name='rAmesh prAdhanASA'\n",
    "vowels=''\n",
    "for i in name:\n",
    "    if i in 'AEIOUaeiou':\n",
    "        vowels=vowels+i\n",
    "     \n",
    "print(vowels)\n",
    "    \n",
    "    \n"
   ]
  },
  {
   "cell_type": "code",
   "execution_count": 1,
   "metadata": {},
   "outputs": [
    {
     "name": "stdout",
     "output_type": "stream",
     "text": [
      "{'Alan': 1, 'Bill': 2, 'Ramesh': 3, 'Cory': 4, 'Ram': 5, 'Shyam Bahadur': 6, 'Gita': 7}\n"
     ]
    }
   ],
   "source": [
    "students=['Alan','Bill','Ramesh','Cory','Ram','Shyam Bahadur','Gita']\n",
    "students_dict = {}\n",
    "\n",
    "for index, name in enumerate(students, start=1):\n",
    "    students_dict[name] = index\n",
    "\n",
    "print(students_dict)"
   ]
  },
  {
   "cell_type": "code",
   "execution_count": 3,
   "metadata": {},
   "outputs": [
    {
     "name": "stdout",
     "output_type": "stream",
     "text": [
      "{'Alan': 4, 'Bill': 4, 'Ramesh': 6, 'Cory': 4, 'Ram': 3, 'Shyam Bahadur': 13, 'Gita': 4}\n"
     ]
    }
   ],
   "source": [
    "students=['Alan','Bill','Ramesh','Cory','Ram','Shyam Bahadur','Gita']\n",
    "output={}\n",
    "for student in students:\n",
    "    output.update({student:len(student)})\n",
    "print(output)\n"
   ]
  },
  {
   "cell_type": "code",
   "execution_count": 12,
   "metadata": {},
   "outputs": [
    {
     "name": "stdout",
     "output_type": "stream",
     "text": [
      "{'Alan': 0, 'Bill': 1, 'Ramesh': 2, 'Cory': 3, 'Ram': 4, 'Shyam Bahadur': 5, 'Gita': 6}\n"
     ]
    }
   ],
   "source": [
    "students = ['Alan', 'Bill', 'Ramesh', 'Cory', 'Ram', 'Shyam Bahadur', 'Gita']\n",
    "output = {}\n",
    "i = 0\n",
    "for student in students:\n",
    "    output.update({student: i})\n",
    "    i += 1  # Moved this inside the loop\n",
    "print(output)\n"
   ]
  },
  {
   "cell_type": "code",
   "execution_count": 8,
   "metadata": {},
   "outputs": [
    {
     "data": {
      "text/plain": [
       "[0, 1, 2, 3, 4, 5, 6, 7, 8, 9, 10, 11, 12, 13, 14, 15, 16, 17, 18, 19]"
      ]
     },
     "execution_count": 8,
     "metadata": {},
     "output_type": "execute_result"
    }
   ],
   "source": [
    "list(range(0,20))\n"
   ]
  },
  {
   "cell_type": "code",
   "execution_count": 9,
   "metadata": {},
   "outputs": [
    {
     "name": "stdout",
     "output_type": "stream",
     "text": [
      "0\n",
      "1\n",
      "2\n",
      "3\n",
      "4\n",
      "5\n",
      "6\n",
      "7\n",
      "8\n",
      "9\n"
     ]
    }
   ],
   "source": [
    "for i in range(0,10):\n",
    "    print(i)"
   ]
  },
  {
   "cell_type": "code",
   "execution_count": 10,
   "metadata": {},
   "outputs": [
    {
     "data": {
      "text/plain": [
       "[0, 2, 4, 6, 8]"
      ]
     },
     "execution_count": 10,
     "metadata": {},
     "output_type": "execute_result"
    }
   ],
   "source": [
    "list(range(0,10,2))"
   ]
  },
  {
   "cell_type": "code",
   "execution_count": 11,
   "metadata": {},
   "outputs": [
    {
     "name": "stdout",
     "output_type": "stream",
     "text": [
      "10\n",
      "9\n",
      "8\n",
      "7\n",
      "6\n",
      "5\n",
      "4\n",
      "3\n",
      "2\n"
     ]
    }
   ],
   "source": [
    "for i in range(10,1,-1):\n",
    "    print(i)\n",
    "    "
   ]
  },
  {
   "cell_type": "code",
   "execution_count": 13,
   "metadata": {},
   "outputs": [
    {
     "name": "stdout",
     "output_type": "stream",
     "text": [
      "{'Alan': 0, 'Bill': 1, 'Ramesh': 2, 'Cory': 3, 'Ram': 4, 'Shyam Bahadur': 5, 'Gita': 6}\n"
     ]
    }
   ],
   "source": [
    "students = ['Alan', 'Bill', 'Ramesh', 'Cory', 'Ram', 'Shyam Bahadur', 'Gita']\n",
    "output = {}\n",
    "for i in range(len(students)):\n",
    "    output.update({students[i]: i})\n",
    "print(output)"
   ]
  },
  {
   "cell_type": "code",
   "execution_count": 15,
   "metadata": {},
   "outputs": [
    {
     "name": "stdout",
     "output_type": "stream",
     "text": [
      "{'milk': 267.96, 'bread': 343.2, 'butter': 475.2}\n"
     ]
    }
   ],
   "source": [
    "us_price={'milk':2.03,'bread':2.6,'butter':3.6}\n",
    "#11usd=npr 132\n",
    "#{'milk':267..96,'bread':343.2,'butter':475.3}\n",
    "npr_price = {}\n",
    "for item, price in us_price.items():\n",
    "    npr_price.update({item: price * 132})\n",
    "print(npr_price)"
   ]
  },
  {
   "cell_type": "code",
   "execution_count": 16,
   "metadata": {},
   "outputs": [
    {
     "name": "stdout",
     "output_type": "stream",
     "text": [
      "('milk', 2.03)\n",
      "('bread', 2.6)\n",
      "('butter', 3.6)\n"
     ]
    }
   ],
   "source": [
    "us_price={'milk':2.03,'bread':2.6,'butter':3.6}\n",
    "for i in us_price.items():\n",
    "    print(i)"
   ]
  },
  {
   "cell_type": "code",
   "execution_count": 2,
   "metadata": {},
   "outputs": [
    {
     "name": "stdout",
     "output_type": "stream",
     "text": [
      "{'Alan': 4, 'Bill': 4, 'Ramesh': 6, 'Cory': 4, 'Ram': 3, 'Shyam Bahadur': 13, 'Gita': 4}\n"
     ]
    }
   ],
   "source": [
    "students=['Alan','Bill','Ramesh','Cory','Ram','Shyam Bahadur','Gita']\n",
    "output={}\n",
    "for student in students:\n",
    "    output.update({student:len(student)})\n",
    "print(output)\n"
   ]
  },
  {
   "cell_type": "code",
   "execution_count": 6,
   "metadata": {},
   "outputs": [
    {
     "name": "stdout",
     "output_type": "stream",
     "text": [
      "{'Alan': 0, 'Bill': 1, 'Ramesh': 2, 'Cory': 3, 'Ram': 4, 'Shyam Bahadur': 5, 'Gita': 6}\n"
     ]
    }
   ],
   "source": [
    "students=['Alan','Bill','Ramesh','Cory','Ram','Shyam Bahadur','Gita']\n",
    "i=0\n",
    "output={}\n",
    "for student in students:\n",
    "    output.update({student:i})\n",
    "    i += 1\n",
    "print(output)\n"
   ]
  },
  {
   "cell_type": "code",
   "execution_count": 9,
   "metadata": {},
   "outputs": [
    {
     "name": "stdout",
     "output_type": "stream",
     "text": [
      "{'Alan': 0, 'Bill': 1, 'Ramesh': 2, 'Cory': 3, 'Ram': 4, 'Shyam Bahadur': 5, 'Gita': 6}\n"
     ]
    }
   ],
   "source": [
    "students=['Alan','Bill','Ramesh','Cory','Ram','Shyam Bahadur','Gita']\n",
    "output={}\n",
    "for i in range(0,7):\n",
    "    output.update({students[i]:i})\n",
    "print(output)"
   ]
  },
  {
   "cell_type": "code",
   "execution_count": 11,
   "metadata": {},
   "outputs": [
    {
     "name": "stdout",
     "output_type": "stream",
     "text": [
      "{'milk': 267.96, 'bread': 343.2, 'butter': 475.2}\n"
     ]
    }
   ],
   "source": [
    "us_price={'milk':2.03,'bread':2.6,'butter':3.6}\n",
    "nep_price={}\n",
    "for k,v in us_price.items():\n",
    "    nep_price.update({k:v*132})\n",
    "print (nep_price)"
   ]
  },
  {
   "cell_type": "code",
   "execution_count": 1,
   "metadata": {},
   "outputs": [],
   "source": [
    "#pass \n",
    "age=17\n",
    "if age<18:\n",
    "    pass"
   ]
  },
  {
   "cell_type": "code",
   "execution_count": 15,
   "metadata": {},
   "outputs": [
    {
     "name": "stdout",
     "output_type": "stream",
     "text": [
      "30\n"
     ]
    }
   ],
   "source": [
    "numbers=[1,2,6,8,9,6,10]\n",
    "sum=0\n",
    "for number in numbers:\n",
    "    if number!=6:\n",
    "        sum+=number #sum=sum+number\n",
    "print(sum)\n",
    "   "
   ]
  },
  {
   "cell_type": "code",
   "execution_count": 17,
   "metadata": {},
   "outputs": [
    {
     "name": "stdout",
     "output_type": "stream",
     "text": [
      "30\n"
     ]
    }
   ],
   "source": [
    "numbers=[1,2,6,8,9,6,10]\n",
    "sum=0\n",
    "for number in numbers:\n",
    "    if number==6:\n",
    "        pass\n",
    "    else:\n",
    "        sum+=number\n",
    "print(sum)"
   ]
  },
  {
   "cell_type": "code",
   "execution_count": 18,
   "metadata": {},
   "outputs": [
    {
     "name": "stdout",
     "output_type": "stream",
     "text": [
      "42\n"
     ]
    }
   ],
   "source": [
    "numbers=[1,2,6,8,9,6,10]\n",
    "sum=0\n",
    "for number in numbers:\n",
    "    if number==6:\n",
    "        pass\n",
    "    sum+=number\n",
    "print(sum)"
   ]
  },
  {
   "cell_type": "code",
   "execution_count": 19,
   "metadata": {},
   "outputs": [
    {
     "name": "stdout",
     "output_type": "stream",
     "text": [
      "20\n",
      "30\n"
     ]
    }
   ],
   "source": [
    "#continue====> skips and proceeds to next item\n",
    "#continue \n",
    "for x in range(1,21):\n",
    "    if x==13:\n",
    "        continue\n",
    "else:\n",
    "    print(x)\n",
    "#----------------------------------------------------\n",
    "numbers=[1,2,6,8,9,6,10]\n",
    "sum=0\n",
    "for number in numbers:\n",
    "    if number==6:\n",
    "        continue\n",
    "    sum+=number\n",
    "print(sum)\n",
    "    "
   ]
  },
  {
   "cell_type": "code",
   "execution_count": 26,
   "metadata": {},
   "outputs": [
    {
     "name": "stdout",
     "output_type": "stream",
     "text": [
      "ram eats momo\n",
      "ram eats chowmein\n",
      "ram eats thukpa\n",
      "shyam eats momo\n",
      "shyam eats chowmein\n",
      "shyam eats thukpa\n",
      "gita eats momo\n",
      "gita eats chowmein\n",
      "gita eats thukpa\n",
      "sita eats momo\n",
      "sita eats chowmein\n",
      "sita eats thukpa\n"
     ]
    }
   ],
   "source": [
    "#break====>terminate or exit from loop\n",
    "names = ['ram', 'shyam', 'gita', 'sita']\n",
    "foods = ['momo', 'chowmein', 'thukpa']\n",
    "\n",
    "for name in names:\n",
    "    for food in foods: #nested loop\n",
    "        print(f\"{name} eats {food}\") #f string interpolation\n",
    "\n",
    "    \n"
   ]
  },
  {
   "cell_type": "code",
   "execution_count": 27,
   "metadata": {},
   "outputs": [
    {
     "name": "stdout",
     "output_type": "stream",
     "text": [
      "Ram eats momo\n",
      "Ram eats chowmein\n",
      "Ram eats thukpa\n",
      "Shyam eats momo\n",
      "Shyam eats chowmein\n",
      "Shyam eats thukpa\n",
      "Gita eats momo\n",
      "Gita eats chowmein\n",
      "Gita eats thukpa\n",
      "Sita eats momo\n",
      "Sita eats chowmein\n",
      "Sita eats thukpa\n"
     ]
    }
   ],
   "source": [
    "names = ['ram', 'shyam', 'gita', 'sita']\n",
    "foods = ['momo', 'chowmein', 'thukpa']\n",
    "\n",
    "for name in names:\n",
    "    for food in foods:\n",
    "        print(f\"{name.capitalize()} eats {food}\")"
   ]
  },
  {
   "cell_type": "code",
   "execution_count": null,
   "metadata": {},
   "outputs": [],
   "source": [
    "# Question: Process numbers 1-10 with multiple conditions\n",
    "for num in range(1, 11):\n",
    "    if num == 7:\n",
    "        print(\"Stopping at 7\")\n",
    "        break  # Exit loop when num is 7\n",
    "    elif num % 2 == 0:\n",
    "        continue  # Skip even numbers\n",
    "    elif num == 5:\n",
    "        pass  # Placeholder for future special handling of 5\n",
    "    else:\n",
    "        print(f\"Odd number: {num}\")\n",
    "# Output:\n",
    "# Odd number: 1\n",
    "# Odd number: 3\n",
    "# Odd number: 5\n",
    "# Stopping at 7"
   ]
  },
  {
   "cell_type": "code",
   "execution_count": 28,
   "metadata": {},
   "outputs": [
    {
     "name": "stdout",
     "output_type": "stream",
     "text": [
      "ram\n",
      "shyam\n",
      "gita\n",
      "sita\n"
     ]
    }
   ],
   "source": [
    "names=['ram','shyam','gita','sita']\n",
    "i=0\n",
    "while i<len(names):\n",
    "    print(names[i])\n",
    "    i+=1"
   ]
  },
  {
   "cell_type": "code",
   "execution_count": null,
   "metadata": {},
   "outputs": [],
   "source": [
    "while condition:\n",
    "    # code block to execute\n",
    "    # as long as condition is True\n",
    "count = 0\n",
    "while count < 5:\n",
    "    print(f\"Count is {count}\")\n",
    "    count = count + 1  # Updates count to eventually end the loop"
   ]
  },
  {
   "cell_type": "code",
   "execution_count": 38,
   "metadata": {},
   "outputs": [
    {
     "name": "stdout",
     "output_type": "stream",
     "text": [
      "10\n"
     ]
    }
   ],
   "source": [
    "numbers=[1,2,3,4]\n",
    "i=0\n",
    "sum=0\n",
    "while i<len(numbers):\n",
    "    sum+=numbers[i]\n",
    "    i+=1\n",
    "    \n",
    "print(sum)\n"
   ]
  },
  {
   "cell_type": "code",
   "execution_count": null,
   "metadata": {},
   "outputs": [],
   "source": [
    "#for loop\n",
    "#finite times\n",
    "#when you know how many times you are iterating\n",
    "\n",
    "#while loop\n",
    "#infinite times\n",
    "#when you dont know how many times you are iterating\n"
   ]
  },
  {
   "cell_type": "code",
   "execution_count": null,
   "metadata": {},
   "outputs": [],
   "source": []
  },
  {
   "cell_type": "code",
   "execution_count": null,
   "metadata": {},
   "outputs": [],
   "source": [
    "i=1\n",
    "while True:\n",
    "    print(i)\n",
    "    i+=1"
   ]
  },
  {
   "cell_type": "code",
   "execution_count": 40,
   "metadata": {},
   "outputs": [
    {
     "name": "stdin",
     "output_type": "stream",
     "text": [
      "Enter your age:  18\n"
     ]
    },
    {
     "name": "stdout",
     "output_type": "stream",
     "text": [
      "You're 18\n"
     ]
    }
   ],
   "source": [
    "age = 0  \n",
    "while age != 18:\n",
    "    age = int(input(\"Enter your age: \"))\n",
    "    if age != 18:\n",
    "        print(\"You're not 18 yet\")\n",
    "print(\"You're 18\")"
   ]
  },
  {
   "cell_type": "code",
   "execution_count": null,
   "metadata": {},
   "outputs": [],
   "source": [
    "age=int(input('Enter your age: '))\n",
    "while age<-18:\n",
    "    age=int(input('Enter your age: '))\n",
    "print('Welcome')\n"
   ]
  },
  {
   "cell_type": "code",
   "execution_count": 5,
   "metadata": {},
   "outputs": [],
   "source": [
    "def addition(): #function define\n",
    "    sum=x+y\n",
    "    print(sum)"
   ]
  },
  {
   "cell_type": "code",
   "execution_count": 2,
   "metadata": {},
   "outputs": [
    {
     "name": "stdout",
     "output_type": "stream",
     "text": [
      "3\n"
     ]
    }
   ],
   "source": [
    "addition()#function call"
   ]
  },
  {
   "cell_type": "code",
   "execution_count": 11,
   "metadata": {},
   "outputs": [],
   "source": [
    "def addition(x,y):#parameters/ arguments\n",
    "    sum=x+y\n",
    "    print(sum)\n",
    "    \n"
   ]
  },
  {
   "cell_type": "code",
   "execution_count": 12,
   "metadata": {},
   "outputs": [
    {
     "name": "stdout",
     "output_type": "stream",
     "text": [
      "9\n"
     ]
    }
   ],
   "source": [
    "addition(4,5)"
   ]
  },
  {
   "cell_type": "code",
   "execution_count": 13,
   "metadata": {},
   "outputs": [
    {
     "name": "stdout",
     "output_type": "stream",
     "text": [
      "6\n"
     ]
    }
   ],
   "source": [
    "addition(x=2,y=4)"
   ]
  },
  {
   "cell_type": "code",
   "execution_count": 14,
   "metadata": {},
   "outputs": [
    {
     "ename": "SyntaxError",
     "evalue": "positional argument follows keyword argument (3248415765.py, line 4)",
     "output_type": "error",
     "traceback": [
      "  \u001b[36mCell\u001b[39m\u001b[36m \u001b[39m\u001b[32mIn[14]\u001b[39m\u001b[32m, line 4\u001b[39m\n\u001b[31m    \u001b[39m\u001b[31maddition(x=3,4)\u001b[39m\n                  ^\n\u001b[31mSyntaxError\u001b[39m\u001b[31m:\u001b[39m positional argument follows keyword argument\n"
     ]
    }
   ],
   "source": [
    "addition(3,4)#positional\n",
    "addition(x=3,y=4)#keywords\n",
    "addition(3,y=4)#milxa\n",
    "addition(x=3,4)#mildaina"
   ]
  },
  {
   "cell_type": "code",
   "execution_count": 22,
   "metadata": {},
   "outputs": [],
   "source": [
    "def addition(x,y):\n",
    "    sum=x+y\n",
    "    print(sum)\n",
    "\n"
   ]
  },
  {
   "cell_type": "code",
   "execution_count": 23,
   "metadata": {},
   "outputs": [
    {
     "name": "stdout",
     "output_type": "stream",
     "text": [
      "7\n"
     ]
    }
   ],
   "source": [
    "addition(3,4)\n"
   ]
  },
  {
   "cell_type": "code",
   "execution_count": 17,
   "metadata": {},
   "outputs": [],
   "source": [
    "def addition(x,y):\n",
    "    sum=x+y\n",
    "    return sum"
   ]
  },
  {
   "cell_type": "code",
   "execution_count": 20,
   "metadata": {},
   "outputs": [
    {
     "name": "stdout",
     "output_type": "stream",
     "text": [
      "10\n"
     ]
    }
   ],
   "source": [
    "a=addition(2,8)\n",
    "print(a)"
   ]
  },
  {
   "cell_type": "code",
   "execution_count": 21,
   "metadata": {},
   "outputs": [
    {
     "data": {
      "text/plain": [
       "15"
      ]
     },
     "execution_count": 21,
     "metadata": {},
     "output_type": "execute_result"
    }
   ],
   "source": [
    "a+5"
   ]
  },
  {
   "cell_type": "code",
   "execution_count": 34,
   "metadata": {},
   "outputs": [],
   "source": [
    "def addition(x,y=0): #y is default value\n",
    "    sum=x+y\n",
    "    return sum"
   ]
  },
  {
   "cell_type": "code",
   "execution_count": 35,
   "metadata": {},
   "outputs": [
    {
     "data": {
      "text/plain": [
       "4"
      ]
     },
     "execution_count": 35,
     "metadata": {},
     "output_type": "execute_result"
    }
   ],
   "source": [
    "addition(4)\n"
   ]
  },
  {
   "cell_type": "code",
   "execution_count": 36,
   "metadata": {},
   "outputs": [
    {
     "data": {
      "text/plain": [
       "6"
      ]
     },
     "execution_count": 36,
     "metadata": {},
     "output_type": "execute_result"
    }
   ],
   "source": [
    "addition(4,2)"
   ]
  },
  {
   "cell_type": "code",
   "execution_count": 39,
   "metadata": {},
   "outputs": [],
   "source": [
    "def addition(y,x=0): \n",
    "    sum=x+y\n",
    "    return sum"
   ]
  },
  {
   "cell_type": "code",
   "execution_count": 40,
   "metadata": {},
   "outputs": [
    {
     "data": {
      "text/plain": [
       "5"
      ]
     },
     "execution_count": 40,
     "metadata": {},
     "output_type": "execute_result"
    }
   ],
   "source": [
    "addition(5)\n"
   ]
  },
  {
   "cell_type": "code",
   "execution_count": 53,
   "metadata": {},
   "outputs": [],
   "source": [
    "def all(x, y):\n",
    "    sum = x + y\n",
    "    diff = x - y\n",
    "    multiply = x * y\n",
    "    division=x/y\n",
    "    return sum,diff,multiply,division"
   ]
  },
  {
   "cell_type": "code",
   "execution_count": 52,
   "metadata": {},
   "outputs": [
    {
     "data": {
      "text/plain": [
       "12"
      ]
     },
     "execution_count": 52,
     "metadata": {},
     "output_type": "execute_result"
    }
   ],
   "source": [
    "multiplication(3,4)"
   ]
  },
  {
   "cell_type": "code",
   "execution_count": 51,
   "metadata": {},
   "outputs": [
    {
     "data": {
      "text/plain": [
       "7"
      ]
     },
     "execution_count": 51,
     "metadata": {},
     "output_type": "execute_result"
    }
   ],
   "source": [
    "addition(3,4)"
   ]
  },
  {
   "cell_type": "code",
   "execution_count": 50,
   "metadata": {},
   "outputs": [
    {
     "data": {
      "text/plain": [
       "(7, -1, 12)"
      ]
     },
     "execution_count": 50,
     "metadata": {},
     "output_type": "execute_result"
    }
   ],
   "source": [
    "all(3,4)\n"
   ]
  },
  {
   "cell_type": "code",
   "execution_count": 49,
   "metadata": {},
   "outputs": [
    {
     "data": {
      "text/plain": [
       "(9, 9, 0)"
      ]
     },
     "execution_count": 49,
     "metadata": {},
     "output_type": "execute_result"
    }
   ],
   "source": [
    "all(9,0)\n"
   ]
  },
  {
   "cell_type": "code",
   "execution_count": 54,
   "metadata": {},
   "outputs": [
    {
     "data": {
      "text/plain": [
       "(9, -1, 20, 0.8)"
      ]
     },
     "execution_count": 54,
     "metadata": {},
     "output_type": "execute_result"
    }
   ],
   "source": [
    "all(4,5)\n"
   ]
  },
  {
   "cell_type": "code",
   "execution_count": null,
   "metadata": {},
   "outputs": [],
   "source": [
    "return add # exit from function\n",
    "return sub #add garepaxi aru kunai gardena\n",
    "\n",
    "return multiply\n",
    "\n"
   ]
  },
  {
   "cell_type": "code",
   "execution_count": 55,
   "metadata": {},
   "outputs": [],
   "source": [
    "def get_larger(x, y):\n",
    "    if x > y:\n",
    "        return x\n",
    "    else:\n",
    "        return y\n"
   ]
  },
  {
   "cell_type": "code",
   "execution_count": 56,
   "metadata": {},
   "outputs": [
    {
     "data": {
      "text/plain": [
       "5"
      ]
     },
     "execution_count": 56,
     "metadata": {},
     "output_type": "execute_result"
    }
   ],
   "source": [
    "get_larger(4,5)"
   ]
  },
  {
   "cell_type": "code",
   "execution_count": null,
   "metadata": {},
   "outputs": [],
   "source": [
    "def addition(*args):\n",
    "    print(args)"
   ]
  },
  {
   "cell_type": "code",
   "execution_count": 59,
   "metadata": {},
   "outputs": [],
   "source": [
    "\n",
    "def addition(*args): #any number of positional arguments\n",
    "    total = 0\n",
    "    for num in args:\n",
    "        total += num\n",
    "    return total\n",
    "\n"
   ]
  },
  {
   "cell_type": "code",
   "execution_count": 58,
   "metadata": {},
   "outputs": [
    {
     "data": {
      "text/plain": [
       "10"
      ]
     },
     "execution_count": 58,
     "metadata": {},
     "output_type": "execute_result"
    }
   ],
   "source": [
    "addition(1,2,3,4)"
   ]
  },
  {
   "cell_type": "code",
   "execution_count": 60,
   "metadata": {},
   "outputs": [
    {
     "ename": "TypeError",
     "evalue": "addition() got an unexpected keyword argument 'x'",
     "output_type": "error",
     "traceback": [
      "\u001b[31m---------------------------------------------------------------------------\u001b[39m",
      "\u001b[31mTypeError\u001b[39m                                 Traceback (most recent call last)",
      "\u001b[36mCell\u001b[39m\u001b[36m \u001b[39m\u001b[32mIn[60]\u001b[39m\u001b[32m, line 1\u001b[39m\n\u001b[32m----> \u001b[39m\u001b[32m1\u001b[39m \u001b[43maddition\u001b[49m\u001b[43m(\u001b[49m\u001b[43mx\u001b[49m\u001b[43m=\u001b[49m\u001b[32;43m1\u001b[39;49m\u001b[43m,\u001b[49m\u001b[43my\u001b[49m\u001b[43m=\u001b[49m\u001b[32;43m2\u001b[39;49m\u001b[43m)\u001b[49m\n",
      "\u001b[31mTypeError\u001b[39m: addition() got an unexpected keyword argument 'x'"
     ]
    }
   ],
   "source": [
    "addition(x=1,y=2) #got an unexpected keyword argument 'x' cuz only positional allowed here\n"
   ]
  },
  {
   "cell_type": "code",
   "execution_count": 61,
   "metadata": {},
   "outputs": [],
   "source": [
    "def addition(**kwargs):\n",
    "    print(kwargs,type(kwargs))"
   ]
  },
  {
   "cell_type": "code",
   "execution_count": 62,
   "metadata": {},
   "outputs": [
    {
     "name": "stdout",
     "output_type": "stream",
     "text": [
      "{'x': 1, 'y': 2} <class 'dict'>\n"
     ]
    }
   ],
   "source": [
    "addition(x=1,y=2)"
   ]
  },
  {
   "cell_type": "code",
   "execution_count": 78,
   "metadata": {},
   "outputs": [],
   "source": [
    "def addition(**kwargs):\n",
    "    sum=0\n",
    "    for i in kwargs.values():\n",
    "        sum+=i\n",
    "        \n",
    "    return sum"
   ]
  },
  {
   "cell_type": "code",
   "execution_count": 79,
   "metadata": {},
   "outputs": [
    {
     "data": {
      "text/plain": [
       "3"
      ]
     },
     "execution_count": 79,
     "metadata": {},
     "output_type": "execute_result"
    }
   ],
   "source": [
    "addition(x=1,y=2)"
   ]
  },
  {
   "cell_type": "code",
   "execution_count": 67,
   "metadata": {},
   "outputs": [],
   "source": [
    "def addition(*args,**kwargs):\n",
    "    sum=0\n",
    "    for i in args:\n",
    "        sum+=i\n",
    "    for i in kwargs.values():\n",
    "        sum+=i\n",
    "    return sum"
   ]
  },
  {
   "cell_type": "code",
   "execution_count": 68,
   "metadata": {},
   "outputs": [
    {
     "data": {
      "text/plain": [
       "24"
      ]
     },
     "execution_count": 68,
     "metadata": {},
     "output_type": "execute_result"
    }
   ],
   "source": [
    "addition(3,4,5,x=1,y=2,a=5,z=4)"
   ]
  },
  {
   "cell_type": "code",
   "execution_count": 2,
   "metadata": {},
   "outputs": [
    {
     "name": "stdout",
     "output_type": "stream",
     "text": [
      "8\n"
     ]
    }
   ],
   "source": [
    "def hello():\n",
    "    xyz=8 #local scope\n",
    "    print(xyz)\n",
    "hello()    "
   ]
  },
  {
   "cell_type": "code",
   "execution_count": 3,
   "metadata": {},
   "outputs": [
    {
     "ename": "NameError",
     "evalue": "name 'xyz' is not defined",
     "output_type": "error",
     "traceback": [
      "\u001b[31m---------------------------------------------------------------------------\u001b[39m",
      "\u001b[31mNameError\u001b[39m                                 Traceback (most recent call last)",
      "\u001b[36mCell\u001b[39m\u001b[36m \u001b[39m\u001b[32mIn[3]\u001b[39m\u001b[32m, line 1\u001b[39m\n\u001b[32m----> \u001b[39m\u001b[32m1\u001b[39m \u001b[38;5;28mprint\u001b[39m(\u001b[43mxyz\u001b[49m)\n",
      "\u001b[31mNameError\u001b[39m: name 'xyz' is not defined"
     ]
    }
   ],
   "source": [
    "print(xyz) #not defined outside the function"
   ]
  },
  {
   "cell_type": "code",
   "execution_count": 4,
   "metadata": {},
   "outputs": [
    {
     "name": "stdout",
     "output_type": "stream",
     "text": [
      "shyam\n"
     ]
    }
   ],
   "source": [
    "name='shyam'#module level/file level=>global\n",
    "print(name)"
   ]
  },
  {
   "cell_type": "code",
   "execution_count": 5,
   "metadata": {},
   "outputs": [
    {
     "name": "stdout",
     "output_type": "stream",
     "text": [
      "shyam\n"
     ]
    }
   ],
   "source": [
    "def hi():\n",
    "    print(name)#checks local scope =>doesnt find it=> checks global=> finds it\n",
    "hi()"
   ]
  },
  {
   "cell_type": "code",
   "execution_count": 8,
   "metadata": {},
   "outputs": [
    {
     "data": {
      "text/plain": [
       "3"
      ]
     },
     "execution_count": 8,
     "metadata": {},
     "output_type": "execute_result"
    }
   ],
   "source": [
    "max([1,2,3])"
   ]
  },
  {
   "cell_type": "code",
   "execution_count": 10,
   "metadata": {},
   "outputs": [
    {
     "data": {
      "text/plain": [
       "1"
      ]
     },
     "execution_count": 10,
     "metadata": {},
     "output_type": "execute_result"
    }
   ],
   "source": [
    "min([1,2,3])"
   ]
  },
  {
   "cell_type": "code",
   "execution_count": 11,
   "metadata": {},
   "outputs": [],
   "source": [
    "#built-in scope=anywhere in python file =>print,min,max,sorted\n",
    "#global scope=> created variable within python file/module\n",
    "#local scope=> inside function\n"
   ]
  },
  {
   "cell_type": "code",
   "execution_count": 12,
   "metadata": {},
   "outputs": [
    {
     "ename": "NameError",
     "evalue": "name 'y' is not defined",
     "output_type": "error",
     "traceback": [
      "\u001b[31m---------------------------------------------------------------------------\u001b[39m",
      "\u001b[31mNameError\u001b[39m                                 Traceback (most recent call last)",
      "\u001b[36mCell\u001b[39m\u001b[36m \u001b[39m\u001b[32mIn[12]\u001b[39m\u001b[32m, line 4\u001b[39m\n\u001b[32m      2\u001b[39m \u001b[38;5;28;01mdef\u001b[39;00m\u001b[38;5;250m \u001b[39m\u001b[34mhello\u001b[39m():\n\u001b[32m      3\u001b[39m     \u001b[38;5;28mprint\u001b[39m(y)\n\u001b[32m----> \u001b[39m\u001b[32m4\u001b[39m \u001b[43mhello\u001b[49m\u001b[43m(\u001b[49m\u001b[43m)\u001b[49m\n",
      "\u001b[36mCell\u001b[39m\u001b[36m \u001b[39m\u001b[32mIn[12]\u001b[39m\u001b[32m, line 3\u001b[39m, in \u001b[36mhello\u001b[39m\u001b[34m()\u001b[39m\n\u001b[32m      2\u001b[39m \u001b[38;5;28;01mdef\u001b[39;00m\u001b[38;5;250m \u001b[39m\u001b[34mhello\u001b[39m():\n\u001b[32m----> \u001b[39m\u001b[32m3\u001b[39m     \u001b[38;5;28mprint\u001b[39m(\u001b[43my\u001b[49m)\n",
      "\u001b[31mNameError\u001b[39m: name 'y' is not defined"
     ]
    }
   ],
   "source": [
    "x=5\n",
    "def hello():\n",
    "    print(y) #y is not defined\n",
    "hello()"
   ]
  },
  {
   "cell_type": "code",
   "execution_count": 13,
   "metadata": {},
   "outputs": [
    {
     "name": "stdout",
     "output_type": "stream",
     "text": [
      "5\n",
      "2\n",
      "5\n"
     ]
    }
   ],
   "source": [
    "x=5#global scope\n",
    "def hello():\n",
    "    x=2#local scope\n",
    "    print(x)\n",
    "print(x) #global=>5\n",
    "hello()\n",
    "print(x)#global=>5"
   ]
  },
  {
   "cell_type": "code",
   "execution_count": 14,
   "metadata": {},
   "outputs": [
    {
     "name": "stdout",
     "output_type": "stream",
     "text": [
      "5\n"
     ]
    },
    {
     "ename": "UnboundLocalError",
     "evalue": "cannot access local variable 'x' where it is not associated with a value",
     "output_type": "error",
     "traceback": [
      "\u001b[31m---------------------------------------------------------------------------\u001b[39m",
      "\u001b[31mUnboundLocalError\u001b[39m                         Traceback (most recent call last)",
      "\u001b[36mCell\u001b[39m\u001b[36m \u001b[39m\u001b[32mIn[14]\u001b[39m\u001b[32m, line 6\u001b[39m\n\u001b[32m      4\u001b[39m     \u001b[38;5;28mprint\u001b[39m(x)\n\u001b[32m      5\u001b[39m \u001b[38;5;28mprint\u001b[39m(x)\u001b[38;5;66;03m#gl=>5\u001b[39;00m\n\u001b[32m----> \u001b[39m\u001b[32m6\u001b[39m \u001b[43mhello\u001b[49m\u001b[43m(\u001b[49m\u001b[43m)\u001b[49m\n\u001b[32m      7\u001b[39m \u001b[38;5;28mprint\u001b[39m(x)\n",
      "\u001b[36mCell\u001b[39m\u001b[36m \u001b[39m\u001b[32mIn[14]\u001b[39m\u001b[32m, line 3\u001b[39m, in \u001b[36mhello\u001b[39m\u001b[34m()\u001b[39m\n\u001b[32m      2\u001b[39m \u001b[38;5;28;01mdef\u001b[39;00m\u001b[38;5;250m \u001b[39m\u001b[34mhello\u001b[39m():\n\u001b[32m----> \u001b[39m\u001b[32m3\u001b[39m     x=\u001b[43mx\u001b[49m+\u001b[32m2\u001b[39m \u001b[38;5;66;03m#local scope=>error\u001b[39;00m\n\u001b[32m      4\u001b[39m     \u001b[38;5;28mprint\u001b[39m(x)\n",
      "\u001b[31mUnboundLocalError\u001b[39m: cannot access local variable 'x' where it is not associated with a value"
     ]
    }
   ],
   "source": [
    "x=5 #gl\n",
    "def hello():\n",
    "    x=x+2 #local scope=>error\n",
    "    print(x)\n",
    "print(x)#gl=>5\n",
    "hello()\n",
    "print(x)"
   ]
  },
  {
   "cell_type": "code",
   "execution_count": 15,
   "metadata": {},
   "outputs": [
    {
     "name": "stdout",
     "output_type": "stream",
     "text": [
      "5\n",
      "7\n",
      "5\n"
     ]
    }
   ],
   "source": [
    "x=5 #gl\n",
    "def hello():\n",
    "    y=x+2 #local scope=>global scope=> vetyo!!\n",
    "    print(y)\n",
    "print(x)#gl=>5\n",
    "hello()\n",
    "print(x)"
   ]
  },
  {
   "cell_type": "code",
   "execution_count": 16,
   "metadata": {},
   "outputs": [
    {
     "name": "stdout",
     "output_type": "stream",
     "text": [
      "5\n",
      "3\n",
      "5\n"
     ]
    }
   ],
   "source": [
    "x=5\n",
    "def hello():\n",
    "    x=1\n",
    "    x=x+2\n",
    "    print(x)\n",
    "print(x)\n",
    "hello()\n",
    "print(x)"
   ]
  },
  {
   "cell_type": "code",
   "execution_count": 18,
   "metadata": {},
   "outputs": [
    {
     "name": "stdout",
     "output_type": "stream",
     "text": [
      "5\n",
      "7\n",
      "7\n"
     ]
    }
   ],
   "source": [
    "x=5#gl\n",
    "def hello():\n",
    "    global x\n",
    "    x=x+2\n",
    "    print(x)\n",
    "print(x)\n",
    "hello()\n",
    "print(x)"
   ]
  },
  {
   "cell_type": "code",
   "execution_count": 26,
   "metadata": {},
   "outputs": [],
   "source": [
    "#factorial(5)=5*4*3*2*1\n",
    "#factorial(10)=10*9*8*7*6*5*4*3*2*1\n",
    "def factorial(n):\n",
    "    fact=1\n",
    "    for i in range(n,0,-1):\n",
    "        fact*=i\n",
    "    return fact"
   ]
  },
  {
   "cell_type": "code",
   "execution_count": 50,
   "metadata": {},
   "outputs": [
    {
     "ename": "RecursionError",
     "evalue": "maximum recursion depth exceeded",
     "output_type": "error",
     "traceback": [
      "\u001b[31m---------------------------------------------------------------------------\u001b[39m",
      "\u001b[31mRecursionError\u001b[39m                            Traceback (most recent call last)",
      "\u001b[36mCell\u001b[39m\u001b[36m \u001b[39m\u001b[32mIn[50]\u001b[39m\u001b[32m, line 1\u001b[39m\n\u001b[32m----> \u001b[39m\u001b[32m1\u001b[39m \u001b[43mfactorial\u001b[49m\u001b[43m(\u001b[49m\u001b[32;43m5000\u001b[39;49m\u001b[43m)\u001b[49m\n",
      "\u001b[36mCell\u001b[39m\u001b[36m \u001b[39m\u001b[32mIn[44]\u001b[39m\u001b[32m, line 6\u001b[39m, in \u001b[36mfactorial\u001b[39m\u001b[34m(n)\u001b[39m\n\u001b[32m      4\u001b[39m     \u001b[38;5;28;01mreturn\u001b[39;00m \u001b[32m1\u001b[39m\n\u001b[32m      5\u001b[39m \u001b[38;5;28;01melse\u001b[39;00m:\n\u001b[32m----> \u001b[39m\u001b[32m6\u001b[39m     \u001b[38;5;28;01mreturn\u001b[39;00m n * \u001b[43mfactorial\u001b[49m\u001b[43m(\u001b[49m\u001b[43mn\u001b[49m\u001b[43m-\u001b[49m\u001b[32;43m1\u001b[39;49m\u001b[43m)\u001b[49m\n",
      "\u001b[36mCell\u001b[39m\u001b[36m \u001b[39m\u001b[32mIn[44]\u001b[39m\u001b[32m, line 6\u001b[39m, in \u001b[36mfactorial\u001b[39m\u001b[34m(n)\u001b[39m\n\u001b[32m      4\u001b[39m     \u001b[38;5;28;01mreturn\u001b[39;00m \u001b[32m1\u001b[39m\n\u001b[32m      5\u001b[39m \u001b[38;5;28;01melse\u001b[39;00m:\n\u001b[32m----> \u001b[39m\u001b[32m6\u001b[39m     \u001b[38;5;28;01mreturn\u001b[39;00m n * \u001b[43mfactorial\u001b[49m\u001b[43m(\u001b[49m\u001b[43mn\u001b[49m\u001b[43m-\u001b[49m\u001b[32;43m1\u001b[39;49m\u001b[43m)\u001b[49m\n",
      "    \u001b[31m[... skipping similar frames: factorial at line 6 (2974 times)]\u001b[39m\n",
      "\u001b[36mCell\u001b[39m\u001b[36m \u001b[39m\u001b[32mIn[44]\u001b[39m\u001b[32m, line 6\u001b[39m, in \u001b[36mfactorial\u001b[39m\u001b[34m(n)\u001b[39m\n\u001b[32m      4\u001b[39m     \u001b[38;5;28;01mreturn\u001b[39;00m \u001b[32m1\u001b[39m\n\u001b[32m      5\u001b[39m \u001b[38;5;28;01melse\u001b[39;00m:\n\u001b[32m----> \u001b[39m\u001b[32m6\u001b[39m     \u001b[38;5;28;01mreturn\u001b[39;00m n * \u001b[43mfactorial\u001b[49m\u001b[43m(\u001b[49m\u001b[43mn\u001b[49m\u001b[43m-\u001b[49m\u001b[32;43m1\u001b[39;49m\u001b[43m)\u001b[49m\n",
      "\u001b[31mRecursionError\u001b[39m: maximum recursion depth exceeded"
     ]
    }
   ],
   "source": [
    "factorial(5000)\n"
   ]
  },
  {
   "cell_type": "code",
   "execution_count": null,
   "metadata": {},
   "outputs": [],
   "source": [
    "#factorial(5)=5*4*3*2*1\n",
    "#factorial(5)=5*factorial(4)\n",
    "#factorial(5)=5*4*factorial(3)\n",
    "#factorial(5)=5*4*3*factorial(2)\n",
    "#factorial(5)=5*4*3*2*factorial(1)\n",
    "#factorial(5)=5*4*3*2*1"
   ]
  },
  {
   "cell_type": "code",
   "execution_count": 29,
   "metadata": {},
   "outputs": [
    {
     "name": "stdout",
     "output_type": "stream",
     "text": [
      "hi\n"
     ]
    }
   ],
   "source": [
    "#recursion\n",
    "def hello():\n",
    "    print('hi')\n",
    "    hello()\n",
    "    \n",
    "hello()"
   ]
  },
  {
   "cell_type": "code",
   "execution_count": null,
   "metadata": {},
   "outputs": [],
   "source": [
    "#recursive function\n",
    "#1 call itself\n",
    "#2 base condition => terminating condition/returning"
   ]
  },
  {
   "cell_type": "code",
   "execution_count": 44,
   "metadata": {},
   "outputs": [],
   "source": [
    "#Recursive function\n",
    "def factorial(n):\n",
    "        if n<=1:\n",
    "            return 1\n",
    "        else:\n",
    "            return n * factorial(n-1)\n",
    "           "
   ]
  },
  {
   "cell_type": "code",
   "execution_count": 45,
   "metadata": {},
   "outputs": [
    {
     "data": {
      "text/plain": [
       "24"
      ]
     },
     "execution_count": 45,
     "metadata": {},
     "output_type": "execute_result"
    }
   ],
   "source": [
    "factorial(4)\n",
    "\n",
    "\n"
   ]
  },
  {
   "cell_type": "code",
   "execution_count": null,
   "metadata": {},
   "outputs": [],
   "source": [
    "#4*factorial(3)\n",
    "#4*3*factorial(2)\n",
    "#4*3*2*factorial(1)\n",
    "#4*3*2*1\n",
    "#24\n"
   ]
  },
  {
   "cell_type": "code",
   "execution_count": 49,
   "metadata": {},
   "outputs": [
    {
     "ename": "RecursionError",
     "evalue": "maximum recursion depth exceeded",
     "output_type": "error",
     "traceback": [
      "\u001b[31m---------------------------------------------------------------------------\u001b[39m",
      "\u001b[31mRecursionError\u001b[39m                            Traceback (most recent call last)",
      "\u001b[36mCell\u001b[39m\u001b[36m \u001b[39m\u001b[32mIn[49]\u001b[39m\u001b[32m, line 1\u001b[39m\n\u001b[32m----> \u001b[39m\u001b[32m1\u001b[39m \u001b[43mfactorial\u001b[49m\u001b[43m(\u001b[49m\u001b[32;43m5000\u001b[39;49m\u001b[43m)\u001b[49m\n",
      "\u001b[36mCell\u001b[39m\u001b[36m \u001b[39m\u001b[32mIn[44]\u001b[39m\u001b[32m, line 6\u001b[39m, in \u001b[36mfactorial\u001b[39m\u001b[34m(n)\u001b[39m\n\u001b[32m      4\u001b[39m     \u001b[38;5;28;01mreturn\u001b[39;00m \u001b[32m1\u001b[39m\n\u001b[32m      5\u001b[39m \u001b[38;5;28;01melse\u001b[39;00m:\n\u001b[32m----> \u001b[39m\u001b[32m6\u001b[39m     \u001b[38;5;28;01mreturn\u001b[39;00m n * \u001b[43mfactorial\u001b[49m\u001b[43m(\u001b[49m\u001b[43mn\u001b[49m\u001b[43m-\u001b[49m\u001b[32;43m1\u001b[39;49m\u001b[43m)\u001b[49m\n",
      "\u001b[36mCell\u001b[39m\u001b[36m \u001b[39m\u001b[32mIn[44]\u001b[39m\u001b[32m, line 6\u001b[39m, in \u001b[36mfactorial\u001b[39m\u001b[34m(n)\u001b[39m\n\u001b[32m      4\u001b[39m     \u001b[38;5;28;01mreturn\u001b[39;00m \u001b[32m1\u001b[39m\n\u001b[32m      5\u001b[39m \u001b[38;5;28;01melse\u001b[39;00m:\n\u001b[32m----> \u001b[39m\u001b[32m6\u001b[39m     \u001b[38;5;28;01mreturn\u001b[39;00m n * \u001b[43mfactorial\u001b[49m\u001b[43m(\u001b[49m\u001b[43mn\u001b[49m\u001b[43m-\u001b[49m\u001b[32;43m1\u001b[39;49m\u001b[43m)\u001b[49m\n",
      "    \u001b[31m[... skipping similar frames: factorial at line 6 (2974 times)]\u001b[39m\n",
      "\u001b[36mCell\u001b[39m\u001b[36m \u001b[39m\u001b[32mIn[44]\u001b[39m\u001b[32m, line 6\u001b[39m, in \u001b[36mfactorial\u001b[39m\u001b[34m(n)\u001b[39m\n\u001b[32m      4\u001b[39m     \u001b[38;5;28;01mreturn\u001b[39;00m \u001b[32m1\u001b[39m\n\u001b[32m      5\u001b[39m \u001b[38;5;28;01melse\u001b[39;00m:\n\u001b[32m----> \u001b[39m\u001b[32m6\u001b[39m     \u001b[38;5;28;01mreturn\u001b[39;00m n * \u001b[43mfactorial\u001b[49m\u001b[43m(\u001b[49m\u001b[43mn\u001b[49m\u001b[43m-\u001b[49m\u001b[32;43m1\u001b[39;49m\u001b[43m)\u001b[49m\n",
      "\u001b[31mRecursionError\u001b[39m: maximum recursion depth exceeded"
     ]
    }
   ],
   "source": [
    "factorial(5000)"
   ]
  },
  {
   "cell_type": "code",
   "execution_count": 51,
   "metadata": {},
   "outputs": [],
   "source": [
    "import sys\n",
    "sys.set_int_max_str_digits(50000)\n"
   ]
  },
  {
   "cell_type": "code",
   "execution_count": 53,
   "metadata": {},
   "outputs": [],
   "source": [
    "#factorial(5)=5*4*3*2*1\n",
    "#factorial(10)=10*9*8*7*6*5*4*3*2*1\n",
    "def factorial(n):\n",
    "    fact=1\n",
    "    for i in range(n,0,-1):\n",
    "        fact*=i\n",
    "    return fact"
   ]
  },
  {
   "cell_type": "code",
   "execution_count": 54,
   "metadata": {},
   "outputs": [
    {
     "data": {
      "text/plain": [
       "422857792660554352220106420023358440539078667462664674884978240218135805270810820069089904787170638753708474665730068544587848606668381273633721089377278763127939036305846216064390447898698223987192970889621161265296832177550039924219683703146907264472878789790404754884162215226671928410969236910449565971736352948400223840381120644820230857671104502306174894755428309761781724040805324809927809328784055486199364548291211876258248802189173977900050213212598043639244626460770511358846595108675470585833924655225589035474435988347383178988034633008458631510209091509935653820010933047965742556741930917055172805200236075085991197635228755907902043369743123506916831211924495971556267407521462198986233088625998302859864857578749445963115286970886710046268423648178989905454690861391613218344174148807186234448114831209490361196546872767755617886828720269104814092456410341835975604276458161513178575901661071782544156980883359372729995603371371200471049437656291142488605335299499642300699972204918120100819059439140675053265004775533850899097945101551091486907004407119572336026243368132330218709287699196806656569752790422258267841561083376425781032629202687211070274681394351128601502326190649959171897364176378436491219709109840944514895358959103804176941956657834822071749105512752639148381172052604826965162642710094919393332661030104360530459117014557209584714353721948246686793467375904872268133410207860903657108806376616249749507413107077401682180585945526445171409277469230062697511346044174567946735828782261629584248675157379172942724178783105429858245117575511884506574424827574660800238588378492396247368761507015767725898321128632295537044902516387925127590841791744640466913531047347984464996154595542013996317357476301740036796192919942190762895445656261767041799538161133387312823511534152581309087915883638351664797225912944270653557142511737323807232632958121797916679692329687096923901003255574789055099807487061047230646195984955239657612208673866514171699307557691897902675157342075864796345338446835085965490727326321910504064289713096224505162064669468098869917122127404504020684923266241760132910227866687270305284709452526825496617772499645206699836925910690894082637401043498371591126455822280606361394115344316771769934353664284928294436414769615881993661388255577487709937004594753907845149034434521174560594039916268444697661821387470705325559577933196460996662145377564935474169708562389214773222865507182490430016186142192760452307670621142961767274704123616107220009743758647492753665149532164780849075146330071016691313420662882562618283865836983632108760710427516073348347788414796732427080410860761841281888307115098982135338406610652147087046874760995427473673509451553599769040367353385551052571682650317682405743993414862392331981432579182193321898940450865013610998098383993110996355981328001049731588596312131853801205046787642910669365600437305633431984879048998524701293300789344532868156679762880495532846386020133480265279836946393384995675049993707814746561543438930431384237878981847802886009971088695632988347711863122382785963653115132377931373647397429369411499028751972227999545182615488298951151926682112451355318472209990435355949887299922035062039816011086376236539782172380237846650673624510635034423187315338308212043804710999419227821039747552717416043890169723961305549371844836119803565896062025009093664399360172007383613354405094329072476518909502507724675841989412224659392163116352038147362479528539732089309533421910635702805576629720156556510767780805933453631121829561792887673002802450932122778852968418208261778476955644980385691275787372678040959158711733971103165232678060798127609246173504120182666874262805385275843979167609007743380748420751185119102921960339376280986753665085212869255321536787932521882574101866137054328973735862725370178558806639851350386944039604928258820180419178073649693885802597758398892014389747165465973510852605706234402069637065660129535734043582961473427275805630839510667375349259659518575646939723218275780003250593895303820539697558870511543073920827422440516299708739599768461206246629098112368012579891284802505094028916959765079395437191311379314427405135599630375642214527294341797246187597964074239147838993541565834716156858499036773056611353833367087548900413091981676330749041510337597307246885839246941715548295730750618505881581959528992660225626903439573313450666972952115230668696227920947779974336574472673471408928071411283888082693377378077293104110767513639476200610858040596019639058015761002337463869352228385801434957178125581445862930042479404065736859862007914604590255413929950088044710384758990326548097338166940500085452723713571394902463820308668541802838317527668064278489561005755859991718966786449154063570014497194249878920859731254275567514575206399118150736397483102490793841725653421894276769116598153430084637087769510295415136551734675054015239706042571746001089968440498845985477977905031632568489156557231006499726498721480800181770357701502983008879487243887718884416833034708723239505377642232944095773219137582371673924704216723002256883135779230394688900662466182532658490724406767024939579697217467485562998183149665611743997680482094166257463879660305171274925119226367615337524381656217330771650129520988754856467131862602387619964334867961514408328902061082833180891221325853682856469916007952105166960451695430614212305743006877217407155473217957577017595967640563812729153867513698712395570542350999228605975469962186195531354132139126436676900465429996811680550737866770665988027062972502001882845886145344368771455361304414465613369092862748276981946836480550952968681758714859972973082332924094777085275279923304892719633314751563311192746150389219290616780607901383451137066300684376267199885515143681266137319912103235469786756421210624899005553564022924345831264231038363416781719908354140411717740185950606674198348143345444247191436828225654380047860390575922417071802670646875454211626958746795398540784464654140381751149965273621123540880166990280149033225139460832668170930713868826549977374286127789417784752681328371818759103642140881783220739808059714203285309721443041845459183002833408705783138284973283761286182927136745161897366207237396132790944984014154408304074405393067540767126182547597130843470311389815695365971788564022750674237400323621850094765267521941901241387478279883426470873616812485384444012772521050072279315853096279121131160167772077952572613800240684421885453537121341902236379684012385255288607189967725694227433323948595075570839061877450159652184414998155476107548008054192318436948191732631430603548399790783307267636729090980772827355854348032260067472537097785464567761181807367424367391769863758072145859791485033700592994963793369100283444558089838054017635403737133019311293080958287612107380374800660269767842888358265737486556785868822015143046249655995760379768685318192365806469199584071845493606922169776137542662239658644989770921478134709127917460871630220821981434654245065731262683089579031012893360788644107230184805400373136014216229159146992019884148290014414312800903102107833305090238435726779416177246873411503598700003151092815700331081727415624680432977205070450456683898626301702989301145364477416856732512330376477881749036052572605520684370616116539755132541369303867783267208227323664249206432363089268768826650939691861683271739757479552993242406186992420363781929485368098035256331092448215269276219116259145886393677034653480367887126133367116968226450914997055448521259751870084720025674658752403932061045903070039438252019383102480929019684602472171298321628237994627125366359971898374425099120673688383738299653892030662843074547559074235345274029211606091346327684749522046010409575607348155101677203187580089224494752922031093841661588823584993931745149914395557357641584185479831702428523965451087525425464777294595230360946416541997797947136806344915998772409176443137371178542210740572121166868692153240490080384205921192622875440898261478908123698956367080804687628524499897440855677969456909042340530355943524640751677873953113928698614347227572144946891896093294375476741234907792754338349412323060078767610089949156126934038921148370217193387617823370358925817112869563450001367619897145400986643461922197676975930010555225198913002123021780831934330880446592954552165911855939202579781122952065357362914478404946474565003115498072056580360667380889572746464375428055819322299305089287806874537401327100274428317925355003451536693172112088227603942809788645727306979971285649576934354004030728440581746648376658498039958964243370183454151720285337810904113124462432903353964296651109482836884580127588701293156099225044518125460113274986014470437757313881001319276124676116614833528935557503106018449788994378274613854651708241613167681463911870000812845144341406739985430072772303758111613511094355614896323929750846383152930263582535361784837558519666949972251935515953807207838615142130284450051795239760968433198292598921623223582396390262548856855875458198371559008447860086745945709118128793228222051767509371866110013193625845223493949829511199280837860523506412769337548130609594264463425077601147334209139128541628183172262143783062962408149391997187528106367348876678481602342743230027158192404187686545826519361990687336892886715133840245486110982482004482721799496658712257174429044916781194824165631560303473833317665121218052780795958220298330611945164019413315550379662980215357680731124530585915969709973988055743550083279071844959752353594644354789680372126344509423070253995102864458237454677761013556916212309752286152053213998745673034127676503369636682306665552051562491132528926155863868503100849180920507680658265915276163719928694258350604859732273949286080260640627521341007801815105623787926212039424781833439433877206395801115809084190794320195178235740190546595990289617711776195270354051193727229722248442080440098750369411277686593022133010625031862085145076421052980508837197986052557750303949606158442838846866137510968441567309838079394349570013029265177957120625555851951313574029897589283475525334409858911400694449308432874005015554332587793895080241128538758725945136400838324944471346436826148195406004114845870234072926697740631325878634790667698266181501256117692275715291249164821702372884416357600996851100939411444677628186007072278522314941048564396255796808221289935799262208553889221164765220850367706476491496133789353761537391569177822237744837614120253342622508007300513473422771427333106345971803240244226950458090539326689103619381998838844036231795282435495362489670734155948067688515321073064476077859628627852283657244564306449096277517172656954238392941958409527253281659572534531428389629894005886539486824117113929627356938973482935854650278689437014798383826002058208853517073216288725214522205265969614962147884840129004507737252424605074339660818182960296019196314124998538422017695110361380561701016357743542531148669369994130940908368220071936435111978592782493491477052187226546109199597269439152400467901173602521030051886080337084840114810246351288263986170081804888380750203521448348740849154718714478857809574515499505005070789428842888410027877777455981132319940624176532148686316581736774410084063436959989519288310869124517866342559353458242589411390516469440377562665821577845936829909679754548350510473633770839151033854639602753486401635204633884342346714935641429160856846724874244782055113759168236472297793612971080302530934478115527737540458968990354808058309381267323593563098546564376209385371052808344607189076003388781618019853273759498566916704703448438363503416368325266403224174519476678140428319327482851882140344319384445475456765253419659194332132585432270070759038565239668227171300009189122050845185261514627937717597528852978637931711212529529443323757910072909001703558763798612480281463093944391916950129336315045285163539312868586427437296109446101235604877439863299611899755965996608749049271167685268675335991297583209089553296409523640116060078495005377892783750147344122123777907727134146647404489837589487675423294546899354220341669961366698976529978580795899055864050388507083137333076839766882463680992355219727241831735127646189112380485883115569477888101759708977682149644340317924443085170303692214137621194388641989508360339306459037361842937028710758321966607546113761076362543928614316242890754021082233620012309384737312220374269033838579928678572939434168287053763374091938184632261131740934278117918891642447513543478446040549455379834556163353815868441692054518698919434175386663900335756765603264363767906721626620330878425545157208117246381251512669846685887209013144861632560461019513371814585249988176629925142145014710206193190373671380347663431029705222414785030188275106347446241258707937339085095757724316735066885094208761536164440443755860160625837091300574162065273670941888667964570550744724714137001968165215954380698515999483361357521322106131884771926641942395351412233546746461491743013475866037338176532604557402925472279360288926189385899695656876783017186873988763887625972743976062813263446647679413679726184933395074665820441677989806604203937116666336696282569349097348391155869004856032512219241534268522369316036765491047702733521540143168338872968405443296967684036073182435336224865433823598123544167514608340781166661858781733980624199254577853462678039039937557802759942957205281043775666979396838109341118959475766220191217535093638985465283078692370662512323684390235587636228324657161183714078807661162179517887972801841572019639084400269037450381192797170314489871815031319992111563908303017288012610642062005359240278277393918026391717720136125984776933980647063763022608885359937595079088789081791802195768033381968605120487107610874898411568740159953020639098138993261095538868264084012160831040525974539251576403732889086736948366404734622708560040891610782221943405179794550155347682966855320097501905581419914591124181501062255627411231571377358697194374130822027383843815940638571387913337592362330440453487233047240668784133333047898995255221468847973813568083995644533005222551320155267768895412770329278670827490041172076663112783638152343547681663121189086864991380236281775275946061211813342054791801619220346912760381900528012343973598270461499814511324618195658528232044658270082064934680251556511272822083811563192256509945201222666603226059396247019707668580396286975551115189973049085051758765306785758000660424066894170620303846785860257370634352599586885088679654004465187790208942935153217316750113738031466034642429489076322228133763299919641336502028627289268087560036613770607463575515079087982099722660130472907825746908175451952405573791313113170617323191598673971588373108168916968657704150695512947652386134815766967580364762005289060222744531744305498402863048850869557761528650326080941160688570698894762046478500884303973107412774191961697450517110329082815201273888663422631492147090220016940636504812047036016738602290671629816411198202268607961324739550057567564568204754619040423011062371367395995678940884705976859514505017241517746017351430990972615509378334720000000000000000000000000000000000000000000000000000000000000000000000000000000000000000000000000000000000000000000000000000000000000000000000000000000000000000000000000000000000000000000000000000000000000000000000000000000000000000000000000000000000000000000000000000000000000000000000000000000000000000000000000000000000000000000000000000000000000000000000000000000000000000000000000000000000000000000000000000000000000000000000000000000000000000000000000000000000000000000000000000000000000000000000000000000000000000000000000000000000000000000000000000000000000000000000000000000000000000000000000000000000000000000000000000000000000000000000000000000000000000000000000000000000000000000000000000000000000000000000000000000000000000000000000000000000000000000000000000000000000000000000000000000000000000000000000000000000000000000000000000000000000000000000000000000000000000000000000000000000000000000000000000000000000000000000000000000000000000000000000000000000000000000000000000000000000000000000000000000000000000000000000000000000000000000000000000000000000000000000000000000000000000000000000000000000000000000000000000000000000000000000000000000000000000000000000000000000000000000000000000000000000000000000000000000000000000000000000"
      ]
     },
     "execution_count": 54,
     "metadata": {},
     "output_type": "execute_result"
    }
   ],
   "source": [
    "factorial(5000)"
   ]
  },
  {
   "cell_type": "code",
   "execution_count": 70,
   "metadata": {},
   "outputs": [],
   "source": [
    "def square(n):\n",
    "    n=n**2\n",
    "    return n\n",
    "     \n"
   ]
  },
  {
   "cell_type": "code",
   "execution_count": 71,
   "metadata": {},
   "outputs": [
    {
     "data": {
      "text/plain": [
       "25"
      ]
     },
     "execution_count": 71,
     "metadata": {},
     "output_type": "execute_result"
    }
   ],
   "source": [
    "square(5)"
   ]
  },
  {
   "cell_type": "code",
   "execution_count": 72,
   "metadata": {},
   "outputs": [],
   "source": [
    "x=lambda n:n**2 #anonymous function/ lambda\n"
   ]
  },
  {
   "cell_type": "code",
   "execution_count": 73,
   "metadata": {},
   "outputs": [
    {
     "data": {
      "text/plain": [
       "25"
      ]
     },
     "execution_count": 73,
     "metadata": {},
     "output_type": "execute_result"
    }
   ],
   "source": [
    "x(5)\n"
   ]
  },
  {
   "cell_type": "code",
   "execution_count": 74,
   "metadata": {},
   "outputs": [],
   "source": [
    "#boolean/Truthness\n"
   ]
  },
  {
   "cell_type": "code",
   "execution_count": 75,
   "metadata": {},
   "outputs": [],
   "source": [
    "#0,0.0,0j,'',None,[],{},set(),False,range(0)==>boolean value/ Truthness is False\n"
   ]
  },
  {
   "cell_type": "code",
   "execution_count": 76,
   "metadata": {},
   "outputs": [
    {
     "data": {
      "text/plain": [
       "False"
      ]
     },
     "execution_count": 76,
     "metadata": {},
     "output_type": "execute_result"
    }
   ],
   "source": [
    "bool(0)"
   ]
  },
  {
   "cell_type": "code",
   "execution_count": 77,
   "metadata": {},
   "outputs": [
    {
     "data": {
      "text/plain": [
       "False"
      ]
     },
     "execution_count": 77,
     "metadata": {},
     "output_type": "execute_result"
    }
   ],
   "source": [
    "bool(())"
   ]
  },
  {
   "cell_type": "code",
   "execution_count": 78,
   "metadata": {},
   "outputs": [
    {
     "data": {
      "text/plain": [
       "False"
      ]
     },
     "execution_count": 78,
     "metadata": {},
     "output_type": "execute_result"
    }
   ],
   "source": [
    "all([0,'',{},set(),False])"
   ]
  },
  {
   "cell_type": "code",
   "execution_count": 79,
   "metadata": {},
   "outputs": [
    {
     "data": {
      "text/plain": [
       "True"
      ]
     },
     "execution_count": 79,
     "metadata": {},
     "output_type": "execute_result"
    }
   ],
   "source": [
    "any([0,'',None,[],{},set(),False,-1])"
   ]
  },
  {
   "cell_type": "code",
   "execution_count": 2,
   "metadata": {},
   "outputs": [
    {
     "name": "stdout",
     "output_type": "stream",
     "text": [
      "hello\n"
     ]
    }
   ],
   "source": [
    "if 1:\n",
    "    print('hello')"
   ]
  },
  {
   "cell_type": "code",
   "execution_count": 4,
   "metadata": {},
   "outputs": [],
   "source": [
    "if None:\n",
    "    print('hello')"
   ]
  },
  {
   "cell_type": "code",
   "execution_count": 21,
   "metadata": {},
   "outputs": [],
   "source": [
    "s=lambda x,y:x+y"
   ]
  },
  {
   "cell_type": "code",
   "execution_count": 22,
   "metadata": {},
   "outputs": [
    {
     "data": {
      "text/plain": [
       "8"
      ]
     },
     "execution_count": 22,
     "metadata": {},
     "output_type": "execute_result"
    }
   ],
   "source": [
    "s(3,5)"
   ]
  },
  {
   "cell_type": "code",
   "execution_count": 23,
   "metadata": {},
   "outputs": [
    {
     "data": {
      "text/plain": [
       "<filter at 0x103d56b30>"
      ]
     },
     "execution_count": 23,
     "metadata": {},
     "output_type": "execute_result"
    }
   ],
   "source": [
    "filter(None,[1,2,0,False,5,'ram',{},5.5])\n"
   ]
  },
  {
   "cell_type": "code",
   "execution_count": 24,
   "metadata": {},
   "outputs": [
    {
     "data": {
      "text/plain": [
       "[1, 2, 5, 'ram', 5.5]"
      ]
     },
     "execution_count": 24,
     "metadata": {},
     "output_type": "execute_result"
    }
   ],
   "source": [
    "list(filter(None,[1,2,0,False,5,'ram',{},5.5]))#True matrai print garxa\n"
   ]
  },
  {
   "cell_type": "code",
   "execution_count": 26,
   "metadata": {},
   "outputs": [
    {
     "name": "stdout",
     "output_type": "stream",
     "text": [
      "1\n",
      "2\n",
      "5\n",
      "ram\n",
      "5.5\n"
     ]
    }
   ],
   "source": [
    "for i in filter(None,[1,2,0,False,5,'ram',{},5.5]):\n",
    "    print(i)\n"
   ]
  },
  {
   "cell_type": "code",
   "execution_count": 29,
   "metadata": {},
   "outputs": [],
   "source": [
    "x=filter(None,[1,20,False,5,'ram',{},5.5])"
   ]
  },
  {
   "cell_type": "code",
   "execution_count": 30,
   "metadata": {},
   "outputs": [
    {
     "data": {
      "text/plain": [
       "<filter at 0x103d57640>"
      ]
     },
     "execution_count": 30,
     "metadata": {},
     "output_type": "execute_result"
    }
   ],
   "source": [
    "x"
   ]
  },
  {
   "cell_type": "code",
   "execution_count": 31,
   "metadata": {},
   "outputs": [
    {
     "data": {
      "text/plain": [
       "1"
      ]
     },
     "execution_count": 31,
     "metadata": {},
     "output_type": "execute_result"
    }
   ],
   "source": [
    "next(x) #iterator list and loops are also iterator"
   ]
  },
  {
   "cell_type": "code",
   "execution_count": 46,
   "metadata": {},
   "outputs": [],
   "source": [
    "def is_odd(n):\n",
    "    if n%2==1:\n",
    "        return True\n",
    "    else:\n",
    "        return False\n",
    "\n",
    "    "
   ]
  },
  {
   "cell_type": "code",
   "execution_count": 47,
   "metadata": {},
   "outputs": [
    {
     "data": {
      "text/plain": [
       "True"
      ]
     },
     "execution_count": 47,
     "metadata": {},
     "output_type": "execute_result"
    }
   ],
   "source": [
    "is_odd(5)"
   ]
  },
  {
   "cell_type": "code",
   "execution_count": 9,
   "metadata": {},
   "outputs": [
    {
     "data": {
      "text/plain": [
       "[1, 27, 17, 9, 3, 1, 5]"
      ]
     },
     "execution_count": 9,
     "metadata": {},
     "output_type": "execute_result"
    }
   ],
   "source": [
    "list(filter(is_odd,[1,27,12,17,8,92,9,3,2,1,5]))"
   ]
  },
  {
   "cell_type": "code",
   "execution_count": 3,
   "metadata": {},
   "outputs": [],
   "source": [
    "def is_odd(n):\n",
    "    return n%2==1"
   ]
  },
  {
   "cell_type": "code",
   "execution_count": 4,
   "metadata": {},
   "outputs": [],
   "source": [
    "x=lambda n:n%2==1"
   ]
  },
  {
   "cell_type": "code",
   "execution_count": 6,
   "metadata": {},
   "outputs": [
    {
     "data": {
      "text/plain": [
       "True"
      ]
     },
     "execution_count": 6,
     "metadata": {},
     "output_type": "execute_result"
    }
   ],
   "source": [
    "x(33)"
   ]
  },
  {
   "cell_type": "code",
   "execution_count": 8,
   "metadata": {},
   "outputs": [
    {
     "data": {
      "text/plain": [
       "[1, 27, 17, 9, 3, 1, 5]"
      ]
     },
     "execution_count": 8,
     "metadata": {},
     "output_type": "execute_result"
    }
   ],
   "source": [
    "list(filter(lambda n:n%2==1,[1,27,12,17,8,92,9,3,2,1,5]))"
   ]
  },
  {
   "cell_type": "code",
   "execution_count": 10,
   "metadata": {},
   "outputs": [
    {
     "name": "stdout",
     "output_type": "stream",
     "text": [
      "Help on class map in module builtins:\n",
      "\n",
      "class map(object)\n",
      " |  map(function, iterable, /, *iterables)\n",
      " |\n",
      " |  Make an iterator that computes the function using arguments from\n",
      " |  each of the iterables.  Stops when the shortest iterable is exhausted.\n",
      " |\n",
      " |  Methods defined here:\n",
      " |\n",
      " |  __getattribute__(self, name, /)\n",
      " |      Return getattr(self, name).\n",
      " |\n",
      " |  __iter__(self, /)\n",
      " |      Implement iter(self).\n",
      " |\n",
      " |  __next__(self, /)\n",
      " |      Implement next(self).\n",
      " |\n",
      " |  __reduce__(self, /)\n",
      " |      Return state information for pickling.\n",
      " |\n",
      " |  ----------------------------------------------------------------------\n",
      " |  Static methods defined here:\n",
      " |\n",
      " |  __new__(*args, **kwargs)\n",
      " |      Create and return a new object.  See help(type) for accurate signature.\n",
      "\n"
     ]
    }
   ],
   "source": [
    "help(map)"
   ]
  },
  {
   "cell_type": "code",
   "execution_count": 11,
   "metadata": {},
   "outputs": [],
   "source": [
    "def square(n):\n",
    "    return n**2\n"
   ]
  },
  {
   "cell_type": "code",
   "execution_count": 13,
   "metadata": {},
   "outputs": [
    {
     "data": {
      "text/plain": [
       "81"
      ]
     },
     "execution_count": 13,
     "metadata": {},
     "output_type": "execute_result"
    }
   ],
   "source": [
    "square(9)"
   ]
  },
  {
   "cell_type": "code",
   "execution_count": 15,
   "metadata": {},
   "outputs": [
    {
     "data": {
      "text/plain": [
       "[1, 4, 9, 16, 25, 36, 49, 64, 81, 100, 121, 144, 169, 196, 225, 256, 289]"
      ]
     },
     "execution_count": 15,
     "metadata": {},
     "output_type": "execute_result"
    }
   ],
   "source": [
    "list(map(square,[1,2,3,4,5,6,7,8,9,10,11,12,13,14,15,16,17]))"
   ]
  },
  {
   "cell_type": "code",
   "execution_count": 17,
   "metadata": {},
   "outputs": [
    {
     "data": {
      "text/plain": [
       "[1, 4, 9, 16, 25, 36, 49, 64, 81, 100]"
      ]
     },
     "execution_count": 17,
     "metadata": {},
     "output_type": "execute_result"
    }
   ],
   "source": [
    "list(map(lambda n:n**2,[1,2,3,4,5,6,7,8,9,10]))"
   ]
  },
  {
   "cell_type": "code",
   "execution_count": 18,
   "metadata": {},
   "outputs": [],
   "source": [
    "strings=['1','2','3','4','5']\n",
    "int_list = list(map(lambda x: int(x), strings))"
   ]
  },
  {
   "cell_type": "code",
   "execution_count": 19,
   "metadata": {},
   "outputs": [
    {
     "data": {
      "text/plain": [
       "[1, 2, 3, 4, 5]"
      ]
     },
     "execution_count": 19,
     "metadata": {},
     "output_type": "execute_result"
    }
   ],
   "source": [
    "int_list"
   ]
  },
  {
   "cell_type": "code",
   "execution_count": 20,
   "metadata": {},
   "outputs": [
    {
     "name": "stdout",
     "output_type": "stream",
     "text": [
      "Help on built-in function reduce in module _functools:\n",
      "\n",
      "reduce(...)\n",
      "    reduce(function, iterable[, initial], /) -> value\n",
      "\n",
      "    Apply a function of two arguments cumulatively to the items of an iterable, from left to right.\n",
      "\n",
      "    This effectively reduces the iterable to a single value.  If initial is present,\n",
      "    it is placed before the items of the iterable in the calculation, and serves as\n",
      "    a default when the iterable is empty.\n",
      "\n",
      "    For example, reduce(lambda x, y: x+y, [1, 2, 3, 4, 5])\n",
      "    calculates ((((1 + 2) + 3) + 4) + 5).\n",
      "\n"
     ]
    }
   ],
   "source": [
    "from functools import reduce\n",
    "help(reduce)"
   ]
  },
  {
   "cell_type": "code",
   "execution_count": 21,
   "metadata": {},
   "outputs": [
    {
     "name": "stdout",
     "output_type": "stream",
     "text": [
      "15\n"
     ]
    }
   ],
   "source": [
    "sum=reduce(lambda x, y: x+y, [1, 2, 3, 4, 5])\n",
    "print(sum)\n"
   ]
  },
  {
   "cell_type": "code",
   "execution_count": 27,
   "metadata": {},
   "outputs": [],
   "source": [
    "#[1, 2, 3, 4, 5]\n",
    "  #↓   ↓\n",
    " #1 + 2 = 3\n",
    "      #      #3 + 3 = 6\n",
    "          #↓    ↓\n",
    "          #6 + 4 = 10\n",
    "              #↓    ↓\n",
    "             #10 + 5 = 15"
   ]
  },
  {
   "cell_type": "code",
   "execution_count": 24,
   "metadata": {},
   "outputs": [],
   "source": [
    "#OOP=> object oriented programming\n",
    "#class=>>Person==>structure/Blueprint?Template\n",
    "#object=> Ram=> actually exist garxa/instance of class"
   ]
  },
  {
   "cell_type": "code",
   "execution_count": 7,
   "metadata": {},
   "outputs": [
    {
     "name": "stdout",
     "output_type": "stream",
     "text": [
      "<__main__.person object at 0x105de12b0>\n"
     ]
    }
   ],
   "source": [
    "class person:\n",
    "    #attribute/property\n",
    "    name='Ram'\n",
    "    age=22\n",
    "    gender='male'\n",
    "    height=5.5\n",
    "    weight=60\n",
    "\n",
    "    #characteristicsaction/bheaviour/method\n",
    "    def walk():\n",
    "        print('The person is walking')\n",
    "    def eat():\n",
    "        print('The person is eating')\n",
    "    def sleep():\n",
    "        print('The person is sleeping')\n",
    "p1=person() #object\n",
    "print(p1)\n"
   ]
  },
  {
   "cell_type": "code",
   "execution_count": 8,
   "metadata": {},
   "outputs": [
    {
     "name": "stdout",
     "output_type": "stream",
     "text": [
      "Ram\n"
     ]
    }
   ],
   "source": [
    "print(p1.name)"
   ]
  },
  {
   "cell_type": "code",
   "execution_count": 16,
   "metadata": {},
   "outputs": [],
   "source": [
    "class person:\n",
    "    def __init__(self,name,age,address):\n",
    "        print(name,age,address)\n",
    "\n",
    "    def walk(self):\n",
    "          print('Person is walking')\n"
   ]
  },
  {
   "cell_type": "code",
   "execution_count": 17,
   "metadata": {},
   "outputs": [
    {
     "name": "stdout",
     "output_type": "stream",
     "text": [
      "Ram 22 KTM\n"
     ]
    }
   ],
   "source": [
    "p1=person('Ram',22,'KTM')"
   ]
  },
  {
   "cell_type": "code",
   "execution_count": 20,
   "metadata": {},
   "outputs": [],
   "source": [
    "class person:\n",
    "    def __init__(self,name,age,address):\n",
    "        self.name=name\n",
    "        self.age=age\n",
    "        self.address=address\n",
    "\n",
    "    def walk(self):\n",
    "          print('Person is walking')\n",
    "        \n",
    "        "
   ]
  },
  {
   "cell_type": "code",
   "execution_count": 22,
   "metadata": {},
   "outputs": [],
   "source": [
    "p2=person('Sita',22,'KTM')"
   ]
  },
  {
   "cell_type": "code",
   "execution_count": 23,
   "metadata": {},
   "outputs": [
    {
     "data": {
      "text/plain": [
       "'Sita'"
      ]
     },
     "execution_count": 23,
     "metadata": {},
     "output_type": "execute_result"
    }
   ],
   "source": [
    "p2.name"
   ]
  },
  {
   "cell_type": "code",
   "execution_count": 24,
   "metadata": {},
   "outputs": [
    {
     "data": {
      "text/plain": [
       "'KTM'"
      ]
     },
     "execution_count": 24,
     "metadata": {},
     "output_type": "execute_result"
    }
   ],
   "source": [
    "p2.address"
   ]
  },
  {
   "cell_type": "code",
   "execution_count": 25,
   "metadata": {},
   "outputs": [
    {
     "data": {
      "text/plain": [
       "22"
      ]
     },
     "execution_count": 25,
     "metadata": {},
     "output_type": "execute_result"
    }
   ],
   "source": [
    "p2.age"
   ]
  },
  {
   "cell_type": "code",
   "execution_count": 46,
   "metadata": {},
   "outputs": [],
   "source": [
    "class student():\n",
    "    def __init__(self,name,age,address,college,faculty,roll_no):\n",
    "        self.name=name\n",
    "        self.age=age\n",
    "        self.address=address\n",
    "        self.college=college\n",
    "        self.faculty=faculty\n",
    "        self.roll_no=roll_no\n",
    "          \n",
    "    def learn(self):\n",
    "        print('Student is learning')"
   ]
  },
  {
   "cell_type": "code",
   "execution_count": 31,
   "metadata": {},
   "outputs": [],
   "source": [
    "p3=student('Prason',19,'KTM','St Xaviers','Science',21)"
   ]
  },
  {
   "cell_type": "code",
   "execution_count": 32,
   "metadata": {},
   "outputs": [
    {
     "data": {
      "text/plain": [
       "'Prason'"
      ]
     },
     "execution_count": 32,
     "metadata": {},
     "output_type": "execute_result"
    }
   ],
   "source": [
    "p3.name\n"
   ]
  },
  {
   "cell_type": "code",
   "execution_count": 48,
   "metadata": {},
   "outputs": [
    {
     "data": {
      "text/plain": [
       "'Science'"
      ]
     },
     "execution_count": 48,
     "metadata": {},
     "output_type": "execute_result"
    }
   ],
   "source": [
    "p3.faculty"
   ]
  },
  {
   "cell_type": "code",
   "execution_count": 57,
   "metadata": {},
   "outputs": [],
   "source": [
    "class Student:\n",
    "    def __init__(self, name, age, address, college, faculty, roll_no):\n",
    "        self.name = name\n",
    "        self.age = age\n",
    "        self.address = address\n",
    "        self.college = college\n",
    "        self.faculty = faculty\n",
    "        self.roll_no = roll_no\n",
    "        self.subjects = []  # Added to initialize subjects list\n",
    "\n",
    "    def learn(self):\n",
    "        print('Student is learning')\n",
    "\n",
    "    def add_subjects(self, subject_name):  # Fixed 'slef' to 'self'\n",
    "        self.subjects.append(subject_name)\n"
   ]
  },
  {
   "cell_type": "code",
   "execution_count": 65,
   "metadata": {},
   "outputs": [
    {
     "name": "stdout",
     "output_type": "stream",
     "text": [
      "Ram\n",
      "23\n",
      "KTM\n",
      "NCIT\n",
      "science\n",
      "21\n",
      "Student is learning\n",
      "['Physics']\n"
     ]
    }
   ],
   "source": [
    "class Student:\n",
    "    def __init__(self, name, age, address, college, faculty, roll_no):\n",
    "        self.name = name\n",
    "        self.age = age\n",
    "        self.address = address\n",
    "        self.college = college\n",
    "        self.faculty = faculty\n",
    "        self.roll_no = roll_no\n",
    "        self.subjects = []\n",
    "\n",
    "    def learn(self):\n",
    "        print('Student is learning')\n",
    "\n",
    "    def add_subjects(self, subject_name):\n",
    "        if subject_name not in self.subjects:\n",
    "            self.subjects.append(subject_name)\n",
    "\n",
    "# Your instantiation\n",
    "s1 = Student(name='Ram', age=23, address='KTM', college='NCIT', faculty='science', roll_no=21)\n",
    "\n",
    "# You can now use s1\n",
    "print(s1.name)      \n",
    "print(s1.age)       \n",
    "print(s1.address)   \n",
    "print(s1.college)   \n",
    "print(s1.faculty)   \n",
    "print(s1.roll_no)   \n",
    "s1.learn()          \n",
    "s1.add_subjects(\"Physics\")\n",
    "print(s1.subjects)  "
   ]
  },
  {
   "cell_type": "code",
   "execution_count": 67,
   "metadata": {},
   "outputs": [],
   "source": [
    "s1.add_subjects('Django')"
   ]
  },
  {
   "cell_type": "code",
   "execution_count": 68,
   "metadata": {},
   "outputs": [],
   "source": [
    "s1.add_subjects('Django')"
   ]
  },
  {
   "cell_type": "code",
   "execution_count": 69,
   "metadata": {},
   "outputs": [
    {
     "data": {
      "text/plain": [
       "['Physics', 'Django']"
      ]
     },
     "execution_count": 69,
     "metadata": {},
     "output_type": "execute_result"
    }
   ],
   "source": [
    "s1.subjects"
   ]
  },
  {
   "cell_type": "code",
   "execution_count": 85,
   "metadata": {},
   "outputs": [],
   "source": [
    "#rectangle(l,b)\n",
    "#area=l*b\n",
    "#perimeter=2*(l+b)\n",
    "\n",
    "class Rectangle:\n",
    "    def __init__(self,length,breadth):\n",
    "        self.length=length\n",
    "        self.breadth=breadth\n",
    "        \n",
    "    def area(self):\n",
    "        return self.length*self.breadth\n",
    "\n",
    "    def perimeter(self):\n",
    "        return 2*(self.length+self.breadth)\n",
    "    "
   ]
  },
  {
   "cell_type": "code",
   "execution_count": 86,
   "metadata": {},
   "outputs": [],
   "source": [
    "r1=Rectangle(2,3)"
   ]
  },
  {
   "cell_type": "code",
   "execution_count": 87,
   "metadata": {},
   "outputs": [
    {
     "name": "stdout",
     "output_type": "stream",
     "text": [
      "6\n"
     ]
    }
   ],
   "source": [
    "print(r1.area())"
   ]
  },
  {
   "cell_type": "code",
   "execution_count": 89,
   "metadata": {},
   "outputs": [
    {
     "name": "stdout",
     "output_type": "stream",
     "text": [
      "10\n"
     ]
    }
   ],
   "source": [
    "print(r1.perimeter())"
   ]
  },
  {
   "cell_type": "code",
   "execution_count": 94,
   "metadata": {},
   "outputs": [
    {
     "name": "stdout",
     "output_type": "stream",
     "text": [
      "<__main__.person object at 0x105de1a90>\n",
      "Ram\n",
      "23\n",
      "KTM\n",
      "NCIT\n",
      "science\n",
      "21\n"
     ]
    }
   ],
   "source": [
    "class person:\n",
    "    #attribute/property\n",
    "    name='Ram'\n",
    "    age=22\n",
    "    gender='male'\n",
    "    height=5.5\n",
    "    weight=60\n",
    "\n",
    "    #characteristicsaction/bheaviour/method\n",
    "    def walk(self):\n",
    "       print(f'{self.name}is walking')\n",
    "    def eat(self):\n",
    "        print(f'{self.name}is eating')\n",
    "    def sleep(self):\n",
    "        print(f'{self.name}is sleeping')\n",
    "    def info(self):\n",
    "        print(f'Name:{self.name}')\n",
    "        print(f'Age:{self.age}')\n",
    "        print(f'Address:{self.address}')\n",
    "p1=person() \n",
    "print(p1)\n",
    "\n",
    "class Student:\n",
    "    def __init__(self, name, age, address, college, faculty, roll_no):\n",
    "        self.name = name\n",
    "        self.age = age\n",
    "        self.address = address\n",
    "        self.college = college\n",
    "        self.faculty = faculty\n",
    "        self.roll_no = roll_no\n",
    "        self.subjects = []\n",
    "\n",
    "    def learn(self):\n",
    "        print('Student is learning')\n",
    "\n",
    "    def add_subjects(self, subject_name):\n",
    "        if subject_name not in self.subjects:\n",
    "            self.subjects.append(subject_name)\n",
    "\n",
    "    def walk(self):\n",
    "       print(f'{self.name}is walking')\n",
    "    def eat(self):\n",
    "        print(f'{self.name}is eating')\n",
    "    def sleep(self):\n",
    "        print(f'{self.name}is sleeping')\n",
    "\n",
    "    def info(self):\n",
    "        print(f'Name:{self.name}')\n",
    "        print(f'Age:{self.age}')\n",
    "        print(f'Address:{self.address}')\n",
    "        print(f'Faculty:{self.faculty}')\n",
    "        print(f'Rollno:{self.roll_no}')\n",
    "        print(f'Subject:{self.subject}')\n",
    "        print(f'College:{self.college}')\n",
    "        \n",
    "s1 = Student(name='Ram', age=23, address='KTM', college='NCIT', faculty='science', roll_no=21)\n",
    "\n",
    "print(s1.name)      \n",
    "print(s1.age)       \n",
    "print(s1.address)   \n",
    "print(s1.college)   \n",
    "print(s1.faculty)   \n",
    "print(s1.roll_no)   "
   ]
  },
  {
   "cell_type": "code",
   "execution_count": 98,
   "metadata": {},
   "outputs": [],
   "source": [
    "class Parent:\n",
    "    def hello(self):\n",
    "        print('Hello world')\n",
    "class Child(Parent):#SIngle Inheritence\n",
    "    pass\n",
    "    "
   ]
  },
  {
   "cell_type": "code",
   "execution_count": 96,
   "metadata": {},
   "outputs": [],
   "source": [
    "c=Child()\n"
   ]
  },
  {
   "cell_type": "code",
   "execution_count": 97,
   "metadata": {},
   "outputs": [
    {
     "name": "stdout",
     "output_type": "stream",
     "text": [
      "Hello world\n"
     ]
    }
   ],
   "source": [
    "c.hello()\n"
   ]
  },
  {
   "cell_type": "code",
   "execution_count": 53,
   "metadata": {},
   "outputs": [
    {
     "name": "stdout",
     "output_type": "stream",
     "text": [
      "<__main__.person object at 0x11065f4d0>\n",
      "Ram\n",
      "23\n",
      "KTM\n",
      "NCIT\n",
      "science\n",
      "21\n"
     ]
    }
   ],
   "source": [
    "class person:\n",
    "    #attribute/property\n",
    "    name='Ram'\n",
    "    age=22\n",
    "    gender='male'\n",
    "    height=5.5\n",
    "    weight=60\n",
    "\n",
    "    #characteristicsaction/bheaviour/method\n",
    "    def walk(self):\n",
    "       print(f'{self.name}is walking')\n",
    "    def eat(self):\n",
    "        print(f'{self.name}is eating')\n",
    "    def sleep(self):\n",
    "        print(f'{self.name}is sleeping')\n",
    "    def info(self):\n",
    "        print(f'Name:{self.name}')\n",
    "        print(f'Age:{self.age}')\n",
    "        print(f'Address:{self.address}')\n",
    "p1=person() \n",
    "print(p1)\n",
    "\n",
    "class Student(person):\n",
    "    def __init__(self, name, age, address, college, faculty, roll_no):\n",
    "        self.name = name\n",
    "        self.age = age\n",
    "        self.address = address\n",
    "        self.college = college\n",
    "        self.faculty = faculty\n",
    "        self.roll_no = roll_no\n",
    "        self.subjects = []\n",
    "\n",
    "    def learn(self):\n",
    "        print('Student is learning')\n",
    "\n",
    "    def add_subjects(self, subject_name):\n",
    "        if subject_name not in self.subjects:\n",
    "            self.subjects.append(subject_name)\n",
    "\n",
    "    def walk(self):\n",
    "       print(f'{self.name}is walking')\n",
    "    def eat(self):\n",
    "        print(f'{self.name}is eating')\n",
    "    def sleep(self):\n",
    "        print(f'{self.name}is sleeping')\n",
    "\n",
    "s1 = Student(name='Ram', age=23, address='KTM', college='NCIT', faculty='science', roll_no=21)\n",
    "\n",
    "print(s1.name)      \n",
    "print(s1.age)       \n",
    "print(s1.address)   \n",
    "print(s1.college)   \n",
    "print(s1.faculty)   \n",
    "print(s1.roll_no)   "
   ]
  },
  {
   "cell_type": "code",
   "execution_count": 101,
   "metadata": {},
   "outputs": [
    {
     "name": "stdout",
     "output_type": "stream",
     "text": [
      "Name:Ram\n",
      "Age:23\n",
      "Address:KTM\n"
     ]
    }
   ],
   "source": [
    "s1 = Student(name='Ram', age=23, address='KTM', college='NCIT', faculty='science', roll_no=21)\n",
    "s1.info()"
   ]
  },
  {
   "cell_type": "code",
   "execution_count": 54,
   "metadata": {},
   "outputs": [
    {
     "ename": "SyntaxError",
     "evalue": "invalid syntax (1674401577.py, line 40)",
     "output_type": "error",
     "traceback": [
      "  \u001b[36mCell\u001b[39m\u001b[36m \u001b[39m\u001b[32mIn[54]\u001b[39m\u001b[32m, line 40\u001b[39m\n\u001b[31m    \u001b[39m\u001b[31mdef.length_getter()ef add_subjects(self, subject_name):\u001b[39m\n       ^\n\u001b[31mSyntaxError\u001b[39m\u001b[31m:\u001b[39m invalid syntax\n"
     ]
    }
   ],
   "source": [
    "class Person:\n",
    "    # Constructor to initialize attributes\n",
    "    def __init__(self, name='Ram', age=22, address='Unknown'):\n",
    "        self.name = name\n",
    "        self.age = age\n",
    "        self.gender = 'male'\n",
    "        self.height = 5.5\n",
    "        self.weight = 60\n",
    "        self.address = address\n",
    "\n",
    "    # Methods\n",
    "    def walk(self):\n",
    "        print(f'{self.name} is walking')\n",
    "    \n",
    "    def eat(self):\n",
    "        print(f'{self.name} is eating')\n",
    "    \n",
    "    def sleep(self):\n",
    "        print(f'{self.name} is sleeping')\n",
    "    \n",
    "    def info(self):\n",
    "        print(f'Name: {self.name}')\n",
    "        print(f'Age: {self.age}')\n",
    "        print(f'Address: {self.address}')\n",
    "\n",
    "p1 = Person()\n",
    "print(p1) \n",
    "\n",
    "class Student(Person):\n",
    "    def __init__(self, name, age, address, college, faculty, roll_no):\n",
    "        super().__init__(name, age, address)  \n",
    "        self.college = college\n",
    "        self.faculty = faculty\n",
    "        self.roll_no = roll_no\n",
    "        self.subjects = []\n",
    "\n",
    "    def learn(self):\n",
    "        print('Student is learning')\n",
    "\n",
    "    def.length_getter()ef add_subjects(self, subject_name):\n",
    "        if subject_name not in self.subjects:\n",
    "            self.subjects.append(subject_name)\n",
    "            \n",
    "    def walk(self):\n",
    "        print(f'{self.name} is walking')\n",
    "    \n",
    "    def eat(self):\n",
    "        print(f'{self.name} is eating')\n",
    "    \n",
    "    def sleep(self):\n",
    "        print(f'{self.name} is sleeping')\n",
    "\n",
    "s1 = Student(name='Ram', age=23, address='KTM', college='NCIT', faculty='science', roll_no=21)\n",
    "\n",
    "print(s1.name)      # Ram\n",
    "print(s1.age)       # 23\n",
    "print(s1.address)   # KTM\n",
    "print(s1.college)   # NCIT\n",
    "print(s1.faculty)   # science\n",
    "print(s1.roll_no)   # 21"
   ]
  },
  {
   "cell_type": "code",
   "execution_count": 11,
   "metadata": {},
   "outputs": [],
   "source": [
    "#Circle\n",
    "#area=pi*r**2\n",
    "#perimeter=2*pi*r\n",
    "\n",
    "class Circle():\n",
    "    pi = 3.14\n",
    "\n",
    "    def __init__(self, radius):\n",
    "        self.radius = radius\n",
    "\n",
    "    def area(self):\n",
    "        return self.radius * self.radius * Circle.pi\n",
    "   \n",
    "    def perimeter(self):\n",
    "        return self.radius*2*Circle.pi\n",
    "\n",
    "    def setRadius(self, radius):\n",
    "        self.radius = radius\n",
    "\n",
    "    def getRadius(self):\n",
    "        return self.radius"
   ]
  },
  {
   "cell_type": "code",
   "execution_count": 12,
   "metadata": {},
   "outputs": [],
   "source": [
    "c=Circle(5)"
   ]
  },
  {
   "cell_type": "code",
   "execution_count": 13,
   "metadata": {},
   "outputs": [
    {
     "name": "stdout",
     "output_type": "stream",
     "text": [
      "78.5\n",
      "31.400000000000002\n"
     ]
    }
   ],
   "source": [
    "print(c.area())\n",
    "print(c.perimeter())"
   ]
  },
  {
   "cell_type": "code",
   "execution_count": 1,
   "metadata": {},
   "outputs": [
    {
     "name": "stdout",
     "output_type": "stream",
     "text": [
      "21\n"
     ]
    }
   ],
   "source": [
    "numbers=[1,2,3,4,5,6]\n",
    "sum=0\n",
    "for number in numbers:\n",
    "    sum+=number\n",
    "print(sum)"
   ]
  },
  {
   "cell_type": "code",
   "execution_count": 5,
   "metadata": {},
   "outputs": [
    {
     "name": "stdout",
     "output_type": "stream",
     "text": [
      "ram likes to eat momo\n",
      "shyam likes to eat momo\n",
      "gita likes to eat momo\n",
      "sita likes to eat momo\n",
      "ram likes to eat chowmein\n",
      "shyam likes to eat chowmein\n",
      "gita likes to eat chowmein\n",
      "sita likes to eat chowmein\n",
      "ram likes to eat thukpa\n",
      "shyam likes to eat thukpa\n",
      "gita likes to eat thukpa\n",
      "sita likes to eat thukpa\n"
     ]
    }
   ],
   "source": [
    "names = ['ram', 'shyam', 'gita', 'sita']\n",
    "foods = ['momo', 'chowmein', 'thukpa']\n",
    "for food in foods:\n",
    "    for name in names:\n",
    "        print(f'{name} likes to eat {food}')\n",
    "    "
   ]
  },
  {
   "cell_type": "code",
   "execution_count": 8,
   "metadata": {},
   "outputs": [
    {
     "name": "stdout",
     "output_type": "stream",
     "text": [
      "Sam Jhon\n"
     ]
    }
   ],
   "source": [
    "class Employee:\n",
    "\tdef __init__(self, first, last, salary):\n",
    "\t\tself.first = first\n",
    "\t\tself.last = last\n",
    "\t\tself.salary = salary\n",
    "\t\tself.email = first + \".\" + last + \"@company.com\"\n",
    "\n",
    "\tdef full_name(self):\n",
    "\t\treturn (\"{} {}\".format(self.first, self.last))\n",
    "\n",
    "emp1 = Employee(\"Amarjith\", \"Karippath\", 50000)\n",
    "emp2 = Employee(\"Sam\", \"Jhon\", 40000)\n",
    "\n",
    "\n",
    "print (Employee.full_name(emp2))"
   ]
  },
  {
   "cell_type": "code",
   "execution_count": 3,
   "metadata": {},
   "outputs": [
    {
     "name": "stdout",
     "output_type": "stream",
     "text": [
      "{'shyam', 'hari', 'gita', 'ram'}\n"
     ]
    }
   ],
   "source": [
    "tea={'ram','hari','sita'}\n",
    "coffee={'shyam','gita','sita'}\n",
    "tea_or_coffee_only=tea.symmetric_difference(coffee)\n",
    "print(tea_or_coffee_only)"
   ]
  },
  {
   "cell_type": "code",
   "execution_count": 5,
   "metadata": {},
   "outputs": [],
   "source": [
    "class Father:\n",
    "    pass\n",
    "class Mother:\n",
    "    pass\n",
    "class Child(Father,Mother):\n",
    "    pass\n",
    "\n"
   ]
  },
  {
   "cell_type": "code",
   "execution_count": 9,
   "metadata": {},
   "outputs": [
    {
     "name": "stdout",
     "output_type": "stream",
     "text": [
      "Inside person class\n",
      "Name: Jessa Age: 28\n",
      "Inside company class\n",
      "Name: Google location: Atlanta\n",
      "Inside employee class\n",
      "Salary: 12000 Skill: Machine Learning\n"
     ]
    }
   ],
   "source": [
    "#Parent class 1\n",
    "class Person:\n",
    "    def person_info(self,name,age):\n",
    "        print('Inside person class')\n",
    "        print('Name:',name,'Age:',age)\n",
    "#Parent class 2\n",
    "class Company:\n",
    "    def company_info(self,company_name,location):\n",
    "        print('Inside company class')\n",
    "        print('Name:',company_name,'location:',location)\n",
    "#Child class\n",
    "class Employee(Person,Company): #multiple inheritance\n",
    "    def employee_info(self,salary,skill):\n",
    "        print('Inside employee class')\n",
    "        print('Salary:',salary,'Skill:',skill)\n",
    "\n",
    "#Create object of employee\n",
    "emp=Employee()\n",
    "#acess data\n",
    "emp.person_info('Jessa',28)\n",
    "emp.company_info('Google','Atlanta')\n",
    "emp.employee_info(12000,'Machine Learning')"
   ]
  },
  {
   "cell_type": "code",
   "execution_count": 10,
   "metadata": {},
   "outputs": [],
   "source": [
    "#Multi-Level inheritance\n",
    "class Person:\n",
    "    pass\n",
    "class Student(Person):\n",
    "    pass\n",
    "class Bachelor_student(Student):\n",
    "    pass\n",
    "    "
   ]
  },
  {
   "cell_type": "code",
   "execution_count": 16,
   "metadata": {},
   "outputs": [
    {
     "name": "stdout",
     "output_type": "stream",
     "text": [
      "<__main__.Person object at 0x107f11400>\n",
      "Name: Ram\n",
      "Age: 23\n",
      "Address: KTM\n",
      "University: TU\n"
     ]
    }
   ],
   "source": [
    "class Person:\n",
    "    # Constructor to initialize attributes\n",
    "    def __init__(self, name='Ram', age=22, address='Unknown'):\n",
    "        self.name = name\n",
    "        self.age = age\n",
    "        self.gender = 'male'\n",
    "        self.height = 5.5\n",
    "        self.weight = 60\n",
    "        self.address = address\n",
    "\n",
    "    # Methods\n",
    "    def walk(self):\n",
    "        print(f'{self.name} is walking')\n",
    "\n",
    "    def eat(self):\n",
    "        print(f'{self.name} is eating')\n",
    "\n",
    "    def sleep(self):\n",
    "        print(f'{self.name} is sleeping')\n",
    "\n",
    "    def info(self):\n",
    "        print(f'Name: {self.name}')\n",
    "        print(f'Age: {self.age}')\n",
    "        print(f'Address: {self.address}')\n",
    "\n",
    "# Create a Person object\n",
    "p1 = Person()\n",
    "print(p1)  # This will print the object’s memory address unless __str__ is defined\n",
    "\n",
    "class Student(Person):\n",
    "    def __init__(self, name, age, address, college, faculty, roll_no):\n",
    "        super().__init__(name, age, address)  # Call Person's __init__\n",
    "        self.college = college\n",
    "        self.faculty = faculty\n",
    "        self.roll_no = roll_no\n",
    "        self.subjects = []\n",
    "\n",
    "class Bachelor_student(Student):\n",
    "    def __init__(self, name, age, address, college, faculty, roll_no, university):\n",
    "        # Call Student's __init__ method\n",
    "        super().__init__(name, age, address, college, faculty, roll_no)\n",
    "        self.university = university\n",
    "\n",
    "    # Override Student's info method\n",
    "    def info(self):\n",
    "        super().info()  # Call Student's (and thus Person's) info method\n",
    "        print(f'University: {self.university}')\n",
    "\n",
    "    def learn(self):\n",
    "        print('Student is learning')\n",
    "\n",
    "    def add_subjects(self, subject_name):\n",
    "        if subject_name not in self.subjects:\n",
    "            self.subjects.append(subject_name)\n",
    "\n",
    "# Create a Bachelor_student object (not Student, since university is included)\n",
    "s1 = Bachelor_student(name='Ram', age=23, address='KTM', college='NCIT', \n",
    "                     faculty='science', roll_no=21, university='TU')\n",
    "s1.info()  # Call the overridden info method"
   ]
  },
  {
   "cell_type": "code",
   "execution_count": 19,
   "metadata": {},
   "outputs": [],
   "source": [
    "#Hiearchial inheritance\n",
    "class Person:\n",
    "    pass\n",
    "class Student(Person):\n",
    "    pass\n",
    "class Teacher(Person):\n",
    "    pass\n",
    "class Employee(Person):\n",
    "    pass\n",
    "class Principal(Person):\n",
    "    pass\n",
    "    \n"
   ]
  },
  {
   "cell_type": "code",
   "execution_count": 29,
   "metadata": {},
   "outputs": [
    {
     "name": "stdout",
     "output_type": "stream",
     "text": [
      "This is vehicle\n",
      "Car name is BMW\n",
      "This is vehicle\n"
     ]
    },
    {
     "ename": "TypeError",
     "evalue": "Truck.truck_info() takes 1 positional argument but 2 were given",
     "output_type": "error",
     "traceback": [
      "\u001b[31m---------------------------------------------------------------------------\u001b[39m",
      "\u001b[31mTypeError\u001b[39m                                 Traceback (most recent call last)",
      "\u001b[36mCell\u001b[39m\u001b[36m \u001b[39m\u001b[32mIn[29]\u001b[39m\u001b[32m, line 16\u001b[39m\n\u001b[32m     14\u001b[39m obj2=Truck()\n\u001b[32m     15\u001b[39m obj2.info()\n\u001b[32m---> \u001b[39m\u001b[32m16\u001b[39m \u001b[43mobj2\u001b[49m\u001b[43m.\u001b[49m\u001b[43mtruck_info\u001b[49m\u001b[43m(\u001b[49m\u001b[33;43m'\u001b[39;49m\u001b[33;43mTata\u001b[39;49m\u001b[33;43m'\u001b[39;49m\u001b[43m)\u001b[49m\n",
      "\u001b[31mTypeError\u001b[39m: Truck.truck_info() takes 1 positional argument but 2 were given"
     ]
    }
   ],
   "source": [
    "class Vehicle:\n",
    "    def info(self):\n",
    "        print('This is vehicle')\n",
    "class Car(Vehicle):\n",
    "    def car_info(self,name):\n",
    "        print('Car name is',name)\n",
    "class Truck(Vehicle):\n",
    "    def truck_info(self):\n",
    "        print('Truck name is',name)\n",
    "obj1=Car()\n",
    "obj1.info()\n",
    "obj1.car_info('BMW')\n",
    "\n",
    "obj2=Truck()\n",
    "obj2.info()\n",
    "obj2.truck_info('Tata')\n"
   ]
  },
  {
   "cell_type": "code",
   "execution_count": 43,
   "metadata": {},
   "outputs": [
    {
     "name": "stdout",
     "output_type": "stream",
     "text": [
      "Inside Vehicle Class\n",
      "Inside sports car class\n",
      "Inside truck class\n"
     ]
    }
   ],
   "source": [
    "class Vehicle:\n",
    "    def vehicle_info(self):\n",
    "        print('Inside Vehicle Class')\n",
    "\n",
    "class Car(Vehicle):\n",
    "    def car_info(self):\n",
    "        print('Inside Car class')\n",
    "\n",
    "class Truck(Vehicle):\n",
    "    def truck_info(self):\n",
    "        print('Inside truck class')\n",
    "\n",
    "# SportsCar inherits from both Car and Truck (hybrid inheritance)\n",
    "class SportsCar(Car, Truck):\n",
    "    def sports_car_info(self):\n",
    "        print('Inside sports car class')\n",
    "\n",
    "# Create object\n",
    "s_car = SportsCar()\n",
    "s_car.vehicle_info()    # Output: Inside Vehicle Class\n",
    "s_car.sports_car_info() # Output: Inside sports car class\n",
    "s_car.truck_info()      # Output: Inside truck class"
   ]
  },
  {
   "cell_type": "code",
   "execution_count": 35,
   "metadata": {},
   "outputs": [],
   "source": [
    "class Hello():\n",
    "    def hi(self):\n",
    "        print(self)"
   ]
  },
  {
   "cell_type": "code",
   "execution_count": 36,
   "metadata": {},
   "outputs": [],
   "source": [
    "h1=Hello()"
   ]
  },
  {
   "cell_type": "code",
   "execution_count": 37,
   "metadata": {},
   "outputs": [
    {
     "name": "stdout",
     "output_type": "stream",
     "text": [
      "<__main__.Hello object at 0x107f11e80>\n"
     ]
    }
   ],
   "source": [
    "print(h1)"
   ]
  },
  {
   "cell_type": "code",
   "execution_count": 38,
   "metadata": {},
   "outputs": [
    {
     "name": "stdout",
     "output_type": "stream",
     "text": [
      "<__main__.Hello object at 0x107f11e80>\n"
     ]
    }
   ],
   "source": [
    "h1.hi() #Hello.hi(h1)"
   ]
  },
  {
   "cell_type": "code",
   "execution_count": 39,
   "metadata": {},
   "outputs": [
    {
     "name": "stdout",
     "output_type": "stream",
     "text": [
      "<__main__.Hello object at 0x107f11e80>\n"
     ]
    }
   ],
   "source": [
    "Hello.hi(h1)"
   ]
  },
  {
   "cell_type": "code",
   "execution_count": 52,
   "metadata": {},
   "outputs": [],
   "source": [
    "class Rectangle:\n",
    "    def __init__(self, length, width): #public attribute\n",
    "        self.length = length\n",
    "        self.width = width\n",
    "    #public methods\n",
    "    def area(self):\n",
    "        return self.length * self.width\n",
    "    \n",
    "    def perimeter(self):\n",
    "        return 2 * (self.length + self.width)\n",
    "\n"
   ]
  },
  {
   "cell_type": "code",
   "execution_count": 53,
   "metadata": {},
   "outputs": [],
   "source": [
    "r1=Rectangle(5,2)"
   ]
  },
  {
   "cell_type": "code",
   "execution_count": 54,
   "metadata": {},
   "outputs": [
    {
     "data": {
      "text/plain": [
       "10"
      ]
     },
     "execution_count": 54,
     "metadata": {},
     "output_type": "execute_result"
    }
   ],
   "source": [
    "r1.area()"
   ]
  },
  {
   "cell_type": "code",
   "execution_count": 55,
   "metadata": {},
   "outputs": [
    {
     "data": {
      "text/plain": [
       "14"
      ]
     },
     "execution_count": 55,
     "metadata": {},
     "output_type": "execute_result"
    }
   ],
   "source": [
    "r1.perimeter()"
   ]
  },
  {
   "cell_type": "code",
   "execution_count": 56,
   "metadata": {},
   "outputs": [
    {
     "data": {
      "text/plain": [
       "5"
      ]
     },
     "execution_count": 56,
     "metadata": {},
     "output_type": "execute_result"
    }
   ],
   "source": [
    "r1.length"
   ]
  },
  {
   "cell_type": "code",
   "execution_count": 57,
   "metadata": {},
   "outputs": [
    {
     "data": {
      "text/plain": [
       "2"
      ]
     },
     "execution_count": 57,
     "metadata": {},
     "output_type": "execute_result"
    }
   ],
   "source": [
    "r1.width"
   ]
  },
  {
   "cell_type": "code",
   "execution_count": 59,
   "metadata": {},
   "outputs": [],
   "source": [
    "class Rectangle:\n",
    "    def __init__(self, length, width):\n",
    "        self.__length = length  # Private attribute\n",
    "        self.__width = width    # Private attribute\n",
    "    \n",
    "    def area(self):\n",
    "        return self.__length * self.__width\n",
    "    \n",
    "    def perimeter(self):\n",
    "        return 2 * (self.__length + self.__width)\n",
    "\n",
    "\n"
   ]
  },
  {
   "cell_type": "code",
   "execution_count": 64,
   "metadata": {},
   "outputs": [
    {
     "data": {
      "text/plain": [
       "10"
      ]
     },
     "execution_count": 64,
     "metadata": {},
     "output_type": "execute_result"
    }
   ],
   "source": [
    "r1=Rectangle(5,2)\n",
    "r1.area()\n"
   ]
  },
  {
   "cell_type": "code",
   "execution_count": 61,
   "metadata": {},
   "outputs": [
    {
     "ename": "AttributeError",
     "evalue": "'Rectangle' object has no attribute 'length'",
     "output_type": "error",
     "traceback": [
      "\u001b[31m---------------------------------------------------------------------------\u001b[39m",
      "\u001b[31mAttributeError\u001b[39m                            Traceback (most recent call last)",
      "\u001b[36mCell\u001b[39m\u001b[36m \u001b[39m\u001b[32mIn[61]\u001b[39m\u001b[32m, line 1\u001b[39m\n\u001b[32m----> \u001b[39m\u001b[32m1\u001b[39m \u001b[43mr1\u001b[49m\u001b[43m.\u001b[49m\u001b[43mlength\u001b[49m\n",
      "\u001b[31mAttributeError\u001b[39m: 'Rectangle' object has no attribute 'length'"
     ]
    }
   ],
   "source": [
    "r1.length# priivate vayo!!"
   ]
  },
  {
   "cell_type": "code",
   "execution_count": 65,
   "metadata": {},
   "outputs": [
    {
     "data": {
      "text/plain": [
       "14"
      ]
     },
     "execution_count": 65,
     "metadata": {},
     "output_type": "execute_result"
    }
   ],
   "source": [
    "r1.perimeter()"
   ]
  },
  {
   "cell_type": "code",
   "execution_count": 125,
   "metadata": {},
   "outputs": [],
   "source": [
    "class Rectangle:\n",
    "    def __init__(self, length, width):\n",
    "        self.__length = length  # Private attribute\n",
    "        self.__width = width    # Private attribute\n",
    "        \n",
    "    def area(self):\n",
    "        return self.__length * self.__width\n",
    "        \n",
    "    def perimeter(self):\n",
    "        return 2 * (self.__length + self.__width)\n",
    "    \n",
    "    def length_getter(self):\n",
    "        return self.__length\n",
    "    \n",
    "    def width_getter(self):\n",
    "        return self.__width\n",
    "    def length_setter(self,value):\n",
    "        self.__length=value"
   ]
  },
  {
   "cell_type": "code",
   "execution_count": 126,
   "metadata": {},
   "outputs": [],
   "source": [
    "r1=Rectangle(5,2)"
   ]
  },
  {
   "cell_type": "code",
   "execution_count": 127,
   "metadata": {},
   "outputs": [
    {
     "data": {
      "text/plain": [
       "5"
      ]
     },
     "execution_count": 127,
     "metadata": {},
     "output_type": "execute_result"
    }
   ],
   "source": [
    "r1.length_getter()"
   ]
  },
  {
   "cell_type": "code",
   "execution_count": 128,
   "metadata": {},
   "outputs": [],
   "source": [
    "r1=Rectangle(5,2)"
   ]
  },
  {
   "cell_type": "code",
   "execution_count": 129,
   "metadata": {},
   "outputs": [],
   "source": [
    "r1.length_setter(10)"
   ]
  },
  {
   "cell_type": "code",
   "execution_count": 130,
   "metadata": {},
   "outputs": [
    {
     "data": {
      "text/plain": [
       "10"
      ]
     },
     "execution_count": 130,
     "metadata": {},
     "output_type": "execute_result"
    }
   ],
   "source": [
    "r1.length_getter()\n"
   ]
  },
  {
   "cell_type": "code",
   "execution_count": 138,
   "metadata": {},
   "outputs": [],
   "source": [
    "class Rectangle:\n",
    "    def __init__(self, length, width):\n",
    "        self.__length = length  # Private attribute\n",
    "        self.__width = width    # Private attribute\n",
    "        \n",
    "    def area(self):\n",
    "        return self.__length * self.__width\n",
    "        \n",
    "    def perimeter(self):\n",
    "        return 2 * (self.__length + self.__width)\n",
    "    \n",
    "    def length_getter(self):\n",
    "        return self.__length\n",
    "    \n",
    "    def width_getter(self):\n",
    "        return self.__width\n",
    "    \n",
    "    def length_setter(self, value):\n",
    "        if not isinstance(value, (float, int)):\n",
    "            raise ValueError('Invalid Error')\n",
    "            self.__length = value\n",
    "            \n",
    "    def width_setter(self, value):\n",
    "        if not isinstance(value, (float, int)):\n",
    "            raise ValueError('Invalid Error')\n",
    "            self.__width = value"
   ]
  },
  {
   "cell_type": "code",
   "execution_count": 139,
   "metadata": {},
   "outputs": [],
   "source": [
    "r1=Rectangle(4,5)"
   ]
  },
  {
   "cell_type": "code",
   "execution_count": 140,
   "metadata": {},
   "outputs": [
    {
     "data": {
      "text/plain": [
       "4"
      ]
     },
     "execution_count": 140,
     "metadata": {},
     "output_type": "execute_result"
    }
   ],
   "source": [
    "r1.length_getter()"
   ]
  },
  {
   "cell_type": "code",
   "execution_count": 141,
   "metadata": {},
   "outputs": [
    {
     "ename": "ValueError",
     "evalue": "Invalid Error",
     "output_type": "error",
     "traceback": [
      "\u001b[31m---------------------------------------------------------------------------\u001b[39m",
      "\u001b[31mValueError\u001b[39m                                Traceback (most recent call last)",
      "\u001b[36mCell\u001b[39m\u001b[36m \u001b[39m\u001b[32mIn[141]\u001b[39m\u001b[32m, line 1\u001b[39m\n\u001b[32m----> \u001b[39m\u001b[32m1\u001b[39m \u001b[43mr1\u001b[49m\u001b[43m.\u001b[49m\u001b[43mlength_setter\u001b[49m\u001b[43m(\u001b[49m\u001b[33;43m'\u001b[39;49m\u001b[33;43mram\u001b[39;49m\u001b[33;43m'\u001b[39;49m\u001b[43m)\u001b[49m\n",
      "\u001b[36mCell\u001b[39m\u001b[36m \u001b[39m\u001b[32mIn[138]\u001b[39m\u001b[32m, line 20\u001b[39m, in \u001b[36mRectangle.length_setter\u001b[39m\u001b[34m(self, value)\u001b[39m\n\u001b[32m     18\u001b[39m \u001b[38;5;28;01mdef\u001b[39;00m\u001b[38;5;250m \u001b[39m\u001b[34mlength_setter\u001b[39m(\u001b[38;5;28mself\u001b[39m, value):\n\u001b[32m     19\u001b[39m     \u001b[38;5;28;01mif\u001b[39;00m \u001b[38;5;129;01mnot\u001b[39;00m \u001b[38;5;28misinstance\u001b[39m(value, (\u001b[38;5;28mfloat\u001b[39m, \u001b[38;5;28mint\u001b[39m)):\n\u001b[32m---> \u001b[39m\u001b[32m20\u001b[39m         \u001b[38;5;28;01mraise\u001b[39;00m \u001b[38;5;167;01mValueError\u001b[39;00m(\u001b[33m'\u001b[39m\u001b[33mInvalid Error\u001b[39m\u001b[33m'\u001b[39m)\n\u001b[32m     21\u001b[39m         \u001b[38;5;28mself\u001b[39m.__length = value\n",
      "\u001b[31mValueError\u001b[39m: Invalid Error"
     ]
    }
   ],
   "source": [
    "r1.length_setter('ram')"
   ]
  },
  {
   "cell_type": "code",
   "execution_count": 143,
   "metadata": {},
   "outputs": [
    {
     "ename": "ValueError",
     "evalue": "Invalid Error",
     "output_type": "error",
     "traceback": [
      "\u001b[31m---------------------------------------------------------------------------\u001b[39m",
      "\u001b[31mValueError\u001b[39m                                Traceback (most recent call last)",
      "\u001b[36mCell\u001b[39m\u001b[36m \u001b[39m\u001b[32mIn[143]\u001b[39m\u001b[32m, line 1\u001b[39m\n\u001b[32m----> \u001b[39m\u001b[32m1\u001b[39m \u001b[43mr1\u001b[49m\u001b[43m.\u001b[49m\u001b[43mwidth_setter\u001b[49m\u001b[43m(\u001b[49m\u001b[33;43m'\u001b[39;49m\u001b[33;43mRam\u001b[39;49m\u001b[33;43m'\u001b[39;49m\u001b[43m)\u001b[49m\n",
      "\u001b[36mCell\u001b[39m\u001b[36m \u001b[39m\u001b[32mIn[138]\u001b[39m\u001b[32m, line 25\u001b[39m, in \u001b[36mRectangle.width_setter\u001b[39m\u001b[34m(self, value)\u001b[39m\n\u001b[32m     23\u001b[39m \u001b[38;5;28;01mdef\u001b[39;00m\u001b[38;5;250m \u001b[39m\u001b[34mwidth_setter\u001b[39m(\u001b[38;5;28mself\u001b[39m, value):\n\u001b[32m     24\u001b[39m     \u001b[38;5;28;01mif\u001b[39;00m \u001b[38;5;129;01mnot\u001b[39;00m \u001b[38;5;28misinstance\u001b[39m(value, (\u001b[38;5;28mfloat\u001b[39m, \u001b[38;5;28mint\u001b[39m)):\n\u001b[32m---> \u001b[39m\u001b[32m25\u001b[39m         \u001b[38;5;28;01mraise\u001b[39;00m \u001b[38;5;167;01mValueError\u001b[39;00m(\u001b[33m'\u001b[39m\u001b[33mInvalid Error\u001b[39m\u001b[33m'\u001b[39m)\n\u001b[32m     26\u001b[39m         \u001b[38;5;28mself\u001b[39m.__width = value\n",
      "\u001b[31mValueError\u001b[39m: Invalid Error"
     ]
    }
   ],
   "source": [
    "r1.width_setter('Ram')"
   ]
  },
  {
   "cell_type": "code",
   "execution_count": 5,
   "metadata": {},
   "outputs": [],
   "source": [
    "class Rectangle:\n",
    "    def __init__(self, length, width):\n",
    "        self.__length = length  # Private attribute\n",
    "        self.__width = width    # Private attribute\n",
    "        \n",
    "    def area(self):\n",
    "        return self.__length * self.__width\n",
    "        \n",
    "    def perimeter(self):\n",
    "        return 2 * (self.__length + self.__width)\n",
    "    \n",
    "    def length_getter(self):\n",
    "        return self.__length\n",
    "    \n",
    "    def width_getter(self):\n",
    "        return self.__width\n",
    "    \n",
    "    def length_setter(self, value):\n",
    "        if not isinstance(value, (float, int)):\n",
    "            raise ValueError('Invalid Error')\n",
    "            self.__length = value\n",
    "        if value<=0:\n",
    "            raise ValueError('Must be greater than zero')\n",
    "            self.length=value\n",
    "    def width_setter(self, value):\n",
    "        if not isinstance(value, (float, int)):\n",
    "            raise ValueError('Invalid Error')\n",
    "            self.__width = value"
   ]
  },
  {
   "cell_type": "code",
   "execution_count": 6,
   "metadata": {},
   "outputs": [
    {
     "ename": "NameError",
     "evalue": "name 'length_setter' is not defined",
     "output_type": "error",
     "traceback": [
      "\u001b[31m---------------------------------------------------------------------------\u001b[39m",
      "\u001b[31mNameError\u001b[39m                                 Traceback (most recent call last)",
      "\u001b[36mCell\u001b[39m\u001b[36m \u001b[39m\u001b[32mIn[6]\u001b[39m\u001b[32m, line 1\u001b[39m\n\u001b[32m----> \u001b[39m\u001b[32m1\u001b[39m \u001b[43mlength_setter\u001b[49m(-\u001b[32m1\u001b[39m)\n",
      "\u001b[31mNameError\u001b[39m: name 'length_setter' is not defined"
     ]
    }
   ],
   "source": [
    "length_setter(-1)"
   ]
  },
  {
   "cell_type": "code",
   "execution_count": 10,
   "metadata": {},
   "outputs": [],
   "source": [
    "class Rectangle:\n",
    "    def __init__(self, length, width):\n",
    "        self.__length = length  # Private attribute\n",
    "        self.__width = width    # Private attribute\n",
    "        \n",
    "    def area(self):\n",
    "        return self.__length * self.__width\n",
    "        \n",
    "    def perimeter(self):\n",
    "        return 2 * (self.__length + self.__width)\n",
    "    def validate():\n",
    "        if not isinstance(value, (float, int)):\n",
    "            raise ValueError('Invalid Error')\n",
    "        if value <=0:\n",
    "            raise ValueError('Must be greater than zero')\n",
    "        \n",
    "    def length_getter(self):\n",
    "        return self.__length\n",
    "    \n",
    "    def width_getter(self):\n",
    "        return self.__width\n",
    "    \n",
    "    def length_setter(self, value):\n",
    "        self.validate(value)\n",
    "        self.length=value\n",
    "    def width_setter(self, value):\n",
    "        if not isinstance(value, (float, int)):\n",
    "            self.validate(value)\n",
    "            self.__width=value\n",
    "            \n",
    "        \n",
    "               "
   ]
  },
  {
   "cell_type": "code",
   "execution_count": 13,
   "metadata": {},
   "outputs": [],
   "source": [
    "class Rectangle:\n",
    "    def __init__(self, length, width):\n",
    "        self.__length = length  # Private attribute\n",
    "        self.__width = width    # Private attribute\n",
    "        \n",
    "    def area(self):\n",
    "        return self.__length * self.__width\n",
    "        \n",
    "    def perimeter(self):\n",
    "        return 2 * (self.__length + self.__width)\n",
    "    def __validate():#Private method (Encapsulation)\n",
    "        if not isinstance(value, (float, int)):\n",
    "            raise ValueError('Invalid Error')\n",
    "        if value <=0:\n",
    "            raise ValueError('Must be greater than zero')\n",
    "        \n",
    "    def length_getter(self):\n",
    "        return self.__length\n",
    "    \n",
    "    def width_getter(self):\n",
    "        return self.__width\n",
    "    \n",
    "    def length_setter(self, value):\n",
    "        self.__validate(value)\n",
    "        self.length=value\n",
    "    def width_setter(self, value):\n",
    "        if not isinstance(value, (float, int)):\n",
    "            self.__validate(value)\n",
    "            self.__width=value\n",
    "            \n",
    "        "
   ]
  },
  {
   "cell_type": "code",
   "execution_count": 14,
   "metadata": {},
   "outputs": [],
   "source": [
    "class Points:\n",
    "    def __init__(self,x,y):\n",
    "        self.x=x\n",
    "        self.y=y"
   ]
  },
  {
   "cell_type": "code",
   "execution_count": 16,
   "metadata": {},
   "outputs": [],
   "source": [
    "class Points:\n",
    "    def __init__(self,x,y):\n",
    "        self.x=x\n",
    "        self.y=y\n",
    "#special/dunder\n",
    "    def __str__(self):\n",
    "        return f'Point({self.x},{self.y})'\n"
   ]
  },
  {
   "cell_type": "code",
   "execution_count": 18,
   "metadata": {},
   "outputs": [],
   "source": [
    "p=Points(8,9)"
   ]
  },
  {
   "cell_type": "code",
   "execution_count": 19,
   "metadata": {},
   "outputs": [
    {
     "name": "stdout",
     "output_type": "stream",
     "text": [
      "Point(8,9)\n"
     ]
    }
   ],
   "source": [
    "print(p)"
   ]
  },
  {
   "cell_type": "code",
   "execution_count": 1,
   "metadata": {},
   "outputs": [],
   "source": [
    "class Points:\n",
    "    def __init__(self,x,y):\n",
    "        self.x=x\n",
    "        self.y=y\n",
    "#special/dunder\n",
    "    def __str__(self):\n",
    "        return f'Point({self.x},{self.y})'\n",
    "    def __repr__(self):\n",
    "        return f'Point({self.x},{self.y})'"
   ]
  },
  {
   "cell_type": "code",
   "execution_count": 2,
   "metadata": {},
   "outputs": [],
   "source": [
    "class Points:\n",
    "    def __init__(self,x,y):\n",
    "        self.x=x\n",
    "        self.y=y\n",
    "#special/dunder\n",
    "    def __str__(self):\n",
    "        return f'Point({self.x},{self.y})'\n",
    "    def __repr__(self):\n",
    "        return f'Point({self.x},{self.y})'\n",
    "    def __add__(self,other):\n",
    "        total_x=self.x+other.x\n",
    "        total_y=self.y+other.y\n",
    "        return Points(total_x,total_y)"
   ]
  },
  {
   "cell_type": "code",
   "execution_count": 3,
   "metadata": {},
   "outputs": [
    {
     "data": {
      "text/plain": [
       "Point(3,5)"
      ]
     },
     "execution_count": 3,
     "metadata": {},
     "output_type": "execute_result"
    }
   ],
   "source": [
    "p1=Points(1,2)\n",
    "p2=Points(2,3) \n",
    "p1+p2#Method overloading\n"
   ]
  },
  {
   "cell_type": "code",
   "execution_count": 34,
   "metadata": {},
   "outputs": [],
   "source": [
    "class Points:\n",
    "    def __init__(self,x,y):\n",
    "        self.x=x\n",
    "        self.y=y\n",
    "#special/dunder\n",
    "    def __str__(self):\n",
    "        return f'Point({self.x},{self.y})'\n",
    "    def __repr__(self):\n",
    "        return f'Point({self.x},{self.y})'\n",
    "    def __sub__(self,other):\n",
    "        total_x=self.x-other.x\n",
    "        total_y=self.y-other.y\n",
    "        return Points(total_x,total_y)"
   ]
  },
  {
   "cell_type": "code",
   "execution_count": 35,
   "metadata": {},
   "outputs": [
    {
     "data": {
      "text/plain": [
       "Point(-1,-1)"
      ]
     },
     "execution_count": 35,
     "metadata": {},
     "output_type": "execute_result"
    }
   ],
   "source": [
    "p1=Points(1,2)\n",
    "p2=Points(2,3) \n",
    "p1-p2#Method overloading\n"
   ]
  },
  {
   "cell_type": "code",
   "execution_count": 37,
   "metadata": {},
   "outputs": [
    {
     "name": "stdout",
     "output_type": "stream",
     "text": [
      "p2 is greater than p1 (by distance)\n"
     ]
    }
   ],
   "source": [
    "import math \n",
    "\n",
    "p1 = (1, 2)\n",
    "p2 = (2, 3)\n",
    "\n",
    "# Calculate distances from origin (0, 0)\n",
    "dist_p1 = math.sqrt(p1[0]**2 + p1[1]**2)  # √(1² + 2²) = √5\n",
    "dist_p2 = math.sqrt(p2[0]**2 + p2[1]**2)  # √(2² + 3²) = √13\n",
    "\n",
    "if dist_p1 > dist_p2:\n",
    "    print(\"p1 is greater than p2 (by distance)\")\n",
    "elif dist_p2 > dist_p1:\n",
    "    print(\"p2 is greater than p1 (by distance)\")\n",
    "else:\n",
    "    print(\"p1 and p2 are equal (by distance)\")"
   ]
  },
  {
   "cell_type": "code",
   "execution_count": 43,
   "metadata": {},
   "outputs": [],
   "source": [
    "from math import sqrt\n",
    "class Points:\n",
    "    def __init__(self,x,y):\n",
    "        self.x=x\n",
    "        self.y=y\n",
    "#special/dunder\n",
    "    def __str__(self):\n",
    "        return f'Point({self.x},{self.y})'\n",
    "    def __repr__(self):\n",
    "        return f'Point({self.x},{self.y})'\n",
    "    def __sub__(self,other):\n",
    "        total_x=self.x-other.x\n",
    "        total_y=self.y-other.y\n",
    "        return Points(total_x,total_y)\n",
    "    def __gt__(self,other):\n",
    "        self_distance=sqrt(self.x**2+self.y**2)\n",
    "        other_distance=sqrt(other.x**2+other.y**2)\n",
    "        if self_distance>other_distance:\n",
    "            return True\n",
    "        else:\n",
    "            return False"
   ]
  },
  {
   "cell_type": "code",
   "execution_count": 44,
   "metadata": {},
   "outputs": [
    {
     "data": {
      "text/plain": [
       "False"
      ]
     },
     "execution_count": 44,
     "metadata": {},
     "output_type": "execute_result"
    }
   ],
   "source": [
    "p1=Points(1,2)\n",
    "p2=Points(2,3) \n",
    "p1>p2"
   ]
  },
  {
   "cell_type": "code",
   "execution_count": 46,
   "metadata": {},
   "outputs": [
    {
     "data": {
      "text/plain": [
       "True"
      ]
     },
     "execution_count": 46,
     "metadata": {},
     "output_type": "execute_result"
    }
   ],
   "source": [
    "p1<p2"
   ]
  },
  {
   "cell_type": "code",
   "execution_count": 47,
   "metadata": {},
   "outputs": [],
   "source": [
    "from math import sqrt\n",
    "class Points:\n",
    "    def __init__(self,x,y):\n",
    "        self.x=x\n",
    "        self.y=y\n",
    "\n",
    "    def __eq__(self,other):\n",
    "        if self.x==other.x and self.y==other.y:\n",
    "            return True\n",
    "        else:\n",
    "            return False\n",
    "        \n",
    "        \n"
   ]
  },
  {
   "cell_type": "code",
   "execution_count": 50,
   "metadata": {},
   "outputs": [
    {
     "data": {
      "text/plain": [
       "True"
      ]
     },
     "execution_count": 50,
     "metadata": {},
     "output_type": "execute_result"
    }
   ],
   "source": [
    "p1=Points(1,2)\n",
    "p2=Points(1,2)\n",
    "p1==p2"
   ]
  },
  {
   "cell_type": "code",
   "execution_count": 51,
   "metadata": {},
   "outputs": [],
   "source": [
    "#File handling\n"
   ]
  },
  {
   "cell_type": "code",
   "execution_count": 56,
   "metadata": {},
   "outputs": [],
   "source": [
    "f=open('hello.txt','w')\n",
    "f.write('Hello world')\n",
    "f.close()"
   ]
  },
  {
   "cell_type": "code",
   "execution_count": 57,
   "metadata": {},
   "outputs": [
    {
     "name": "stdout",
     "output_type": "stream",
     "text": [
      "Hello world\n"
     ]
    }
   ],
   "source": [
    "f=open('hello.txt','r')\n",
    "print(f.read())\n",
    "f.close()"
   ]
  },
  {
   "cell_type": "code",
   "execution_count": 61,
   "metadata": {},
   "outputs": [
    {
     "data": {
      "text/plain": [
       "True"
      ]
     },
     "execution_count": 61,
     "metadata": {},
     "output_type": "execute_result"
    }
   ],
   "source": [
    "f.closed"
   ]
  },
  {
   "cell_type": "code",
   "execution_count": 62,
   "metadata": {},
   "outputs": [
    {
     "name": "stdout",
     "output_type": "stream",
     "text": [
      "Hello world\n"
     ]
    },
    {
     "ename": "ZeroDivisionError",
     "evalue": "division by zero",
     "output_type": "error",
     "traceback": [
      "\u001b[31m---------------------------------------------------------------------------\u001b[39m",
      "\u001b[31mZeroDivisionError\u001b[39m                         Traceback (most recent call last)",
      "\u001b[36mCell\u001b[39m\u001b[36m \u001b[39m\u001b[32mIn[62]\u001b[39m\u001b[32m, line 3\u001b[39m\n\u001b[32m      1\u001b[39m f=\u001b[38;5;28mopen\u001b[39m(\u001b[33m'\u001b[39m\u001b[33mhello.txt\u001b[39m\u001b[33m'\u001b[39m,\u001b[33m'\u001b[39m\u001b[33mr\u001b[39m\u001b[33m'\u001b[39m)\n\u001b[32m      2\u001b[39m \u001b[38;5;28mprint\u001b[39m(f.read())\n\u001b[32m----> \u001b[39m\u001b[32m3\u001b[39m \u001b[32;43m1\u001b[39;49m\u001b[43m/\u001b[49m\u001b[32;43m0\u001b[39;49m\n\u001b[32m      4\u001b[39m f.close()\n",
      "\u001b[31mZeroDivisionError\u001b[39m: division by zero"
     ]
    }
   ],
   "source": [
    "f=open('hello.txt','r')\n",
    "print(f.read())\n",
    "1/0\n",
    "f.close()"
   ]
  },
  {
   "cell_type": "code",
   "execution_count": 63,
   "metadata": {},
   "outputs": [
    {
     "data": {
      "text/plain": [
       "False"
      ]
     },
     "execution_count": 63,
     "metadata": {},
     "output_type": "execute_result"
    }
   ],
   "source": [
    "f.closed"
   ]
  },
  {
   "cell_type": "code",
   "execution_count": 8,
   "metadata": {},
   "outputs": [],
   "source": [
    "#Exception/Error handling\n"
   ]
  },
  {
   "cell_type": "code",
   "execution_count": 11,
   "metadata": {},
   "outputs": [],
   "source": [
    "def division(a,b):\n",
    "    div=a/b\n",
    "    return div\n",
    "  \n",
    "    \n"
   ]
  },
  {
   "cell_type": "code",
   "execution_count": 13,
   "metadata": {},
   "outputs": [
    {
     "data": {
      "text/plain": [
       "2.0"
      ]
     },
     "execution_count": 13,
     "metadata": {},
     "output_type": "execute_result"
    }
   ],
   "source": [
    "division(4,2)"
   ]
  },
  {
   "cell_type": "code",
   "execution_count": 18,
   "metadata": {},
   "outputs": [],
   "source": [
    "def division(a,b):\n",
    "    try:\n",
    "        div=a/b\n",
    "        return div\n",
    "    except ZeroDivisionError:\n",
    "        print('Cannot divide by zero')"
   ]
  },
  {
   "cell_type": "code",
   "execution_count": 19,
   "metadata": {},
   "outputs": [
    {
     "name": "stdout",
     "output_type": "stream",
     "text": [
      "Cannot divide by zero\n"
     ]
    }
   ],
   "source": [
    "division(4,0)"
   ]
  },
  {
   "cell_type": "code",
   "execution_count": 20,
   "metadata": {},
   "outputs": [],
   "source": [
    "def division(a,b):\n",
    "    try:\n",
    "        div=a/b\n",
    "        return div\n",
    "    except ZeroDivisionError:\n",
    "        print('Cannot divide by zero')\n",
    "    except TypeError:\n",
    "        print('Not a valid datatype')"
   ]
  },
  {
   "cell_type": "code",
   "execution_count": 24,
   "metadata": {},
   "outputs": [
    {
     "name": "stdout",
     "output_type": "stream",
     "text": [
      "Not a valid datatype\n"
     ]
    }
   ],
   "source": [
    "division(4,'a')"
   ]
  },
  {
   "cell_type": "code",
   "execution_count": 26,
   "metadata": {},
   "outputs": [],
   "source": [
    "def division(a,b):\n",
    "    try:\n",
    "        div=a/b\n",
    "        return div\n",
    "    except ZeroDivisionError:\n",
    "        print('Cannot divide by zero')\n",
    "    except TypeError:\n",
    "        print('Not a valid datatype')\n",
    "    except Exception:\n",
    "        print('Something went wrong')"
   ]
  },
  {
   "cell_type": "code",
   "execution_count": 27,
   "metadata": {},
   "outputs": [],
   "source": [
    "def division(a,b):\n",
    "    try:\n",
    "        div=a/b\n",
    "        return div\n",
    "    except Exception as e:\n",
    "        print(e)\n",
    "        "
   ]
  },
  {
   "cell_type": "code",
   "execution_count": 28,
   "metadata": {},
   "outputs": [
    {
     "name": "stdout",
     "output_type": "stream",
     "text": [
      "division by zero\n"
     ]
    }
   ],
   "source": [
    "division(4,0)"
   ]
  },
  {
   "cell_type": "raw",
   "metadata": {},
   "source": [
    "r\tRead -Opens a file for reading only. The file pointer is placed at the beginning of the file. This is the default mode.\n",
    "t\tText - Opens in text mode. (default).\n",
    "b\tBinary - Opens in binary mode (e.g. images).\n",
    "x\tCreate - Opens a file for exclusive creation. If the file already exists, the operation fails.\n",
    "rb\tOpens a file for reading only in binary format. The file pointer is placed at the beginning of the file. This is the default mode.\n",
    "r+\tOpens a file for both reading and writing. The file pointer placed at the beginning of the file.\n",
    "rb+\tOpens a file for both reading and writing in binary format. The file pointer placed at the beginning of the file.\n",
    "w\tWrite - Opens a file for writing only. Overwrites the file if the file exists. If the file does not exist, creates a new file for writing.\n",
    "wb\tOpens a file for writing only in binary format. Overwrites the file if the file exists. If the file does not exist, creates a new file for writing.\n",
    "w+\tOpens a file for both writing and reading. Overwrites the existing file if the file exists. If the file does not exist, creates a new file for reading and writing.\n",
    "wb+\tOpens a file for both writing and reading in binary format. Overwrites the existing file if the file exists. If the file does not exist, creates a new file for reading and writing.\n",
    "a\tAppend - Opens a file for appending. The file pointer is at the end of the file if the file exists. That is, the file is in the append mode. If the file does not exist, it creates a new file for writing.\n",
    "ab\tOpens a file for appending in binary format. The file pointer is at the end of the file if the file exists. That is, the file is in the append mode. If the file does not exist, it creates a new file for writing.\n",
    "a+\tOpens a file for both appending and reading. The file pointer is at the end of the file if the file exists. The file opens in the append mode. If the file does not exist, it creates a new file for reading and writing.\n",
    "ab+\tOpens a file for both appending and reading in binary format. The file pointer is at the end of the file if the file exists. The file opens in the append mode. If the file does not exist, it creates a new file for reading and writing."
   ]
  },
  {
   "cell_type": "raw",
   "metadata": {},
   "source": [
    " Open a file\n",
    "data = open(\"data.txt\", \"wb\")\n",
    "print (\"Name of the file: \", data.name)\n",
    "print (\"Closed or not : \", data.closed)\n",
    "print (\"Opening mode : \", data.mode)\n",
    "data.close()  #closed data.txt file\n"
   ]
  },
  {
   "cell_type": "raw",
   "metadata": {},
   "source": [
    "# Open a file\n",
    "data = open(\"data_1.txt\", \"r+\")\n",
    "file_data = data.read(27) # read 18 byte only\n",
    "print(\"current position after reading 27 byte :\",data.tell())\n",
    "data.seek(0) #here current position set to 0 (starting of file)\n",
    "full_data = data.read() #read all byte\n",
    "print(file_data)\n",
    "print(full_data)\n",
    "print(\"position after reading file : \",data.tell())\n",
    "data.close()"
   ]
  },
  {
   "cell_type": "code",
   "execution_count": 34,
   "metadata": {},
   "outputs": [],
   "source": [
    "def division(a,b):\n",
    "    try:\n",
    "        div=a/b\n",
    "    except ZeroDivisionError:\n",
    "        print('Cannot divide by zero')\n",
    "    except TypeError:\n",
    "        print('Not a valid datatype')\n",
    "    except Exception:\n",
    "        print('Something went wrong')\n",
    "    else:\n",
    "        print('I will run if there is no exception raised')\n",
    "        return div"
   ]
  },
  {
   "cell_type": "code",
   "execution_count": 35,
   "metadata": {},
   "outputs": [
    {
     "name": "stdout",
     "output_type": "stream",
     "text": [
      "I will run if there is no exception raised\n"
     ]
    },
    {
     "data": {
      "text/plain": [
       "3.0"
      ]
     },
     "execution_count": 35,
     "metadata": {},
     "output_type": "execute_result"
    }
   ],
   "source": [
    "division(9,3)"
   ]
  },
  {
   "cell_type": "code",
   "execution_count": 36,
   "metadata": {},
   "outputs": [
    {
     "name": "stdout",
     "output_type": "stream",
     "text": [
      "Cannot divide by zero\n"
     ]
    }
   ],
   "source": [
    "division(9,0)"
   ]
  },
  {
   "cell_type": "code",
   "execution_count": 37,
   "metadata": {},
   "outputs": [],
   "source": [
    "def division(a,b):\n",
    "    try:\n",
    "        div=a/b\n",
    "    except ZeroDivisionError:\n",
    "        print('Cannot divide by zero')\n",
    "    except TypeError:\n",
    "        print('Not a valid datatype')\n",
    "    except Exception:\n",
    "        print('Something went wrong')\n",
    "    else:\n",
    "        print('I will run if there is no exception raised')\n",
    "        return div\n",
    "    finally:\n",
    "        print('I will run no matter what the code is')\n",
    "    "
   ]
  },
  {
   "cell_type": "code",
   "execution_count": 38,
   "metadata": {},
   "outputs": [
    {
     "name": "stdout",
     "output_type": "stream",
     "text": [
      "Cannot divide by zero\n",
      "I will run no matter what the code is\n"
     ]
    }
   ],
   "source": [
    "division(9,0)"
   ]
  },
  {
   "cell_type": "code",
   "execution_count": 46,
   "metadata": {},
   "outputs": [
    {
     "name": "stdout",
     "output_type": "stream",
     "text": [
      "Hello world\n",
      "Cannot divide by zero\n"
     ]
    }
   ],
   "source": [
    "f = open('hello.txt', 'r')\n",
    "print(f.read())\n",
    "try:\n",
    "    1 / 0\n",
    "except ZeroDivisionError:\n",
    "    print('Cannot divide by zero')\n",
    "    f.close()"
   ]
  },
  {
   "cell_type": "code",
   "execution_count": 47,
   "metadata": {},
   "outputs": [
    {
     "name": "stdout",
     "output_type": "stream",
     "text": [
      "Hello world\n"
     ]
    }
   ],
   "source": [
    "with open('Hello.txt','r')as f:\n",
    "    print(f.read())"
   ]
  },
  {
   "cell_type": "code",
   "execution_count": 48,
   "metadata": {},
   "outputs": [
    {
     "data": {
      "text/plain": [
       "True"
      ]
     },
     "execution_count": 48,
     "metadata": {},
     "output_type": "execute_result"
    }
   ],
   "source": [
    "f.closed"
   ]
  },
  {
   "cell_type": "code",
   "execution_count": 52,
   "metadata": {},
   "outputs": [
    {
     "name": "stdout",
     "output_type": "stream",
     "text": [
      "False\n",
      "Hello world\n",
      "False\n"
     ]
    },
    {
     "ename": "ZeroDivisionError",
     "evalue": "division by zero",
     "output_type": "error",
     "traceback": [
      "\u001b[31m---------------------------------------------------------------------------\u001b[39m",
      "\u001b[31mZeroDivisionError\u001b[39m                         Traceback (most recent call last)",
      "\u001b[36mCell\u001b[39m\u001b[36m \u001b[39m\u001b[32mIn[52]\u001b[39m\u001b[32m, line 5\u001b[39m\n\u001b[32m      3\u001b[39m \u001b[38;5;28mprint\u001b[39m(f.read())\n\u001b[32m      4\u001b[39m \u001b[38;5;28mprint\u001b[39m(f.closed)\n\u001b[32m----> \u001b[39m\u001b[32m5\u001b[39m \u001b[32;43m1\u001b[39;49m\u001b[43m/\u001b[49m\u001b[32;43m0\u001b[39;49m\n",
      "\u001b[31mZeroDivisionError\u001b[39m: division by zero"
     ]
    }
   ],
   "source": [
    "with open('Hello.txt','r')as f:\n",
    "    print(f.closed)\n",
    "    print(f.read())\n",
    "    print(f.closed)\n",
    "    1/0"
   ]
  },
  {
   "cell_type": "code",
   "execution_count": 51,
   "metadata": {},
   "outputs": [
    {
     "name": "stdout",
     "output_type": "stream",
     "text": [
      "True\n"
     ]
    }
   ],
   "source": [
    "print(f.closed)"
   ]
  },
  {
   "cell_type": "code",
   "execution_count": 53,
   "metadata": {},
   "outputs": [
    {
     "name": "stdout",
     "output_type": "stream",
     "text": [
      "Hello world\n",
      "wrhfjdkjcbhdbhcbfhd\n",
      "dcnd\n",
      "cedc'eds\n",
      "sc\n",
      "dsc\n",
      "\n"
     ]
    }
   ],
   "source": [
    "with open('Hello.txt','r')as f:\n",
    "    print(f.read())"
   ]
  },
  {
   "cell_type": "code",
   "execution_count": 54,
   "metadata": {},
   "outputs": [
    {
     "name": "stdout",
     "output_type": "stream",
     "text": [
      "Hello world\n"
     ]
    }
   ],
   "source": [
    "with open('Hello.txt','r')as f:\n",
    "    print(f.read(11))"
   ]
  },
  {
   "cell_type": "code",
   "execution_count": 55,
   "metadata": {},
   "outputs": [
    {
     "name": "stdout",
     "output_type": "stream",
     "text": [
      "Hello world\n",
      "\n",
      "wrhfjdkjcbhdbhcbfhd\n",
      "\n",
      "dcnd\n",
      "\n",
      "cedc'eds\n",
      "\n",
      "sc\n",
      "\n",
      "dsc\n",
      "\n"
     ]
    }
   ],
   "source": [
    "with open('Hello.txt','r')as f:\n",
    "    for i in f:\n",
    "        print(i)"
   ]
  },
  {
   "cell_type": "code",
   "execution_count": 56,
   "metadata": {},
   "outputs": [
    {
     "name": "stdout",
     "output_type": "stream",
     "text": [
      "Hello world\n",
      "Hello world\n"
     ]
    }
   ],
   "source": [
    "with open('Hello.txt','rt')as f:\n",
    "    print(f.read(11))\n",
    "with open('Hello.txt')as f: # BY DEFAULT!\n",
    "    print(f.read(11))"
   ]
  },
  {
   "cell_type": "code",
   "execution_count": 57,
   "metadata": {},
   "outputs": [
    {
     "ename": "UnicodeDecodeError",
     "evalue": "'utf-8' codec can't decode byte 0x89 in position 0: invalid start byte",
     "output_type": "error",
     "traceback": [
      "\u001b[31m---------------------------------------------------------------------------\u001b[39m",
      "\u001b[31mUnicodeDecodeError\u001b[39m                        Traceback (most recent call last)",
      "\u001b[36mCell\u001b[39m\u001b[36m \u001b[39m\u001b[32mIn[57]\u001b[39m\u001b[32m, line 2\u001b[39m\n\u001b[32m      1\u001b[39m \u001b[38;5;28;01mwith\u001b[39;00m \u001b[38;5;28mopen\u001b[39m(\u001b[33m'\u001b[39m\u001b[33mlogo.png\u001b[39m\u001b[33m'\u001b[39m,\u001b[33m'\u001b[39m\u001b[33mrt\u001b[39m\u001b[33m'\u001b[39m) \u001b[38;5;28;01mas\u001b[39;00m f:\n\u001b[32m----> \u001b[39m\u001b[32m2\u001b[39m     \u001b[38;5;28mprint\u001b[39m(\u001b[43mf\u001b[49m\u001b[43m.\u001b[49m\u001b[43mread\u001b[49m\u001b[43m(\u001b[49m\u001b[43m)\u001b[49m)\n",
      "\u001b[36mFile \u001b[39m\u001b[32m<frozen codecs>:325\u001b[39m, in \u001b[36mdecode\u001b[39m\u001b[34m(self, input, final)\u001b[39m\n",
      "\u001b[31mUnicodeDecodeError\u001b[39m: 'utf-8' codec can't decode byte 0x89 in position 0: invalid start byte"
     ]
    }
   ],
   "source": [
    "with open('logo.png','rt') as f:\n",
    "    print(f.read())"
   ]
  },
  {
   "cell_type": "code",
   "execution_count": 59,
   "metadata": {},
   "outputs": [
    {
     "name": "stdout",
     "output_type": "stream",
     "text": [
      "b'\\x89PNG\\r\\n\\x1a\\n\\x00\\x00\\x00\\rIHDR\\x00\\x00\\x00@\\x00\\x00\\x00@\\x08\\x06\\x00\\x00\\x00\\xaaiq\\xde\\x00\\x00\\x00\\x06bKGD\\x00\\xff\\x00\\xff\\x00\\xff\\xa0\\xbd\\xa7\\x93\\x00\\x00\\x00\\tpHYs\\x00\\x00\\x06\\xe6\\x00\\x00\\x06\\xe6\\x01E\\x01\\xf3\\xd9\\x00\\x00\\x00\\x07tIME\\x07\\xde\\x0c\\x0c\\x16\"\\x1a)\\xbd\\xe5\\xde\\x00\\x00\\x08\\x11IDATx\\xda\\xed[}lUg\\x19\\xff=\\xb7\\xa5\"\\xad\\t\\x8a\\x97\\x8dm\\xd1\\xe0:\\x84v\\x93U\\x836\\x8a\\x01u\\x04\\xdd\\xec6\\xc5\\x12\\xc7D\\xa3.\\x93u\\x9a\\x8d\\xb4:\\rn\\xb93\\x88\\xe0\\x18\\x88\\x8bd\\xfee\\xc4i\\xb2\\xa1\\xf8A\\x97\\xc9V\\xb0\\xc0V(\\x13\\xd6t.3\\x1d\\x10#\\xf2Qh7\\xa6\\xa5\\xeb\\xc7=\\xcf\\xcf?\\xee\\xb9\\xe7\\x9es\\xef9\\xe7\\xbe\\xe7\\xf6v;\\xc6\\xbem\\xd3\\xf7\\xbe\\xe7\\xde\\xb7\\xe7\\xf9=\\xcf\\xef\\xf9:o\\x81\\xa915\\xa6\\xc6\\xff\\xf3\\x90\\xc9\\xdc\\xfc\\xe6\\x9ft\\\\6>\\xc6\\xe5$\\xe7\\x03HR\\x99$9\\x9bd\\x12\\xaa\\xb3IN\\'9Hb@\\xa1\\x03\\t\\x8b\\x83\\n\\x0c(\\xac\\x01Q\\xed\\x1d\\x9a6\\xfd\\xc9\\xa3\\xa9\\xa6\\xe1\\xff)\\x00\\x9aS/U\\r\\xd7\\xf4\\xb7)\\xb1\\x02\\xd4\\x06\\x90B\\x12\\xd9\\x1f8s-\\\\\\xd3\\xdc5{mX\\xc9]\\xe9\\x84\\xd5\\xd6\\xbdaU\\x7f\\xec\\x01\\xb8i\\xeb\\xfe\\x05\\xb0\\xf47$\\xafG\\x9e\\x90^\\xe1\\x0b\\x04\\xf5y\\x9f\\xeb\\xb3\\xca\\x0b\\xa4\\xf5\\xb5C\\x0f}\\xa9=\\xb6\\x004?\\xf1D\\xc5\\xf0?\\x93\\x7f\\x07Y\\xcb<-\\x1b\\tY\\xf0\\xbe\\x82\\xcf\\x8e\\x13\\xdax\\xf8\\xa1\\xd5\\xc7\\xca\\t@\\xa2\\\\\\x1b\\r\\x9fJ\\xde\\xe6\\x16^\\x89\\x03P\\xdc\"\\xd4[H\\x1cp\\x0b\\t\\x1f0\\x0c\\xd6\\xa6A\\xf1\\xab\\xa5\\xa9_L/\\'\\x00\\x95\\xe5\\xda\\x88\\xcaO\\xc2\\x11\\x9e\\x17\\xabFF>\\xb3\\xdbv`M\\xa9\\xdd\\x1doT$N\\x83\\x9c\\xe9o\\t\\xc6ku\\xc3\\xffN\\xdc\\x00\\xa0=v\\x16\\x00`\\x0eA\\x00\\x04\\x88]\\xbb]\\xde{w\\xaai\\x18\\xe4\\xaeB\\r#D\\xeb\\xf0\\xb7\\x04\\xc5\\x87cI\\x01R\\x93\\xd9\\x1b\\x05\\xac\\xc5 \\xc5uQH.\\x0e\\xd2p4ZX\\x0bcI\\x01!*5\\xa7\\xbdy\\xcb7<\\xf5`\\xe5\\x8f\\xda\\xb7\\x02\\xc0\\xc8\\x0f\\xda\\xd7\\x12\\x9c\\x07\\xdbB\\xdc_@$\\n\\x00\\x8a\\xb7\\xc5\\x12\\x00\\xcd\\x8b\\xebJ\\xdc?\\x9a\\x96\\xd6\\x8cEpF\\xa8\\x86]`x\\x00\\xf2\\xb3\\x04\\x10\\xf1t\\x82\\xfef;\\xa3\\xb8\\x93C\\xb0\\xd6\\xf3\\xec\\xc5\\xf6/\\xf1\\x04 \\x9c\\xc3\\x98h\\x08\\xf4XKL-@w\\x12<\\x0c\\x02\\xa2\\x84\\x02P[\\x8b`V{\\x04\\x15P\\x10\\xf6\\xe4#\\x04\\xaf\\x0f\\x17\\xdc\\x07\\xdc8\\x02\\xf0\\xf4\\xba\\x1b\\x7f\\x18\\xf53\\x1f\\xfd\\xce\\xe3\\x1ba\\x03`\\x9c\\x0f\\xa8\\xbe5\\x00\\xdc\\xf4p\\xe7\\'\\xa8\\xda\\xa0\\xd4\\x05 \\xaf\\x02)\\xcc\\xdeL&\\xf9\\x01\\xa1\\xa0\\xda\\xdaeF\\xd3\\xb4h\\xdf\\xb3\\x05P\\xed\\xf0O@\\t\\x8b:O\\x8a\\xe6\\x03\\xde5\\xc7\\xe2\\xfa[[\\xa1X\\x96w\\x9b\\x97\\x90`\\x0fT\\xfe\\x8a\\xcb\\xdf\\xb1G$\\xa5\\x13\\x06\\xa0i\\xcb\\xbe%T\\xd9\\xa8\\xaa\\x8d !\\x1e\\x8f\\x8c\\x00\\x87\\x06\\xaf\\xd7\\x16:\\xfe\\x8b\\xae\\xb0\\'%\\xf8\\x03W\\xf1r\\x1d\\x04\\xcb\\x0b\\xb9\\x88\\xcf\\x03\\n\\x9c}\\xed\\x19\\x9e\\xfd\\xd6\\xed2\\xe7\\x91\\x0b%\\'BM[:[T\\xa5\\x93d\\xe3\\xc4\\x92\\x17\\x9f\\xb5\\x82|\\x00!\\x14\\x80!\\xf7\\xb3\\xd6g\\x01\\xd0e\\xb0\\xf40\\xcf\\xb5U\\x97\\x04@\\xd3\\xc3\\xfbV\\xa8\\xe2\\x11\\x13n\\xa2\\\\kA\\xf9\\x80\\x89\\xe7\\xcf\\nNu\\x81`\\xbd\\x0f\\xe9\\xa1\\x07#\\x03p\\xeb\\xd6\\xbf\\xcc$\\x12;@M\\x98\\xe4\\xef\\x13,p\\x8c\\xc0\\r\\xd7z\\x81\\xe0\\xae\\xd7\\xe9{\\xf8\\x8f;\\xe6F\\x02\\xc0R\\xf92\\xa93\\xbc\\t\\x88\\xa96Q\\xd6| \\xd4\\xf4\\x1d!5Oh\\x87\\x06\\x00\\xb5\\x12H\\x7f!\\x12\\x00J|\\xc3/\\x01\\xf1\\xf0\\x15\\x93A\\x8bB\\x80|\\xc6E[K33\\x02\\x86i\\xdf\\x9e\\x8b\\x9a\\x03p\\xe3\\xe6\\xbd\\xef%\\xb5\\xceH\\x80@\\xbe\\x96\\x87\\x02\\xfe\\x06/G3\\xd5\\x97\\xb5\\xc8+\\xa8\\x8f\\xe0\\xb9k\\x8bx\\xaa\\xf9\\xedF\\x00\\xa8H-\\\\\\xda(Y\\xc3Q\\n\\x1c\\x9f\\xb5\\x10\\xb3\\x7f\\x9e\\xa7\\xd6^\\t\\xd5+\\x1c\\xc1\\xe1#8<\\xa0\\x08F\\x13W\\x1b\\x01\\x90P\\xad5\\xce\\xcb\\xcbV\\xe0\\x98\\xa6\\xba\\xdc\\xdf\\xf3\\xe8\\x9a\\xfdH\\x8c-\\xcf\\t\\xed\\x12\\x1c!\\xd6\\x00\\xbd\\xc6(\\x11\"YK;\\xff~3\\x0b\\x1c\\x83p\\xf7FB\\xf4\\x0e\\x9e\\xbb+\\x89\\xb4lr\\x00pb\\x7f\\xfe\\\\\\xed\\xe8\\xe1\\\\\\xab5\\xa3\\x80\\xa2v\\xf2c?\\xa2\\x86\\xbbWH.=\\xb6\\xfd\\xee\\xe3\\xb0\\xf0(`\\xbd;\\x84\\xef\\x01\\x94H_cF\\x01a\\xadG\\x1f%Q\\xa0\\xb4\\xb5<[\\xbc\\x00\\xf0)\\x08\\xbf\\xaf\\xd53\\x1az\\xd6\\xf5\\xbd\\xc8\\x7f\\xad\\xd9\\x0e\\xd5\\xcf\\x05$=E(\\xe1o\\x01\\x95\\x85\\x16\\xc0\\xb9\\x1e\\xcd\\xc1\\xc7\\xa1\\x15\\xd30xT\\x88v%\\xbauD\\x8f\\x1c\\xf9\\xd9W\\x06\\'Tj\\x9f\\xb9\\xfb\\x83\\xd0\\xf4\\xafA\\x9d\\xef1\\xf5\\xac\\x99;\\xf3\\x00\\x1aD\\xf4\\x01\\xaf\\x83\\xac\\x0euh\\xf9\\xf9@\\xce\\xc3\\x8f\\x81\\xbc\\xbf\\xab\\xbao3R)\\xe5\\xf9\\x96\\x1a\\xa4\\xab\\x1b\\xf0@\\xeb,#I-\\xcb\\x9e\\xa4\\x01`6\\xc8F\\xd0j\\x845>\\x1fP\\xf1p\\xda3\\xcf\\x07\\xa5\\x80\\xff\\x00u\\xb6Y5H\\x9e yE\\t\\\\\\xbf`)o\\xe8\\xde\\xbc\\xaa\\x97g\\xdb\\x96bM\\xeb6(\\xaeEB\\x13ES\\xf9\\xec\\xcd\\xc2D\\xab!\\x8e\\xce#t\\xc1>\\xaf\\x1a\\xf9\\x00\\x92\\'Ksrh\\xe9\\xde\\xbc\\xaa\\x97\\xe7\\xda\\xd6C\\xb8\\x17\\xc0\\x07\\x8c\\xda\\xee\\x851;\\xcf\\x91Eqta\\t\\x91\\x0e\\x98\\xf9\\x00\\xe2\\x84Dvh\\xfax\\xd7\\x8fo\\xff-\\xfb[W\\x83\\\\g\\xc8\\xec\\x00\\xf3-j\\xca\\x01\\xda\\xd7\\x90=\\x15 \\xcf\\x1a\\x01 \\x19\\nD*p\\xd2\\xe9\\x8a\\x07x\\xfe\\xdb\\x97\\x83\\xba\\xcd\\xf09Z8g#9:SP\\xd8eD\\x01\\x0b8\\x111\\xf6\\x0f\\x1e\\xd9\\xf2\\xc5>Po\\x05\\xf1N#\\xad\\xa3H\\xfenZ\\xe4\\x14\\xa5\\x84\\xeb\\xb5\\xa6;\\x8d,\\xa0J+^\\x19G\\x9a\\x00\\xc5\\x13\\x02\\x03(\\xa0d\\xb7-\\xdb\"s\\x93\\xcf\\xd7j\\x04\\xed\\x87:\\xba@J\\x0c\\xa3\\xa6\\xf2\\xb0\\x91\\x05\\xecI}\\xfaU\\xc2\\xe7q6\\x02\\x0b\\x9c\\x97\\x9c\\x1e\\x9dq\\xb7F}\\xb4f\\x05k\\xbf\\xc0\\xd1\\x19\\xec\\xe3\\xf9\\x9b\\xfc\\xbd\\xcc\\xed\\x1c1\\xee\\x07\\xd0\\xe2c\\xc6\\x05\\x8e2\\xdby\\xad\\x8a\\xde\\xad\\xf1\\x11\\x86%\\x80\\x12\\x06nFY;\"5D*\\xc7\\xc6v\\x82\\xec7kn\\xaaa\\xb7&\\x84\\xc3\\x81ilDP\\xf2\\xad#3\\xfapmWG$\\x00:6\\xad|\\x9d\\xc0\\x9d&\\xf9@a\\x92\\xc3\\x80\\x1b4\\x88\\xd9\\xc5L\\xd94\\xf6\\xbboJ\\x12-\"\\xd0\\xc8]\\xe1\\x03\\xebW\\xfcI\\x80ME\\xf3\\x01\\xcf\\xde4\\xd4Z\\x10\\xa7\\rA\\t\\x03\\xd7\\x13\\xd3\\xe5\\xa7R\\x7fpo\\xc9\\xcf\\x05\\x0elh\\xfe\\xaeR?K\\xf0t`>\\xa06\\xdcZbx\\xa2!(E)\\xe11\\xc5\\xff\\x80\\xf2u\\xa9\\x7f\\xf6\\x9e\\t?\\x19\\xea\\xdat\\xdb\\x93\\x00\\xaeZ|\\xdf\\x8e\\xf7\\x8c[\\x15\\rT\\xce\\xb1s\\xc6\\xcc\\xb7\\xf0\\x85\\x92\\xc3\\x9cZ\\x7f@\\x82{2\\xf7\\xae\\xce\\x9e\\x9e\\xba\\xc0I\\x9c\\xd4iXd\\xe6\\x96\\xeb\\xb5c\\x81C\\xa8@\\x0f\\xfev\\xe5\\xcb\\xb2r\\xa7\\xf5\\xa6\\x1e\\x93\\xe3\\x99o\\xf6\\x80\\\\hX\\x9af\\x8f\\xbb|O\\xae\\xde\\xb9\\x11o\\xe1(\\x1f\\x00\\xa7\\xef\\xca\\x00\\xe0+h (C /\\x05&9`N\\xe3\\xd9}D\\xf7I\\xdd\\xc1U1< \\x11\\xa54u\\xe65\\xa0\\xd6D*q\\x15\\xef\\x8a\\xe9\\t\\x11\\x83\\xc6Dii\\xac\\xeb:Q\\xee\\xe3\\xcd\\xe5\\x05\\xc0\\xbc4-\\xe6\\',\\xc0\\xfa#\\xc8Y\\x00\\x97x\\xc3[y\\x8f\\x88\\x94\\x0f\\x00X9\\x8dN\\xac\\xc8\\x19\\x03Y/\\xf5\\xfb\\x8f\\x03\\x00_\\xfc\\xd82\\x08\\x9ev\\x07\\xf7r\\x02P\\xbe\\x93\\xa2\\xaa\\x03e\\x89\\xfd\\xd0\\xdfI}\\xe7qG\\xdc\\xeb\\x9e{\\x06\\xc0\\x0b.\\x0b\\x18\\x8c\\'\\x00HwEzR\\x13\\x08Jz\\xd4\\xa7\\xa6\\x1au1\\xa0;\\xa6\\x16\\x80\\x0e\\xf3|>,\\xf3\\xc3J\\x1e\\xfbx\\xd2\\x91\\xb7w\\xf1\\x87 h\\xcc\\xdd1\\x0f\\xc62\\x0f\\x00\\x00\\x9el\\xfe9\\xa8wF\\xeb\\xe5\\xb9\\xdf\\xe7\\x8c!\\x80; 2+s\\xe6\\x07\\xd3\\xec~\\xdd6\\xa9\\xef\\xba7\\xa6N\\x10\\xc04\\xdc\\x8bQ}?\\xa8K\\xa258\\x0b\\x1c{\\r -y\\xcb\\x7f\\xc6\\xf9\\xaa\\xb6\\xd8f\\x829\\x8a\\xa6\\x12\\xe8;\\xb6\\x16b\\xad\\x07uz\\x91^\\xbd\\xc9\\x96\\x97\\x00\\xb9\\x0f\\xf5\\xcfn\\x17)\\xf7A\\xd9I\\xfc\\xaf1\\x9e\\xbc\\xf92\\x8c\\x8e\\xac\\x06\\xf8U\\xc0>p\\x91\\xaf\\xfd\\xf0\\xd1\\x0b\\xe1/\\x91\\xc6c\\xb2\\xb0\\xeb|\\xeck\\x81P0^\\xfe\\xd4,h\\xba\\x0e`\\x1d\\xa0\\x0b2\\xbfQ\\x07\"\\t\\xe0\"\\x04\\xafA\\xd1\\x0f\\xf0y\\x08\\x0e\\xa1R\\x0e\\xc9\\xfc\\xe7\\xce`jL\\x8d\\xa915&y\\xfc\\x17\\xe4\\xcc\\xfc\\xa7\\x9c\\xd5n\\x7f\\x00\\x00\\x00\\x00IEND\\xaeB`\\x82'\n"
     ]
    }
   ],
   "source": [
    "with open('logo.png','rb') as f:\n",
    "    print(f.read())"
   ]
  },
  {
   "cell_type": "code",
   "execution_count": 61,
   "metadata": {},
   "outputs": [
    {
     "name": "stdout",
     "output_type": "stream",
     "text": [
      "{\"name\": \"Ram\", \"age\": 22, \"address\": \"KTM\", \"skill\": [\"Python\", \"Django\", \"Machine Learning\"], \"is_programmer\": true, \"Phone\": null} <class 'str'>\n"
     ]
    }
   ],
   "source": [
    "#JSON string\n",
    "import json\n",
    "person={\n",
    "    'name':'Ram',\n",
    "    'age':22,\n",
    "    'address':'KTM',\n",
    "    'skill':['Python','Django','Machine Learning'],\n",
    "    'is_programmer':True ,\n",
    "    'Phone':None\n",
    "}\n",
    "x=json.dumps(person)\n",
    "print(x,type(x))"
   ]
  },
  {
   "cell_type": "code",
   "execution_count": 63,
   "metadata": {},
   "outputs": [
    {
     "name": "stdout",
     "output_type": "stream",
     "text": [
      "{'name': 'Ram', 'age': 22, 'address': 'KTM', 'skill': ['Python', 'Django', 'Machine Learning'], 'is_programmer': True, 'Phone': None} <class 'dict'>\n"
     ]
    }
   ],
   "source": [
    "import string\n",
    "json_string=\"\"\"\n",
    "{\n",
    "\"name\": \"Ram\",\n",
    "\"age\": 22, \n",
    "\"address\": \"KTM\", \n",
    "\"skill\": [\"Python\", \"Django\", \"Machine Learning\"],\n",
    "\"is_programmer\": true, \n",
    "\"Phone\": null\n",
    "}\n",
    "\"\"\"\n",
    "x=json.loads(json_string)\n",
    "print(x,type(x))"
   ]
  },
  {
   "cell_type": "code",
   "execution_count": 64,
   "metadata": {},
   "outputs": [],
   "source": [
    "import json\n",
    "person={\n",
    "    'name':'Ram',\n",
    "    'age':22,\n",
    "    'address':'KTM',\n",
    "    'skill':['Python','Django','Machine Learning'],\n",
    "    'is_programmer':True ,\n",
    "    'Phone':None\n",
    "}\n",
    "with open('person.json','w')as f:\n",
    "    json.dump(person,f)"
   ]
  },
  {
   "cell_type": "code",
   "execution_count": 65,
   "metadata": {},
   "outputs": [
    {
     "name": "stdout",
     "output_type": "stream",
     "text": [
      "{'name': 'Ram', 'age': 22, 'address': 'KTM', 'skill': ['Python', 'Django', 'Machine Learning'], 'is_programmer': True, 'Phone': None} <class 'dict'>\n"
     ]
    }
   ],
   "source": [
    "import json\n",
    "person={\n",
    "    'name':'Ram',\n",
    "    'age':22,\n",
    "    'address':'KTM',\n",
    "    'skill':['Python','Django','Machine Learning'],\n",
    "    'is_programmer':True ,\n",
    "    'Phone':None\n",
    "}\n",
    "with open('person.json','r')as f:\n",
    "    data=f.read()\n",
    "    person=json.loads(data)\n",
    "    print(person,type(person))"
   ]
  },
  {
   "cell_type": "code",
   "execution_count": 3,
   "metadata": {},
   "outputs": [
    {
     "name": "stdout",
     "output_type": "stream",
     "text": [
      "{'name': 'Ram', 'age': 22, 'address': 'KTM', 'skill': ['Python', 'Django', 'Machine Learning'], 'is_programmer': True, 'Phone': None} <class 'dict'>\n"
     ]
    }
   ],
   "source": [
    "import json\n",
    "\n",
    "with open('person.json', 'r') as f:\n",
    "    data = f.read()\n",
    "    x = json.loads(data)  # Change f to data here\n",
    "    print(x, type(x))"
   ]
  },
  {
   "cell_type": "code",
   "execution_count": 10,
   "metadata": {},
   "outputs": [
    {
     "name": "stdout",
     "output_type": "stream",
     "text": [
      "first_name,last_name,company_name,address,city,county,state,zip,phone1,phone2,email,web\n",
      "James,Butt,\"Benton, John B Jr\",6649 N Blue Gum St,New Orleans,Orleans,LA,70116,504-621-8927,504-845-1427,jbutt@gmail.com,http://www.bentonjohnbjr.com\n",
      "Josephine,Darakjy,\"Chanay, Jeffrey A Esq\",4 B Blue Ridge Blvd,Brighton,Livingston,MI,48116,810-292-9388,810-374-9840,josephine_darakjy@darakjy.org,http://www.chanayjeffreyaesq.com\n",
      "Art,Venere,\"Chemel, James L Cpa\",8 W Cerritos Ave #54,Bridgeport,Gloucester,NJ,8014,856-636-8749,856-264-4130,art@venere.org,http://www.chemeljameslcpa.com\n",
      "Lenna,Paprocki,Feltz Printing Service,639 Main St,Anchorage,Anchorage,AK,99501,907-385-4412,907-921-2010,lpaprocki@hotmail.com,http://www.feltzprintingservice.com\n",
      "Donette,Foller,Printing Dimensions,34 Center St,Hamilton,Butler,OH,45011,513-570-1893,513-549-4561,donette.foller@cox.net,http://www.printingdimensions.com\n",
      "Simona,Morasca,\"Chapman, Ross E Esq\",3 Mcauley Dr,Ashland,Ashland,OH,44805,419-503-2484,419-800-6759,simona@morasca.com,http://www.chapmanrosseesq.com\n",
      "Mitsue,Tollner,Morlong Associates,7 Eads St,Chicago,Cook,IL,60632,773-573-6914,773-924-8565,mitsue_tollner@yahoo.com,http://www.morlongassociates.com\n",
      "Leota,Dilliard,Commercial Press,7 W Jackson Blvd,San Jose,Santa Clara,CA,95111,408-752-3500,408-813-1105,leota@hotmail.com,http://www.commercialpress.com\n",
      "Sage,Wieser,Truhlar And Truhlar Attys,5 Boston Ave #88,Sioux Falls,Minnehaha,SD,57105,605-414-2147,605-794-4895,sage_wieser@cox.net,http://www.truhlarandtruhlarattys.com\n",
      "Kris,Marrier,\"King, Christopher A Esq\",228 Runamuck Pl #2808,Baltimore,Baltimore City,MD,21224,410-655-8723,410-804-4694,kris@gmail.com,http://www.kingchristopheraesq.com\n",
      "Minna,Amigon,\"Dorl, James J Esq\",2371 Jerrold Ave,Kulpsville,Montgomery,PA,19443,215-874-1229,215-422-8694,minna_amigon@yahoo.com,http://www.dorljamesjesq.com\n",
      "Abel,Maclead,Rangoni Of Florence,37275 St  Rt 17m M,Middle Island,Suffolk,NY,11953,631-335-3414,631-677-3675,amaclead@gmail.com,http://www.rangoniofflorence.com\n",
      "Kiley,Caldarera,Feiner Bros,25 E 75th St #69,Los Angeles,Los Angeles,CA,90034,310-498-5651,310-254-3084,kiley.caldarera@aol.com,http://www.feinerbros.com\n",
      "Graciela,Ruta,Buckley Miller & Wright,98 Connecticut Ave Nw,Chagrin Falls,Geauga,OH,44023,440-780-8425,440-579-7763,gruta@cox.net,http://www.buckleymillerwright.com\n",
      "Cammy,Albares,\"Rousseaux, Michael Esq\",56 E Morehead St,Laredo,Webb,TX,78045,956-537-6195,956-841-7216,calbares@gmail.com,http://www.rousseauxmichaelesq.com\n",
      "Mattie,Poquette,Century Communications,73 State Road 434 E,Phoenix,Maricopa,AZ,85013,602-277-4385,602-953-6360,mattie@aol.com,http://www.centurycommunications.com\n",
      "Meaghan,Garufi,\"Bolton, Wilbur Esq\",69734 E Carrillo St,Mc Minnville,Warren,TN,37110,931-313-9635,931-235-7959,meaghan@hotmail.com,http://www.boltonwilburesq.com\n",
      "Gladys,Rim,T M Byxbee Company Pc,322 New Horizon Blvd,Milwaukee,Milwaukee,WI,53207,414-661-9598,414-377-2880,gladys.rim@rim.org,http://www.tmbyxbeecompanypc.com\n",
      "Yuki,Whobrey,Farmers Insurance Group,1 State Route 27,Taylor,Wayne,MI,48180,313-288-7937,313-341-4470,yuki_whobrey@aol.com,http://www.farmersinsurancegroup.com\n",
      "Fletcher,Flosi,Post Box Services Plus,394 Manchester Blvd,Rockford,Winnebago,IL,61109,815-828-2147,815-426-5657,fletcher.flosi@yahoo.com,http://www.postboxservicesplus.com\n",
      "Bette,Nicka,Sport En Art,6 S 33rd St,Aston,Delaware,PA,19014,610-545-3615,610-492-4643,bette_nicka@cox.net,http://www.sportenart.com\n",
      "Veronika,Inouye,C 4 Network Inc,6 Greenleaf Ave,San Jose,Santa Clara,CA,95111,408-540-1785,408-813-4592,vinouye@aol.com,http://www.cnetworkinc.com\n",
      "Willard,Kolmetz,\"Ingalls, Donald R Esq\",618 W Yakima Ave,Irving,Dallas,TX,75062,972-303-9197,972-896-4882,willard@hotmail.com,http://www.ingallsdonaldresq.com\n",
      "Maryann,Royster,\"Franklin, Peter L Esq\",74 S Westgate St,Albany,Albany,NY,12204,518-966-7987,518-448-8982,mroyster@royster.com,http://www.franklinpeterlesq.com\n",
      "Alisha,Slusarski,Wtlz Power 107 Fm,3273 State St,Middlesex,Middlesex,NJ,8846,732-658-3154,732-635-3453,alisha@slusarski.com,http://www.wtlzpowerfm.com\n",
      "Allene,Iturbide,\"Ledecky, David Esq\",1 Central Ave,Stevens Point,Portage,WI,54481,715-662-6764,715-530-9863,allene_iturbide@cox.net,http://www.ledeckydavidesq.com\n",
      "Chanel,Caudy,Professional Image Inc,86 Nw 66th St #8673,Shawnee,Johnson,KS,66218,913-388-2079,913-899-1103,chanel.caudy@caudy.org,http://www.professionalimageinc.com\n",
      "Ezekiel,Chui,\"Sider, Donald C Esq\",2 Cedar Ave #84,Easton,Talbot,MD,21601,410-669-1642,410-235-8738,ezekiel@chui.com,http://www.siderdonaldcesq.com\n",
      "Willow,Kusko,U Pull It,90991 Thorburn Ave,New York,New York,NY,10011,212-582-4976,212-934-5167,wkusko@yahoo.com,http://www.upullit.com\n",
      "Bernardo,Figeroa,\"Clark, Richard Cpa\",386 9th Ave N,Conroe,Montgomery,TX,77301,936-336-3951,936-597-3614,bfigeroa@aol.com,http://www.clarkrichardcpa.com\n",
      "Ammie,Corrio,\"Moskowitz, Barry S\",74874 Atlantic Ave,Columbus,Franklin,OH,43215,614-801-9788,614-648-3265,ammie@corrio.com,http://www.moskowitzbarrys.com\n",
      "Francine,Vocelka,Cascade Realty Advisors Inc,366 South Dr,Las Cruces,Dona Ana,NM,88011,505-977-3911,505-335-5293,francine_vocelka@vocelka.com,http://www.cascaderealtyadvisorsinc.com\n",
      "Ernie,Stenseth,Knwz Newsradio,45 E Liberty St,Ridgefield Park,Bergen,NJ,7660,201-709-6245,201-387-9093,ernie_stenseth@aol.com,http://www.knwznewsradio.com\n",
      "Albina,Glick,\"Giampetro, Anthony D\",4 Ralph Ct,Dunellen,Middlesex,NJ,8812,732-924-7882,732-782-6701,albina@glick.com,http://www.giampetroanthonyd.com\n",
      "Alishia,Sergi,Milford Enterprises Inc,2742 Distribution Way,New York,New York,NY,10025,212-860-1579,212-753-2740,asergi@gmail.com,http://www.milfordenterprisesinc.com\n",
      "Solange,Shinko,\"Mosocco, Ronald A\",426 Wolf St,Metairie,Jefferson,LA,70002,504-979-9175,504-265-8174,solange@shinko.com,http://www.mosoccoronalda.com\n",
      "Jose,Stockham,Tri State Refueler Co,128 Bransten Rd,New York,New York,NY,10011,212-675-8570,212-569-4233,jose@yahoo.com,http://www.tristaterefuelerco.com\n",
      "Rozella,Ostrosky,Parkway Company,17 Morena Blvd,Camarillo,Ventura,CA,93012,805-832-6163,805-609-1531,rozella.ostrosky@ostrosky.com,http://www.parkwaycompany.com\n",
      "Valentine,Gillian,Fbs Business Finance,775 W 17th St,San Antonio,Bexar,TX,78204,210-812-9597,210-300-6244,valentine_gillian@gmail.com,http://www.fbsbusinessfinance.com\n",
      "Kati,Rulapaugh,Eder Assocs Consltng Engrs Pc,6980 Dorsett Rd,Abilene,Dickinson,KS,67410,785-463-7829,785-219-7724,kati.rulapaugh@hotmail.com,http://www.ederassocsconsltngengrspc.com\n",
      "Youlanda,Schemmer,Tri M Tool Inc,2881 Lewis Rd,Prineville,Crook,OR,97754,541-548-8197,541-993-2611,youlanda@aol.com,http://www.trimtoolinc.com\n",
      "Dyan,Oldroyd,International Eyelets Inc,7219 Woodfield Rd,Overland Park,Johnson,KS,66204,913-413-4604,913-645-8918,doldroyd@aol.com,http://www.internationaleyeletsinc.com\n",
      "Roxane,Campain,Rapid Trading Intl,1048 Main St,Fairbanks,Fairbanks North Star,AK,99708,907-231-4722,907-335-6568,roxane@hotmail.com,http://www.rapidtradingintl.com\n",
      "Lavera,Perin,Abc Enterprises Inc,678 3rd Ave,Miami,Miami-Dade,FL,33196,305-606-7291,305-995-2078,lperin@perin.org,http://www.abcenterprisesinc.com\n",
      "Erick,Ferencz,Cindy Turner Associates,20 S Babcock St,Fairbanks,Fairbanks North Star,AK,99712,907-741-1044,907-227-6777,erick.ferencz@aol.com,http://www.cindyturnerassociates.com\n",
      "Fatima,Saylors,\"Stanton, James D Esq\",2 Lighthouse Ave,Hopkins,Hennepin,MN,55343,952-768-2416,952-479-2375,fsaylors@saylors.org,http://www.stantonjamesdesq.com\n",
      "Jina,Briddick,Grace Pastries Inc,38938 Park Blvd,Boston,Suffolk,MA,2128,617-399-5124,617-997-5771,jina_briddick@briddick.com,http://www.gracepastriesinc.com\n",
      "Kanisha,Waycott,\"Schroer, Gene E Esq\",5 Tomahawk Dr,Los Angeles,Los Angeles,CA,90006,323-453-2780,323-315-7314,kanisha_waycott@yahoo.com,http://www.schroergeneeesq.com\n",
      "Emerson,Bowley,Knights Inn,762 S Main St,Madison,Dane,WI,53711,608-336-7444,608-658-7940,emerson.bowley@bowley.org,http://www.knightsinn.com\n",
      "Blair,Malet,Bollinger Mach Shp & Shipyard,209 Decker Dr,Philadelphia,Philadelphia,PA,19132,215-907-9111,215-794-4519,bmalet@yahoo.com,http://www.bollingermachshpshipyard.com\n",
      "Brock,Bolognia,Orinda News,4486 W O St #1,New York,New York,NY,10003,212-402-9216,212-617-5063,bbolognia@yahoo.com,http://www.orindanews.com\n",
      "Lorrie,Nestle,Ballard Spahr Andrews,39 S 7th St,Tullahoma,Coffee,TN,37388,931-875-6644,931-303-6041,lnestle@hotmail.com,http://www.ballardspahrandrews.com\n",
      "Sabra,Uyetake,Lowy Limousine Service,98839 Hawthorne Blvd #6101,Columbia,Richland,SC,29201,803-925-5213,803-681-3678,sabra@uyetake.org,http://www.lowylimousineservice.com\n",
      "Marjory,Mastella,Vicon Corporation,71 San Mateo Ave,Wayne,Delaware,PA,19087,610-814-5533,610-379-7125,mmastella@mastella.com,http://www.viconcorporation.com\n",
      "Karl,Klonowski,\"Rossi, Michael M\",76 Brooks St #9,Flemington,Hunterdon,NJ,8822,908-877-6135,908-470-4661,karl_klonowski@yahoo.com,http://www.rossimichaelm.com\n",
      "Tonette,Wenner,Northwest Publishing,4545 Courthouse Rd,Westbury,Nassau,NY,11590,516-968-6051,516-333-4861,twenner@aol.com,http://www.northwestpublishing.com\n",
      "Amber,Monarrez,Branford Wire & Mfg Co,14288 Foster Ave #4121,Jenkintown,Montgomery,PA,19046,215-934-8655,215-329-6386,amber_monarrez@monarrez.org,http://www.branfordwiremfgco.com\n",
      "Shenika,Seewald,East Coast Marketing,4 Otis St,Van Nuys,Los Angeles,CA,91405,818-423-4007,818-749-8650,shenika@gmail.com,http://www.eastcoastmarketing.com\n",
      "Delmy,Ahle,Wye Technologies Inc,65895 S 16th St,Providence,Providence,RI,2909,401-458-2547,401-559-8961,delmy.ahle@hotmail.com,http://www.wyetechnologiesinc.com\n",
      "Deeanna,Juhas,\"Healy, George W Iv\",14302 Pennsylvania Ave,Huntingdon Valley,Montgomery,PA,19006,215-211-9589,215-417-9563,deeanna_juhas@gmail.com,http://www.healygeorgewiv.com\n",
      "Blondell,Pugh,Alpenlite Inc,201 Hawk Ct,Providence,Providence,RI,2904,401-960-8259,401-300-8122,bpugh@aol.com,http://www.alpenliteinc.com\n",
      "Jamal,Vanausdal,\"Hubbard, Bruce Esq\",53075 Sw 152nd Ter #615,Monroe Township,Middlesex,NJ,8831,732-234-1546,732-904-2931,jamal@vanausdal.org,http://www.hubbardbruceesq.com\n",
      "Cecily,Hollack,Arthur A Oliver & Son Inc,59 N Groesbeck Hwy,Austin,Travis,TX,78731,512-486-3817,512-861-3814,cecily@hollack.org,http://www.arthuraoliversoninc.com\n",
      "Carmelina,Lindall,George Jessop Carter Jewelers,2664 Lewis Rd,Littleton,Douglas,CO,80126,303-724-7371,303-874-5160,carmelina_lindall@lindall.com,http://www.georgejessopcarterjewelers.com\n",
      "Maurine,Yglesias,\"Schultz, Thomas C Md\",59 Shady Ln #53,Milwaukee,Milwaukee,WI,53214,414-748-1374,414-573-7719,maurine_yglesias@yglesias.com,http://www.schultzthomascmd.com\n",
      "Tawna,Buvens,H H H Enterprises Inc,3305 Nabell Ave #679,New York,New York,NY,10009,212-674-9610,212-462-9157,tawna@gmail.com,http://www.hhhenterprisesinc.com\n",
      "Penney,Weight,Hawaiian King Hotel,18 Fountain St,Anchorage,Anchorage,AK,99515,907-797-9628,907-873-2882,penney_weight@aol.com,http://www.hawaiiankinghotel.com\n",
      "Elly,Morocco,Killion Industries,7 W 32nd St,Erie,Erie,PA,16502,814-393-5571,814-420-3553,elly_morocco@gmail.com,http://www.killionindustries.com\n",
      "Ilene,Eroman,\"Robinson, William J Esq\",2853 S Central Expy,Glen Burnie,Anne Arundel,MD,21061,410-914-9018,410-937-4543,ilene.eroman@hotmail.com,http://www.robinsonwilliamjesq.com\n",
      "Vallie,Mondella,Private Properties,74 W College St,Boise,Ada,ID,83707,208-862-5339,208-737-8439,vmondella@mondella.com,http://www.privateproperties.com\n",
      "Kallie,Blackwood,Rowley Schlimgen Inc,701 S Harrison Rd,San Francisco,San Francisco,CA,94104,415-315-2761,415-604-7609,kallie.blackwood@gmail.com,http://www.rowleyschlimgeninc.com\n",
      "Johnetta,Abdallah,Forging Specialties,1088 Pinehurst St,Chapel Hill,Orange,NC,27514,919-225-9345,919-715-3791,johnetta_abdallah@aol.com,http://www.forgingspecialties.com\n",
      "Bobbye,Rhym,\"Smits, Patricia Garity\",30 W 80th St #1995,San Carlos,San Mateo,CA,94070,650-528-5783,650-811-9032,brhym@rhym.com,http://www.smitspatriciagarity.com\n",
      "Micaela,Rhymes,H Lee Leonard Attorney At Law,20932 Hedley St,Concord,Contra Costa,CA,94520,925-647-3298,925-522-7798,micaela_rhymes@gmail.com,http://www.hleeleonardattorneyatlaw.com\n",
      "Tamar,Hoogland,A K Construction Co,2737 Pistorio Rd #9230,London,Madison,OH,43140,740-343-8575,740-526-5410,tamar@hotmail.com,http://www.akconstructionco.com\n",
      "Moon,Parlato,\"Ambelang, Jessica M Md\",74989 Brandon St,Wellsville,Allegany,NY,14895,585-866-8313,585-498-4278,moon@yahoo.com,http://www.ambelangjessicammd.com\n",
      "Laurel,Reitler,Q A Service,6 Kains Ave,Baltimore,Baltimore City,MD,21215,410-520-4832,410-957-6903,laurel_reitler@reitler.com,http://www.qaservice.com\n",
      "Delisa,Crupi,Wood & Whitacre Contractors,47565 W Grand Ave,Newark,Essex,NJ,7105,973-354-2040,973-847-9611,delisa.crupi@crupi.com,http://www.woodwhitacrecontractors.com\n",
      "Viva,Toelkes,Mark Iv Press Ltd,4284 Dorigo Ln,Chicago,Cook,IL,60647,773-446-5569,773-352-3437,viva.toelkes@gmail.com,http://www.markivpressltd.com\n",
      "Elza,Lipke,Museum Of Science & Industry,6794 Lake Dr E,Newark,Essex,NJ,7104,973-927-3447,973-796-3667,elza@yahoo.com,http://www.museumofscienceindustry.com\n",
      "Devorah,Chickering,Garrison Ind,31 Douglas Blvd #950,Clovis,Curry,NM,88101,505-975-8559,505-950-1763,devorah@hotmail.com,http://www.garrisonind.com\n",
      "Timothy,Mulqueen,Saronix Nymph Products,44 W 4th St,Staten Island,Richmond,NY,10309,718-332-6527,718-654-7063,timothy_mulqueen@mulqueen.org,http://www.saronixnymphproducts.com\n",
      "Arlette,Honeywell,Smc Inc,11279 Loytan St,Jacksonville,Duval,FL,32254,904-775-4480,904-514-9918,ahoneywell@honeywell.com,http://www.smcinc.com\n",
      "Dominque,Dickerson,E A I Electronic Assocs Inc,69 Marquette Ave,Hayward,Alameda,CA,94545,510-993-3758,510-901-7640,dominque.dickerson@dickerson.org,http://www.eaielectronicassocsinc.com\n",
      "Lettie,Isenhower,\"Conte, Christopher A Esq\",70 W Main St,Beachwood,Cuyahoga,OH,44122,216-657-7668,216-733-8494,lettie_isenhower@yahoo.com,http://www.contechristopheraesq.com\n",
      "Myra,Munns,Anker Law Office,461 Prospect Pl #316,Euless,Tarrant,TX,76040,817-914-7518,817-451-3518,mmunns@cox.net,http://www.ankerlawoffice.com\n",
      "Stephaine,Barfield,Beutelschies & Company,47154 Whipple Ave Nw,Gardena,Los Angeles,CA,90247,310-774-7643,310-968-1219,stephaine@barfield.com,http://www.beutelschiescompany.com\n",
      "Lai,Gato,\"Fligg, Kenneth I Jr\",37 Alabama Ave,Evanston,Cook,IL,60201,847-728-7286,847-957-4614,lai.gato@gato.org,http://www.fliggkennethijr.com\n",
      "Stephen,Emigh,\"Sharp, J Daniel Esq\",3777 E Richmond St #900,Akron,Summit,OH,44302,330-537-5358,330-700-2312,stephen_emigh@hotmail.com,http://www.sharpjdanielesq.com\n",
      "Tyra,Shields,\"Assink, Anne H Esq\",3 Fort Worth Ave,Philadelphia,Philadelphia,PA,19106,215-255-1641,215-228-8264,tshields@gmail.com,http://www.assinkannehesq.com\n",
      "Tammara,Wardrip,Jewel My Shop Inc,4800 Black Horse Pike,Burlingame,San Mateo,CA,94010,650-803-1936,650-216-5075,twardrip@cox.net,http://www.jewelmyshopinc.com\n",
      "Cory,Gibes,Chinese Translation Resources,83649 W Belmont Ave,San Gabriel,Los Angeles,CA,91776,626-572-1096,626-696-2777,cory.gibes@gmail.com,http://www.chinesetranslationresources.com\n",
      "Danica,Bruschke,\"Stevens, Charles T\",840 15th Ave,Waco,McLennan,TX,76708,254-782-8569,254-205-1422,danica_bruschke@gmail.com,http://www.stevenscharlest.com\n",
      "Wilda,Giguere,\"Mclaughlin, Luther W Cpa\",1747 Calle Amanecer #2,Anchorage,Anchorage,AK,99501,907-870-5536,907-914-9482,wilda@cox.net,http://www.mclaughlinlutherwcpa.com\n",
      "Elvera,Benimadho,Tree Musketeers,99385 Charity St #840,San Jose,Santa Clara,CA,95110,408-703-8505,408-440-8447,elvera.benimadho@cox.net,http://www.treemusketeers.com\n",
      "Carma,Vanheusen,Springfield Div Oh Edison Co,68556 Central Hwy,San Leandro,Alameda,CA,94577,510-503-7169,510-452-4835,carma@cox.net,http://www.springfielddivohedisonco.com\n",
      "Malinda,Hochard,Logan Memorial Hospital,55 Riverside Ave,Indianapolis,Marion,IN,46202,317-722-5066,317-472-2412,malinda.hochard@yahoo.com,http://www.loganmemorialhospital.com\n",
      "Natalie,Fern,\"Kelly, Charles G Esq\",7140 University Ave,Rock Springs,Sweetwater,WY,82901,307-704-8713,307-279-3793,natalie.fern@hotmail.com,http://www.kellycharlesgesq.com\n",
      "Lisha,Centini,Industrial Paper Shredders Inc,64 5th Ave #1153,Mc Lean,Fairfax,VA,22102,703-235-3937,703-475-7568,lisha@centini.org,http://www.industrialpapershreddersinc.com\n",
      "Arlene,Klusman,Beck Horizon Builders,3 Secor Rd,New Orleans,Orleans,LA,70112,504-710-5840,504-946-1807,arlene_klusman@gmail.com,http://www.beckhorizonbuilders.com\n",
      "Alease,Buemi,Porto Cayo At Hawks Cay,4 Webbs Chapel Rd,Boulder,Boulder,CO,80303,303-301-4946,303-521-9860,alease@buemi.com,http://www.portocayoathawkscay.com\n",
      "Louisa,Cronauer,Pacific Grove Museum Ntrl Hist,524 Louisiana Ave Nw,San Leandro,Alameda,CA,94577,510-828-7047,510-472-7758,louisa@cronauer.com,http://www.pacificgrovemuseumntrlhist.com\n",
      "Angella,Cetta,Bender & Hatley Pc,185 Blackstone Bldge,Honolulu,Honolulu,HI,96817,808-892-7943,808-475-2310,angella.cetta@hotmail.com,http://www.benderhatleypc.com\n",
      "Cyndy,Goldammer,Di Cristina J & Son,170 Wyoming Ave,Burnsville,Dakota,MN,55337,952-334-9408,952-938-9457,cgoldammer@cox.net,http://www.dicristinajson.com\n",
      "Rosio,Cork,Green Goddess,4 10th St W,High Point,Guilford,NC,27263,336-243-5659,336-497-4407,rosio.cork@gmail.com,http://www.greengoddess.com\n",
      "Celeste,Korando,American Arts & Graphics,7 W Pinhook Rd,Lynbrook,Nassau,NY,11563,516-509-2347,516-365-7266,ckorando@hotmail.com,http://www.americanartsgraphics.com\n",
      "Twana,Felger,Opryland Hotel,1 Commerce Way,Portland,Washington,OR,97224,503-939-3153,503-909-7167,twana.felger@felger.org,http://www.oprylandhotel.com\n",
      "Estrella,Samu,Marking Devices Pubg Co,64 Lakeview Ave,Beloit,Rock,WI,53511,608-976-7199,608-942-8836,estrella@aol.com,http://www.markingdevicespubgco.com\n",
      "Donte,Kines,W Tc Industries Inc,3 Aspen St,Worcester,Worcester,MA,1602,508-429-8576,508-843-1426,dkines@hotmail.com,http://www.wtcindustriesinc.com\n",
      "Tiffiny,Steffensmeier,Whitehall Robbins Labs Divsn,32860 Sierra Rd,Miami,Miami-Dade,FL,33133,305-385-9695,305-304-6573,tiffiny_steffensmeier@cox.net,http://www.whitehallrobbinslabsdivsn.com\n",
      "Edna,Miceli,Sampler,555 Main St,Erie,Erie,PA,16502,814-460-2655,814-299-2877,emiceli@miceli.org,http://www.sampler.com\n",
      "Sue,Kownacki,Juno Chefs Incorporated,2 Se 3rd Ave,Mesquite,Dallas,TX,75149,972-666-3413,972-742-4000,sue@aol.com,http://www.junochefsincorporated.com\n",
      "Jesusa,Shin,\"Carroccio, A Thomas Esq\",2239 Shawnee Mission Pky,Tullahoma,Coffee,TN,37388,931-273-8709,931-739-1551,jshin@shin.com,http://www.carroccioathomasesq.com\n",
      "Rolland,Francescon,\"Stanley, Richard L Esq\",2726 Charcot Ave,Paterson,Passaic,NJ,7501,973-649-2922,973-284-4048,rolland@cox.net,http://www.stanleyrichardlesq.com\n",
      "Pamella,Schmierer,K Cs Cstm Mouldings Windows,5161 Dorsett Rd,Homestead,Miami-Dade,FL,33030,305-420-8970,305-575-8481,pamella.schmierer@schmierer.org,http://www.kcscstmmouldingswindows.com\n",
      "Glory,Kulzer,Comfort Inn,55892 Jacksonville Rd,Owings Mills,Baltimore,MD,21117,410-224-9462,410-916-8015,gkulzer@kulzer.org,http://www.comfortinn.com\n",
      "Shawna,Palaspas,\"Windsor, James L Esq\",5 N Cleveland Massillon Rd,Thousand Oaks,Ventura,CA,91362,805-275-3566,805-638-6617,shawna_palaspas@palaspas.org,http://www.windsorjameslesq.com\n",
      "Brandon,Callaro,Jackson Shields Yeiser,7 Benton Dr,Honolulu,Honolulu,HI,96819,808-215-6832,808-240-5168,brandon_callaro@hotmail.com,http://www.jacksonshieldsyeiser.com\n",
      "Scarlet,Cartan,\"Box, J Calvin Esq\",9390 S Howell Ave,Albany,Dougherty,GA,31701,229-735-3378,229-365-9658,scarlet.cartan@yahoo.com,http://www.boxjcalvinesq.com\n",
      "Oretha,Menter,Custom Engineering Inc,8 County Center Dr #647,Boston,Suffolk,MA,2210,617-418-5043,617-697-6024,oretha_menter@yahoo.com,http://www.customengineeringinc.com\n",
      "Ty,Smith,Bresler Eitel Framg Gllry Ltd,4646 Kaahumanu St,Hackensack,Bergen,NJ,7601,201-672-1553,201-995-3149,tsmith@aol.com,http://www.breslereitelframggllryltd.com\n",
      "Xuan,Rochin,\"Carol, Drake Sparks Esq\",2 Monroe St,San Mateo,San Mateo,CA,94403,650-933-5072,650-247-2625,xuan@gmail.com,http://www.caroldrakesparksesq.com\n",
      "Lindsey,Dilello,Biltmore Investors Bank,52777 Leaders Heights Rd,Ontario,San Bernardino,CA,91761,909-639-9887,909-589-1693,lindsey.dilello@hotmail.com,http://www.biltmoreinvestorsbank.com\n",
      "Devora,Perez,Desco Equipment Corp,72868 Blackington Ave,Oakland,Alameda,CA,94606,510-955-3016,510-755-9274,devora_perez@perez.org,http://www.descoequipmentcorp.com\n",
      "Herman,Demesa,Merlin Electric Co,9 Norristown Rd,Troy,Rensselaer,NY,12180,518-497-2940,518-931-7852,hdemesa@cox.net,http://www.merlinelectricco.com\n",
      "Rory,Papasergi,Bailey Cntl Co Div Babcock,83 County Road 437 #8581,Clarks Summit,Lackawanna,PA,18411,570-867-7489,570-469-8401,rpapasergi@cox.net,http://www.baileycntlcodivbabcock.com\n",
      "Talia,Riopelle,Ford Brothers Wholesale Inc,1 N Harlem Ave #9,Orange,Essex,NJ,7050,973-245-2133,973-818-9788,talia_riopelle@aol.com,http://www.fordbrotherswholesaleinc.com\n",
      "Van,Shire,Cambridge Inn,90131 J St,Pittstown,Hunterdon,NJ,8867,908-409-2890,908-448-1209,van.shire@shire.com,http://www.cambridgeinn.com\n",
      "Lucina,Lary,\"Matricciani, Albert J Jr\",8597 W National Ave,Cocoa,Brevard,FL,32922,321-749-4981,321-632-4668,lucina_lary@cox.net,http://www.matriccianialbertjjr.com\n",
      "Bok,Isaacs,Nelson Hawaiian Ltd,6 Gilson St,Bronx,Bronx,NY,10468,718-809-3762,718-478-8568,bok.isaacs@aol.com,http://www.nelsonhawaiianltd.com\n",
      "Rolande,Spickerman,Neland Travel Agency,65 W Maple Ave,Pearl City,Honolulu,HI,96782,808-315-3077,808-526-5863,rolande.spickerman@spickerman.com,http://www.nelandtravelagency.com\n",
      "Howard,Paulas,\"Asendorf, J Alan Esq\",866 34th Ave,Denver,Denver,CO,80231,303-623-4241,303-692-3118,hpaulas@gmail.com,http://www.asendorfjalanesq.com\n",
      "Kimbery,Madarang,\"Silberman, Arthur L Esq\",798 Lund Farm Way,Rockaway,Morris,NJ,7866,973-310-1634,973-225-6259,kimbery_madarang@cox.net,http://www.silbermanarthurlesq.com\n",
      "Thurman,Manno,Honey Bee Breeding Genetics &,9387 Charcot Ave,Absecon,Atlantic,NJ,8201,609-524-3586,609-234-8376,thurman.manno@yahoo.com,http://www.honeybeebreedinggenetics.com\n",
      "Becky,Mirafuentes,Wells Kravitz Schnitzer,30553 Washington Rd,Plainfield,Union,NJ,7062,908-877-8409,908-426-8272,becky.mirafuentes@mirafuentes.com,http://www.wellskravitzschnitzer.com\n",
      "Beatriz,Corrington,Prohab Rehabilitation Servs,481 W Lemon St,Middleboro,Plymouth,MA,2346,508-584-4279,508-315-3867,beatriz@yahoo.com,http://www.prohabrehabilitationservs.com\n",
      "Marti,Maybury,\"Eldridge, Kristin K Esq\",4 Warehouse Point Rd #7,Chicago,Cook,IL,60638,773-775-4522,773-539-1058,marti.maybury@yahoo.com,http://www.eldridgekristinkesq.com\n",
      "Nieves,Gotter,\"Vlahos, John J Esq\",4940 Pulaski Park Dr,Portland,Multnomah,OR,97202,503-527-5274,503-455-3094,nieves_gotter@gmail.com,http://www.vlahosjohnjesq.com\n",
      "Leatha,Hagele,Ninas Indian Grs & Videos,627 Walford Ave,Dallas,Dallas,TX,75227,214-339-1809,214-225-5850,lhagele@cox.net,http://www.ninasindiangrsvideos.com\n",
      "Valentin,Klimek,\"Schmid, Gayanne K Esq\",137 Pioneer Way,Chicago,Cook,IL,60604,312-303-5453,312-512-2338,vklimek@klimek.org,http://www.schmidgayannekesq.com\n",
      "Melissa,Wiklund,Moapa Valley Federal Credit Un,61 13 Stoneridge #835,Findlay,Hancock,OH,45840,419-939-3613,419-254-4591,melissa@cox.net,http://www.moapavalleyfederalcreditun.com\n",
      "Sheridan,Zane,Kentucky Tennessee Clay Co,2409 Alabama Rd,Riverside,Riverside,CA,92501,951-645-3605,951-248-6822,sheridan.zane@zane.com,http://www.kentuckytennesseeclayco.com\n",
      "Bulah,Padilla,Admiral Party Rentals & Sales,8927 Vandever Ave,Waco,McLennan,TX,76707,254-463-4368,254-816-8417,bulah_padilla@hotmail.com,http://www.admiralpartyrentalssales.com\n",
      "Audra,Kohnert,\"Nelson, Karolyn King Esq\",134 Lewis Rd,Nashville,Davidson,TN,37211,615-406-7854,615-448-9249,audra@kohnert.com,http://www.nelsonkarolynkingesq.com\n",
      "Daren,Weirather,Panasystems,9 N College Ave #3,Milwaukee,Milwaukee,WI,53216,414-959-2540,414-838-3151,dweirather@aol.com,http://www.panasystems.com\n",
      "Fernanda,Jillson,\"Shank, Edward L Esq\",60480 Old Us Highway 51,Preston,Caroline,MD,21655,410-387-5260,410-724-6472,fjillson@aol.com,http://www.shankedwardlesq.com\n",
      "Gearldine,Gellinger,Megibow & Edwards,4 Bloomfield Ave,Irving,Dallas,TX,75061,972-934-6914,972-821-7118,gearldine_gellinger@gellinger.com,http://www.megibowedwards.com\n",
      "Chau,Kitzman,\"Benoff, Edward Esq\",429 Tiger Ln,Beverly Hills,Los Angeles,CA,90212,310-560-8022,310-969-7230,chau@gmail.com,http://www.benoffedwardesq.com\n",
      "Theola,Frey,Woodbridge Free Public Library,54169 N Main St,Massapequa,Nassau,NY,11758,516-948-5768,516-357-3362,theola_frey@frey.com,http://www.woodbridgefreepubliclibrary.com\n",
      "Cheryl,Haroldson,New York Life John Thune,92 Main St,Atlantic City,Atlantic,NJ,8401,609-518-7697,609-263-9243,cheryl@haroldson.org,http://www.newyorklifejohnthune.com\n",
      "Laticia,Merced,Alinabal Inc,72 Mannix Dr,Cincinnati,Hamilton,OH,45203,513-508-7371,513-418-1566,lmerced@gmail.com,http://www.alinabalinc.com\n",
      "Carissa,Batman,\"Poletto, Kim David Esq\",12270 Caton Center Dr,Eugene,Lane,OR,97401,541-326-4074,541-801-5717,carissa.batman@yahoo.com,http://www.polettokimdavidesq.com\n",
      "Lezlie,Craghead,\"Chang, Carolyn Esq\",749 W 18th St #45,Smithfield,Johnston,NC,27577,919-533-3762,919-885-2453,lezlie.craghead@craghead.org,http://www.changcarolynesq.com\n",
      "Ozell,Shealy,Silver Bros Inc,8 Industry Ln,New York,New York,NY,10002,212-332-8435,212-880-8865,oshealy@hotmail.com,http://www.silverbrosinc.com\n",
      "Arminda,Parvis,Newtec Inc,1 Huntwood Ave,Phoenix,Maricopa,AZ,85017,602-906-9419,602-277-3025,arminda@parvis.com,http://www.newtecinc.com\n",
      "Reita,Leto,Creative Business Systems,55262 N French Rd,Indianapolis,Marion,IN,46240,317-234-1135,317-787-5514,reita.leto@gmail.com,http://www.creativebusinesssystems.com\n",
      "Yolando,Luczki,Dal Tile Corporation,422 E 21st St,Syracuse,Onondaga,NY,13214,315-304-4759,315-640-6357,yolando@cox.net,http://www.daltilecorporation.com\n",
      "Lizette,Stem,Edward S Katz,501 N 19th Ave,Cherry Hill,Camden,NJ,8002,856-487-5412,856-702-3676,lizette.stem@aol.com,http://www.edwardskatz.com\n",
      "Gregoria,Pawlowicz,Oh My Goodknits Inc,455 N Main Ave,Garden City,Nassau,NY,11530,516-212-1915,516-376-4230,gpawlowicz@yahoo.com,http://www.ohmygoodknitsinc.com\n",
      "Carin,Deleo,\"Redeker, Debbie\",1844 Southern Blvd,Little Rock,Pulaski,AR,72202,501-308-1040,501-409-6072,cdeleo@deleo.com,http://www.redekerdebbie.com\n",
      "Chantell,Maynerich,Desert Sands Motel,2023 Greg St,Saint Paul,Ramsey,MN,55101,651-591-2583,651-776-9688,chantell@yahoo.com,http://www.desertsandsmotel.com\n",
      "Dierdre,Yum,Cummins Southern Plains Inc,63381 Jenks Ave,Philadelphia,Philadelphia,PA,19134,215-325-3042,215-346-4666,dyum@yahoo.com,http://www.cumminssouthernplainsinc.com\n",
      "Larae,Gudroe,Lehigh Furn Divsn Lehigh,6651 Municipal Rd,Houma,Terrebonne,LA,70360,985-890-7262,985-261-5783,larae_gudroe@gmail.com,http://www.lehighfurndivsnlehigh.com\n",
      "Latrice,Tolfree,United Van Lines Agent,81 Norris Ave #525,Ronkonkoma,Suffolk,NY,11779,631-957-7624,631-998-2102,latrice.tolfree@hotmail.com,http://www.unitedvanlinesagent.com\n",
      "Kerry,Theodorov,Capitol Reporters,6916 W Main St,Sacramento,Sacramento,CA,95827,916-591-3277,916-770-7448,kerry.theodorov@gmail.com,http://www.capitolreporters.com\n",
      "Dorthy,Hidvegi,Kwik Kopy Printing,9635 S Main St,Boise,Ada,ID,83704,208-649-2373,208-690-3315,dhidvegi@yahoo.com,http://www.kwikkopyprinting.com\n",
      "Fannie,Lungren,Centro Inc,17 Us Highway 111,Round Rock,Williamson,TX,78664,512-587-5746,512-528-9933,fannie.lungren@yahoo.com,http://www.centroinc.com\n",
      "Evangelina,Radde,\"Campbell, Jan Esq\",992 Civic Center Dr,Philadelphia,Philadelphia,PA,19123,215-964-3284,215-417-5612,evangelina@aol.com,http://www.campbelljanesq.com\n",
      "Novella,Degroot,\"Evans, C Kelly Esq\",303 N Radcliffe St,Hilo,Hawaii,HI,96720,808-477-4775,808-746-1865,novella_degroot@degroot.org,http://www.evansckellyesq.com\n",
      "Clay,Hoa,Scat Enterprises,73 Saint Ann St #86,Reno,Washoe,NV,89502,775-501-8109,775-848-9135,choa@hoa.org,http://www.scatenterprises.com\n",
      "Jennifer,Fallick,\"Nagle, Daniel J Esq\",44 58th St,Wheeling,Cook,IL,60090,847-979-9545,847-800-3054,jfallick@yahoo.com,http://www.nagledanieljesq.com\n",
      "Irma,Wolfgramm,Serendiquity Bed & Breakfast,9745 W Main St,Randolph,Morris,NJ,7869,973-545-7355,973-868-8660,irma.wolfgramm@hotmail.com,http://www.serendiquitybedbreakfast.com\n",
      "Eun,Coody,Ray Carolyne Realty,84 Bloomfield Ave,Spartanburg,Spartanburg,SC,29301,864-256-3620,864-594-4578,eun@yahoo.com,http://www.raycarolynerealty.com\n",
      "Sylvia,Cousey,\"Berg, Charles E\",287 Youngstown Warren Rd,Hampstead,Carroll,MD,21074,410-209-9545,410-863-8263,sylvia_cousey@cousey.org,http://www.bergcharlese.com\n",
      "Nana,Wrinkles,\"Ray, Milbern D\",6 Van Buren St,Mount Vernon,Westchester,NY,10553,914-855-2115,914-796-3775,nana@aol.com,http://www.raymilbernd.com\n",
      "Layla,Springe,Chadds Ford Winery,229 N Forty Driv,New York,New York,NY,10011,212-260-3151,212-253-7448,layla.springe@cox.net,http://www.chaddsfordwinery.com\n",
      "Joesph,Degonia,A R Packaging,2887 Knowlton St #5435,Berkeley,Alameda,CA,94710,510-677-9785,510-942-5916,joesph_degonia@degonia.org,http://www.arpackaging.com\n",
      "Annabelle,Boord,Corn Popper,523 Marquette Ave,Concord,Middlesex,MA,1742,978-697-6263,978-289-7717,annabelle.boord@cox.net,http://www.cornpopper.com\n",
      "Stephaine,Vinning,Birite Foodservice Distr,3717 Hamann Industrial Pky,San Francisco,San Francisco,CA,94104,415-767-6596,415-712-9530,stephaine@cox.net,http://www.biritefoodservicedistr.com\n",
      "Nelida,Sawchuk,Anchorage Museum Of Hist & Art,3 State Route 35 S,Paramus,Bergen,NJ,7652,201-971-1638,201-247-8925,nelida@gmail.com,http://www.anchoragemuseumofhistart.com\n",
      "Marguerita,Hiatt,\"Haber, George D Md\",82 N Highway 67,Oakley,Contra Costa,CA,94561,925-634-7158,925-541-8521,marguerita.hiatt@gmail.com,http://www.habergeorgedmd.com\n",
      "Carmela,Cookey,Royal Pontiac Olds Inc,9 Murfreesboro Rd,Chicago,Cook,IL,60623,773-494-4195,773-297-9391,ccookey@cookey.org,http://www.royalpontiacoldsinc.com\n",
      "Junita,Brideau,Leonards Antiques Inc,6 S Broadway St,Cedar Grove,Essex,NJ,7009,973-943-3423,973-582-5469,jbrideau@aol.com,http://www.leonardsantiquesinc.com\n",
      "Claribel,Varriano,Meca,6 Harry L Dr #6327,Perrysburg,Wood,OH,43551,419-544-4900,419-573-2033,claribel_varriano@cox.net,http://www.meca.com\n",
      "Benton,Skursky,Nercon Engineering & Mfg Inc,47939 Porter Ave,Gardena,Los Angeles,CA,90248,310-579-2907,310-694-8466,benton.skursky@aol.com,http://www.nerconengineeringmfginc.com\n",
      "Hillary,Skulski,Replica I,9 Wales Rd Ne #914,Homosassa,Citrus,FL,34448,352-242-2570,352-990-5946,hillary.skulski@aol.com,http://www.replicai.com\n",
      "Merilyn,Bayless,20 20 Printing Inc,195 13n N,Santa Clara,Santa Clara,CA,95054,408-758-5015,408-346-2180,merilyn_bayless@cox.net,http://www.printinginc.com\n",
      "Teri,Ennaco,Publishers Group West,99 Tank Farm Rd,Hazleton,Luzerne,PA,18201,570-889-5187,570-355-1665,tennaco@gmail.com,http://www.publishersgroupwest.com\n",
      "Merlyn,Lawler,\"Nischwitz, Jeffrey L Esq\",4671 Alemany Blvd,Jersey City,Hudson,NJ,7304,201-588-7810,201-858-9960,merlyn_lawler@hotmail.com,http://www.nischwitzjeffreylesq.com\n",
      "Georgene,Montezuma,Payne Blades & Wellborn Pa,98 University Dr,San Ramon,Contra Costa,CA,94583,925-615-5185,925-943-3449,gmontezuma@cox.net,http://www.paynebladeswellbornpa.com\n",
      "Jettie,Mconnell,Coldwell Bnkr Wright Real Est,50 E Wacker Dr,Bridgewater,Somerset,NJ,8807,908-802-3564,908-602-5258,jmconnell@hotmail.com,http://www.coldwellbnkrwrightrealest.com\n",
      "Lemuel,Latzke,Computer Repair Service,70 Euclid Ave #722,Bohemia,Suffolk,NY,11716,631-748-6479,631-291-4976,lemuel.latzke@gmail.com,http://www.computerrepairservice.com\n",
      "Melodie,Knipp,Fleetwood Building Block Inc,326 E Main St #6496,Thousand Oaks,Ventura,CA,91362,805-690-1682,805-810-8964,mknipp@gmail.com,http://www.fleetwoodbuildingblockinc.com\n",
      "Candida,Corbley,Colts Neck Medical Assocs Inc,406 Main St,Somerville,Somerset,NJ,8876,908-275-8357,908-943-6103,candida_corbley@hotmail.com,http://www.coltsneckmedicalassocsinc.com\n",
      "Karan,Karpin,New England Taxidermy,3 Elmwood Dr,Beaverton,Washington,OR,97005,503-940-8327,503-707-5812,karan_karpin@gmail.com,http://www.newenglandtaxidermy.com\n",
      "Andra,Scheyer,\"Ludcke, George O Esq\",9 Church St,Salem,Marion,OR,97302,503-516-2189,503-950-3068,andra@gmail.com,http://www.ludckegeorgeoesq.com\n",
      "Felicidad,Poullion,\"Mccorkle, Tom S Esq\",9939 N 14th St,Riverton,Burlington,NJ,8077,856-305-9731,856-828-6021,fpoullion@poullion.com,http://www.mccorkletomsesq.com\n",
      "Belen,Strassner,Eagle Software Inc,5384 Southwyck Blvd,Douglasville,Douglas,GA,30135,770-507-8791,770-802-4003,belen_strassner@aol.com,http://www.eaglesoftwareinc.com\n",
      "Gracia,Melnyk,Juvenile & Adult Super,97 Airport Loop Dr,Jacksonville,Duval,FL,32216,904-235-3633,904-627-4341,gracia@melnyk.com,http://www.juvenileadultsuper.com\n",
      "Jolanda,Hanafan,\"Perez, Joseph J Esq\",37855 Nolan Rd,Bangor,Penobscot,ME,4401,207-458-9196,207-233-6185,jhanafan@gmail.com,http://www.perezjosephjesq.com\n",
      "Barrett,Toyama,Case Foundation Co,4252 N Washington Ave #9,Kennedale,Tarrant,TX,76060,817-765-5781,817-577-6151,barrett.toyama@toyama.org,http://www.casefoundationco.com\n",
      "Helga,Fredicks,Eis Environmental Engrs Inc,42754 S Ash Ave,Buffalo,Erie,NY,14228,716-752-4114,716-854-9845,helga_fredicks@yahoo.com,http://www.eisenvironmentalengrsinc.com\n",
      "Ashlyn,Pinilla,Art Crafters,703 Beville Rd,Opa Locka,Miami-Dade,FL,33054,305-670-9628,305-857-5489,apinilla@cox.net,http://www.artcrafters.com\n",
      "Fausto,Agramonte,Marriott Hotels Resorts Suites,5 Harrison Rd,New York,New York,NY,10038,212-313-1783,212-778-3063,fausto_agramonte@yahoo.com,http://www.marriotthotelsresortssuites.com\n",
      "Ronny,Caiafa,Remaco Inc,73 Southern Blvd,Philadelphia,Philadelphia,PA,19103,215-605-7570,215-511-3531,ronny.caiafa@caiafa.org,http://www.remacoinc.com\n",
      "Marge,Limmel,\"Bjork, Robert D Jr\",189 Village Park Rd,Crestview,Okaloosa,FL,32536,850-430-1663,850-330-8079,marge@gmail.com,http://www.bjorkrobertdjr.com\n",
      "Norah,Waymire,\"Carmichael, Jeffery L Esq\",6 Middlegate Rd #106,San Francisco,San Francisco,CA,94107,415-306-7897,415-874-2984,norah.waymire@gmail.com,http://www.carmichaeljefferylesq.com\n",
      "Aliza,Baltimore,\"Andrews, J Robert Esq\",1128 Delaware St,San Jose,Santa Clara,CA,95132,408-504-3552,408-425-1994,aliza@aol.com,http://www.andrewsjrobertesq.com\n",
      "Mozell,Pelkowski,Winship & Byrne,577 Parade St,South San Francisco,San Mateo,CA,94080,650-947-1215,650-960-1069,mpelkowski@pelkowski.org,http://www.winshipbyrne.com\n",
      "Viola,Bitsuie,Burton & Davis,70 Mechanic St,Northridge,Los Angeles,CA,91325,818-864-4875,818-481-5787,viola@gmail.com,http://www.burtondavis.com\n",
      "Franklyn,Emard,Olympic Graphic Arts,4379 Highway 116,Philadelphia,Philadelphia,PA,19103,215-558-8189,215-483-3003,femard@emard.com,http://www.olympicgraphicarts.com\n",
      "Willodean,Konopacki,Magnuson,55 Hawthorne Blvd,Lafayette,Lafayette,LA,70506,337-253-8384,337-774-7564,willodean_konopacki@konopacki.org,http://www.magnuson.com\n",
      "Beckie,Silvestrini,A All American Travel Inc,7116 Western Ave,Dearborn,Wayne,MI,48126,313-533-4884,313-390-7855,beckie.silvestrini@silvestrini.com,http://www.aallamericantravelinc.com\n",
      "Rebecka,Gesick,Polykote Inc,2026 N Plankinton Ave #3,Austin,Travis,TX,78754,512-213-8574,512-693-8345,rgesick@gesick.org,http://www.polykoteinc.com\n",
      "Frederica,Blunk,Jets Cybernetics,99586 Main St,Dallas,Dallas,TX,75207,214-428-2285,214-529-1949,frederica_blunk@gmail.com,http://www.jetscybernetics.com\n",
      "Glen,Bartolet,Metlab Testing Services,8739 Hudson St,Vashon,King,WA,98070,206-697-5796,206-389-1482,glen_bartolet@hotmail.com,http://www.metlabtestingservices.com\n",
      "Freeman,Gochal,\"Kellermann, William T Esq\",383 Gunderman Rd #197,Coatesville,Chester,PA,19320,610-476-3501,610-752-2683,freeman_gochal@aol.com,http://www.kellermannwilliamtesq.com\n",
      "Vincent,Meinerding,\"Arturi, Peter D Esq\",4441 Point Term Mkt,Philadelphia,Philadelphia,PA,19143,215-372-1718,215-829-4221,vincent.meinerding@hotmail.com,http://www.arturipeterdesq.com\n",
      "Rima,Bevelacqua,Mcauley Mfg Co,2972 Lafayette Ave,Gardena,Los Angeles,CA,90248,310-858-5079,310-499-4200,rima@cox.net,http://www.mcauleymfgco.com\n",
      "Glendora,Sarbacher,Defur Voran Hanley Radcliff,2140 Diamond Blvd,Rohnert Park,Sonoma,CA,94928,707-653-8214,707-881-3154,gsarbacher@gmail.com,http://www.defurvoranhanleyradcliff.com\n",
      "Avery,Steier,Dill Dill Carr & Stonbraker Pc,93 Redmond Rd #492,Orlando,Orange,FL,32803,407-808-9439,407-945-8566,avery@cox.net,http://www.dilldillcarrstonbrakerpc.com\n",
      "Cristy,Lother,Kleensteel,3989 Portage Tr,Escondido,San Diego,CA,92025,760-971-4322,760-465-4762,cristy@lother.com,http://www.kleensteel.com\n",
      "Nicolette,Brossart,Goulds Pumps Inc Slurry Pump,1 Midway Rd,Westborough,Worcester,MA,1581,508-837-9230,508-504-6388,nicolette_brossart@brossart.com,http://www.gouldspumpsincslurrypump.com\n",
      "Tracey,Modzelewski,Kansas City Insurance Report,77132 Coon Rapids Blvd Nw,Conroe,Montgomery,TX,77301,936-264-9294,936-988-8171,tracey@hotmail.com,http://www.kansascityinsurancereport.com\n",
      "Virgina,Tegarden,Berhanu International Foods,755 Harbor Way,Milwaukee,Milwaukee,WI,53226,414-214-8697,414-411-5744,virgina_tegarden@tegarden.com,http://www.berhanuinternationalfoods.com\n",
      "Tiera,Frankel,Roland Ashcroft,87 Sierra Rd,El Monte,Los Angeles,CA,91731,626-636-4117,626-638-4241,tfrankel@aol.com,http://www.rolandashcroft.com\n",
      "Alaine,Bergesen,Hispanic Magazine,7667 S Hulen St #42,Yonkers,Westchester,NY,10701,914-300-9193,914-654-1426,alaine_bergesen@cox.net,http://www.hispanicmagazine.com\n",
      "Earleen,Mai,Little Sheet Metal Co,75684 S Withlapopka Dr #32,Dallas,Dallas,TX,75227,214-289-1973,214-785-6750,earleen_mai@cox.net,http://www.littlesheetmetalco.com\n",
      "Leonida,Gobern,\"Holmes, Armstead J Esq\",5 Elmwood Park Blvd,Biloxi,Harrison,MS,39530,228-235-5615,228-432-4635,leonida@gobern.org,http://www.holmesarmsteadjesq.com\n",
      "Ressie,Auffrey,\"Faw, James C Cpa\",23 Palo Alto Sq,Miami,Miami-Dade,FL,33134,305-604-8981,305-287-4743,ressie.auffrey@yahoo.com,http://www.fawjamesccpa.com\n",
      "Justine,Mugnolo,Evans Rule Company,38062 E Main St,New York,New York,NY,10048,212-304-9225,212-311-6377,jmugnolo@yahoo.com,http://www.evansrulecompany.com\n",
      "Eladia,Saulter,Tyee Productions Inc,3958 S Dupont Hwy #7,Ramsey,Bergen,NJ,7446,201-474-4924,201-365-8698,eladia@saulter.com,http://www.tyeeproductionsinc.com\n",
      "Chaya,Malvin,Dunnells & Duvall,560 Civic Center Dr,Ann Arbor,Washtenaw,MI,48103,734-928-5182,734-408-8174,chaya@malvin.com,http://www.dunnellsduvall.com\n",
      "Gwenn,Suffield,Deltam Systems Inc,3270 Dequindre Rd,Deer Park,Suffolk,NY,11729,631-258-6558,631-295-9879,gwenn_suffield@suffield.org,http://www.deltamsystemsinc.com\n",
      "Salena,Karpel,Hammill Mfg Co,1 Garfield Ave #7,Canton,Stark,OH,44707,330-791-8557,330-618-2579,skarpel@cox.net,http://www.hammillmfgco.com\n",
      "Yoko,Fishburne,Sams Corner Store,9122 Carpenter Ave,New Haven,New Haven,CT,6511,203-506-4706,203-840-8634,yoko@fishburne.com,http://www.samscornerstore.com\n",
      "Taryn,Moyd,\"Siskin, Mark J Esq\",48 Lenox St,Fairfax,Fairfax City,VA,22030,703-322-4041,703-938-7939,taryn.moyd@hotmail.com,http://www.siskinmarkjesq.com\n",
      "Katina,Polidori,Cape & Associates Real Estate,5 Little River Tpke,Wilmington,Middlesex,MA,1887,978-626-2978,978-679-7429,katina_polidori@aol.com,http://www.capeassociatesrealestate.com\n",
      "Rickie,Plumer,Merrill Lynch,3 N Groesbeck Hwy,Toledo,Lucas,OH,43613,419-693-1334,419-313-5571,rickie.plumer@aol.com,http://www.merrilllynch.com\n",
      "Alex,Loader,\"Sublett, Scott Esq\",37 N Elm St #916,Tacoma,Pierce,WA,98409,253-660-7821,253-875-9222,alex@loader.com,http://www.sublettscottesq.com\n",
      "Lashon,Vizarro,Sentry Signs,433 Westminster Blvd #590,Roseville,Placer,CA,95661,916-741-7884,916-289-4526,lashon@aol.com,http://www.sentrysigns.com\n",
      "Lauran,Burnard,Professionals Unlimited,66697 Park Pl #3224,Riverton,Fremont,WY,82501,307-342-7795,307-453-7589,lburnard@burnard.com,http://www.professionalsunlimited.com\n",
      "Ceola,Setter,Southern Steel Shelving Co,96263 Greenwood Pl,Warren,Knox,ME,4864,207-627-7565,207-297-5029,ceola.setter@setter.org,http://www.southernsteelshelvingco.com\n",
      "My,Rantanen,\"Bosco, Paul J\",8 Mcarthur Ln,Richboro,Bucks,PA,18954,215-491-5633,215-647-2158,my@hotmail.com,http://www.boscopaulj.com\n",
      "Lorrine,Worlds,\"Longo, Nicholas J Esq\",8 Fair Lawn Ave,Tampa,Hillsborough,FL,33614,813-769-2939,813-863-6467,lorrine.worlds@worlds.com,http://www.longonicholasjesq.com\n",
      "Peggie,Sturiale,Henry County Middle School,9 N 14th St,El Cajon,San Diego,CA,92020,619-608-1763,619-695-8086,peggie@cox.net,http://www.henrycountymiddleschool.com\n",
      "Marvel,Raymo,Edison Supply & Equipment Co,9 Vanowen St,College Station,Brazos,TX,77840,979-718-8968,979-809-5770,mraymo@yahoo.com,http://www.edisonsupplyequipmentco.com\n",
      "Daron,Dinos,\"Wolf, Warren R Esq\",18 Waterloo Geneva Rd,Highland Park,Lake,IL,60035,847-233-3075,847-265-6609,daron_dinos@cox.net,http://www.wolfwarrenresq.com\n",
      "An,Fritz,Linguistic Systems Inc,506 S Hacienda Dr,Atlantic City,Atlantic,NJ,8401,609-228-5265,609-854-7156,an_fritz@hotmail.com,http://www.linguisticsystemsinc.com\n",
      "Portia,Stimmel,Peace Christian Center,3732 Sherman Ave,Bridgewater,Somerset,NJ,8807,908-722-7128,908-670-4712,portia.stimmel@aol.com,http://www.peacechristiancenter.com\n",
      "Rhea,Aredondo,Double B Foods Inc,25657 Live Oak St,Brooklyn,Kings,NY,11226,718-560-9537,718-280-4183,rhea_aredondo@cox.net,http://www.doublebfoodsinc.com\n",
      "Benedict,Sama,Alexander & Alexander Inc,4923 Carey Ave,Saint Louis,Saint Louis City,MO,63104,314-787-1588,314-858-4832,bsama@cox.net,http://www.alexanderalexanderinc.com\n",
      "Alyce,Arias,Fairbanks Scales,3196 S Rider Trl,Stockton,San Joaquin,CA,95207,209-317-1801,209-242-7022,alyce@arias.org,http://www.fairbanksscales.com\n",
      "Heike,Berganza,Cali Sportswear Cutting Dept,3 Railway Ave #75,Little Falls,Passaic,NJ,7424,973-936-5095,973-822-8827,heike@gmail.com,http://www.calisportswearcuttingdept.com\n",
      "Carey,Dopico,\"Garofani, John Esq\",87393 E Highland Rd,Indianapolis,Marion,IN,46220,317-578-2453,317-441-5848,carey_dopico@dopico.org,http://www.garofanijohnesq.com\n",
      "Dottie,Hellickson,Thompson Fabricating Co,67 E Chestnut Hill Rd,Seattle,King,WA,98133,206-540-6076,206-295-5631,dottie@hellickson.org,http://www.thompsonfabricatingco.com\n",
      "Deandrea,Hughey,Century 21 Krall Real Estate,33 Lewis Rd #46,Burlington,Alamance,NC,27215,336-822-7652,336-467-3095,deandrea@yahoo.com,http://www.centurykrallrealestate.com\n",
      "Kimberlie,Duenas,Mid Contntl Rlty & Prop Mgmt,8100 Jacksonville Rd #7,Hays,Ellis,KS,67601,785-629-8542,785-616-1685,kimberlie_duenas@yahoo.com,http://www.midcontntlrltypropmgmt.com\n",
      "Martina,Staback,Ace Signs Inc,7 W Wabansia Ave #227,Orlando,Orange,FL,32822,407-471-6908,407-429-2145,martina_staback@staback.com,http://www.acesignsinc.com\n",
      "Skye,Fillingim,Rodeway Inn,25 Minters Chapel Rd #9,Minneapolis,Hennepin,MN,55401,612-508-2655,612-664-6304,skye_fillingim@yahoo.com,http://www.rodewayinn.com\n",
      "Jade,Farrar,Bonnet & Daughter,6882 Torresdale Ave,Columbia,Richland,SC,29201,803-352-5387,803-975-3405,jade.farrar@yahoo.com,http://www.bonnetdaughter.com\n",
      "Charlene,Hamilton,Oshins & Gibbons,985 E 6th Ave,Santa Rosa,Sonoma,CA,95407,707-300-1771,707-821-8037,charlene.hamilton@hotmail.com,http://www.oshinsgibbons.com\n",
      "Geoffrey,Acey,Price Business Services,7 West Ave #1,Palatine,Cook,IL,60067,847-222-1734,847-556-2909,geoffrey@gmail.com,http://www.pricebusinessservices.com\n",
      "Stevie,Westerbeck,\"Wise, Dennis W Md\",26659 N 13th St,Costa Mesa,Orange,CA,92626,949-867-4077,949-903-3898,stevie.westerbeck@yahoo.com,http://www.wisedenniswmd.com\n",
      "Pamella,Fortino,Super 8 Motel,669 Packerland Dr #1438,Denver,Denver,CO,80212,303-404-2210,303-794-1341,pamella@fortino.com,http://www.supermotel.com\n",
      "Harrison,Haufler,John Wagner Associates,759 Eldora St,New Haven,New Haven,CT,6515,203-801-6193,203-801-8497,hhaufler@hotmail.com,http://www.johnwagnerassociates.com\n",
      "Johnna,Engelberg,Thrifty Oil Co,5 S Colorado Blvd #449,Bothell,Snohomish,WA,98021,425-986-7573,425-700-3751,jengelberg@engelberg.org,http://www.thriftyoilco.com\n",
      "Buddy,Cloney,Larkfield Photo,944 Gaither Dr,Strongsville,Cuyahoga,OH,44136,440-989-5826,440-327-2093,buddy.cloney@yahoo.com,http://www.larkfieldphoto.com\n",
      "Dalene,Riden,Silverman Planetarium,66552 Malone Rd,Plaistow,Rockingham,NH,3865,603-315-6839,603-745-7497,dalene.riden@aol.com,http://www.silvermanplanetarium.com\n",
      "Jerry,Zurcher,J & F Lumber,77 Massillon Rd #822,Satellite Beach,Brevard,FL,32937,321-518-5938,321-597-2159,jzurcher@zurcher.org,http://www.jflumber.com\n",
      "Haydee,Denooyer,Cleaning Station Inc,25346 New Rd,New York,New York,NY,10016,212-792-8658,212-782-3493,hdenooyer@denooyer.org,http://www.cleaningstationinc.com\n",
      "Joseph,Cryer,Ames Stationers,60 Fillmore Ave,Huntington Beach,Orange,CA,92647,714-584-2237,714-698-2170,joseph_cryer@cox.net,http://www.amesstationers.com\n",
      "Deonna,Kippley,Midas Muffler Shops,57 Haven Ave #90,Southfield,Oakland,MI,48075,248-913-4677,248-793-4966,deonna_kippley@hotmail.com,http://www.midasmufflershops.com\n",
      "Raymon,Calvaresi,Seaboard Securities Inc,6538 E Pomona St #60,Indianapolis,Marion,IN,46222,317-825-4724,317-342-1532,raymon.calvaresi@gmail.com,http://www.seaboardsecuritiesinc.com\n",
      "Alecia,Bubash,\"Petersen, James E Esq\",6535 Joyce St,Wichita Falls,Wichita,TX,76301,940-276-7922,940-302-3036,alecia@aol.com,http://www.petersenjameseesq.com\n",
      "Ma,Layous,Development Authority,78112 Morris Ave,North Haven,New Haven,CT,6473,203-721-3388,203-564-1543,mlayous@hotmail.com,http://www.developmentauthority.com\n",
      "Detra,Coyier,Schott Fiber Optics Inc,96950 Hidden Ln,Aberdeen,Harford,MD,21001,410-739-9277,410-259-2118,detra@aol.com,http://www.schottfiberopticsinc.com\n",
      "Terrilyn,Rodeigues,Stuart J Agins,3718 S Main St,New Orleans,Orleans,LA,70130,504-463-4384,504-635-8518,terrilyn.rodeigues@cox.net,http://www.stuartjagins.com\n",
      "Salome,Lacovara,Mitsumi Electronics Corp,9677 Commerce Dr,Richmond,Richmond City,VA,23219,804-550-5097,804-858-1011,slacovara@gmail.com,http://www.mitsumielectronicscorp.com\n",
      "Garry,Keetch,Italian Express Franchise Corp,5 Green Pond Rd #4,Southampton,Bucks,PA,18966,215-979-8776,215-846-9046,garry_keetch@hotmail.com,http://www.italianexpressfranchisecorp.com\n",
      "Matthew,Neither,American Council On Sci & Hlth,636 Commerce Dr #42,Shakopee,Scott,MN,55379,952-651-7597,952-906-4597,mneither@yahoo.com,http://www.americancouncilonscihlth.com\n",
      "Theodora,Restrepo,\"Kleri, Patricia S Esq\",42744 Hamann Industrial Pky #82,Miami,Miami-Dade,FL,33136,305-936-8226,305-573-1085,theodora.restrepo@restrepo.com,http://www.kleripatriciasesq.com\n",
      "Noah,Kalafatis,Twiggs Abrams Blanchard,1950 5th Ave,Milwaukee,Milwaukee,WI,53209,414-263-5287,414-660-9766,noah.kalafatis@aol.com,http://www.twiggsabramsblanchard.com\n",
      "Carmen,Sweigard,Maui Research & Technology Pk,61304 N French Rd,Somerset,Somerset,NJ,8873,732-941-2621,732-445-6940,csweigard@sweigard.com,http://www.mauiresearchtechnologypk.com\n",
      "Lavonda,Hengel,Bradley Nameplate Corp,87 Imperial Ct #79,Fargo,Cass,ND,58102,701-898-2154,701-421-7080,lavonda@cox.net,http://www.bradleynameplatecorp.com\n",
      "Junita,Stoltzman,Geonex Martel Inc,94 W Dodge Rd,Carson City,Carson City,NV,89701,775-638-9963,775-578-1214,junita@aol.com,http://www.geonexmartelinc.com\n",
      "Herminia,Nicolozakes,Sea Island Div Of Fstr Ind Inc,4 58th St #3519,Scottsdale,Maricopa,AZ,85254,602-954-5141,602-304-6433,herminia@nicolozakes.org,http://www.seaislanddivoffstrindinc.com\n",
      "Casie,Good,\"Papay, Debbie J Esq\",5221 Bear Valley Rd,Nashville,Davidson,TN,37211,615-390-2251,615-825-4297,casie.good@aol.com,http://www.papaydebbiejesq.com\n",
      "Reena,Maisto,Lane Promotions,9648 S Main,Salisbury,Wicomico,MD,21801,410-351-1863,410-951-2667,reena@hotmail.com,http://www.lanepromotions.com\n",
      "Mirta,Mallett,Stephen Kennerly Archts Inc Pc,7 S San Marcos Rd,New York,New York,NY,10004,212-870-1286,212-745-6948,mirta_mallett@gmail.com,http://www.stephenkennerlyarchtsincpc.com\n",
      "Cathrine,Pontoriero,Business Systems Of Wis Inc,812 S Haven St,Amarillo,Randall,TX,79109,806-703-1435,806-558-5848,cathrine.pontoriero@pontoriero.com,http://www.businesssystemsofwisinc.com\n",
      "Filiberto,Tawil,\"Flash, Elena Salerno Esq\",3882 W Congress St #799,Los Angeles,Los Angeles,CA,90016,323-765-2528,323-842-8226,ftawil@hotmail.com,http://www.flashelenasalernoesq.com\n",
      "Raul,Upthegrove,\"Neeley, Gregory W Esq\",4 E Colonial Dr,La Mesa,San Diego,CA,91942,619-509-5282,619-666-4765,rupthegrove@yahoo.com,http://www.neeleygregorywesq.com\n",
      "Sarah,Candlish,Alabama Educational Tv Comm,45 2nd Ave #9759,Atlanta,Fulton,GA,30328,770-732-1194,770-531-2842,sarah.candlish@gmail.com,http://www.alabamaeducationaltvcomm.com\n",
      "Lucy,Treston,Franz Inc,57254 Brickell Ave #372,Worcester,Worcester,MA,1602,508-769-5250,508-502-5634,lucy@cox.net,http://www.franzinc.com\n",
      "Judy,Aquas,Plantation Restaurant,8977 Connecticut Ave Nw #3,Niles,Berrien,MI,49120,269-756-7222,269-431-9464,jaquas@aquas.com,http://www.plantationrestaurant.com\n",
      "Yvonne,Tjepkema,Radio Communications Co,9 Waydell St,Fairfield,Essex,NJ,7004,973-714-1721,973-976-8627,yvonne.tjepkema@hotmail.com,http://www.radiocommunicationsco.com\n",
      "Kayleigh,Lace,Dentalaw Divsn Hlth Care,43 Huey P Long Ave,Lafayette,Lafayette,LA,70508,337-740-9323,337-751-2326,kayleigh.lace@yahoo.com,http://www.dentalawdivsnhlthcare.com\n",
      "Felix,Hirpara,American Speedy Printing Ctrs,7563 Cornwall Rd #4462,Denver,Lancaster,PA,17517,717-491-5643,717-583-1497,felix_hirpara@cox.net,http://www.americanspeedyprintingctrs.com\n",
      "Tresa,Sweely,\"Grayson, Grant S Esq\",22 Bridle Ln,Valley Park,Saint Louis,MO,63088,314-359-9566,314-231-3514,tresa_sweely@hotmail.com,http://www.graysongrantsesq.com\n",
      "Kristeen,Turinetti,Jeanerette Middle School,70099 E North Ave,Arlington,Tarrant,TX,76013,817-213-8851,817-947-9480,kristeen@gmail.com,http://www.jeanerettemiddleschool.com\n",
      "Jenelle,Regusters,\"Haavisto, Brian F Esq\",3211 E Northeast Loop,Tampa,Hillsborough,FL,33619,813-932-8715,813-357-7296,jregusters@regusters.com,http://www.haavistobrianfesq.com\n",
      "Renea,Monterrubio,Wmmt Radio Station,26 Montgomery St,Atlanta,Fulton,GA,30328,770-679-4752,770-930-9967,renea@hotmail.com,http://www.wmmtradiostation.com\n",
      "Olive,Matuszak,Colony Paints Sales Ofc & Plnt,13252 Lighthouse Ave,Cathedral City,Riverside,CA,92234,760-938-6069,760-745-2649,olive@aol.com,http://www.colonypaintssalesofcplnt.com\n",
      "Ligia,Reiber,Floral Expressions,206 Main St #2804,Lansing,Ingham,MI,48933,517-906-1108,517-747-7664,lreiber@cox.net,http://www.floralexpressions.com\n",
      "Christiane,Eschberger,Casco Services Inc,96541 W Central Blvd,Phoenix,Maricopa,AZ,85034,602-390-4944,602-330-6894,christiane.eschberger@yahoo.com,http://www.cascoservicesinc.com\n",
      "Goldie,Schirpke,\"Reuter, Arthur C Jr\",34 Saint George Ave #2,Bangor,Penobscot,ME,4401,207-295-7569,207-748-3722,goldie.schirpke@yahoo.com,http://www.reuterarthurcjr.com\n",
      "Loreta,Timenez,\"Kaminski, Katherine Andritsaki\",47857 Coney Island Ave,Clinton,Prince Georges,MD,20735,301-696-6420,301-392-6698,loreta.timenez@hotmail.com,http://www.kaminskikatherineandritsaki.com\n",
      "Fabiola,Hauenstein,Sidewinder Products Corp,8573 Lincoln Blvd,York,York,PA,17404,717-809-3119,717-344-2804,fabiola.hauenstein@hauenstein.org,http://www.sidewinderproductscorp.com\n",
      "Amie,Perigo,General Foam Corporation,596 Santa Maria Ave #7913,Mesquite,Dallas,TX,75150,972-419-7946,972-898-1033,amie.perigo@yahoo.com,http://www.generalfoamcorporation.com\n",
      "Raina,Brachle,Ikg Borden Divsn Harsco Corp,3829 Ventura Blvd,Butte,Silver Bow,MT,59701,406-318-1515,406-374-7752,raina.brachle@brachle.org,http://www.ikgbordendivsnharscocorp.com\n",
      "Erinn,Canlas,Anchor Computer Inc,13 S Hacienda Dr,Livingston,Essex,NJ,7039,973-767-3008,973-563-9502,erinn.canlas@canlas.com,http://www.anchorcomputerinc.com\n",
      "Cherry,Lietz,Sebring & Co,40 9th Ave Sw #91,Waterford,Oakland,MI,48329,248-980-6904,248-697-7722,cherry@lietz.com,http://www.sebringco.com\n",
      "Kattie,Vonasek,H A C Farm Lines Co Optv Assoc,2845 Boulder Crescent St,Cleveland,Cuyahoga,OH,44103,216-923-3715,216-270-9653,kattie@vonasek.org,http://www.hacfarmlinescooptvassoc.com\n",
      "Lilli,Scriven,\"Hunter, John J Esq\",33 State St,Abilene,Taylor,TX,79601,325-631-1560,325-667-7868,lilli@aol.com,http://www.hunterjohnjesq.com\n",
      "Whitley,Tomasulo,Freehold Fence Co,2 S 15th St,Fort Worth,Tarrant,TX,76107,817-526-4408,817-819-7799,whitley.tomasulo@aol.com,http://www.freeholdfenceco.com\n",
      "Barbra,Adkin,Binswanger,4 Kohler Memorial Dr,Brooklyn,Kings,NY,11230,718-201-3751,718-732-9475,badkin@hotmail.com,http://www.binswanger.com\n",
      "Hermila,Thyberg,Chilton Malting Co,1 Rancho Del Mar Shopping C,Providence,Providence,RI,2903,401-893-4882,401-885-7681,hermila_thyberg@hotmail.com,http://www.chiltonmaltingco.com\n",
      "Jesusita,Flister,\"Schoen, Edward J Jr\",3943 N Highland Ave,Lancaster,Lancaster,PA,17601,717-885-9118,717-686-7564,jesusita.flister@hotmail.com,http://www.schoenedwardjjr.com\n",
      "Caitlin,Julia,\"Helderman, Seymour Cpa\",5 Williams St,Johnston,Providence,RI,2919,401-948-4982,401-552-9059,caitlin.julia@julia.org,http://www.heldermanseymourcpa.com\n",
      "Roosevelt,Hoffis,\"Denbrook, Myron\",60 Old Dover Rd,Hialeah,Miami-Dade,FL,33014,305-622-4739,305-302-1135,roosevelt.hoffis@aol.com,http://www.denbrookmyron.com\n",
      "Helaine,Halter,\"Lippitt, Mike\",8 Sheridan Rd,Jersey City,Hudson,NJ,7304,201-832-4168,201-412-3040,hhalter@yahoo.com,http://www.lippittmike.com\n",
      "Lorean,Martabano,\"Hiram, Hogg P Esq\",85092 Southern Blvd,San Antonio,Bexar,TX,78204,210-856-4979,210-634-2447,lorean.martabano@hotmail.com,http://www.hiramhoggpesq.com\n",
      "France,Buzick,In Travel Agency,64 Newman Springs Rd E,Brooklyn,Kings,NY,11219,718-478-8504,718-853-3740,france.buzick@yahoo.com,http://www.intravelagency.com\n",
      "Justine,Ferrario,Newhart Foods Inc,48 Stratford Ave,Pomona,Los Angeles,CA,91768,909-993-3242,909-631-5703,jferrario@hotmail.com,http://www.newhartfoodsinc.com\n",
      "Adelina,Nabours,Courtyard By Marriott,80 Pittsford Victor Rd #9,Cleveland,Cuyahoga,OH,44103,216-230-4892,216-937-5320,adelina_nabours@gmail.com,http://www.courtyardbymarriott.com\n",
      "Derick,Dhamer,\"Studer, Eugene A Esq\",87163 N Main Ave,New York,New York,NY,10013,212-304-4515,212-225-9676,ddhamer@cox.net,http://www.studereugeneaesq.com\n",
      "Jerry,Dallen,Seashore Supply Co Waretown,393 Lafayette Ave,Richmond,Richmond City,VA,23219,804-762-9576,804-808-9574,jerry.dallen@yahoo.com,http://www.seashoresupplycowaretown.com\n",
      "Leota,Ragel,Mayar Silk Inc,99 5th Ave #33,Trion,Chattooga,GA,30753,706-221-4243,706-616-5131,leota.ragel@gmail.com,http://www.mayarsilkinc.com\n",
      "Jutta,Amyot,National Medical Excess Corp,49 N Mays St,Broussard,Lafayette,LA,70518,337-515-1438,337-991-8070,jamyot@hotmail.com,http://www.nationalmedicalexcesscorp.com\n",
      "Aja,Gehrett,Stero Company,993 Washington Ave,Nutley,Essex,NJ,7110,973-544-2677,973-986-4456,aja_gehrett@hotmail.com,http://www.sterocompany.com\n",
      "Kirk,Herritt,\"Hasting, H Duane Esq\",88 15th Ave Ne,Vestal,Broome,NY,13850,607-407-3716,607-350-7690,kirk.herritt@aol.com,http://www.hastinghduaneesq.com\n",
      "Leonora,Mauson,Insty Prints,3381 E 40th Ave,Passaic,Passaic,NJ,7055,973-412-2995,973-355-2120,leonora@yahoo.com,http://www.instyprints.com\n",
      "Winfred,Brucato,Glenridge Manor Mobile Home Pk,201 Ridgewood Rd,Moscow,Latah,ID,83843,208-252-4552,208-793-4108,winfred_brucato@hotmail.com,http://www.glenridgemanormobilehomepk.com\n",
      "Tarra,Nachor,Circuit Solution Inc,39 Moccasin Dr,San Francisco,San Francisco,CA,94104,415-411-1775,415-284-2730,tarra.nachor@cox.net,http://www.circuitsolutioninc.com\n",
      "Corinne,Loder,Local Office,4 Carroll St,North Attleboro,Bristol,MA,2760,508-942-4186,508-618-7826,corinne@loder.org,http://www.localoffice.com\n",
      "Dulce,Labreche,Lee Kilkelly Paulson & Kabaker,9581 E Arapahoe Rd,Rochester,Oakland,MI,48307,248-357-8718,248-811-5696,dulce_labreche@yahoo.com,http://www.leekilkellypaulsonkabaker.com\n",
      "Kate,Keneipp,\"Davis, Maxon R Esq\",33 N Michigan Ave,Green Bay,Brown,WI,54301,920-353-6377,920-355-1610,kate_keneipp@yahoo.com,http://www.davismaxonresq.com\n",
      "Kaitlyn,Ogg,\"Garrison, Paul E Esq\",2 S Biscayne Blvd,Baltimore,Baltimore City,MD,21230,410-665-4903,410-773-3862,kaitlyn.ogg@gmail.com,http://www.garrisonpauleesq.com\n",
      "Sherita,Saras,Black History Resource Center,8 Us Highway 22,Colorado Springs,El Paso,CO,80937,719-669-1664,719-547-9543,sherita.saras@cox.net,http://www.blackhistoryresourcecenter.com\n",
      "Lashawnda,Stuer,\"Rodriguez, J Christopher Esq\",7422 Martin Ave #8,Toledo,Lucas,OH,43607,419-588-8719,419-399-1744,lstuer@cox.net,http://www.rodriguezjchristopheresq.com\n",
      "Ernest,Syrop,Grant Family Health Center,94 Chase Rd,Hyattsville,Prince Georges,MD,20785,301-998-9644,301-257-4883,ernest@cox.net,http://www.grantfamilyhealthcenter.com\n",
      "Nobuko,Halsey,Goeman Wood Products Inc,8139 I Hwy 10 #92,New Bedford,Bristol,MA,2745,508-855-9887,508-897-7916,nobuko.halsey@yahoo.com,http://www.goemanwoodproductsinc.com\n",
      "Lavonna,Wolny,\"Linhares, Kenneth A Esq\",5 Cabot Rd,Mc Lean,Fairfax,VA,22102,703-483-1970,703-892-2914,lavonna.wolny@hotmail.com,http://www.linhareskennethaesq.com\n",
      "Lashaunda,Lizama,Earnhardt Printing,3387 Ryan Dr,Hanover,Anne Arundel,MD,21076,410-678-2473,410-912-6032,llizama@cox.net,http://www.earnhardtprinting.com\n",
      "Mariann,Bilden,H P G Industrys Inc,3125 Packer Ave #9851,Austin,Travis,TX,78753,512-223-4791,512-742-1149,mariann.bilden@aol.com,http://www.hpgindustrysinc.com\n",
      "Helene,Rodenberger,Bailey Transportation Prod Inc,347 Chestnut St,Peoria,Maricopa,AZ,85381,623-461-8551,623-426-4907,helene@aol.com,http://www.baileytransportationprodinc.com\n",
      "Roselle,Estell,Mcglynn Bliss Pc,8116 Mount Vernon Ave,Bucyrus,Crawford,OH,44820,419-571-5920,419-488-6648,roselle.estell@hotmail.com,http://www.mcglynnblisspc.com\n",
      "Samira,Heintzman,Mutual Fish Co,8772 Old County Rd #5410,Kent,King,WA,98032,206-311-4137,206-923-6042,sheintzman@hotmail.com,http://www.mutualfishco.com\n",
      "Margart,Meisel,\"Yeates, Arthur L Aia\",868 State St #38,Cincinnati,Hamilton,OH,45251,513-617-2362,513-747-9603,margart_meisel@yahoo.com,http://www.yeatesarthurlaia.com\n",
      "Kristofer,Bennick,\"Logan, Ronald J Esq\",772 W River Dr,Bloomington,Monroe,IN,47404,812-368-1511,812-442-8544,kristofer.bennick@yahoo.com,http://www.loganronaldjesq.com\n",
      "Weldon,Acuff,Advantage Martgage Company,73 W Barstow Ave,Arlington Heights,Cook,IL,60004,847-353-2156,847-613-5866,wacuff@gmail.com,http://www.advantagemartgagecompany.com\n",
      "Shalon,Shadrick,Germer And Gertz Llp,61047 Mayfield Ave,Brooklyn,Kings,NY,11223,718-232-2337,718-394-4974,shalon@cox.net,http://www.germerandgertzllp.com\n",
      "Denise,Patak,Spence Law Offices,2139 Santa Rosa Ave,Orlando,Orange,FL,32801,407-446-4358,407-808-3254,denise@patak.org,http://www.spencelawoffices.com\n",
      "Louvenia,Beech,John Ortiz Nts Therapy Center,598 43rd St,Beverly Hills,Los Angeles,CA,90210,310-820-2117,310-652-2379,louvenia.beech@beech.com,http://www.johnortizntstherapycenter.com\n",
      "Audry,Yaw,Mike Uchrin Htg & Air Cond Inc,70295 Pioneer Ct,Brandon,Hillsborough,FL,33511,813-797-4816,813-744-7100,audry.yaw@yaw.org,http://www.mikeuchrinhtgaircondinc.com\n",
      "Kristel,Ehmann,\"Mccoy, Joy Reynolds Esq\",92899 Kalakaua Ave,El Paso,El Paso,TX,79925,915-452-1290,915-300-6100,kristel.ehmann@aol.com,http://www.mccoyjoyreynoldsesq.com\n",
      "Vincenza,Zepp,Kbor 1600 Am,395 S 6th St #2,El Cajon,San Diego,CA,92020,619-603-5125,619-935-6661,vzepp@gmail.com,http://www.kboram.com\n",
      "Elouise,Gwalthney,Quality Inn Northwest,9506 Edgemore Ave,Bladensburg,Prince Georges,MD,20710,301-841-5012,301-591-3034,egwalthney@yahoo.com,http://www.qualityinnnorthwest.com\n",
      "Venita,Maillard,Wallace Church Assoc Inc,72119 S Walker Ave #63,Anaheim,Orange,CA,92801,714-523-6653,714-663-9740,venita_maillard@gmail.com,http://www.wallacechurchassocinc.com\n",
      "Kasandra,Semidey,Can Tron,369 Latham St #500,Saint Louis,Saint Louis City,MO,63102,314-732-9131,314-697-3652,kasandra_semidey@semidey.com,http://www.cantron.com\n",
      "Xochitl,Discipio,Ravaal Enterprises Inc,3158 Runamuck Pl,Round Rock,Williamson,TX,78664,512-233-1831,512-942-3411,xdiscipio@gmail.com,http://www.ravaalenterprisesinc.com\n",
      "Maile,Linahan,Thompson Steel Company Inc,9 Plainsboro Rd #598,Greensboro,Guilford,NC,27409,336-670-2640,336-364-6037,mlinahan@yahoo.com,http://www.thompsonsteelcompanyinc.com\n",
      "Krissy,Rauser,\"Anderson, Mark A Esq\",8728 S Broad St,Coram,Suffolk,NY,11727,631-443-4710,631-288-2866,krauser@cox.net,http://www.andersonmarkaesq.com\n",
      "Pete,Dubaldi,Womack & Galich,2215 Prosperity Dr,Lyndhurst,Bergen,NJ,7071,201-825-2514,201-749-8866,pdubaldi@hotmail.com,http://www.womackgalich.com\n",
      "Linn,Paa,Valerie & Company,1 S Pine St,Memphis,Shelby,TN,38112,901-412-4381,901-573-9024,linn_paa@paa.com,http://www.valeriecompany.com\n",
      "Paris,Wide,Gehring Pumps Inc,187 Market St,Atlanta,Fulton,GA,30342,404-505-4445,404-607-8435,paris@hotmail.com,http://www.gehringpumpsinc.com\n",
      "Wynell,Dorshorst,\"Haehnel, Craig W Esq\",94290 S Buchanan St,Pacifica,San Mateo,CA,94044,650-473-1262,650-749-9879,wynell_dorshorst@dorshorst.org,http://www.haehnelcraigwesq.com\n",
      "Quentin,Birkner,Spoor Behrins Campbell & Young,7061 N 2nd St,Burnsville,Dakota,MN,55337,952-702-7993,952-314-5871,qbirkner@aol.com,http://www.spoorbehrinscampbellyoung.com\n",
      "Regenia,Kannady,Ken Jeter Store Equipment Inc,10759 Main St,Scottsdale,Maricopa,AZ,85260,480-726-1280,480-205-5121,regenia.kannady@cox.net,http://www.kenjeterstoreequipmentinc.com\n",
      "Sheron,Louissant,\"Potter, Brenda J Cpa\",97 E 3rd St #9,Long Island City,Queens,NY,11101,718-976-8610,718-613-9994,sheron@aol.com,http://www.potterbrendajcpa.com\n",
      "Izetta,Funnell,Baird Kurtz & Dobson,82 Winsor St #54,Atlanta,Dekalb,GA,30340,770-844-3447,770-584-4119,izetta.funnell@hotmail.com,http://www.bairdkurtzdobson.com\n",
      "Rodolfo,Butzen,\"Minor, Cynthia A Esq\",41 Steel Ct,Northfield,Rice,MN,55057,507-210-3510,507-590-5237,rodolfo@hotmail.com,http://www.minorcynthiaaesq.com\n",
      "Zona,Colla,\"Solove, Robert A Esq\",49440 Dearborn St,Norwalk,Fairfield,CT,6854,203-461-1949,203-938-2557,zona@hotmail.com,http://www.soloverobertaesq.com\n",
      "Serina,Zagen,Mark Ii Imports Inc,7 S Beverly Dr,Fort Wayne,Allen,IN,46802,260-273-3725,260-382-4869,szagen@aol.com,http://www.markiiimportsinc.com\n",
      "Paz,Sahagun,White Sign Div Ctrl Equip Co,919 Wall Blvd,Meridian,Lauderdale,MS,39307,601-927-8287,601-249-4511,paz_sahagun@cox.net,http://www.whitesigndivctrlequipco.com\n",
      "Markus,Lukasik,M & M Store Fixtures Co Inc,89 20th St E #779,Sterling Heights,Macomb,MI,48310,586-970-7380,586-247-1614,markus@yahoo.com,http://www.mmstorefixturescoinc.com\n",
      "Jaclyn,Bachman,Judah Caster & Wheel Co,721 Interstate 45 S,Colorado Springs,El Paso,CO,80919,719-853-3600,719-223-2074,jaclyn@aol.com,http://www.judahcasterwheelco.com\n",
      "Cyril,Daufeldt,Galaxy International Inc,3 Lawton St,New York,New York,NY,10013,212-745-8484,212-422-5427,cyril_daufeldt@daufeldt.com,http://www.galaxyinternationalinc.com\n",
      "Gayla,Schnitzler,Sigma Corp Of America,38 Pleasant Hill Rd,Hayward,Alameda,CA,94545,510-686-3407,510-441-4055,gschnitzler@gmail.com,http://www.sigmacorpofamerica.com\n",
      "Erick,Nievas,\"Soward, Anne Esq\",45 E Acacia Ct,Chicago,Cook,IL,60624,773-704-9903,773-359-6109,erick_nievas@aol.com,http://www.sowardanneesq.com\n",
      "Jennie,Drymon,\"Osborne, Michelle M Esq\",63728 Poway Rd #1,Scranton,Lackawanna,PA,18509,570-218-4831,570-868-8688,jennie@cox.net,http://www.osbornemichellemesq.com\n",
      "Mitsue,Scipione,Students In Free Entrprs Natl,77 222 Dr,Oroville,Butte,CA,95965,530-986-9272,530-399-3254,mscipione@scipione.com,http://www.studentsinfreeentrprsnatl.com\n",
      "Ciara,Ventura,\"Johnson, Robert M Esq\",53 W Carey St,Port Jervis,Orange,NY,12771,845-823-8877,845-694-7919,cventura@yahoo.com,http://www.johnsonrobertmesq.com\n",
      "Galen,Cantres,Del Charro Apartments,617 Nw 36th Ave,Brook Park,Cuyahoga,OH,44142,216-600-6111,216-871-6876,galen@yahoo.com,http://www.delcharroapartments.com\n",
      "Truman,Feichtner,Legal Search Inc,539 Coldwater Canyon Ave,Bloomfield,Essex,NJ,7003,973-852-2736,973-473-5108,tfeichtner@yahoo.com,http://www.legalsearchinc.com\n",
      "Gail,Kitty,Service Supply Co Inc,735 Crawford Dr,Anchorage,Anchorage,AK,99501,907-435-9166,907-770-3542,gail@kitty.com,http://www.servicesupplycoinc.com\n",
      "Dalene,Schoeneck,\"Sameshima, Douglas J Esq\",910 Rahway Ave,Philadelphia,Philadelphia,PA,19102,215-268-1275,215-380-8820,dalene@schoeneck.org,http://www.sameshimadouglasjesq.com\n",
      "Gertude,Witten,\"Thompson, John Randolph Jr\",7 Tarrytown Rd,Cincinnati,Hamilton,OH,45217,513-977-7043,513-863-9471,gertude.witten@gmail.com,http://www.thompsonjohnrandolphjr.com\n",
      "Lizbeth,Kohl,E T Balancing Co Inc,35433 Blake St #588,Gardena,Los Angeles,CA,90248,310-699-1222,310-955-5788,lizbeth@yahoo.com,http://www.etbalancingcoinc.com\n",
      "Glenn,Berray,\"Griswold, John E Esq\",29 Cherry St #7073,Des Moines,Polk,IA,50315,515-370-7348,515-372-1738,gberray@gmail.com,http://www.griswoldjohneesq.com\n",
      "Lashandra,Klang,Acqua Group,810 N La Brea Ave,King of Prussia,Montgomery,PA,19406,610-809-1818,610-378-7332,lashandra@yahoo.com,http://www.acquagroup.com\n",
      "Lenna,Newville,\"Brooks, Morris J Jr\",987 Main St,Raleigh,Wake,NC,27601,919-623-2524,919-254-5987,lnewville@newville.com,http://www.brooksmorrisjjr.com\n",
      "Laurel,Pagliuca,Printing Images Corp,36 Enterprise St Se,Richland,Benton,WA,99352,509-695-5199,509-595-6485,laurel@yahoo.com,http://www.printingimagescorp.com\n",
      "Mireya,Frerking,Roberts Supply Co Inc,8429 Miller Rd,Pelham,Westchester,NY,10803,914-868-5965,914-883-3061,mireya.frerking@hotmail.com,http://www.robertssupplycoinc.com\n",
      "Annelle,Tagala,Vico Products Mfg Co,5 W 7th St,Parkville,Baltimore,MD,21234,410-757-1035,410-234-2267,annelle@yahoo.com,http://www.vicoproductsmfgco.com\n",
      "Dean,Ketelsen,J M Custom Design Millwork,2 Flynn Rd,Hicksville,Nassau,NY,11801,516-847-4418,516-732-6649,dean_ketelsen@gmail.com,http://www.jmcustomdesignmillwork.com\n",
      "Levi,Munis,Farrell & Johnson Office Equip,2094 Ne 36th Ave,Worcester,Worcester,MA,1603,508-456-4907,508-658-7802,levi.munis@gmail.com,http://www.farrelljohnsonofficeequip.com\n",
      "Sylvie,Ryser,Millers Market & Deli,649 Tulane Ave,Tulsa,Tulsa,OK,74105,918-644-9555,918-565-1706,sylvie@aol.com,http://www.millersmarketdeli.com\n",
      "Sharee,Maile,Holiday Inn Naperville,2094 Montour Blvd,Muskegon,Muskegon,MI,49442,231-467-9978,231-265-6940,sharee_maile@aol.com,http://www.holidayinnnaperville.com\n",
      "Cordelia,Storment,\"Burrows, Jon H Esq\",393 Hammond Dr,Lafayette,Lafayette,LA,70506,337-566-6001,337-255-3427,cordelia_storment@aol.com,http://www.burrowsjonhesq.com\n",
      "Mollie,Mcdoniel,Dock Seal Specialty,8590 Lake Lizzie Dr,Bowling Green,Wood,OH,43402,419-975-3182,419-417-4674,mollie_mcdoniel@yahoo.com,http://www.docksealspecialty.com\n",
      "Brett,Mccullan,Five Star Limousines Of Tx Inc,87895 Concord Rd,La Mesa,San Diego,CA,91942,619-461-9984,619-727-3892,brett.mccullan@mccullan.com,http://www.fivestarlimousinesoftxinc.com\n",
      "Teddy,Pedrozo,\"Barkan, Neal J Esq\",46314 Route 130,Bridgeport,Fairfield,CT,6610,203-892-3863,203-918-3939,teddy_pedrozo@aol.com,http://www.barkannealjesq.com\n",
      "Tasia,Andreason,\"Campbell, Robert A\",4 Cowesett Ave,Kearny,Hudson,NJ,7032,201-920-9002,201-969-7063,tasia_andreason@yahoo.com,http://www.campbellroberta.com\n",
      "Hubert,Walthall,\"Dee, Deanna\",95 Main Ave #2,Barberton,Summit,OH,44203,330-903-1345,330-566-8898,hubert@walthall.org,http://www.deedeanna.com\n",
      "Arthur,Farrow,\"Young, Timothy L Esq\",28 S 7th St #2824,Englewood,Bergen,NJ,7631,201-238-5688,201-772-4377,arthur.farrow@yahoo.com,http://www.youngtimothylesq.com\n",
      "Vilma,Berlanga,\"Wells, D Fred Esq\",79 S Howell Ave,Grand Rapids,Kent,MI,49546,616-737-3085,616-568-4113,vberlanga@berlanga.com,http://www.wellsdfredesq.com\n",
      "Billye,Miro,\"Gray, Francine H Esq\",36 Lancaster Dr Se,Pearl,Rankin,MS,39208,601-567-5386,601-637-5479,billye_miro@cox.net,http://www.grayfrancinehesq.com\n",
      "Glenna,Slayton,Toledo Iv Care,2759 Livingston Ave,Memphis,Shelby,TN,38118,901-640-9178,901-869-4314,glenna_slayton@cox.net,http://www.toledoivcare.com\n",
      "Mitzie,Hudnall,Cangro Transmission Co,17 Jersey Ave,Englewood,Arapahoe,CO,80110,303-402-1940,303-997-7760,mitzie_hudnall@yahoo.com,http://www.cangrotransmissionco.com\n",
      "Bernardine,Rodefer,Sat Poly Inc,2 W Grand Ave,Memphis,Shelby,TN,38112,901-901-4726,901-739-5892,bernardine_rodefer@yahoo.com,http://www.satpolyinc.com\n",
      "Staci,Schmaltz,Midwest Contracting & Mfg Inc,18 Coronado Ave #563,Pasadena,Los Angeles,CA,91106,626-866-2339,626-293-7678,staci_schmaltz@aol.com,http://www.midwestcontractingmfginc.com\n",
      "Nichelle,Meteer,Print Doctor,72 Beechwood Ter,Chicago,Cook,IL,60657,773-225-9985,773-857-2231,nichelle_meteer@meteer.com,http://www.printdoctor.com\n",
      "Janine,Rhoden,Nordic Group Inc,92 Broadway,Astoria,Queens,NY,11103,718-228-5894,718-728-5051,jrhoden@yahoo.com,http://www.nordicgroupinc.com\n",
      "Ettie,Hoopengardner,Jackson Millwork Co,39 Franklin Ave,Richland,Benton,WA,99352,509-755-5393,509-847-3352,ettie.hoopengardner@hotmail.com,http://www.jacksonmillworkco.com\n",
      "Eden,Jayson,Harris Corporation,4 Iwaena St,Baltimore,Baltimore City,MD,21202,410-890-7866,410-429-4888,eden_jayson@yahoo.com,http://www.harriscorporation.com\n",
      "Lynelle,Auber,United Cerebral Palsy Of Ne Pa,32820 Corkwood Rd,Newark,Essex,NJ,7104,973-860-8610,973-605-6492,lynelle_auber@gmail.com,http://www.unitedcerebralpalsyofnepa.com\n",
      "Merissa,Tomblin,One Day Surgery Center Inc,34 Raritan Center Pky,Bellflower,Los Angeles,CA,90706,562-579-6900,562-719-7922,merissa.tomblin@gmail.com,http://www.onedaysurgerycenterinc.com\n",
      "Golda,Kaniecki,Calaveras Prospect,6201 S Nevada Ave,Toms River,Ocean,NJ,8755,732-628-9909,732-617-5310,golda_kaniecki@yahoo.com,http://www.calaverasprospect.com\n",
      "Catarina,Gleich,\"Terk, Robert E Esq\",78 Maryland Dr #146,Denville,Morris,NJ,7834,973-210-3994,973-491-8723,catarina_gleich@hotmail.com,http://www.terkroberteesq.com\n",
      "Virgie,Kiel,\"Cullen, Terrence P Esq\",76598 Rd  I 95 #1,Denver,Denver,CO,80216,303-776-7548,303-845-5408,vkiel@hotmail.com,http://www.cullenterrencepesq.com\n",
      "Jolene,Ostolaza,Central Die Casting Mfg Co Inc,1610 14th St Nw,Newport News,Newport News City,VA,23608,757-682-7116,757-940-1741,jolene@yahoo.com,http://www.centraldiecastingmfgcoinc.com\n",
      "Keneth,Borgman,Centerline Engineering,86350 Roszel Rd,Phoenix,Maricopa,AZ,85012,602-919-4211,602-442-3092,keneth@yahoo.com,http://www.centerlineengineering.com\n",
      "Rikki,Nayar,Targan & Kievit Pa,1644 Clove Rd,Miami,Miami-Dade,FL,33155,305-968-9487,305-978-2069,rikki@nayar.com,http://www.targankievitpa.com\n",
      "Elke,Sengbusch,Riley Riper Hollin & Colagreco,9 W Central Ave,Phoenix,Maricopa,AZ,85013,602-896-2993,602-575-3457,elke_sengbusch@yahoo.com,http://www.rileyriperhollincolagreco.com\n",
      "Hoa,Sarao,\"Kaplan, Joel S Esq\",27846 Lafayette Ave,Oak Hill,Volusia,FL,32759,386-526-7800,386-599-7296,hoa@sarao.org,http://www.kaplanjoelsesq.com\n",
      "Trinidad,Mcrae,Water Office,10276 Brooks St,San Francisco,San Francisco,CA,94105,415-331-9634,415-419-1597,trinidad_mcrae@yahoo.com,http://www.wateroffice.com\n",
      "Mari,Lueckenbach,\"Westbrooks, Nelson E Jr\",1 Century Park E,San Diego,San Diego,CA,92110,858-793-9684,858-228-5683,mari_lueckenbach@yahoo.com,http://www.westbrooksnelsonejr.com\n",
      "Selma,Husser,Armon Communications,9 State Highway 57 #22,Jersey City,Hudson,NJ,7306,201-991-8369,201-772-7699,selma.husser@cox.net,http://www.armoncommunications.com\n",
      "Antione,Onofrio,Jacobs & Gerber Inc,4 S Washington Ave,San Bernardino,San Bernardino,CA,92410,909-430-7765,909-665-3223,aonofrio@onofrio.com,http://www.jacobsgerberinc.com\n",
      "Luisa,Jurney,Forest Fire Laboratory,25 Se 176th Pl,Cambridge,Middlesex,MA,2138,617-365-2134,617-544-2541,ljurney@hotmail.com,http://www.forestfirelaboratory.com\n",
      "Clorinda,Heimann,\"Haughey, Charles Jr\",105 Richmond Valley Rd,Escondido,San Diego,CA,92025,760-291-5497,760-261-4786,clorinda.heimann@hotmail.com,http://www.haugheycharlesjr.com\n",
      "Dick,Wenzinger,Wheaton Plastic Products,22 Spruce St #595,Gardena,Los Angeles,CA,90248,310-510-9713,310-936-2258,dick@yahoo.com,http://www.wheatonplasticproducts.com\n",
      "Ahmed,Angalich,Reese Plastics,2 W Beverly Blvd,Harrisburg,Dauphin,PA,17110,717-528-8996,717-632-5831,ahmed.angalich@angalich.com,http://www.reeseplastics.com\n",
      "Iluminada,Ohms,Nazette Marner Good Wendt,72 Southern Blvd,Mesa,Maricopa,AZ,85204,480-293-2882,480-866-6544,iluminada.ohms@yahoo.com,http://www.nazettemarnergoodwendt.com\n",
      "Joanna,Leinenbach,Levinson Axelrod Wheaton,1 Washington St,Lake Worth,Palm Beach,FL,33461,561-470-4574,561-951-9734,joanna_leinenbach@hotmail.com,http://www.levinsonaxelrodwheaton.com\n",
      "Caprice,Suell,\"Egnor, W Dan Esq\",90177 N 55th Ave,Nashville,Davidson,TN,37211,615-246-1824,615-726-4537,caprice@aol.com,http://www.egnorwdanesq.com\n",
      "Stephane,Myricks,Portland Central Thriftlodge,9 Tower Ave,Burlington,Boone,KY,41005,859-717-7638,859-308-4286,stephane_myricks@cox.net,http://www.portlandcentralthriftlodge.com\n",
      "Quentin,Swayze,Ulbrich Trucking,278 Bayview Ave,Milan,Monroe,MI,48160,734-561-6170,734-851-8571,quentin_swayze@yahoo.com,http://www.ulbrichtrucking.com\n",
      "Annmarie,Castros,Tipiak Inc,80312 W 32nd St,Conroe,Montgomery,TX,77301,936-751-7961,936-937-2334,annmarie_castros@gmail.com,http://www.tipiakinc.com\n",
      "Shonda,Greenbush,Saint George Well Drilling,82 Us Highway 46,Clifton,Passaic,NJ,7011,973-482-2430,973-644-2974,shonda_greenbush@cox.net,http://www.saintgeorgewelldrilling.com\n",
      "Cecil,Lapage,\"Hawkes, Douglas D\",4 Stovall St #72,Union City,Hudson,NJ,7087,201-693-3967,201-856-2720,clapage@lapage.com,http://www.hawkesdouglasd.com\n",
      "Jeanice,Claucherty,Accurel Systems Intrntl Corp,19 Amboy Ave,Miami,Miami-Dade,FL,33142,305-988-4162,305-306-7834,jeanice.claucherty@yahoo.com,http://www.accurelsystemsintrntlcorp.com\n",
      "Josphine,Villanueva,Santa Cruz Community Internet,63 Smith Ln #8343,Moss,Clay,TN,38575,931-553-9774,931-486-6946,josphine_villanueva@villanueva.com,http://www.santacruzcommunityinternet.com\n",
      "Daniel,Perruzza,Gersh & Danielson,11360 S Halsted St,Santa Ana,Orange,CA,92705,714-771-3880,714-531-1391,dperruzza@perruzza.com,http://www.gershdanielson.com\n",
      "Cassi,Wildfong,\"Cobb, James O Esq\",26849 Jefferson Hwy,Rolling Meadows,Cook,IL,60008,847-633-3216,847-755-9041,cassi.wildfong@aol.com,http://www.cobbjamesoesq.com\n",
      "Britt,Galam,Wheatley Trucking Company,2500 Pringle Rd Se #508,Hatfield,Montgomery,PA,19440,215-888-3304,215-351-8523,britt@galam.org,http://www.wheatleytruckingcompany.com\n",
      "Adell,Lipkin,Systems Graph Inc Ab Dick Dlr,65 Mountain View Dr,Whippany,Morris,NJ,7981,973-654-1561,973-662-8988,adell.lipkin@lipkin.com,http://www.systemsgraphincabdickdlr.com\n",
      "Jacqueline,Rowling,John Hancock Mutl Life Ins Co,1 N San Saba,Erie,Erie,PA,16501,814-865-8113,814-481-1700,jacqueline.rowling@yahoo.com,http://www.johnhancockmutllifeinsco.com\n",
      "Lonny,Weglarz,History Division Of State,51120 State Route 18,Salt Lake City,Salt Lake,UT,84115,801-293-9853,801-892-8781,lonny_weglarz@gmail.com,http://www.historydivisionofstate.com\n",
      "Lonna,Diestel,\"Dimmock, Thomas J Esq\",1482 College Ave,Fayetteville,Cumberland,NC,28301,910-922-3672,910-200-7912,lonna_diestel@gmail.com,http://www.dimmockthomasjesq.com\n",
      "Cristal,Samara,Intermed Inc,4119 Metropolitan Dr,Los Angeles,Los Angeles,CA,90021,213-975-8026,213-696-8004,cristal@cox.net,http://www.intermedinc.com\n",
      "Kenneth,Grenet,Bank Of New York,2167 Sierra Rd,East Lansing,Ingham,MI,48823,517-499-2322,517-867-8077,kenneth.grenet@grenet.org,http://www.bankofnewyork.com\n",
      "Elli,Mclaird,Sportmaster Intrnatl,6 Sunrise Ave,Utica,Oneida,NY,13501,315-818-2638,315-474-5570,emclaird@mclaird.com,http://www.sportmasterintrnatl.com\n",
      "Alline,Jeanty,W W John Holden Inc,55713 Lake City Hwy,South Bend,St Joseph,IN,46601,574-656-2800,574-405-1983,ajeanty@gmail.com,http://www.wwjohnholdeninc.com\n",
      "Sharika,Eanes,Maccani & Delp,75698 N Fiesta Blvd,Orlando,Orange,FL,32806,407-312-1691,407-472-1332,sharika.eanes@aol.com,http://www.maccanidelp.com\n",
      "Nu,Mcnease,Amazonia Film Project,88 Sw 28th Ter,Harrison,Hudson,NJ,7029,973-751-9003,973-903-4175,nu@gmail.com,http://www.amazoniafilmproject.com\n",
      "Daniela,Comnick,Water & Sewer Department,7 Flowers Rd #403,Trenton,Mercer,NJ,8611,609-200-8577,609-398-2805,dcomnick@cox.net,http://www.watersewerdepartment.com\n",
      "Cecilia,Colaizzo,Switchcraft Inc,4 Nw 12th St #3849,Madison,Dane,WI,53717,608-382-4541,608-302-3387,cecilia_colaizzo@colaizzo.com,http://www.switchcraftinc.com\n",
      "Leslie,Threets,C W D C Metal Fabricators,2 A Kelley Dr,Katonah,Westchester,NY,10536,914-861-9748,914-396-2615,leslie@cox.net,http://www.cwdcmetalfabricators.com\n",
      "Nan,Koppinger,\"Shimotani, Grace T\",88827 Frankford Ave,Greensboro,Guilford,NC,27401,336-370-5333,336-564-1492,nan@koppinger.com,http://www.shimotanigracet.com\n",
      "Izetta,Dewar,\"Lisatoni, Jean Esq\",2 W Scyene Rd #3,Baltimore,Baltimore City,MD,21217,410-473-1708,410-522-7621,idewar@dewar.com,http://www.lisatonijeanesq.com\n",
      "Tegan,Arceo,Ceramic Tile Sales Inc,62260 Park Stre,Monroe Township,Middlesex,NJ,8831,732-730-2692,732-705-6719,tegan.arceo@arceo.org,http://www.ceramictilesalesinc.com\n",
      "Ruthann,Keener,Maiden Craft Inc,3424 29th St Se,Kerrville,Kerr,TX,78028,830-258-2769,830-919-5991,ruthann@hotmail.com,http://www.maidencraftinc.com\n",
      "Joni,Breland,Carriage House Cllsn Rpr Inc,35 E Main St #43,Elk Grove Village,Cook,IL,60007,847-519-5906,847-740-5304,joni_breland@cox.net,http://www.carriagehousecllsnrprinc.com\n",
      "Vi,Rentfro,Video Workshop,7163 W Clark Rd,Freehold,Monmouth,NJ,7728,732-605-4781,732-724-7251,vrentfro@cox.net,http://www.videoworkshop.com\n",
      "Colette,Kardas,Fresno Tile Center Inc,21575 S Apple Creek Rd,Omaha,Douglas,NE,68124,402-896-5943,402-707-1602,colette.kardas@yahoo.com,http://www.fresnotilecenterinc.com\n",
      "Malcolm,Tromblay,Versatile Sash & Woodwork,747 Leonis Blvd,Annandale,Fairfax,VA,22003,703-221-5602,703-874-4248,malcolm_tromblay@cox.net,http://www.versatilesashwoodwork.com\n",
      "Ryan,Harnos,Warner Electric Brk & Cltch Co,13 Gunnison St,Plano,Collin,TX,75075,972-558-1665,972-961-4968,ryan@cox.net,http://www.warnerelectricbrkcltchco.com\n",
      "Jess,Chaffins,New York Public Library,18 3rd Ave,New York,New York,NY,10016,212-510-4633,212-428-9538,jess.chaffins@chaffins.org,http://www.newyorkpubliclibrary.com\n",
      "Sharen,Bourbon,\"Mccaleb, John A Esq\",62 W Austin St,Syosset,Nassau,NY,11791,516-816-1541,516-749-3188,sbourbon@yahoo.com,http://www.mccalebjohnaesq.com\n",
      "Nickolas,Juvera,United Oil Co Inc,177 S Rider Trl #52,Crystal River,Citrus,FL,34429,352-598-8301,352-947-6152,nickolas_juvera@cox.net,http://www.unitedoilcoinc.com\n",
      "Gary,Nunlee,Irving Foot Center,2 W Mount Royal Ave,Fortville,Hancock,IN,46040,317-542-6023,317-887-8486,gary_nunlee@nunlee.org,http://www.irvingfootcenter.com\n",
      "Diane,Devreese,Acme Supply Co,1953 Telegraph Rd,Saint Joseph,Buchanan,MO,64504,816-557-9673,816-329-5565,diane@cox.net,http://www.acmesupplyco.com\n",
      "Roslyn,Chavous,\"Mcrae, James L\",63517 Dupont St,Jackson,Hinds,MS,39211,601-234-9632,601-973-5754,roslyn.chavous@chavous.org,http://www.mcraejamesl.com\n",
      "Glory,Schieler,Mcgraths Seafood,5 E Truman Rd,Abilene,Taylor,TX,79602,325-869-2649,325-740-3778,glory@yahoo.com,http://www.mcgrathsseafood.com\n",
      "Rasheeda,Sayaphon,\"Kummerer, J Michael Esq\",251 Park Ave #979,Saratoga,Santa Clara,CA,95070,408-805-4309,408-997-7490,rasheeda@aol.com,http://www.kummererjmichaelesq.com\n",
      "Alpha,Palaia,\"Stoffer, James M Jr\",43496 Commercial Dr #29,Cherry Hill,Camden,NJ,8003,856-312-2629,856-513-7024,alpha@yahoo.com,http://www.stofferjamesmjr.com\n",
      "Refugia,Jacobos,North Central Fl Sfty Cncl,2184 Worth St,Hayward,Alameda,CA,94545,510-974-8671,510-509-3496,refugia.jacobos@jacobos.com,http://www.northcentralflsftycncl.com\n",
      "Shawnda,Yori,Fiorucci Foods Usa Inc,50126 N Plankinton Ave,Longwood,Seminole,FL,32750,407-538-5106,407-564-8113,shawnda.yori@yahoo.com,http://www.fioruccifoodsusainc.com\n",
      "Mona,Delasancha,Sign All,38773 Gravois Ave,Cheyenne,Laramie,WY,82001,307-403-1488,307-816-7115,mdelasancha@hotmail.com,http://www.signall.com\n",
      "Gilma,Liukko,Sammys Steak Den,16452 Greenwich St,Garden City,Nassau,NY,11530,516-393-9967,516-407-9573,gilma_liukko@gmail.com,http://www.sammyssteakden.com\n",
      "Janey,Gabisi,\"Dobscha, Stephen F Esq\",40 Cambridge Ave,Madison,Dane,WI,53715,608-967-7194,608-586-6912,jgabisi@hotmail.com,http://www.dobschastephenfesq.com\n",
      "Lili,Paskin,Morgan Custom Homes,20113 4th Ave E,Kearny,Hudson,NJ,7032,201-431-2989,201-478-8540,lili.paskin@cox.net,http://www.morgancustomhomes.com\n",
      "Loren,Asar,Olsen Payne & Company,6 Ridgewood Center Dr,Old Forge,Lackawanna,PA,18518,570-648-3035,570-569-2356,loren.asar@aol.com,http://www.olsenpaynecompany.com\n",
      "Dorothy,Chesterfield,Cowan & Kelly,469 Outwater Ln,San Diego,San Diego,CA,92126,858-617-7834,858-732-1884,dorothy@cox.net,http://www.cowankelly.com\n",
      "Gail,Similton,\"Johnson, Wes Esq\",62 Monroe St,Thousand Palms,Riverside,CA,92276,760-616-5388,760-493-9208,gail_similton@similton.com,http://www.johnsonwesesq.com\n",
      "Catalina,Tillotson,Icn Pharmaceuticals Inc,3338 A Lockport Pl #6,Margate City,Atlantic,NJ,8402,609-373-3332,609-826-4990,catalina@hotmail.com,http://www.icnpharmaceuticalsinc.com\n",
      "Lawrence,Lorens,New England Sec Equip Co Inc,9 Hwy,Providence,Providence,RI,2906,401-465-6432,401-893-1820,lawrence.lorens@hotmail.com,http://www.newenglandsecequipcoinc.com\n",
      "Carlee,Boulter,\"Tippett, Troy M Ii\",8284 Hart St,Abilene,Dickinson,KS,67410,785-347-1805,785-253-7049,carlee.boulter@hotmail.com,http://www.tippetttroymii.com\n",
      "Thaddeus,Ankeny,Atc Contracting,5 Washington St #1,Roseville,Placer,CA,95678,916-920-3571,916-459-2433,tankeny@ankeny.org,http://www.atccontracting.com\n",
      "Jovita,Oles,\"Pagano, Philip G Esq\",8 S Haven St,Daytona Beach,Volusia,FL,32114,386-248-4118,386-208-6976,joles@gmail.com,http://www.paganophilipgesq.com\n",
      "Alesia,Hixenbaugh,Kwikprint,9 Front St,Washington,District of Columbia,DC,20001,202-646-7516,202-276-6826,alesia_hixenbaugh@hixenbaugh.org,http://www.kwikprint.com\n",
      "Lai,Harabedian,Buergi & Madden Scale,1933 Packer Ave #2,Novato,Marin,CA,94945,415-423-3294,415-926-6089,lai@gmail.com,http://www.buergimaddenscale.com\n",
      "Brittni,Gillaspie,Inner Label,67 Rv Cent,Boise,Ada,ID,83709,208-709-1235,208-206-9848,bgillaspie@gillaspie.com,http://www.innerlabel.com\n",
      "Raylene,Kampa,Hermar Inc,2 Sw Nyberg Rd,Elkhart,Elkhart,IN,46514,574-499-1454,574-330-1884,rkampa@kampa.org,http://www.hermarinc.com\n",
      "Flo,Bookamer,Simonton Howe & Schneider Pc,89992 E 15th St,Alliance,Box Butte,NE,69301,308-726-2182,308-250-6987,flo.bookamer@cox.net,http://www.simontonhoweschneiderpc.com\n",
      "Jani,Biddy,Warehouse Office & Paper Prod,61556 W 20th Ave,Seattle,King,WA,98104,206-711-6498,206-395-6284,jbiddy@yahoo.com,http://www.warehouseofficepaperprod.com\n",
      "Chauncey,Motley,Affiliated With Travelodge,63 E Aurora Dr,Orlando,Orange,FL,32804,407-413-4842,407-557-8857,chauncey_motley@aol.com,http://www.affiliatedwithtravelodge.com\n"
     ]
    }
   ],
   "source": [
    "with open('sample_users.csv','r') as f:\n",
    "     print(f.read())"
   ]
  },
  {
   "cell_type": "code",
   "execution_count": 12,
   "metadata": {},
   "outputs": [
    {
     "name": "stdout",
     "output_type": "stream",
     "text": [
      "first_name\n",
      "James\n",
      "Josephine\n",
      "Art\n",
      "Lenna\n",
      "Donette\n",
      "Simona\n",
      "Mitsue\n",
      "Leota\n",
      "Sage\n",
      "Kris\n",
      "Minna\n",
      "Abel\n",
      "Kiley\n",
      "Graciela\n",
      "Cammy\n",
      "Mattie\n",
      "Meaghan\n",
      "Gladys\n",
      "Yuki\n",
      "Fletcher\n",
      "Bette\n",
      "Veronika\n",
      "Willard\n",
      "Maryann\n",
      "Alisha\n",
      "Allene\n",
      "Chanel\n",
      "Ezekiel\n",
      "Willow\n",
      "Bernardo\n",
      "Ammie\n",
      "Francine\n",
      "Ernie\n",
      "Albina\n",
      "Alishia\n",
      "Solange\n",
      "Jose\n",
      "Rozella\n",
      "Valentine\n",
      "Kati\n",
      "Youlanda\n",
      "Dyan\n",
      "Roxane\n",
      "Lavera\n",
      "Erick\n",
      "Fatima\n",
      "Jina\n",
      "Kanisha\n",
      "Emerson\n",
      "Blair\n",
      "Brock\n",
      "Lorrie\n",
      "Sabra\n",
      "Marjory\n",
      "Karl\n",
      "Tonette\n",
      "Amber\n",
      "Shenika\n",
      "Delmy\n",
      "Deeanna\n",
      "Blondell\n",
      "Jamal\n",
      "Cecily\n",
      "Carmelina\n",
      "Maurine\n",
      "Tawna\n",
      "Penney\n",
      "Elly\n",
      "Ilene\n",
      "Vallie\n",
      "Kallie\n",
      "Johnetta\n",
      "Bobbye\n",
      "Micaela\n",
      "Tamar\n",
      "Moon\n",
      "Laurel\n",
      "Delisa\n",
      "Viva\n",
      "Elza\n",
      "Devorah\n",
      "Timothy\n",
      "Arlette\n",
      "Dominque\n",
      "Lettie\n",
      "Myra\n",
      "Stephaine\n",
      "Lai\n",
      "Stephen\n",
      "Tyra\n",
      "Tammara\n",
      "Cory\n",
      "Danica\n",
      "Wilda\n",
      "Elvera\n",
      "Carma\n",
      "Malinda\n",
      "Natalie\n",
      "Lisha\n",
      "Arlene\n",
      "Alease\n",
      "Louisa\n",
      "Angella\n",
      "Cyndy\n",
      "Rosio\n",
      "Celeste\n",
      "Twana\n",
      "Estrella\n",
      "Donte\n",
      "Tiffiny\n",
      "Edna\n",
      "Sue\n",
      "Jesusa\n",
      "Rolland\n",
      "Pamella\n",
      "Glory\n",
      "Shawna\n",
      "Brandon\n",
      "Scarlet\n",
      "Oretha\n",
      "Ty\n",
      "Xuan\n",
      "Lindsey\n",
      "Devora\n",
      "Herman\n",
      "Rory\n",
      "Talia\n",
      "Van\n",
      "Lucina\n",
      "Bok\n",
      "Rolande\n",
      "Howard\n",
      "Kimbery\n",
      "Thurman\n",
      "Becky\n",
      "Beatriz\n",
      "Marti\n",
      "Nieves\n",
      "Leatha\n",
      "Valentin\n",
      "Melissa\n",
      "Sheridan\n",
      "Bulah\n",
      "Audra\n",
      "Daren\n",
      "Fernanda\n",
      "Gearldine\n",
      "Chau\n",
      "Theola\n",
      "Cheryl\n",
      "Laticia\n",
      "Carissa\n",
      "Lezlie\n",
      "Ozell\n",
      "Arminda\n",
      "Reita\n",
      "Yolando\n",
      "Lizette\n",
      "Gregoria\n",
      "Carin\n",
      "Chantell\n",
      "Dierdre\n",
      "Larae\n",
      "Latrice\n",
      "Kerry\n",
      "Dorthy\n",
      "Fannie\n",
      "Evangelina\n",
      "Novella\n",
      "Clay\n",
      "Jennifer\n",
      "Irma\n",
      "Eun\n",
      "Sylvia\n",
      "Nana\n",
      "Layla\n",
      "Joesph\n",
      "Annabelle\n",
      "Stephaine\n",
      "Nelida\n",
      "Marguerita\n",
      "Carmela\n",
      "Junita\n",
      "Claribel\n",
      "Benton\n",
      "Hillary\n",
      "Merilyn\n",
      "Teri\n",
      "Merlyn\n",
      "Georgene\n",
      "Jettie\n",
      "Lemuel\n",
      "Melodie\n",
      "Candida\n",
      "Karan\n",
      "Andra\n",
      "Felicidad\n",
      "Belen\n",
      "Gracia\n",
      "Jolanda\n",
      "Barrett\n",
      "Helga\n",
      "Ashlyn\n",
      "Fausto\n",
      "Ronny\n",
      "Marge\n",
      "Norah\n",
      "Aliza\n",
      "Mozell\n",
      "Viola\n",
      "Franklyn\n",
      "Willodean\n",
      "Beckie\n",
      "Rebecka\n",
      "Frederica\n",
      "Glen\n",
      "Freeman\n",
      "Vincent\n",
      "Rima\n",
      "Glendora\n",
      "Avery\n",
      "Cristy\n",
      "Nicolette\n",
      "Tracey\n",
      "Virgina\n",
      "Tiera\n",
      "Alaine\n",
      "Earleen\n",
      "Leonida\n",
      "Ressie\n",
      "Justine\n",
      "Eladia\n",
      "Chaya\n",
      "Gwenn\n",
      "Salena\n",
      "Yoko\n",
      "Taryn\n",
      "Katina\n",
      "Rickie\n",
      "Alex\n",
      "Lashon\n",
      "Lauran\n",
      "Ceola\n",
      "My\n",
      "Lorrine\n",
      "Peggie\n",
      "Marvel\n",
      "Daron\n",
      "An\n",
      "Portia\n",
      "Rhea\n",
      "Benedict\n",
      "Alyce\n",
      "Heike\n",
      "Carey\n",
      "Dottie\n",
      "Deandrea\n",
      "Kimberlie\n",
      "Martina\n",
      "Skye\n",
      "Jade\n",
      "Charlene\n",
      "Geoffrey\n",
      "Stevie\n",
      "Pamella\n",
      "Harrison\n",
      "Johnna\n",
      "Buddy\n",
      "Dalene\n",
      "Jerry\n",
      "Haydee\n",
      "Joseph\n",
      "Deonna\n",
      "Raymon\n",
      "Alecia\n",
      "Ma\n",
      "Detra\n",
      "Terrilyn\n",
      "Salome\n",
      "Garry\n",
      "Matthew\n",
      "Theodora\n",
      "Noah\n",
      "Carmen\n",
      "Lavonda\n",
      "Junita\n",
      "Herminia\n",
      "Casie\n",
      "Reena\n",
      "Mirta\n",
      "Cathrine\n",
      "Filiberto\n",
      "Raul\n",
      "Sarah\n",
      "Lucy\n",
      "Judy\n",
      "Yvonne\n",
      "Kayleigh\n",
      "Felix\n",
      "Tresa\n",
      "Kristeen\n",
      "Jenelle\n",
      "Renea\n",
      "Olive\n",
      "Ligia\n",
      "Christiane\n",
      "Goldie\n",
      "Loreta\n",
      "Fabiola\n",
      "Amie\n",
      "Raina\n",
      "Erinn\n",
      "Cherry\n",
      "Kattie\n",
      "Lilli\n",
      "Whitley\n",
      "Barbra\n",
      "Hermila\n",
      "Jesusita\n",
      "Caitlin\n",
      "Roosevelt\n",
      "Helaine\n",
      "Lorean\n",
      "France\n",
      "Justine\n",
      "Adelina\n",
      "Derick\n",
      "Jerry\n",
      "Leota\n",
      "Jutta\n",
      "Aja\n",
      "Kirk\n",
      "Leonora\n",
      "Winfred\n",
      "Tarra\n",
      "Corinne\n",
      "Dulce\n",
      "Kate\n",
      "Kaitlyn\n",
      "Sherita\n",
      "Lashawnda\n",
      "Ernest\n",
      "Nobuko\n",
      "Lavonna\n",
      "Lashaunda\n",
      "Mariann\n",
      "Helene\n",
      "Roselle\n",
      "Samira\n",
      "Margart\n",
      "Kristofer\n",
      "Weldon\n",
      "Shalon\n",
      "Denise\n",
      "Louvenia\n",
      "Audry\n",
      "Kristel\n",
      "Vincenza\n",
      "Elouise\n",
      "Venita\n",
      "Kasandra\n",
      "Xochitl\n",
      "Maile\n",
      "Krissy\n",
      "Pete\n",
      "Linn\n",
      "Paris\n",
      "Wynell\n",
      "Quentin\n",
      "Regenia\n",
      "Sheron\n",
      "Izetta\n",
      "Rodolfo\n",
      "Zona\n",
      "Serina\n",
      "Paz\n",
      "Markus\n",
      "Jaclyn\n",
      "Cyril\n",
      "Gayla\n",
      "Erick\n",
      "Jennie\n",
      "Mitsue\n",
      "Ciara\n",
      "Galen\n",
      "Truman\n",
      "Gail\n",
      "Dalene\n",
      "Gertude\n",
      "Lizbeth\n",
      "Glenn\n",
      "Lashandra\n",
      "Lenna\n",
      "Laurel\n",
      "Mireya\n",
      "Annelle\n",
      "Dean\n",
      "Levi\n",
      "Sylvie\n",
      "Sharee\n",
      "Cordelia\n",
      "Mollie\n",
      "Brett\n",
      "Teddy\n",
      "Tasia\n",
      "Hubert\n",
      "Arthur\n",
      "Vilma\n",
      "Billye\n",
      "Glenna\n",
      "Mitzie\n",
      "Bernardine\n",
      "Staci\n",
      "Nichelle\n",
      "Janine\n",
      "Ettie\n",
      "Eden\n",
      "Lynelle\n",
      "Merissa\n",
      "Golda\n",
      "Catarina\n",
      "Virgie\n",
      "Jolene\n",
      "Keneth\n",
      "Rikki\n",
      "Elke\n",
      "Hoa\n",
      "Trinidad\n",
      "Mari\n",
      "Selma\n",
      "Antione\n",
      "Luisa\n",
      "Clorinda\n",
      "Dick\n",
      "Ahmed\n",
      "Iluminada\n",
      "Joanna\n",
      "Caprice\n",
      "Stephane\n",
      "Quentin\n",
      "Annmarie\n",
      "Shonda\n",
      "Cecil\n",
      "Jeanice\n",
      "Josphine\n",
      "Daniel\n",
      "Cassi\n",
      "Britt\n",
      "Adell\n",
      "Jacqueline\n",
      "Lonny\n",
      "Lonna\n",
      "Cristal\n",
      "Kenneth\n",
      "Elli\n",
      "Alline\n",
      "Sharika\n",
      "Nu\n",
      "Daniela\n",
      "Cecilia\n",
      "Leslie\n",
      "Nan\n",
      "Izetta\n",
      "Tegan\n",
      "Ruthann\n",
      "Joni\n",
      "Vi\n",
      "Colette\n",
      "Malcolm\n",
      "Ryan\n",
      "Jess\n",
      "Sharen\n",
      "Nickolas\n",
      "Gary\n",
      "Diane\n",
      "Roslyn\n",
      "Glory\n",
      "Rasheeda\n",
      "Alpha\n",
      "Refugia\n",
      "Shawnda\n",
      "Mona\n",
      "Gilma\n",
      "Janey\n",
      "Lili\n",
      "Loren\n",
      "Dorothy\n",
      "Gail\n",
      "Catalina\n",
      "Lawrence\n",
      "Carlee\n",
      "Thaddeus\n",
      "Jovita\n",
      "Alesia\n",
      "Lai\n",
      "Brittni\n",
      "Raylene\n",
      "Flo\n",
      "Jani\n",
      "Chauncey\n"
     ]
    }
   ],
   "source": [
    "import csv\n",
    "with open('sample_users.csv','r') as f:\n",
    "    data=csv.reader(f)\n",
    "    for i in data:\n",
    "        print(i[0])"
   ]
  },
  {
   "cell_type": "code",
   "execution_count": 13,
   "metadata": {},
   "outputs": [
    {
     "name": "stdout",
     "output_type": "stream",
     "text": [
      "address\n",
      "6649 N Blue Gum St\n",
      "4 B Blue Ridge Blvd\n",
      "8 W Cerritos Ave #54\n",
      "639 Main St\n",
      "34 Center St\n",
      "3 Mcauley Dr\n",
      "7 Eads St\n",
      "7 W Jackson Blvd\n",
      "5 Boston Ave #88\n",
      "228 Runamuck Pl #2808\n",
      "2371 Jerrold Ave\n",
      "37275 St  Rt 17m M\n",
      "25 E 75th St #69\n",
      "98 Connecticut Ave Nw\n",
      "56 E Morehead St\n",
      "73 State Road 434 E\n",
      "69734 E Carrillo St\n",
      "322 New Horizon Blvd\n",
      "1 State Route 27\n",
      "394 Manchester Blvd\n",
      "6 S 33rd St\n",
      "6 Greenleaf Ave\n",
      "618 W Yakima Ave\n",
      "74 S Westgate St\n",
      "3273 State St\n",
      "1 Central Ave\n",
      "86 Nw 66th St #8673\n",
      "2 Cedar Ave #84\n",
      "90991 Thorburn Ave\n",
      "386 9th Ave N\n",
      "74874 Atlantic Ave\n",
      "366 South Dr\n",
      "45 E Liberty St\n",
      "4 Ralph Ct\n",
      "2742 Distribution Way\n",
      "426 Wolf St\n",
      "128 Bransten Rd\n",
      "17 Morena Blvd\n",
      "775 W 17th St\n",
      "6980 Dorsett Rd\n",
      "2881 Lewis Rd\n",
      "7219 Woodfield Rd\n",
      "1048 Main St\n",
      "678 3rd Ave\n",
      "20 S Babcock St\n",
      "2 Lighthouse Ave\n",
      "38938 Park Blvd\n",
      "5 Tomahawk Dr\n",
      "762 S Main St\n",
      "209 Decker Dr\n",
      "4486 W O St #1\n",
      "39 S 7th St\n",
      "98839 Hawthorne Blvd #6101\n",
      "71 San Mateo Ave\n",
      "76 Brooks St #9\n",
      "4545 Courthouse Rd\n",
      "14288 Foster Ave #4121\n",
      "4 Otis St\n",
      "65895 S 16th St\n",
      "14302 Pennsylvania Ave\n",
      "201 Hawk Ct\n",
      "53075 Sw 152nd Ter #615\n",
      "59 N Groesbeck Hwy\n",
      "2664 Lewis Rd\n",
      "59 Shady Ln #53\n",
      "3305 Nabell Ave #679\n",
      "18 Fountain St\n",
      "7 W 32nd St\n",
      "2853 S Central Expy\n",
      "74 W College St\n",
      "701 S Harrison Rd\n",
      "1088 Pinehurst St\n",
      "30 W 80th St #1995\n",
      "20932 Hedley St\n",
      "2737 Pistorio Rd #9230\n",
      "74989 Brandon St\n",
      "6 Kains Ave\n",
      "47565 W Grand Ave\n",
      "4284 Dorigo Ln\n",
      "6794 Lake Dr E\n",
      "31 Douglas Blvd #950\n",
      "44 W 4th St\n",
      "11279 Loytan St\n",
      "69 Marquette Ave\n",
      "70 W Main St\n",
      "461 Prospect Pl #316\n",
      "47154 Whipple Ave Nw\n",
      "37 Alabama Ave\n",
      "3777 E Richmond St #900\n",
      "3 Fort Worth Ave\n",
      "4800 Black Horse Pike\n",
      "83649 W Belmont Ave\n",
      "840 15th Ave\n",
      "1747 Calle Amanecer #2\n",
      "99385 Charity St #840\n",
      "68556 Central Hwy\n",
      "55 Riverside Ave\n",
      "7140 University Ave\n",
      "64 5th Ave #1153\n",
      "3 Secor Rd\n",
      "4 Webbs Chapel Rd\n",
      "524 Louisiana Ave Nw\n",
      "185 Blackstone Bldge\n",
      "170 Wyoming Ave\n",
      "4 10th St W\n",
      "7 W Pinhook Rd\n",
      "1 Commerce Way\n",
      "64 Lakeview Ave\n",
      "3 Aspen St\n",
      "32860 Sierra Rd\n",
      "555 Main St\n",
      "2 Se 3rd Ave\n",
      "2239 Shawnee Mission Pky\n",
      "2726 Charcot Ave\n",
      "5161 Dorsett Rd\n",
      "55892 Jacksonville Rd\n",
      "5 N Cleveland Massillon Rd\n",
      "7 Benton Dr\n",
      "9390 S Howell Ave\n",
      "8 County Center Dr #647\n",
      "4646 Kaahumanu St\n",
      "2 Monroe St\n",
      "52777 Leaders Heights Rd\n",
      "72868 Blackington Ave\n",
      "9 Norristown Rd\n",
      "83 County Road 437 #8581\n",
      "1 N Harlem Ave #9\n",
      "90131 J St\n",
      "8597 W National Ave\n",
      "6 Gilson St\n",
      "65 W Maple Ave\n",
      "866 34th Ave\n",
      "798 Lund Farm Way\n",
      "9387 Charcot Ave\n",
      "30553 Washington Rd\n",
      "481 W Lemon St\n",
      "4 Warehouse Point Rd #7\n",
      "4940 Pulaski Park Dr\n",
      "627 Walford Ave\n",
      "137 Pioneer Way\n",
      "61 13 Stoneridge #835\n",
      "2409 Alabama Rd\n",
      "8927 Vandever Ave\n",
      "134 Lewis Rd\n",
      "9 N College Ave #3\n",
      "60480 Old Us Highway 51\n",
      "4 Bloomfield Ave\n",
      "429 Tiger Ln\n",
      "54169 N Main St\n",
      "92 Main St\n",
      "72 Mannix Dr\n",
      "12270 Caton Center Dr\n",
      "749 W 18th St #45\n",
      "8 Industry Ln\n",
      "1 Huntwood Ave\n",
      "55262 N French Rd\n",
      "422 E 21st St\n",
      "501 N 19th Ave\n",
      "455 N Main Ave\n",
      "1844 Southern Blvd\n",
      "2023 Greg St\n",
      "63381 Jenks Ave\n",
      "6651 Municipal Rd\n",
      "81 Norris Ave #525\n",
      "6916 W Main St\n",
      "9635 S Main St\n",
      "17 Us Highway 111\n",
      "992 Civic Center Dr\n",
      "303 N Radcliffe St\n",
      "73 Saint Ann St #86\n",
      "44 58th St\n",
      "9745 W Main St\n",
      "84 Bloomfield Ave\n",
      "287 Youngstown Warren Rd\n",
      "6 Van Buren St\n",
      "229 N Forty Driv\n",
      "2887 Knowlton St #5435\n",
      "523 Marquette Ave\n",
      "3717 Hamann Industrial Pky\n",
      "3 State Route 35 S\n",
      "82 N Highway 67\n",
      "9 Murfreesboro Rd\n",
      "6 S Broadway St\n",
      "6 Harry L Dr #6327\n",
      "47939 Porter Ave\n",
      "9 Wales Rd Ne #914\n",
      "195 13n N\n",
      "99 Tank Farm Rd\n",
      "4671 Alemany Blvd\n",
      "98 University Dr\n",
      "50 E Wacker Dr\n",
      "70 Euclid Ave #722\n",
      "326 E Main St #6496\n",
      "406 Main St\n",
      "3 Elmwood Dr\n",
      "9 Church St\n",
      "9939 N 14th St\n",
      "5384 Southwyck Blvd\n",
      "97 Airport Loop Dr\n",
      "37855 Nolan Rd\n",
      "4252 N Washington Ave #9\n",
      "42754 S Ash Ave\n",
      "703 Beville Rd\n",
      "5 Harrison Rd\n",
      "73 Southern Blvd\n",
      "189 Village Park Rd\n",
      "6 Middlegate Rd #106\n",
      "1128 Delaware St\n",
      "577 Parade St\n",
      "70 Mechanic St\n",
      "4379 Highway 116\n",
      "55 Hawthorne Blvd\n",
      "7116 Western Ave\n",
      "2026 N Plankinton Ave #3\n",
      "99586 Main St\n",
      "8739 Hudson St\n",
      "383 Gunderman Rd #197\n",
      "4441 Point Term Mkt\n",
      "2972 Lafayette Ave\n",
      "2140 Diamond Blvd\n",
      "93 Redmond Rd #492\n",
      "3989 Portage Tr\n",
      "1 Midway Rd\n",
      "77132 Coon Rapids Blvd Nw\n",
      "755 Harbor Way\n",
      "87 Sierra Rd\n",
      "7667 S Hulen St #42\n",
      "75684 S Withlapopka Dr #32\n",
      "5 Elmwood Park Blvd\n",
      "23 Palo Alto Sq\n",
      "38062 E Main St\n",
      "3958 S Dupont Hwy #7\n",
      "560 Civic Center Dr\n",
      "3270 Dequindre Rd\n",
      "1 Garfield Ave #7\n",
      "9122 Carpenter Ave\n",
      "48 Lenox St\n",
      "5 Little River Tpke\n",
      "3 N Groesbeck Hwy\n",
      "37 N Elm St #916\n",
      "433 Westminster Blvd #590\n",
      "66697 Park Pl #3224\n",
      "96263 Greenwood Pl\n",
      "8 Mcarthur Ln\n",
      "8 Fair Lawn Ave\n",
      "9 N 14th St\n",
      "9 Vanowen St\n",
      "18 Waterloo Geneva Rd\n",
      "506 S Hacienda Dr\n",
      "3732 Sherman Ave\n",
      "25657 Live Oak St\n",
      "4923 Carey Ave\n",
      "3196 S Rider Trl\n",
      "3 Railway Ave #75\n",
      "87393 E Highland Rd\n",
      "67 E Chestnut Hill Rd\n",
      "33 Lewis Rd #46\n",
      "8100 Jacksonville Rd #7\n",
      "7 W Wabansia Ave #227\n",
      "25 Minters Chapel Rd #9\n",
      "6882 Torresdale Ave\n",
      "985 E 6th Ave\n",
      "7 West Ave #1\n",
      "26659 N 13th St\n",
      "669 Packerland Dr #1438\n",
      "759 Eldora St\n",
      "5 S Colorado Blvd #449\n",
      "944 Gaither Dr\n",
      "66552 Malone Rd\n",
      "77 Massillon Rd #822\n",
      "25346 New Rd\n",
      "60 Fillmore Ave\n",
      "57 Haven Ave #90\n",
      "6538 E Pomona St #60\n",
      "6535 Joyce St\n",
      "78112 Morris Ave\n",
      "96950 Hidden Ln\n",
      "3718 S Main St\n",
      "9677 Commerce Dr\n",
      "5 Green Pond Rd #4\n",
      "636 Commerce Dr #42\n",
      "42744 Hamann Industrial Pky #82\n",
      "1950 5th Ave\n",
      "61304 N French Rd\n",
      "87 Imperial Ct #79\n",
      "94 W Dodge Rd\n",
      "4 58th St #3519\n",
      "5221 Bear Valley Rd\n",
      "9648 S Main\n",
      "7 S San Marcos Rd\n",
      "812 S Haven St\n",
      "3882 W Congress St #799\n",
      "4 E Colonial Dr\n",
      "45 2nd Ave #9759\n",
      "57254 Brickell Ave #372\n",
      "8977 Connecticut Ave Nw #3\n",
      "9 Waydell St\n",
      "43 Huey P Long Ave\n",
      "7563 Cornwall Rd #4462\n",
      "22 Bridle Ln\n",
      "70099 E North Ave\n",
      "3211 E Northeast Loop\n",
      "26 Montgomery St\n",
      "13252 Lighthouse Ave\n",
      "206 Main St #2804\n",
      "96541 W Central Blvd\n",
      "34 Saint George Ave #2\n",
      "47857 Coney Island Ave\n",
      "8573 Lincoln Blvd\n",
      "596 Santa Maria Ave #7913\n",
      "3829 Ventura Blvd\n",
      "13 S Hacienda Dr\n",
      "40 9th Ave Sw #91\n",
      "2845 Boulder Crescent St\n",
      "33 State St\n",
      "2 S 15th St\n",
      "4 Kohler Memorial Dr\n",
      "1 Rancho Del Mar Shopping C\n",
      "3943 N Highland Ave\n",
      "5 Williams St\n",
      "60 Old Dover Rd\n",
      "8 Sheridan Rd\n",
      "85092 Southern Blvd\n",
      "64 Newman Springs Rd E\n",
      "48 Stratford Ave\n",
      "80 Pittsford Victor Rd #9\n",
      "87163 N Main Ave\n",
      "393 Lafayette Ave\n",
      "99 5th Ave #33\n",
      "49 N Mays St\n",
      "993 Washington Ave\n",
      "88 15th Ave Ne\n",
      "3381 E 40th Ave\n",
      "201 Ridgewood Rd\n",
      "39 Moccasin Dr\n",
      "4 Carroll St\n",
      "9581 E Arapahoe Rd\n",
      "33 N Michigan Ave\n",
      "2 S Biscayne Blvd\n",
      "8 Us Highway 22\n",
      "7422 Martin Ave #8\n",
      "94 Chase Rd\n",
      "8139 I Hwy 10 #92\n",
      "5 Cabot Rd\n",
      "3387 Ryan Dr\n",
      "3125 Packer Ave #9851\n",
      "347 Chestnut St\n",
      "8116 Mount Vernon Ave\n",
      "8772 Old County Rd #5410\n",
      "868 State St #38\n",
      "772 W River Dr\n",
      "73 W Barstow Ave\n",
      "61047 Mayfield Ave\n",
      "2139 Santa Rosa Ave\n",
      "598 43rd St\n",
      "70295 Pioneer Ct\n",
      "92899 Kalakaua Ave\n",
      "395 S 6th St #2\n",
      "9506 Edgemore Ave\n",
      "72119 S Walker Ave #63\n",
      "369 Latham St #500\n",
      "3158 Runamuck Pl\n",
      "9 Plainsboro Rd #598\n",
      "8728 S Broad St\n",
      "2215 Prosperity Dr\n",
      "1 S Pine St\n",
      "187 Market St\n",
      "94290 S Buchanan St\n",
      "7061 N 2nd St\n",
      "10759 Main St\n",
      "97 E 3rd St #9\n",
      "82 Winsor St #54\n",
      "41 Steel Ct\n",
      "49440 Dearborn St\n",
      "7 S Beverly Dr\n",
      "919 Wall Blvd\n",
      "89 20th St E #779\n",
      "721 Interstate 45 S\n",
      "3 Lawton St\n",
      "38 Pleasant Hill Rd\n",
      "45 E Acacia Ct\n",
      "63728 Poway Rd #1\n",
      "77 222 Dr\n",
      "53 W Carey St\n",
      "617 Nw 36th Ave\n",
      "539 Coldwater Canyon Ave\n",
      "735 Crawford Dr\n",
      "910 Rahway Ave\n",
      "7 Tarrytown Rd\n",
      "35433 Blake St #588\n",
      "29 Cherry St #7073\n",
      "810 N La Brea Ave\n",
      "987 Main St\n",
      "36 Enterprise St Se\n",
      "8429 Miller Rd\n",
      "5 W 7th St\n",
      "2 Flynn Rd\n",
      "2094 Ne 36th Ave\n",
      "649 Tulane Ave\n",
      "2094 Montour Blvd\n",
      "393 Hammond Dr\n",
      "8590 Lake Lizzie Dr\n",
      "87895 Concord Rd\n",
      "46314 Route 130\n",
      "4 Cowesett Ave\n",
      "95 Main Ave #2\n",
      "28 S 7th St #2824\n",
      "79 S Howell Ave\n",
      "36 Lancaster Dr Se\n",
      "2759 Livingston Ave\n",
      "17 Jersey Ave\n",
      "2 W Grand Ave\n",
      "18 Coronado Ave #563\n",
      "72 Beechwood Ter\n",
      "92 Broadway\n",
      "39 Franklin Ave\n",
      "4 Iwaena St\n",
      "32820 Corkwood Rd\n",
      "34 Raritan Center Pky\n",
      "6201 S Nevada Ave\n",
      "78 Maryland Dr #146\n",
      "76598 Rd  I 95 #1\n",
      "1610 14th St Nw\n",
      "86350 Roszel Rd\n",
      "1644 Clove Rd\n",
      "9 W Central Ave\n",
      "27846 Lafayette Ave\n",
      "10276 Brooks St\n",
      "1 Century Park E\n",
      "9 State Highway 57 #22\n",
      "4 S Washington Ave\n",
      "25 Se 176th Pl\n",
      "105 Richmond Valley Rd\n",
      "22 Spruce St #595\n",
      "2 W Beverly Blvd\n",
      "72 Southern Blvd\n",
      "1 Washington St\n",
      "90177 N 55th Ave\n",
      "9 Tower Ave\n",
      "278 Bayview Ave\n",
      "80312 W 32nd St\n",
      "82 Us Highway 46\n",
      "4 Stovall St #72\n",
      "19 Amboy Ave\n",
      "63 Smith Ln #8343\n",
      "11360 S Halsted St\n",
      "26849 Jefferson Hwy\n",
      "2500 Pringle Rd Se #508\n",
      "65 Mountain View Dr\n",
      "1 N San Saba\n",
      "51120 State Route 18\n",
      "1482 College Ave\n",
      "4119 Metropolitan Dr\n",
      "2167 Sierra Rd\n",
      "6 Sunrise Ave\n",
      "55713 Lake City Hwy\n",
      "75698 N Fiesta Blvd\n",
      "88 Sw 28th Ter\n",
      "7 Flowers Rd #403\n",
      "4 Nw 12th St #3849\n",
      "2 A Kelley Dr\n",
      "88827 Frankford Ave\n",
      "2 W Scyene Rd #3\n",
      "62260 Park Stre\n",
      "3424 29th St Se\n",
      "35 E Main St #43\n",
      "7163 W Clark Rd\n",
      "21575 S Apple Creek Rd\n",
      "747 Leonis Blvd\n",
      "13 Gunnison St\n",
      "18 3rd Ave\n",
      "62 W Austin St\n",
      "177 S Rider Trl #52\n",
      "2 W Mount Royal Ave\n",
      "1953 Telegraph Rd\n",
      "63517 Dupont St\n",
      "5 E Truman Rd\n",
      "251 Park Ave #979\n",
      "43496 Commercial Dr #29\n",
      "2184 Worth St\n",
      "50126 N Plankinton Ave\n",
      "38773 Gravois Ave\n",
      "16452 Greenwich St\n",
      "40 Cambridge Ave\n",
      "20113 4th Ave E\n",
      "6 Ridgewood Center Dr\n",
      "469 Outwater Ln\n",
      "62 Monroe St\n",
      "3338 A Lockport Pl #6\n",
      "9 Hwy\n",
      "8284 Hart St\n",
      "5 Washington St #1\n",
      "8 S Haven St\n",
      "9 Front St\n",
      "1933 Packer Ave #2\n",
      "67 Rv Cent\n",
      "2 Sw Nyberg Rd\n",
      "89992 E 15th St\n",
      "61556 W 20th Ave\n",
      "63 E Aurora Dr\n"
     ]
    }
   ],
   "source": [
    "import csv\n",
    "with open('sample_users.csv','r') as f:\n",
    "    data=csv.reader(f)\n",
    "    for i in data:\n",
    "        print(i[3])"
   ]
  },
  {
   "cell_type": "code",
   "execution_count": 18,
   "metadata": {},
   "outputs": [
    {
     "ename": "SyntaxError",
     "evalue": "invalid syntax (1399349032.py, line 4)",
     "output_type": "error",
     "traceback": [
      "  \u001b[36mCell\u001b[39m\u001b[36m \u001b[39m\u001b[32mIn[18]\u001b[39m\u001b[32m, line 4\u001b[39m\n\u001b[31m    \u001b[39m\u001b[31mfor in data:\u001b[39m\n        ^\n\u001b[31mSyntaxError\u001b[39m\u001b[31m:\u001b[39m invalid syntax\n"
     ]
    }
   ],
   "source": [
    "import csv\n",
    "with open('sample_users.csv','r') as f:\n",
    "    data=csv.DictReader(f)\n",
    "    for in data:\n",
    "        print(i['first_name'],i['address'])"
   ]
  },
  {
   "cell_type": "code",
   "execution_count": 20,
   "metadata": {},
   "outputs": [
    {
     "name": "stdout",
     "output_type": "stream",
     "text": [
      "James 6649 N Blue Gum St\n",
      "Josephine 4 B Blue Ridge Blvd\n",
      "Art 8 W Cerritos Ave #54\n",
      "Lenna 639 Main St\n",
      "Donette 34 Center St\n",
      "Simona 3 Mcauley Dr\n",
      "Mitsue 7 Eads St\n",
      "Leota 7 W Jackson Blvd\n",
      "Sage 5 Boston Ave #88\n",
      "Kris 228 Runamuck Pl #2808\n",
      "Minna 2371 Jerrold Ave\n",
      "Abel 37275 St  Rt 17m M\n",
      "Kiley 25 E 75th St #69\n",
      "Graciela 98 Connecticut Ave Nw\n",
      "Cammy 56 E Morehead St\n",
      "Mattie 73 State Road 434 E\n",
      "Meaghan 69734 E Carrillo St\n",
      "Gladys 322 New Horizon Blvd\n",
      "Yuki 1 State Route 27\n",
      "Fletcher 394 Manchester Blvd\n",
      "Bette 6 S 33rd St\n",
      "Veronika 6 Greenleaf Ave\n",
      "Willard 618 W Yakima Ave\n",
      "Maryann 74 S Westgate St\n",
      "Alisha 3273 State St\n",
      "Allene 1 Central Ave\n",
      "Chanel 86 Nw 66th St #8673\n",
      "Ezekiel 2 Cedar Ave #84\n",
      "Willow 90991 Thorburn Ave\n",
      "Bernardo 386 9th Ave N\n",
      "Ammie 74874 Atlantic Ave\n",
      "Francine 366 South Dr\n",
      "Ernie 45 E Liberty St\n",
      "Albina 4 Ralph Ct\n",
      "Alishia 2742 Distribution Way\n",
      "Solange 426 Wolf St\n",
      "Jose 128 Bransten Rd\n",
      "Rozella 17 Morena Blvd\n",
      "Valentine 775 W 17th St\n",
      "Kati 6980 Dorsett Rd\n",
      "Youlanda 2881 Lewis Rd\n",
      "Dyan 7219 Woodfield Rd\n",
      "Roxane 1048 Main St\n",
      "Lavera 678 3rd Ave\n",
      "Erick 20 S Babcock St\n",
      "Fatima 2 Lighthouse Ave\n",
      "Jina 38938 Park Blvd\n",
      "Kanisha 5 Tomahawk Dr\n",
      "Emerson 762 S Main St\n",
      "Blair 209 Decker Dr\n",
      "Brock 4486 W O St #1\n",
      "Lorrie 39 S 7th St\n",
      "Sabra 98839 Hawthorne Blvd #6101\n",
      "Marjory 71 San Mateo Ave\n",
      "Karl 76 Brooks St #9\n",
      "Tonette 4545 Courthouse Rd\n",
      "Amber 14288 Foster Ave #4121\n",
      "Shenika 4 Otis St\n",
      "Delmy 65895 S 16th St\n",
      "Deeanna 14302 Pennsylvania Ave\n",
      "Blondell 201 Hawk Ct\n",
      "Jamal 53075 Sw 152nd Ter #615\n",
      "Cecily 59 N Groesbeck Hwy\n",
      "Carmelina 2664 Lewis Rd\n",
      "Maurine 59 Shady Ln #53\n",
      "Tawna 3305 Nabell Ave #679\n",
      "Penney 18 Fountain St\n",
      "Elly 7 W 32nd St\n",
      "Ilene 2853 S Central Expy\n",
      "Vallie 74 W College St\n",
      "Kallie 701 S Harrison Rd\n",
      "Johnetta 1088 Pinehurst St\n",
      "Bobbye 30 W 80th St #1995\n",
      "Micaela 20932 Hedley St\n",
      "Tamar 2737 Pistorio Rd #9230\n",
      "Moon 74989 Brandon St\n",
      "Laurel 6 Kains Ave\n",
      "Delisa 47565 W Grand Ave\n",
      "Viva 4284 Dorigo Ln\n",
      "Elza 6794 Lake Dr E\n",
      "Devorah 31 Douglas Blvd #950\n",
      "Timothy 44 W 4th St\n",
      "Arlette 11279 Loytan St\n",
      "Dominque 69 Marquette Ave\n",
      "Lettie 70 W Main St\n",
      "Myra 461 Prospect Pl #316\n",
      "Stephaine 47154 Whipple Ave Nw\n",
      "Lai 37 Alabama Ave\n",
      "Stephen 3777 E Richmond St #900\n",
      "Tyra 3 Fort Worth Ave\n",
      "Tammara 4800 Black Horse Pike\n",
      "Cory 83649 W Belmont Ave\n",
      "Danica 840 15th Ave\n",
      "Wilda 1747 Calle Amanecer #2\n",
      "Elvera 99385 Charity St #840\n",
      "Carma 68556 Central Hwy\n",
      "Malinda 55 Riverside Ave\n",
      "Natalie 7140 University Ave\n",
      "Lisha 64 5th Ave #1153\n",
      "Arlene 3 Secor Rd\n",
      "Alease 4 Webbs Chapel Rd\n",
      "Louisa 524 Louisiana Ave Nw\n",
      "Angella 185 Blackstone Bldge\n",
      "Cyndy 170 Wyoming Ave\n",
      "Rosio 4 10th St W\n",
      "Celeste 7 W Pinhook Rd\n",
      "Twana 1 Commerce Way\n",
      "Estrella 64 Lakeview Ave\n",
      "Donte 3 Aspen St\n",
      "Tiffiny 32860 Sierra Rd\n",
      "Edna 555 Main St\n",
      "Sue 2 Se 3rd Ave\n",
      "Jesusa 2239 Shawnee Mission Pky\n",
      "Rolland 2726 Charcot Ave\n",
      "Pamella 5161 Dorsett Rd\n",
      "Glory 55892 Jacksonville Rd\n",
      "Shawna 5 N Cleveland Massillon Rd\n",
      "Brandon 7 Benton Dr\n",
      "Scarlet 9390 S Howell Ave\n",
      "Oretha 8 County Center Dr #647\n",
      "Ty 4646 Kaahumanu St\n",
      "Xuan 2 Monroe St\n",
      "Lindsey 52777 Leaders Heights Rd\n",
      "Devora 72868 Blackington Ave\n",
      "Herman 9 Norristown Rd\n",
      "Rory 83 County Road 437 #8581\n",
      "Talia 1 N Harlem Ave #9\n",
      "Van 90131 J St\n",
      "Lucina 8597 W National Ave\n",
      "Bok 6 Gilson St\n",
      "Rolande 65 W Maple Ave\n",
      "Howard 866 34th Ave\n",
      "Kimbery 798 Lund Farm Way\n",
      "Thurman 9387 Charcot Ave\n",
      "Becky 30553 Washington Rd\n",
      "Beatriz 481 W Lemon St\n",
      "Marti 4 Warehouse Point Rd #7\n",
      "Nieves 4940 Pulaski Park Dr\n",
      "Leatha 627 Walford Ave\n",
      "Valentin 137 Pioneer Way\n",
      "Melissa 61 13 Stoneridge #835\n",
      "Sheridan 2409 Alabama Rd\n",
      "Bulah 8927 Vandever Ave\n",
      "Audra 134 Lewis Rd\n",
      "Daren 9 N College Ave #3\n",
      "Fernanda 60480 Old Us Highway 51\n",
      "Gearldine 4 Bloomfield Ave\n",
      "Chau 429 Tiger Ln\n",
      "Theola 54169 N Main St\n",
      "Cheryl 92 Main St\n",
      "Laticia 72 Mannix Dr\n",
      "Carissa 12270 Caton Center Dr\n",
      "Lezlie 749 W 18th St #45\n",
      "Ozell 8 Industry Ln\n",
      "Arminda 1 Huntwood Ave\n",
      "Reita 55262 N French Rd\n",
      "Yolando 422 E 21st St\n",
      "Lizette 501 N 19th Ave\n",
      "Gregoria 455 N Main Ave\n",
      "Carin 1844 Southern Blvd\n",
      "Chantell 2023 Greg St\n",
      "Dierdre 63381 Jenks Ave\n",
      "Larae 6651 Municipal Rd\n",
      "Latrice 81 Norris Ave #525\n",
      "Kerry 6916 W Main St\n",
      "Dorthy 9635 S Main St\n",
      "Fannie 17 Us Highway 111\n",
      "Evangelina 992 Civic Center Dr\n",
      "Novella 303 N Radcliffe St\n",
      "Clay 73 Saint Ann St #86\n",
      "Jennifer 44 58th St\n",
      "Irma 9745 W Main St\n",
      "Eun 84 Bloomfield Ave\n",
      "Sylvia 287 Youngstown Warren Rd\n",
      "Nana 6 Van Buren St\n",
      "Layla 229 N Forty Driv\n",
      "Joesph 2887 Knowlton St #5435\n",
      "Annabelle 523 Marquette Ave\n",
      "Stephaine 3717 Hamann Industrial Pky\n",
      "Nelida 3 State Route 35 S\n",
      "Marguerita 82 N Highway 67\n",
      "Carmela 9 Murfreesboro Rd\n",
      "Junita 6 S Broadway St\n",
      "Claribel 6 Harry L Dr #6327\n",
      "Benton 47939 Porter Ave\n",
      "Hillary 9 Wales Rd Ne #914\n",
      "Merilyn 195 13n N\n",
      "Teri 99 Tank Farm Rd\n",
      "Merlyn 4671 Alemany Blvd\n",
      "Georgene 98 University Dr\n",
      "Jettie 50 E Wacker Dr\n",
      "Lemuel 70 Euclid Ave #722\n",
      "Melodie 326 E Main St #6496\n",
      "Candida 406 Main St\n",
      "Karan 3 Elmwood Dr\n",
      "Andra 9 Church St\n",
      "Felicidad 9939 N 14th St\n",
      "Belen 5384 Southwyck Blvd\n",
      "Gracia 97 Airport Loop Dr\n",
      "Jolanda 37855 Nolan Rd\n",
      "Barrett 4252 N Washington Ave #9\n",
      "Helga 42754 S Ash Ave\n",
      "Ashlyn 703 Beville Rd\n",
      "Fausto 5 Harrison Rd\n",
      "Ronny 73 Southern Blvd\n",
      "Marge 189 Village Park Rd\n",
      "Norah 6 Middlegate Rd #106\n",
      "Aliza 1128 Delaware St\n",
      "Mozell 577 Parade St\n",
      "Viola 70 Mechanic St\n",
      "Franklyn 4379 Highway 116\n",
      "Willodean 55 Hawthorne Blvd\n",
      "Beckie 7116 Western Ave\n",
      "Rebecka 2026 N Plankinton Ave #3\n",
      "Frederica 99586 Main St\n",
      "Glen 8739 Hudson St\n",
      "Freeman 383 Gunderman Rd #197\n",
      "Vincent 4441 Point Term Mkt\n",
      "Rima 2972 Lafayette Ave\n",
      "Glendora 2140 Diamond Blvd\n",
      "Avery 93 Redmond Rd #492\n",
      "Cristy 3989 Portage Tr\n",
      "Nicolette 1 Midway Rd\n",
      "Tracey 77132 Coon Rapids Blvd Nw\n",
      "Virgina 755 Harbor Way\n",
      "Tiera 87 Sierra Rd\n",
      "Alaine 7667 S Hulen St #42\n",
      "Earleen 75684 S Withlapopka Dr #32\n",
      "Leonida 5 Elmwood Park Blvd\n",
      "Ressie 23 Palo Alto Sq\n",
      "Justine 38062 E Main St\n",
      "Eladia 3958 S Dupont Hwy #7\n",
      "Chaya 560 Civic Center Dr\n",
      "Gwenn 3270 Dequindre Rd\n",
      "Salena 1 Garfield Ave #7\n",
      "Yoko 9122 Carpenter Ave\n",
      "Taryn 48 Lenox St\n",
      "Katina 5 Little River Tpke\n",
      "Rickie 3 N Groesbeck Hwy\n",
      "Alex 37 N Elm St #916\n",
      "Lashon 433 Westminster Blvd #590\n",
      "Lauran 66697 Park Pl #3224\n",
      "Ceola 96263 Greenwood Pl\n",
      "My 8 Mcarthur Ln\n",
      "Lorrine 8 Fair Lawn Ave\n",
      "Peggie 9 N 14th St\n",
      "Marvel 9 Vanowen St\n",
      "Daron 18 Waterloo Geneva Rd\n",
      "An 506 S Hacienda Dr\n",
      "Portia 3732 Sherman Ave\n",
      "Rhea 25657 Live Oak St\n",
      "Benedict 4923 Carey Ave\n",
      "Alyce 3196 S Rider Trl\n",
      "Heike 3 Railway Ave #75\n",
      "Carey 87393 E Highland Rd\n",
      "Dottie 67 E Chestnut Hill Rd\n",
      "Deandrea 33 Lewis Rd #46\n",
      "Kimberlie 8100 Jacksonville Rd #7\n",
      "Martina 7 W Wabansia Ave #227\n",
      "Skye 25 Minters Chapel Rd #9\n",
      "Jade 6882 Torresdale Ave\n",
      "Charlene 985 E 6th Ave\n",
      "Geoffrey 7 West Ave #1\n",
      "Stevie 26659 N 13th St\n",
      "Pamella 669 Packerland Dr #1438\n",
      "Harrison 759 Eldora St\n",
      "Johnna 5 S Colorado Blvd #449\n",
      "Buddy 944 Gaither Dr\n",
      "Dalene 66552 Malone Rd\n",
      "Jerry 77 Massillon Rd #822\n",
      "Haydee 25346 New Rd\n",
      "Joseph 60 Fillmore Ave\n",
      "Deonna 57 Haven Ave #90\n",
      "Raymon 6538 E Pomona St #60\n",
      "Alecia 6535 Joyce St\n",
      "Ma 78112 Morris Ave\n",
      "Detra 96950 Hidden Ln\n",
      "Terrilyn 3718 S Main St\n",
      "Salome 9677 Commerce Dr\n",
      "Garry 5 Green Pond Rd #4\n",
      "Matthew 636 Commerce Dr #42\n",
      "Theodora 42744 Hamann Industrial Pky #82\n",
      "Noah 1950 5th Ave\n",
      "Carmen 61304 N French Rd\n",
      "Lavonda 87 Imperial Ct #79\n",
      "Junita 94 W Dodge Rd\n",
      "Herminia 4 58th St #3519\n",
      "Casie 5221 Bear Valley Rd\n",
      "Reena 9648 S Main\n",
      "Mirta 7 S San Marcos Rd\n",
      "Cathrine 812 S Haven St\n",
      "Filiberto 3882 W Congress St #799\n",
      "Raul 4 E Colonial Dr\n",
      "Sarah 45 2nd Ave #9759\n",
      "Lucy 57254 Brickell Ave #372\n",
      "Judy 8977 Connecticut Ave Nw #3\n",
      "Yvonne 9 Waydell St\n",
      "Kayleigh 43 Huey P Long Ave\n",
      "Felix 7563 Cornwall Rd #4462\n",
      "Tresa 22 Bridle Ln\n",
      "Kristeen 70099 E North Ave\n",
      "Jenelle 3211 E Northeast Loop\n",
      "Renea 26 Montgomery St\n",
      "Olive 13252 Lighthouse Ave\n",
      "Ligia 206 Main St #2804\n",
      "Christiane 96541 W Central Blvd\n",
      "Goldie 34 Saint George Ave #2\n",
      "Loreta 47857 Coney Island Ave\n",
      "Fabiola 8573 Lincoln Blvd\n",
      "Amie 596 Santa Maria Ave #7913\n",
      "Raina 3829 Ventura Blvd\n",
      "Erinn 13 S Hacienda Dr\n",
      "Cherry 40 9th Ave Sw #91\n",
      "Kattie 2845 Boulder Crescent St\n",
      "Lilli 33 State St\n",
      "Whitley 2 S 15th St\n",
      "Barbra 4 Kohler Memorial Dr\n",
      "Hermila 1 Rancho Del Mar Shopping C\n",
      "Jesusita 3943 N Highland Ave\n",
      "Caitlin 5 Williams St\n",
      "Roosevelt 60 Old Dover Rd\n",
      "Helaine 8 Sheridan Rd\n",
      "Lorean 85092 Southern Blvd\n",
      "France 64 Newman Springs Rd E\n",
      "Justine 48 Stratford Ave\n",
      "Adelina 80 Pittsford Victor Rd #9\n",
      "Derick 87163 N Main Ave\n",
      "Jerry 393 Lafayette Ave\n",
      "Leota 99 5th Ave #33\n",
      "Jutta 49 N Mays St\n",
      "Aja 993 Washington Ave\n",
      "Kirk 88 15th Ave Ne\n",
      "Leonora 3381 E 40th Ave\n",
      "Winfred 201 Ridgewood Rd\n",
      "Tarra 39 Moccasin Dr\n",
      "Corinne 4 Carroll St\n",
      "Dulce 9581 E Arapahoe Rd\n",
      "Kate 33 N Michigan Ave\n",
      "Kaitlyn 2 S Biscayne Blvd\n",
      "Sherita 8 Us Highway 22\n",
      "Lashawnda 7422 Martin Ave #8\n",
      "Ernest 94 Chase Rd\n",
      "Nobuko 8139 I Hwy 10 #92\n",
      "Lavonna 5 Cabot Rd\n",
      "Lashaunda 3387 Ryan Dr\n",
      "Mariann 3125 Packer Ave #9851\n",
      "Helene 347 Chestnut St\n",
      "Roselle 8116 Mount Vernon Ave\n",
      "Samira 8772 Old County Rd #5410\n",
      "Margart 868 State St #38\n",
      "Kristofer 772 W River Dr\n",
      "Weldon 73 W Barstow Ave\n",
      "Shalon 61047 Mayfield Ave\n",
      "Denise 2139 Santa Rosa Ave\n",
      "Louvenia 598 43rd St\n",
      "Audry 70295 Pioneer Ct\n",
      "Kristel 92899 Kalakaua Ave\n",
      "Vincenza 395 S 6th St #2\n",
      "Elouise 9506 Edgemore Ave\n",
      "Venita 72119 S Walker Ave #63\n",
      "Kasandra 369 Latham St #500\n",
      "Xochitl 3158 Runamuck Pl\n",
      "Maile 9 Plainsboro Rd #598\n",
      "Krissy 8728 S Broad St\n",
      "Pete 2215 Prosperity Dr\n",
      "Linn 1 S Pine St\n",
      "Paris 187 Market St\n",
      "Wynell 94290 S Buchanan St\n",
      "Quentin 7061 N 2nd St\n",
      "Regenia 10759 Main St\n",
      "Sheron 97 E 3rd St #9\n",
      "Izetta 82 Winsor St #54\n",
      "Rodolfo 41 Steel Ct\n",
      "Zona 49440 Dearborn St\n",
      "Serina 7 S Beverly Dr\n",
      "Paz 919 Wall Blvd\n",
      "Markus 89 20th St E #779\n",
      "Jaclyn 721 Interstate 45 S\n",
      "Cyril 3 Lawton St\n",
      "Gayla 38 Pleasant Hill Rd\n",
      "Erick 45 E Acacia Ct\n",
      "Jennie 63728 Poway Rd #1\n",
      "Mitsue 77 222 Dr\n",
      "Ciara 53 W Carey St\n",
      "Galen 617 Nw 36th Ave\n",
      "Truman 539 Coldwater Canyon Ave\n",
      "Gail 735 Crawford Dr\n",
      "Dalene 910 Rahway Ave\n",
      "Gertude 7 Tarrytown Rd\n",
      "Lizbeth 35433 Blake St #588\n",
      "Glenn 29 Cherry St #7073\n",
      "Lashandra 810 N La Brea Ave\n",
      "Lenna 987 Main St\n",
      "Laurel 36 Enterprise St Se\n",
      "Mireya 8429 Miller Rd\n",
      "Annelle 5 W 7th St\n",
      "Dean 2 Flynn Rd\n",
      "Levi 2094 Ne 36th Ave\n",
      "Sylvie 649 Tulane Ave\n",
      "Sharee 2094 Montour Blvd\n",
      "Cordelia 393 Hammond Dr\n",
      "Mollie 8590 Lake Lizzie Dr\n",
      "Brett 87895 Concord Rd\n",
      "Teddy 46314 Route 130\n",
      "Tasia 4 Cowesett Ave\n",
      "Hubert 95 Main Ave #2\n",
      "Arthur 28 S 7th St #2824\n",
      "Vilma 79 S Howell Ave\n",
      "Billye 36 Lancaster Dr Se\n",
      "Glenna 2759 Livingston Ave\n",
      "Mitzie 17 Jersey Ave\n",
      "Bernardine 2 W Grand Ave\n",
      "Staci 18 Coronado Ave #563\n",
      "Nichelle 72 Beechwood Ter\n",
      "Janine 92 Broadway\n",
      "Ettie 39 Franklin Ave\n",
      "Eden 4 Iwaena St\n",
      "Lynelle 32820 Corkwood Rd\n",
      "Merissa 34 Raritan Center Pky\n",
      "Golda 6201 S Nevada Ave\n",
      "Catarina 78 Maryland Dr #146\n",
      "Virgie 76598 Rd  I 95 #1\n",
      "Jolene 1610 14th St Nw\n",
      "Keneth 86350 Roszel Rd\n",
      "Rikki 1644 Clove Rd\n",
      "Elke 9 W Central Ave\n",
      "Hoa 27846 Lafayette Ave\n",
      "Trinidad 10276 Brooks St\n",
      "Mari 1 Century Park E\n",
      "Selma 9 State Highway 57 #22\n",
      "Antione 4 S Washington Ave\n",
      "Luisa 25 Se 176th Pl\n",
      "Clorinda 105 Richmond Valley Rd\n",
      "Dick 22 Spruce St #595\n",
      "Ahmed 2 W Beverly Blvd\n",
      "Iluminada 72 Southern Blvd\n",
      "Joanna 1 Washington St\n",
      "Caprice 90177 N 55th Ave\n",
      "Stephane 9 Tower Ave\n",
      "Quentin 278 Bayview Ave\n",
      "Annmarie 80312 W 32nd St\n",
      "Shonda 82 Us Highway 46\n",
      "Cecil 4 Stovall St #72\n",
      "Jeanice 19 Amboy Ave\n",
      "Josphine 63 Smith Ln #8343\n",
      "Daniel 11360 S Halsted St\n",
      "Cassi 26849 Jefferson Hwy\n",
      "Britt 2500 Pringle Rd Se #508\n",
      "Adell 65 Mountain View Dr\n",
      "Jacqueline 1 N San Saba\n",
      "Lonny 51120 State Route 18\n",
      "Lonna 1482 College Ave\n",
      "Cristal 4119 Metropolitan Dr\n",
      "Kenneth 2167 Sierra Rd\n",
      "Elli 6 Sunrise Ave\n",
      "Alline 55713 Lake City Hwy\n",
      "Sharika 75698 N Fiesta Blvd\n",
      "Nu 88 Sw 28th Ter\n",
      "Daniela 7 Flowers Rd #403\n",
      "Cecilia 4 Nw 12th St #3849\n",
      "Leslie 2 A Kelley Dr\n",
      "Nan 88827 Frankford Ave\n",
      "Izetta 2 W Scyene Rd #3\n",
      "Tegan 62260 Park Stre\n",
      "Ruthann 3424 29th St Se\n",
      "Joni 35 E Main St #43\n",
      "Vi 7163 W Clark Rd\n",
      "Colette 21575 S Apple Creek Rd\n",
      "Malcolm 747 Leonis Blvd\n",
      "Ryan 13 Gunnison St\n",
      "Jess 18 3rd Ave\n",
      "Sharen 62 W Austin St\n",
      "Nickolas 177 S Rider Trl #52\n",
      "Gary 2 W Mount Royal Ave\n",
      "Diane 1953 Telegraph Rd\n",
      "Roslyn 63517 Dupont St\n",
      "Glory 5 E Truman Rd\n",
      "Rasheeda 251 Park Ave #979\n",
      "Alpha 43496 Commercial Dr #29\n",
      "Refugia 2184 Worth St\n",
      "Shawnda 50126 N Plankinton Ave\n",
      "Mona 38773 Gravois Ave\n",
      "Gilma 16452 Greenwich St\n",
      "Janey 40 Cambridge Ave\n",
      "Lili 20113 4th Ave E\n",
      "Loren 6 Ridgewood Center Dr\n",
      "Dorothy 469 Outwater Ln\n",
      "Gail 62 Monroe St\n",
      "Catalina 3338 A Lockport Pl #6\n",
      "Lawrence 9 Hwy\n",
      "Carlee 8284 Hart St\n",
      "Thaddeus 5 Washington St #1\n",
      "Jovita 8 S Haven St\n",
      "Alesia 9 Front St\n",
      "Lai 1933 Packer Ave #2\n",
      "Brittni 67 Rv Cent\n",
      "Raylene 2 Sw Nyberg Rd\n",
      "Flo 89992 E 15th St\n",
      "Jani 61556 W 20th Ave\n",
      "Chauncey 63 E Aurora Dr\n"
     ]
    }
   ],
   "source": [
    "import csv\n",
    "\n",
    "with open('sample_users.csv', 'r') as f:\n",
    "    data = csv.DictReader(f)\n",
    "    for i in data:\n",
    "        print(i['first_name'], i['address'])"
   ]
  },
  {
   "cell_type": "code",
   "execution_count": 22,
   "metadata": {},
   "outputs": [],
   "source": [
    "import csv\n",
    "student=('Ramesh','KTM',22)\n",
    "with open('student.csv','w') as f:\n",
    "    writer=csv.writer(f)\n",
    "    writer.writerow(student)"
   ]
  },
  {
   "cell_type": "code",
   "execution_count": 27,
   "metadata": {},
   "outputs": [],
   "source": [
    "import csv\n",
    "students=[\n",
    "    ('Name','Address','Age'),\n",
    "    ('Ram','ktm',23),\n",
    "    ('Shyam','Ltr',24),\n",
    "    ('Sita','Pkr',21),\n",
    "    ('Gita','Ktm',22)\n",
    "]\n",
    "with open ('student.csv','w')as f:\n",
    "    writer=csv.writer(f)\n",
    "    for student in students:\n",
    "        writer.writerow(student)"
   ]
  },
  {
   "cell_type": "code",
   "execution_count": 31,
   "metadata": {},
   "outputs": [],
   "source": [
    "import csv\n",
    "students=[\n",
    "    ('Name','Address','Age'),\n",
    "    ('Ram','ktm',23),\n",
    "    ('Shyam','Ltr',24),\n",
    "    ('Sita','Pkr',21),\n",
    "    ('Gita','Ktm',22)  \n",
    "]\n",
    "with open('students.csv','w' )as f:\n",
    "     writer=csv.writer(f)\n",
    "     writer.writerows(students) #bulk write\n",
    "   \n",
    "    "
   ]
  },
  {
   "cell_type": "code",
   "execution_count": 34,
   "metadata": {},
   "outputs": [],
   "source": [
    "import csv\n",
    "student={'name':'Ram','address':'ktm','age':23}\n",
    "with open('person.csv','w') as f:\n",
    "    writer=csv.DictWriter(f,fieldnames=student.keys())\n",
    "    writer.writeheader()\n",
    "    writer.writerow(student)"
   ]
  },
  {
   "cell_type": "code",
   "execution_count": 37,
   "metadata": {},
   "outputs": [
    {
     "ename": "AttributeError",
     "evalue": "'DictWriter' object has no attribute 'writerheader'",
     "output_type": "error",
     "traceback": [
      "\u001b[31m---------------------------------------------------------------------------\u001b[39m",
      "\u001b[31mAttributeError\u001b[39m                            Traceback (most recent call last)",
      "\u001b[36mCell\u001b[39m\u001b[36m \u001b[39m\u001b[32mIn[37]\u001b[39m\u001b[32m, line 10\u001b[39m\n\u001b[32m      8\u001b[39m \u001b[38;5;28;01mwith\u001b[39;00m \u001b[38;5;28mopen\u001b[39m(\u001b[33m'\u001b[39m\u001b[33mstudenr.csv \u001b[39m\u001b[33m'\u001b[39m,\u001b[33m'\u001b[39m\u001b[33mw\u001b[39m\u001b[33m'\u001b[39m) \u001b[38;5;28;01mas\u001b[39;00m f:\n\u001b[32m      9\u001b[39m         writer=csv.DictWriter(f,fieldnames=students[\u001b[32m0\u001b[39m].keys())\n\u001b[32m---> \u001b[39m\u001b[32m10\u001b[39m         \u001b[43mwriter\u001b[49m\u001b[43m.\u001b[49m\u001b[43mwriterheader\u001b[49m()\n\u001b[32m     11\u001b[39m         \u001b[38;5;28;01mfor\u001b[39;00m student \u001b[38;5;129;01min\u001b[39;00m students:\n\u001b[32m     12\u001b[39m             writer.writerow(student)\n",
      "\u001b[31mAttributeError\u001b[39m: 'DictWriter' object has no attribute 'writerheader'"
     ]
    }
   ],
   "source": [
    "import csv\n",
    "students = [\n",
    "    {'Name': 'Ram', 'Address': 'ktm', 'Age': 23},\n",
    "    {'Name': 'Shyam', 'Address': 'Ltr', 'Age': 24},\n",
    "    {'Name': 'Sita', 'Address': 'Pkr', 'Age': 21},\n",
    "    {'Name': 'Gita', 'Address': 'Ktm', 'Age': 22}\n",
    "]\n",
    "with open('studenr.csv ','w') as f:\n",
    "        writer=csv.DictWriter(f,fieldnames=students[0].keys())\n",
    "        writer.writerheader()\n",
    "        for student in students:\n",
    "            writer.writerow(student)"
   ]
  },
  {
   "cell_type": "code",
   "execution_count": 40,
   "metadata": {},
   "outputs": [],
   "source": [
    "import csv\n",
    "\n",
    "students = [\n",
    "    {'Name': 'Ram', 'Address': 'ktm', 'Age': 23},\n",
    "    {'Name': 'Shyam', 'Address': 'Ltr', 'Age': 24},\n",
    "    {'Name': 'Sita', 'Address': 'Pkr', 'Age': 21},\n",
    "    {'Name': 'Gita', 'Address': 'Ktm', 'Age': 22}\n",
    "]\n",
    "\n",
    "with open('students.csv', 'w') as f:\n",
    "    writer = csv.DictWriter(f, fieldnames=students[0].keys())\n",
    "    writer.writeheader() \n",
    "    for student in students:\n",
    "        writer.writerow(student) "
   ]
  },
  {
   "cell_type": "code",
   "execution_count": 44,
   "metadata": {},
   "outputs": [],
   "source": [
    "import csv\n",
    "\n",
    "students = [\n",
    "    {'Name': 'Ram', 'Address': 'ktm', 'Age': 23},\n",
    "    {'Name': 'Shyam', 'Address': 'Ltr', 'Age': 24},\n",
    "    {'Name': 'Sita', 'Address': 'Pkr', 'Age': 21},\n",
    "    {'Name': 'Gita', 'Address': 'Ktm', 'Age': 22}\n",
    "]\n",
    "\n",
    "with open('students.csv', 'w', newline='', encoding='utf-8') as f:\n",
    "    writer = csv.DictWriter(f, fieldnames=students[0].keys())\n",
    "    writer.writeheader()  \n",
    "    writer.writerows(students) "
   ]
  },
  {
   "cell_type": "code",
   "execution_count": 52,
   "metadata": {},
   "outputs": [
    {
     "name": "stdout",
     "output_type": "stream",
     "text": [
      "[1, 4, 9, 16, 25, 36]\n"
     ]
    }
   ],
   "source": [
    "ls = [1, 2, 3, 4, 5, 6]\n",
    "squared_list = [number**2 for number in ls]\n",
    "print(squared_list)"
   ]
  },
  {
   "cell_type": "code",
   "execution_count": 54,
   "metadata": {},
   "outputs": [
    {
     "name": "stdout",
     "output_type": "stream",
     "text": [
      "[1, 4, 9, 16, 25, 36]\n"
     ]
    }
   ],
   "source": [
    "ls = [1, 2, 3, 4, 5, 6] #Non pythonic code\n",
    "squares=[]\n",
    "for i in ls:\n",
    "    squares.append(i**2)\n",
    "print(squares)"
   ]
  },
  {
   "cell_type": "code",
   "execution_count": 56,
   "metadata": {},
   "outputs": [
    {
     "name": "stdout",
     "output_type": "stream",
     "text": [
      "[1, 4, 9, 16, 25, 36]\n"
     ]
    }
   ],
   "source": [
    "ls = [1, 2, 3, 4, 5, 6] \n",
    "squares=[i**2 for i in ls] #Pythonic code\n",
    "print(squares)"
   ]
  },
  {
   "cell_type": "code",
   "execution_count": 58,
   "metadata": {},
   "outputs": [
    {
     "name": "stdout",
     "output_type": "stream",
     "text": [
      "Unauthorized\n"
     ]
    }
   ],
   "source": [
    "age=17\n",
    "is_authorized='Unauthorized'if age<18 else 'Authorized'\n",
    "print(is_authorized)"
   ]
  },
  {
   "cell_type": "code",
   "execution_count": 5,
   "metadata": {},
   "outputs": [
    {
     "name": "stdout",
     "output_type": "stream",
     "text": [
      "['Odd', 'Odd', 'Even', 'Odd', 'Even', 'Even', 'Even']\n"
     ]
    }
   ],
   "source": [
    "numbers = [1, 23, 4, 3, 4, 2, 2]\n",
    "even_odd = []\n",
    "for i in numbers:\n",
    "    even_odd.append('Even' if i % 2 == 0 else 'Odd')\n",
    "print(even_odd)"
   ]
  },
  {
   "cell_type": "code",
   "execution_count": 8,
   "metadata": {},
   "outputs": [
    {
     "name": "stdout",
     "output_type": "stream",
     "text": [
      "['odd', 'odd', 'even', 'odd', 'even', 'even', 'even']\n"
     ]
    }
   ],
   "source": [
    "numbers= [1, 23, 4, 3, 4, 2, 2]\n",
    "output=['even'if number%2==0 else 'odd' for number in numbers]\n",
    "print(output)"
   ]
  },
  {
   "cell_type": "code",
   "execution_count": 9,
   "metadata": {},
   "outputs": [
    {
     "name": "stdout",
     "output_type": "stream",
     "text": [
      "[3, 1, 3, 4, 5, 6, 8, 10]\n"
     ]
    }
   ],
   "source": [
    "numbers=[-8,-7,3,-1,0,1,3,4,5,-7,6,8,10]\n",
    "output=[number for number in numbers if number>0]\n",
    "print(output)"
   ]
  },
  {
   "cell_type": "code",
   "execution_count": 10,
   "metadata": {},
   "outputs": [],
   "source": [
    "#dictionary comprehension"
   ]
  },
  {
   "cell_type": "code",
   "execution_count": 11,
   "metadata": {},
   "outputs": [
    {
     "name": "stdout",
     "output_type": "stream",
     "text": [
      "{'milk': 267.96, 'bread': 343.2, 'butter': 475.2}\n"
     ]
    }
   ],
   "source": [
    "us_price={'milk':2.03,'bread':2.6,'butter':3.6}\n",
    "nep_price={}\n",
    "for k,v in us_price.items():\n",
    "    nep_price.update({k:v*132})\n",
    "print (nep_price)"
   ]
  },
  {
   "cell_type": "code",
   "execution_count": 12,
   "metadata": {},
   "outputs": [
    {
     "name": "stdout",
     "output_type": "stream",
     "text": [
      "{'milk': 266.0721, 'bread': 340.782, 'butter': 471.852}\n"
     ]
    }
   ],
   "source": [
    "us_price={'milk':2.03,'bread':2.6,'butter':3.6}\n",
    "output={k:v*131.07 for k,v in us_price.items()}\n",
    "print(output)\n"
   ]
  },
  {
   "cell_type": "code",
   "execution_count": 14,
   "metadata": {},
   "outputs": [
    {
     "name": "stdout",
     "output_type": "stream",
     "text": [
      "{'milk': 300.66147299999994, 'bread': 385.08365999999995, 'butter': 533.1927599999999}\n"
     ]
    }
   ],
   "source": [
    "us_price = {'milk': 2.03, 'bread': 2.6, 'butter': 3.6}\n",
    "nep_price = {}\n",
    "\n",
    "for product in us_price:\n",
    "    price = us_price[product]\n",
    "    if price < 5:\n",
    "        nep_price[product] = price * 131.07 * 1.13\n",
    "    else:\n",
    "        nep_price[product] = price * 131.07 * 1.20\n",
    "\n",
    "print(nep_price)"
   ]
  },
  {
   "cell_type": "code",
   "execution_count": 13,
   "metadata": {},
   "outputs": [
    {
     "name": "stdout",
     "output_type": "stream",
     "text": [
      "{'milk': 300.66147299999994, 'bread': 385.08365999999995, 'butter': 533.1927599999999}\n"
     ]
    }
   ],
   "source": [
    "us_price={'milk':2.03,'bread':2.6,'butter':3.6}\n",
    "nep_price={\n",
    "    product:(price*131.07*1.13 if price <5 else price*131.07*1.20)\n",
    "    for product,price in us_price.items()\n",
    "}\n",
    "print(nep_price)\n"
   ]
  },
  {
   "cell_type": "code",
   "execution_count": null,
   "metadata": {},
   "outputs": [],
   "source": []
  }
 ],
 "metadata": {
  "kernelspec": {
   "display_name": "Python 3 (ipykernel)",
   "language": "python",
   "name": "python3"
  },
  "language_info": {
   "codemirror_mode": {
    "name": "ipython",
    "version": 3
   },
   "file_extension": ".py",
   "mimetype": "text/x-python",
   "name": "python",
   "nbconvert_exporter": "python",
   "pygments_lexer": "ipython3",
   "version": "3.13.1"
  }
 },
 "nbformat": 4,
 "nbformat_minor": 4
}
