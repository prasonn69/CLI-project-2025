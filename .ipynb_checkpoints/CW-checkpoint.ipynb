{
 "cells": [
  {
   "cell_type": "code",
   "execution_count": null,
   "metadata": {},
   "outputs": [],
   "source": [
    "#modules=> pi cos exp log10\n",
    "from math import pi\n",
    "print(pi)\n",
    "\n",
    "import math\n",
    "print(math.pi)\n",
    "print(math.cos(math.pi))\n",
    "print(math.log10(1000))\n",
    "print(math.sinh(1))\n"
   ]
  },
  {
   "cell_type": "code",
   "execution_count": null,
   "metadata": {},
   "outputs": [],
   "source": [
    "import random\n",
    "x=['a','b','c','d','e']\n",
    "random.shuffle(x)\n",
    "print(x)"
   ]
  },
  {
   "cell_type": "code",
   "execution_count": null,
   "metadata": {},
   "outputs": [],
   "source": [
    "import random\n",
    "print(random.randrange(10,20))\n"
   ]
  },
  {
   "cell_type": "code",
   "execution_count": null,
   "metadata": {},
   "outputs": [],
   "source": [
    "import random\n",
    "x=['a','b','c','d']\n",
    "print(random.choice(x))\n",
    "print(random.random())\n"
   ]
  },
  {
   "cell_type": "code",
   "execution_count": 1,
   "metadata": {},
   "outputs": [
    {
     "name": "stdout",
     "output_type": "stream",
     "text": [
      "T\n",
      "i\n",
      "T h i s   i s\n",
      "This\n",
      "is stri\n",
      "e\n",
      "e\n",
      "immutable\n",
      "immutable\n",
      "immutable.\n",
      "Ti ssrn\n",
      "This is string\n",
      "This is string. Strings in python are immutable.\n",
      "This is string. Strings in python are immutable.\n",
      "This is string. Strings in python are immutable.\n",
      "\n",
      ".elbatummi era nohtyp ni sgnirtS .gnirts si sihT\n",
      "Help on class str in module builtins:\n",
      "\n",
      "class str(object)\n",
      " |  str(object='') -> str\n",
      " |  str(bytes_or_buffer[, encoding[, errors]]) -> str\n",
      " |\n",
      " |  Create a new string object from the given object. If encoding or\n",
      " |  errors is specified, then the object must expose a data buffer\n",
      " |  that will be decoded using the given encoding and error handler.\n",
      " |  Otherwise, returns the result of object.__str__() (if defined)\n",
      " |  or repr(object).\n",
      " |  encoding defaults to 'utf-8'.\n",
      " |  errors defaults to 'strict'.\n",
      " |\n",
      " |  Methods defined here:\n",
      " |\n",
      " |  __add__(self, value, /)\n",
      " |      Return self+value.\n",
      " |\n",
      " |  __contains__(self, key, /)\n",
      " |      Return bool(key in self).\n",
      " |\n",
      " |  __eq__(self, value, /)\n",
      " |      Return self==value.\n",
      " |\n",
      " |  __format__(self, format_spec, /)\n",
      " |      Return a formatted version of the string as described by format_spec.\n",
      " |\n",
      " |  __ge__(self, value, /)\n",
      " |      Return self>=value.\n",
      " |\n",
      " |  __getitem__(self, key, /)\n",
      " |      Return self[key].\n",
      " |\n",
      " |  __getnewargs__(self, /)\n",
      " |\n",
      " |  __gt__(self, value, /)\n",
      " |      Return self>value.\n",
      " |\n",
      " |  __hash__(self, /)\n",
      " |      Return hash(self).\n",
      " |\n",
      " |  __iter__(self, /)\n",
      " |      Implement iter(self).\n",
      " |\n",
      " |  __le__(self, value, /)\n",
      " |      Return self<=value.\n",
      " |\n",
      " |  __len__(self, /)\n",
      " |      Return len(self).\n",
      " |\n",
      " |  __lt__(self, value, /)\n",
      " |      Return self<value.\n",
      " |\n",
      " |  __mod__(self, value, /)\n",
      " |      Return self%value.\n",
      " |\n",
      " |  __mul__(self, value, /)\n",
      " |      Return self*value.\n",
      " |\n",
      " |  __ne__(self, value, /)\n",
      " |      Return self!=value.\n",
      " |\n",
      " |  __repr__(self, /)\n",
      " |      Return repr(self).\n",
      " |\n",
      " |  __rmod__(self, value, /)\n",
      " |      Return value%self.\n",
      " |\n",
      " |  __rmul__(self, value, /)\n",
      " |      Return value*self.\n",
      " |\n",
      " |  __sizeof__(self, /)\n",
      " |      Return the size of the string in memory, in bytes.\n",
      " |\n",
      " |  __str__(self, /)\n",
      " |      Return str(self).\n",
      " |\n",
      " |  capitalize(self, /)\n",
      " |      Return a capitalized version of the string.\n",
      " |\n",
      " |      More specifically, make the first character have upper case and the rest lower\n",
      " |      case.\n",
      " |\n",
      " |  casefold(self, /)\n",
      " |      Return a version of the string suitable for caseless comparisons.\n",
      " |\n",
      " |  center(self, width, fillchar=' ', /)\n",
      " |      Return a centered string of length width.\n",
      " |\n",
      " |      Padding is done using the specified fill character (default is a space).\n",
      " |\n",
      " |  count(self, sub[, start[, end]], /)\n",
      " |      Return the number of non-overlapping occurrences of substring sub in string S[start:end].\n",
      " |\n",
      " |      Optional arguments start and end are interpreted as in slice notation.\n",
      " |\n",
      " |  encode(self, /, encoding='utf-8', errors='strict')\n",
      " |      Encode the string using the codec registered for encoding.\n",
      " |\n",
      " |      encoding\n",
      " |        The encoding in which to encode the string.\n",
      " |      errors\n",
      " |        The error handling scheme to use for encoding errors.\n",
      " |        The default is 'strict' meaning that encoding errors raise a\n",
      " |        UnicodeEncodeError.  Other possible values are 'ignore', 'replace' and\n",
      " |        'xmlcharrefreplace' as well as any other name registered with\n",
      " |        codecs.register_error that can handle UnicodeEncodeErrors.\n",
      " |\n",
      " |  endswith(self, suffix[, start[, end]], /)\n",
      " |      Return True if the string ends with the specified suffix, False otherwise.\n",
      " |\n",
      " |      suffix\n",
      " |        A string or a tuple of strings to try.\n",
      " |      start\n",
      " |        Optional start position. Default: start of the string.\n",
      " |      end\n",
      " |        Optional stop position. Default: end of the string.\n",
      " |\n",
      " |  expandtabs(self, /, tabsize=8)\n",
      " |      Return a copy where all tab characters are expanded using spaces.\n",
      " |\n",
      " |      If tabsize is not given, a tab size of 8 characters is assumed.\n",
      " |\n",
      " |  find(self, sub[, start[, end]], /)\n",
      " |      Return the lowest index in S where substring sub is found, such that sub is contained within S[start:end].\n",
      " |\n",
      " |      Optional arguments start and end are interpreted as in slice notation.\n",
      " |      Return -1 on failure.\n",
      " |\n",
      " |  format(self, /, *args, **kwargs)\n",
      " |      Return a formatted version of the string, using substitutions from args and kwargs.\n",
      " |      The substitutions are identified by braces ('{' and '}').\n",
      " |\n",
      " |  format_map(self, mapping, /)\n",
      " |      Return a formatted version of the string, using substitutions from mapping.\n",
      " |      The substitutions are identified by braces ('{' and '}').\n",
      " |\n",
      " |  index(self, sub[, start[, end]], /)\n",
      " |      Return the lowest index in S where substring sub is found, such that sub is contained within S[start:end].\n",
      " |\n",
      " |      Optional arguments start and end are interpreted as in slice notation.\n",
      " |      Raises ValueError when the substring is not found.\n",
      " |\n",
      " |  isalnum(self, /)\n",
      " |      Return True if the string is an alpha-numeric string, False otherwise.\n",
      " |\n",
      " |      A string is alpha-numeric if all characters in the string are alpha-numeric and\n",
      " |      there is at least one character in the string.\n",
      " |\n",
      " |  isalpha(self, /)\n",
      " |      Return True if the string is an alphabetic string, False otherwise.\n",
      " |\n",
      " |      A string is alphabetic if all characters in the string are alphabetic and there\n",
      " |      is at least one character in the string.\n",
      " |\n",
      " |  isascii(self, /)\n",
      " |      Return True if all characters in the string are ASCII, False otherwise.\n",
      " |\n",
      " |      ASCII characters have code points in the range U+0000-U+007F.\n",
      " |      Empty string is ASCII too.\n",
      " |\n",
      " |  isdecimal(self, /)\n",
      " |      Return True if the string is a decimal string, False otherwise.\n",
      " |\n",
      " |      A string is a decimal string if all characters in the string are decimal and\n",
      " |      there is at least one character in the string.\n",
      " |\n",
      " |  isdigit(self, /)\n",
      " |      Return True if the string is a digit string, False otherwise.\n",
      " |\n",
      " |      A string is a digit string if all characters in the string are digits and there\n",
      " |      is at least one character in the string.\n",
      " |\n",
      " |  isidentifier(self, /)\n",
      " |      Return True if the string is a valid Python identifier, False otherwise.\n",
      " |\n",
      " |      Call keyword.iskeyword(s) to test whether string s is a reserved identifier,\n",
      " |      such as \"def\" or \"class\".\n",
      " |\n",
      " |  islower(self, /)\n",
      " |      Return True if the string is a lowercase string, False otherwise.\n",
      " |\n",
      " |      A string is lowercase if all cased characters in the string are lowercase and\n",
      " |      there is at least one cased character in the string.\n",
      " |\n",
      " |  isnumeric(self, /)\n",
      " |      Return True if the string is a numeric string, False otherwise.\n",
      " |\n",
      " |      A string is numeric if all characters in the string are numeric and there is at\n",
      " |      least one character in the string.\n",
      " |\n",
      " |  isprintable(self, /)\n",
      " |      Return True if the string is printable, False otherwise.\n",
      " |\n",
      " |      A string is printable if all of its characters are considered printable in\n",
      " |      repr() or if it is empty.\n",
      " |\n",
      " |  isspace(self, /)\n",
      " |      Return True if the string is a whitespace string, False otherwise.\n",
      " |\n",
      " |      A string is whitespace if all characters in the string are whitespace and there\n",
      " |      is at least one character in the string.\n",
      " |\n",
      " |  istitle(self, /)\n",
      " |      Return True if the string is a title-cased string, False otherwise.\n",
      " |\n",
      " |      In a title-cased string, upper- and title-case characters may only\n",
      " |      follow uncased characters and lowercase characters only cased ones.\n",
      " |\n",
      " |  isupper(self, /)\n",
      " |      Return True if the string is an uppercase string, False otherwise.\n",
      " |\n",
      " |      A string is uppercase if all cased characters in the string are uppercase and\n",
      " |      there is at least one cased character in the string.\n",
      " |\n",
      " |  join(self, iterable, /)\n",
      " |      Concatenate any number of strings.\n",
      " |\n",
      " |      The string whose method is called is inserted in between each given string.\n",
      " |      The result is returned as a new string.\n",
      " |\n",
      " |      Example: '.'.join(['ab', 'pq', 'rs']) -> 'ab.pq.rs'\n",
      " |\n",
      " |  ljust(self, width, fillchar=' ', /)\n",
      " |      Return a left-justified string of length width.\n",
      " |\n",
      " |      Padding is done using the specified fill character (default is a space).\n",
      " |\n",
      " |  lower(self, /)\n",
      " |      Return a copy of the string converted to lowercase.\n",
      " |\n",
      " |  lstrip(self, chars=None, /)\n",
      " |      Return a copy of the string with leading whitespace removed.\n",
      " |\n",
      " |      If chars is given and not None, remove characters in chars instead.\n",
      " |\n",
      " |  partition(self, sep, /)\n",
      " |      Partition the string into three parts using the given separator.\n",
      " |\n",
      " |      This will search for the separator in the string.  If the separator is found,\n",
      " |      returns a 3-tuple containing the part before the separator, the separator\n",
      " |      itself, and the part after it.\n",
      " |\n",
      " |      If the separator is not found, returns a 3-tuple containing the original string\n",
      " |      and two empty strings.\n",
      " |\n",
      " |  removeprefix(self, prefix, /)\n",
      " |      Return a str with the given prefix string removed if present.\n",
      " |\n",
      " |      If the string starts with the prefix string, return string[len(prefix):].\n",
      " |      Otherwise, return a copy of the original string.\n",
      " |\n",
      " |  removesuffix(self, suffix, /)\n",
      " |      Return a str with the given suffix string removed if present.\n",
      " |\n",
      " |      If the string ends with the suffix string and that suffix is not empty,\n",
      " |      return string[:-len(suffix)]. Otherwise, return a copy of the original\n",
      " |      string.\n",
      " |\n",
      " |  replace(self, old, new, /, count=-1)\n",
      " |      Return a copy with all occurrences of substring old replaced by new.\n",
      " |\n",
      " |        count\n",
      " |          Maximum number of occurrences to replace.\n",
      " |          -1 (the default value) means replace all occurrences.\n",
      " |\n",
      " |      If the optional argument count is given, only the first count occurrences are\n",
      " |      replaced.\n",
      " |\n",
      " |  rfind(self, sub[, start[, end]], /)\n",
      " |      Return the highest index in S where substring sub is found, such that sub is contained within S[start:end].\n",
      " |\n",
      " |      Optional arguments start and end are interpreted as in slice notation.\n",
      " |      Return -1 on failure.\n",
      " |\n",
      " |  rindex(self, sub[, start[, end]], /)\n",
      " |      Return the highest index in S where substring sub is found, such that sub is contained within S[start:end].\n",
      " |\n",
      " |      Optional arguments start and end are interpreted as in slice notation.\n",
      " |      Raises ValueError when the substring is not found.\n",
      " |\n",
      " |  rjust(self, width, fillchar=' ', /)\n",
      " |      Return a right-justified string of length width.\n",
      " |\n",
      " |      Padding is done using the specified fill character (default is a space).\n",
      " |\n",
      " |  rpartition(self, sep, /)\n",
      " |      Partition the string into three parts using the given separator.\n",
      " |\n",
      " |      This will search for the separator in the string, starting at the end. If\n",
      " |      the separator is found, returns a 3-tuple containing the part before the\n",
      " |      separator, the separator itself, and the part after it.\n",
      " |\n",
      " |      If the separator is not found, returns a 3-tuple containing two empty strings\n",
      " |      and the original string.\n",
      " |\n",
      " |  rsplit(self, /, sep=None, maxsplit=-1)\n",
      " |      Return a list of the substrings in the string, using sep as the separator string.\n",
      " |\n",
      " |        sep\n",
      " |          The separator used to split the string.\n",
      " |\n",
      " |          When set to None (the default value), will split on any whitespace\n",
      " |          character (including \\n \\r \\t \\f and spaces) and will discard\n",
      " |          empty strings from the result.\n",
      " |        maxsplit\n",
      " |          Maximum number of splits.\n",
      " |          -1 (the default value) means no limit.\n",
      " |\n",
      " |      Splitting starts at the end of the string and works to the front.\n",
      " |\n",
      " |  rstrip(self, chars=None, /)\n",
      " |      Return a copy of the string with trailing whitespace removed.\n",
      " |\n",
      " |      If chars is given and not None, remove characters in chars instead.\n",
      " |\n",
      " |  split(self, /, sep=None, maxsplit=-1)\n",
      " |      Return a list of the substrings in the string, using sep as the separator string.\n",
      " |\n",
      " |        sep\n",
      " |          The separator used to split the string.\n",
      " |\n",
      " |          When set to None (the default value), will split on any whitespace\n",
      " |          character (including \\n \\r \\t \\f and spaces) and will discard\n",
      " |          empty strings from the result.\n",
      " |        maxsplit\n",
      " |          Maximum number of splits.\n",
      " |          -1 (the default value) means no limit.\n",
      " |\n",
      " |      Splitting starts at the front of the string and works to the end.\n",
      " |\n",
      " |      Note, str.split() is mainly useful for data that has been intentionally\n",
      " |      delimited.  With natural text that includes punctuation, consider using\n",
      " |      the regular expression module.\n",
      " |\n",
      " |  splitlines(self, /, keepends=False)\n",
      " |      Return a list of the lines in the string, breaking at line boundaries.\n",
      " |\n",
      " |      Line breaks are not included in the resulting list unless keepends is given and\n",
      " |      true.\n",
      " |\n",
      " |  startswith(self, prefix[, start[, end]], /)\n",
      " |      Return True if the string starts with the specified prefix, False otherwise.\n",
      " |\n",
      " |      prefix\n",
      " |        A string or a tuple of strings to try.\n",
      " |      start\n",
      " |        Optional start position. Default: start of the string.\n",
      " |      end\n",
      " |        Optional stop position. Default: end of the string.\n",
      " |\n",
      " |  strip(self, chars=None, /)\n",
      " |      Return a copy of the string with leading and trailing whitespace removed.\n",
      " |\n",
      " |      If chars is given and not None, remove characters in chars instead.\n",
      " |\n",
      " |  swapcase(self, /)\n",
      " |      Convert uppercase characters to lowercase and lowercase characters to uppercase.\n",
      " |\n",
      " |  title(self, /)\n",
      " |      Return a version of the string where each word is titlecased.\n",
      " |\n",
      " |      More specifically, words start with uppercased characters and all remaining\n",
      " |      cased characters have lower case.\n",
      " |\n",
      " |  translate(self, table, /)\n",
      " |      Replace each character in the string using the given translation table.\n",
      " |\n",
      " |        table\n",
      " |          Translation table, which must be a mapping of Unicode ordinals to\n",
      " |          Unicode ordinals, strings, or None.\n",
      " |\n",
      " |      The table must implement lookup/indexing via __getitem__, for instance a\n",
      " |      dictionary or list.  If this operation raises LookupError, the character is\n",
      " |      left untouched.  Characters mapped to None are deleted.\n",
      " |\n",
      " |  upper(self, /)\n",
      " |      Return a copy of the string converted to uppercase.\n",
      " |\n",
      " |  zfill(self, width, /)\n",
      " |      Pad a numeric string with zeros on the left, to fill a field of the given width.\n",
      " |\n",
      " |      The string is never truncated.\n",
      " |\n",
      " |  ----------------------------------------------------------------------\n",
      " |  Static methods defined here:\n",
      " |\n",
      " |  __new__(*args, **kwargs)\n",
      " |      Create and return a new object.  See help(type) for accurate signature.\n",
      " |\n",
      " |  maketrans(x, y=<unrepresentable>, z=<unrepresentable>, /)\n",
      " |      Return a translation table usable for str.translate().\n",
      " |\n",
      " |      If there is only one argument, it must be a dictionary mapping Unicode\n",
      " |      ordinals (integers) or characters to Unicode ordinals, strings or None.\n",
      " |      Character keys will be then converted to ordinals.\n",
      " |      If there are two arguments, they must be strings of equal length, and\n",
      " |      in the resulting dictionary, each character in x will be mapped to the\n",
      " |      character at the same position in y. If there is a third argument, it\n",
      " |      must be a string, whose characters will be mapped to None in the result.\n",
      "\n",
      "None\n",
      "False\n",
      "9\n",
      "-1\n"
     ]
    }
   ],
   "source": [
    "s='This is string'\n",
    "print(s[0]) #indexing\n",
    "print(s[5])\n",
    "print(s[0],s[1],s[2],s[3],s[4],s[5],s[6])\n",
    "print(s[0:4])#slicing\n",
    "print(s[5:12])#one number is added at the end\n",
    "s='This is string. Strings in python are immutable.'\n",
    "print(s[46])\n",
    "print(s[-2])#Negative indexing\n",
    "print(s[38:47])\n",
    "print(s[-10:-1])\n",
    "print(s[-10:])\n",
    "print(s[0:14:2])#start:stop:step\n",
    "print(s[0:14:1])#start:stop:step\n",
    "print(s[0:])\n",
    "print(s[:])\n",
    "print(s[::])\n",
    "print(s[-47:0])\n",
    "text = \"This is string. Strings in python are immutable.\"\n",
    "reversed_text = text[::-1]\n",
    "print(reversed_text)\n",
    "print(help(str))\n",
    "print(s.endswith('T'))\n",
    "print(s.find('t'))\n",
    "print(s.find('t',10,15))"
   ]
  },
  {
   "cell_type": "code",
   "execution_count": 2,
   "metadata": {},
   "outputs": [
    {
     "name": "stdout",
     "output_type": "stream",
     "text": [
      "[1, 2, 3, 4] <class 'list'>\n"
     ]
    }
   ],
   "source": [
    "#list\n",
    "x=[1,2,3,4]\n",
    "print(x,type(x))\n"
   ]
  },
  {
   "cell_type": "code",
   "execution_count": 3,
   "metadata": {},
   "outputs": [
    {
     "name": "stdout",
     "output_type": "stream",
     "text": [
      "5\n"
     ]
    }
   ],
   "source": [
    "X=[1,[[2,[3,4,5,6],7],8],9]\n",
    "print(X[1][0][1][2])"
   ]
  },
  {
   "cell_type": "code",
   "execution_count": null,
   "metadata": {},
   "outputs": [],
   "source": [
    "X#support any type of datasrtucture\n",
    "x=[1,1.5,'ram','1',8j,[1,2,3,4],{'ram':'ram'},1,2]\n",
    "print(x)\n"
   ]
  },
  {
   "cell_type": "code",
   "execution_count": null,
   "metadata": {},
   "outputs": [],
   "source": [
    "x=[1,[2,4,[5,6,7]]]\n",
    "print(x[1][2][0])\n",
    "\n"
   ]
  },
  {
   "cell_type": "code",
   "execution_count": null,
   "metadata": {},
   "outputs": [],
   "source": [
    "s='this is StRing. Strings in python are immutable'\n",
    "print(s.capitalize())#First string capital/upper case all of others are in lower case\n",
    "print(s.title())#All first letters are capitalized\n",
    "print(s.upper())\n",
    "print(s.lower())\n",
    "print(s.count('t'))"
   ]
  },
  {
   "cell_type": "code",
   "execution_count": 2,
   "metadata": {},
   "outputs": [],
   "source": [
    "#triple quotatiom ==> multiline string\n"
   ]
  },
  {
   "cell_type": "code",
   "execution_count": null,
   "metadata": {},
   "outputs": [],
   "source": [
    "name='ram'\n",
    "age=22\n",
    "s=f'this is {name}. my age is {age}' #f-string interpolation\n",
    "print(s)\n",
    "s='this is {}. my age is {}'.format(name,age)\n",
    "print(s)\n",
    "x='     shresthaprason99@gmail.com      '\n",
    "print(x.strip())\n",
    "x='#######xtha#####'\n",
    "print(x.strip('#'))\n",
    "print(help(str.strip))\n",
    "x='ram-->hari-->sita'\n",
    "x.split('-->')"
   ]
  },
  {
   "cell_type": "code",
   "execution_count": null,
   "metadata": {},
   "outputs": [],
   "source": [
    "#Output;ram+hari+sita\n",
    "'+'.join(x)\n"
   ]
  },
  {
   "cell_type": "code",
   "execution_count": null,
   "metadata": {},
   "outputs": [],
   "source": [
    "print('hello')"
   ]
  },
  {
   "cell_type": "code",
   "execution_count": null,
   "metadata": {},
   "outputs": [],
   "source": [
    "x=\"    prason shrestha    \"\n",
    "print(x.split())\n",
    "print(x.strip())\n",
    "print('-'.join(x))\n",
    "\n",
    "\n"
   ]
  },
  {
   "cell_type": "code",
   "execution_count": null,
   "metadata": {},
   "outputs": [],
   "source": []
  },
  {
   "cell_type": "code",
   "execution_count": null,
   "metadata": {},
   "outputs": [],
   "source": [
    "x='Prason82'\n",
    "print(x.strip('82'))\n"
   ]
  },
  {
   "cell_type": "code",
   "execution_count": null,
   "metadata": {},
   "outputs": [],
   "source": [
    "#list==> mutable objects==> can be changed once defined\n",
    "fruits=['apple','banana','mango','orange']\n",
    "fruits[0]='Ram'\n",
    "print(fruits)\n",
    "\n",
    "del fruits[0]\n",
    "print(fruits)\n",
    "    "
   ]
  },
  {
   "cell_type": "code",
   "execution_count": null,
   "metadata": {},
   "outputs": [],
   "source": [
    "#number and strings===> integer,float,complex===>immutable====> cannot be changed once defined\n",
    "fruits=['apple','banana','mango','orange']\n",
    "fruits.append('grapes')\n",
    "print(fruits)\n",
    "fruits.clear()\n"
   ]
  },
  {
   "cell_type": "code",
   "execution_count": null,
   "metadata": {},
   "outputs": [],
   "source": [
    "fruits1=['apple','banana','mango','orange']\n",
    "fruits2=fruits1.copy()\n",
    "print(id(fruits1))\n",
    "print(id(fruits2))\n",
    "fruits2.append('grapes')\n",
    "print(fruits1,fruits2)\n"
   ]
  },
  {
   "cell_type": "code",
   "execution_count": null,
   "metadata": {},
   "outputs": [],
   "source": [
    "fruits=['apple','banana','mango','orange','apple']\n",
    "fruits.count('apple')\n"
   ]
  },
  {
   "cell_type": "code",
   "execution_count": null,
   "metadata": {},
   "outputs": [],
   "source": [
    "fruits=['apple','banana','mango','orange','apple']\n",
    "fruits.append(['ram',1,22,'grapes'])\n",
    "print(fruits)\n",
    "fruits.extend(['ram',1,22,'grapes'])\n",
    "\n",
    "fruits=['apple','banana','ramesh']\n",
    "fruits.extend('ramesh')\n",
    "print(fruits)"
   ]
  },
  {
   "cell_type": "code",
   "execution_count": null,
   "metadata": {},
   "outputs": [],
   "source": [
    "fruits=['apple','banana']\n",
    "fruits.append(1)\n",
    "fruits.extend(1)\n",
    "fruits.extend('1')\n",
    "print(fruits)\n"
   ]
  },
  {
   "cell_type": "code",
   "execution_count": null,
   "metadata": {},
   "outputs": [],
   "source": [
    "fruits=['apple','banana','mango','orange']\n",
    "fruits.insert(1,'grapes')\n",
    "print(fruits)\n"
   ]
  },
  {
   "cell_type": "code",
   "execution_count": null,
   "metadata": {},
   "outputs": [],
   "source": [
    "fruits=['apple','banana','mango','orange','apple']\n",
    "fruits.index('apple')\n"
   ]
  },
  {
   "cell_type": "code",
   "execution_count": null,
   "metadata": {},
   "outputs": [],
   "source": [
    "fruits=['apple','banana','mango']\n",
    "fruits.index('adf')#returns value error\n"
   ]
  },
  {
   "cell_type": "code",
   "execution_count": null,
   "metadata": {},
   "outputs": [],
   "source": [
    "print(fruits.pop())\n",
    "print(fruits)"
   ]
  },
  {
   "cell_type": "code",
   "execution_count": null,
   "metadata": {},
   "outputs": [],
   "source": [
    "fruits=['apple','banana','mango','orange']\n",
    "fruits.pop(2)\n",
    "print(fruits)"
   ]
  },
  {
   "cell_type": "code",
   "execution_count": null,
   "metadata": {},
   "outputs": [],
   "source": [
    "fruits.pop(22)#Raises index error\n",
    "print(fruits)\n",
    "fruits=[]\n",
    "fruits.pop()#Raises index error\n"
   ]
  },
  {
   "cell_type": "code",
   "execution_count": null,
   "metadata": {},
   "outputs": [],
   "source": [
    "fruits=['apple','banana','orange']\n",
    "fruits.remove('apple')\n",
    "print(fruits)"
   ]
  },
  {
   "cell_type": "code",
   "execution_count": null,
   "metadata": {},
   "outputs": [],
   "source": [
    "x=[1,7,8,9,10,4,3]\n",
    "x.sort()\n",
    "print(x)"
   ]
  },
  {
   "cell_type": "code",
   "execution_count": null,
   "metadata": {},
   "outputs": [],
   "source": [
    "x=[1,7,8,9,10,4,3]\n",
    "x.sort()\n",
    "x.sort(reverse=True)\n",
    "print(x)"
   ]
  },
  {
   "cell_type": "code",
   "execution_count": null,
   "metadata": {},
   "outputs": [],
   "source": [
    "#supports any type of datastructure\n",
    "#ordered collection\n",
    "#immutabale===> cannot be changed\n",
    "x=(1,2,3,4)\n",
    "x[0]='ram'##error\n",
    "x=(1,1.5,4j,'string',[1,2,3])\n",
    "print(x,type(x))"
   ]
  },
  {
   "cell_type": "code",
   "execution_count": null,
   "metadata": {},
   "outputs": [],
   "source": [
    "#Indexing and slicing same as list\n",
    "x=(1,2,3,4)\n",
    "x[1:3]"
   ]
  },
  {
   "cell_type": "code",
   "execution_count": null,
   "metadata": {},
   "outputs": [],
   "source": [
    "help(tuple)\n"
   ]
  },
  {
   "cell_type": "code",
   "execution_count": null,
   "metadata": {},
   "outputs": [],
   "source": [
    "x=(1,2,3,4,1,5,15)\n",
    "print(x.count(1))\n",
    "print(x.index(1))"
   ]
  },
  {
   "cell_type": "code",
   "execution_count": null,
   "metadata": {},
   "outputs": [],
   "source": [
    "x=(1,)\n",
    "print(type(x))\n",
    "y=1,\n",
    "print(type(y))"
   ]
  },
  {
   "cell_type": "code",
   "execution_count": null,
   "metadata": {},
   "outputs": [],
   "source": [
    "#tuple unpacking\n",
    "x,y,z=1,2,3\n",
    "print(x)\n",
    "print(y)\n",
    "print(z)"
   ]
  },
  {
   "cell_type": "code",
   "execution_count": null,
   "metadata": {},
   "outputs": [],
   "source": [
    "#list vs tuple\n",
    "#list => mutable , tuple=>immutable\n",
    "#list=>[],tuple,tuple=> faster than list\n",
    "#list=> takes more memory than tuple, tuple=> takes less memory than list\n",
    "#list=.homogenous datastructure,tuple=>heteregenous"
   ]
  },
  {
   "cell_type": "code",
   "execution_count": null,
   "metadata": {},
   "outputs": [],
   "source": [
    "fruits=['apple','banana','orange']#same type of datastructures ==>homogenous\n",
    "person=['ram',1,2345,23456.56,22]#different type of datastructure===> heterogenous\n"
   ]
  },
  {
   "cell_type": "code",
   "execution_count": null,
   "metadata": {},
   "outputs": [],
   "source": [
    "person={\n",
    "    'id':1,#key:value pair with comma\n",
    "    'name':'ram',\n",
    "    'age':22,\n",
    "    'phone':324324,\n",
    "    'salary':3222323.556,#last comma is optional\n",
    "}\n",
    "print(person,type(person))\n",
    "person['name']#specific element\n",
    "\n",
    "person['email']='shresthaprason99@gmail.com'\n",
    "del person['age']\n",
    "print(person)\n",
    "person.clear()\n",
    "print(person)\n"
   ]
  },
  {
   "cell_type": "code",
   "execution_count": null,
   "metadata": {},
   "outputs": [],
   "source": [
    "x={\n",
    "    id:'1',#key:value pair with comma\n",
    "    'name':'ram',\n",
    "    'age':22,\n",
    "    'phone':324324,\n",
    "    'salary':3222323.556,#last comma is optional\n",
    "  }\n",
    "y=x.copy()\n",
    "y['email']='ram@gmail.com'\n",
    "print(x)\n",
    "print(y) #As for when to use this pattern, you would use the .copy() method when you want to create a new dictionary based on an existing one without modifying the original. This is especially important because dictionaries are mutable objects in Python - if you had done y = x instead, both variables would reference the same dictionary, and changes to one would affect the other."
   ]
  },
  {
   "cell_type": "code",
   "execution_count": null,
   "metadata": {},
   "outputs": [],
   "source": [
    "mylist = [1, 2, 3, 4]\n",
    "mylist.insert(2, 'Hari')\n",
    "print(mylist)\n"
   ]
  },
  {
   "cell_type": "code",
   "execution_count": null,
   "metadata": {},
   "outputs": [],
   "source": [
    "person={\n",
    "    'id':1,\n",
    "    'name':'ram', \n",
    "    'address':'ktm',\n",
    "    'age':26\n",
    "}\n",
    "print(person['name'])"
   ]
  },
  {
   "cell_type": "code",
   "execution_count": null,
   "metadata": {},
   "outputs": [],
   "source": [
    "person={\n",
    "    'id':1,\n",
    "    'name':'ram', \n",
    "    'address':'ktm',\n",
    "    'age':26\n",
    "}\n",
    "print(person['name'])"
   ]
  },
  {
   "cell_type": "code",
   "execution_count": null,
   "metadata": {},
   "outputs": [],
   "source": []
  },
  {
   "cell_type": "code",
   "execution_count": null,
   "metadata": {},
   "outputs": [],
   "source": [
    "person={\n",
    "    'id':1,\n",
    "    'name':'ram',\n",
    "    'address':'ktm',\n",
    "    'age':29,\n",
    "\n",
    "}\n",
    "print(person.get('email'))\n",
    "print('hello')"
   ]
  },
  {
   "cell_type": "code",
   "execution_count": null,
   "metadata": {},
   "outputs": [],
   "source": [
    "person={\n",
    "    'id':1,\n",
    "    'name':'ram',\n",
    "    'address':'ktm',\n",
    "    'age':29,\n",
    "\n",
    "}\n",
    "print(person.get('age'))\n",
    "print('hello')"
   ]
  },
  {
   "cell_type": "code",
   "execution_count": null,
   "metadata": {},
   "outputs": [],
   "source": [
    "person={\n",
    "    'id':1,\n",
    "    'name':'ram',\n",
    "    'address':'ktm',\n",
    "    'age':29,\n",
    "\n",
    "}\n",
    "print(person.get('age',123))\n",
    "print(person.get('email','ram@gmail.com'))\n"
   ]
  },
  {
   "cell_type": "code",
   "execution_count": null,
   "metadata": {},
   "outputs": [],
   "source": [
    "person={\n",
    "    'id':1,\n",
    "    'name':'ram',\n",
    "    'address':'ktm',\n",
    "    'age':29,\n",
    "}\n",
    "print(person.setdefault('email','ram@gmail.com'))\n",
    "print(person)"
   ]
  },
  {
   "cell_type": "code",
   "execution_count": null,
   "metadata": {},
   "outputs": [],
   "source": [
    "person={\n",
    "    'id':1,\n",
    "    'name':'ram',\n",
    "    'address':'ktm',\n",
    "    'age':29,\n",
    "}\n",
    "print(person.values())"
   ]
  },
  {
   "cell_type": "code",
   "execution_count": null,
   "metadata": {},
   "outputs": [],
   "source": [
    "\n",
    "person={\n",
    "    'id':1,\n",
    "    'name':'ram',\n",
    "    'address':'ktm',\n",
    "    'age':29,\n",
    "}\n",
    "print(person.keys())"
   ]
  },
  {
   "cell_type": "code",
   "execution_count": null,
   "metadata": {},
   "outputs": [],
   "source": [
    "help(dict)"
   ]
  },
  {
   "cell_type": "code",
   "execution_count": null,
   "metadata": {},
   "outputs": [],
   "source": [
    "person={\n",
    "    'id':1,\n",
    "    'name':'ram',\n",
    "    'address':'ktm',\n",
    "    'age':29,\n",
    "}\n",
    "print(person.items())"
   ]
  },
  {
   "cell_type": "code",
   "execution_count": null,
   "metadata": {},
   "outputs": [],
   "source": [
    "person={\n",
    "    'id':1,\n",
    "    'name':'ram',\n",
    "    'address':'ktm',\n",
    "    'age':29,\n",
    "}\n",
    "person.pop('name')\n",
    "print(person)"
   ]
  },
  {
   "cell_type": "code",
   "execution_count": null,
   "metadata": {},
   "outputs": [],
   "source": [
    "person={\n",
    "    'id':1,\n",
    "    'name':'ram',\n",
    "    'address':'ktm',\n",
    "    'age':29,\n",
    "}\n",
    "print(person.popitem())#removes last value by default\n",
    "print(person)"
   ]
  },
  {
   "cell_type": "code",
   "execution_count": null,
   "metadata": {},
   "outputs": [],
   "source": [
    "person={\n",
    "    'id':1,\n",
    "    'name':'ram',\n",
    "    'address':'ktm',\n",
    "    'age':29,\n",
    "    'contact':93245678\n",
    "\n",
    "\n",
    "}\n",
    "person['email']='ram@gmail.com'\n",
    "print(person)\n"
   ]
  },
  {
   "cell_type": "code",
   "execution_count": null,
   "metadata": {},
   "outputs": [],
   "source": [
    "person={\n",
    "    'id':1,\n",
    "    'name':'ram',\n",
    "    'address':'ktm',\n",
    "    'age':29,\n",
    "    'contact':93245678\n",
    "\n",
    "\n",
    "}\n",
    "person.update({'email':'ram@gamil.com','college':'broadway'})\n",
    "print(person)"
   ]
  },
  {
   "cell_type": "code",
   "execution_count": null,
   "metadata": {},
   "outputs": [],
   "source": [
    "#tuple,int,float,complex(number datatypes),string=>immutable\n",
    "#list,dictionary,set==>mutable\n",
    "\n"
   ]
  },
  {
   "cell_type": "code",
   "execution_count": null,
   "metadata": {},
   "outputs": [],
   "source": [
    "#set datatypes\n",
    "s={1,2,3,4,5}\n",
    "print(s,type(s))"
   ]
  },
  {
   "cell_type": "code",
   "execution_count": null,
   "metadata": {},
   "outputs": [],
   "source": [
    "#unordered collection\n",
    "s={'ram',1,'hari',4,5,3,'shyam',(7,8,9)}\n",
    "print(s)"
   ]
  },
  {
   "cell_type": "code",
   "execution_count": null,
   "metadata": {},
   "outputs": [],
   "source": [
    "s={'ram',1,'hari',4,5,3,'shyam',(7,8,9),1,'ram','ram'}\n",
    "print(s) #unique unordered collection"
   ]
  },
  {
   "cell_type": "code",
   "execution_count": null,
   "metadata": {},
   "outputs": [],
   "source": [
    "#empty_string=''#str()\n",
    "#empty_list=[]#list()\n",
    "#empty_tuple=()#tuple()\n",
    "#empty_dict={}#dict()\n",
    "#empty set =set()"
   ]
  },
  {
   "cell_type": "code",
   "execution_count": null,
   "metadata": {},
   "outputs": [],
   "source": [
    "print([])"
   ]
  },
  {
   "cell_type": "code",
   "execution_count": null,
   "metadata": {},
   "outputs": [],
   "source": [
    "tea={'ram','hari','sita'}\n",
    "coffee={'shyam','sita','gita'}\n",
    "tea_or_coffee=tea|coffee #union\n",
    "print(tea_or_coffee)"
   ]
  },
  {
   "cell_type": "code",
   "execution_count": null,
   "metadata": {},
   "outputs": [],
   "source": [
    "tea={'ram','hari','sita'}\n",
    "coffee={'shyam','sita','gita'}\n",
    "tea_or_coffee=tea.union(coffee)#union\n",
    "print(tea_or_coffee)"
   ]
  },
  {
   "cell_type": "code",
   "execution_count": null,
   "metadata": {},
   "outputs": [],
   "source": [
    "# Example 1:\n",
    "\n",
    "# Intersection of sets\n",
    "# initialize A and B\n",
    "A = {1, 2, 3, 4, 5}\n",
    "B = {4, 5, 6, 7, 8}\n",
    "\n",
    "# use & operator\n",
    "print(A & B)     # ▶ {4, 5}\n",
    "\n",
    "tea={'ram','hari','sita'}\n",
    "coffee={'shyam','sita','gita'}\n",
    "tea_and_coffee=tea&coffee #intersection\n",
    "tea_and_coffee=tea.intersection(coffee)#intersection\n",
    "print(tea_and_coffee)\n",
    "\n"
   ]
  },
  {
   "cell_type": "code",
   "execution_count": null,
   "metadata": {},
   "outputs": [],
   "source": [
    "# Example 1:\n",
    "\n",
    "# Difference of two sets\n",
    "# initialize A and B\n",
    "A = {1, 2, 3, 4, 5}\n",
    "B = {4, 5, 6, 7, 8}\n",
    "\n",
    "# use - operator on A\n",
    "print(A - B)    # ▶ {1, 2, 3}\n",
    "print(B - A)    # ▶ {8, 6, 7}\n",
    "\n",
    "\n",
    "tea={'ram','hari','sita'}\n",
    "coffee={'shyam','sita','gita'}\n",
    "tea_only=tea-coffee#difference\n",
    "print(tea_only)\n",
    "\n",
    "\n",
    "tea={'ram','hari','sita'}\n",
    "coffee={'shyam','sita','gita'}\n",
    "tea_only=tea.difference(coffee)#difference\n",
    "print(tea_only)"
   ]
  },
  {
   "cell_type": "code",
   "execution_count": null,
   "metadata": {},
   "outputs": [],
   "source": [
    "ea={'ram','hari','sita'}\n",
    "coffee={'shyam','sita','gita'}\n",
    "coffee_only=coffee.difference(tea)#difference\n",
    "print(coffee_only)"
   ]
  },
  {
   "cell_type": "code",
   "execution_count": null,
   "metadata": {},
   "outputs": [],
   "source": [
    "tea={'ram','hari','sita'}\n",
    "coffee={'shyam','gita','sita'}\n",
    "tea_only_or_coffee_only=tea.symmetric_difference(coffee)\n",
    "print(tea_only_or_coffee_only)"
   ]
  },
  {
   "cell_type": "code",
   "execution_count": 4,
   "metadata": {},
   "outputs": [
    {
     "name": "stdout",
     "output_type": "stream",
     "text": [
      "{'ram', 'jar', 1, 3, 4.5, 'shyam', 33, 7}\n"
     ]
    }
   ],
   "source": [
    "s={'ram','jar',1,4.5,3,7,'shyam'}\n",
    "s.add(33)\n",
    "print(s)"
   ]
  },
  {
   "cell_type": "code",
   "execution_count": null,
   "metadata": {},
   "outputs": [],
   "source": [
    "s={'ram','jar',1,4.5,3,7,'shyam'}\n",
    "s.clear()\n",
    "print(s)"
   ]
  },
  {
   "cell_type": "code",
   "execution_count": null,
   "metadata": {},
   "outputs": [],
   "source": [
    "s1={'ram',1,'hari',4.5,3,'shyam',(7,8,9),1,2,3,'ram'}\n",
    "s2=s1.copy()\n",
    "s1.add(33)\n",
    "print(s1,s2)"
   ]
  },
  {
   "cell_type": "code",
   "execution_count": null,
   "metadata": {},
   "outputs": [],
   "source": [
    "s={'ram',1,'hari',4.5,3,'shyam',(7,8,9),1,2,3,'ram'}\n",
    "s.update((4,5,6))\n",
    "print(s)"
   ]
  },
  {
   "cell_type": "code",
   "execution_count": null,
   "metadata": {},
   "outputs": [],
   "source": [
    "s={'ram',1,'hari',4.5,3,'shyam',(7,8,9),1,2,3,'ram'}\n",
    "s.update(('77'))\n",
    "print(s)"
   ]
  },
  {
   "cell_type": "code",
   "execution_count": null,
   "metadata": {},
   "outputs": [],
   "source": [
    "s={'ram',1,'hari',4.5,3,'shyam',(7,8,9),1,2,3,'ram'}\n",
    "s.remove(('hari'))\n",
    "print(s)#key error if the member is not there"
   ]
  },
  {
   "cell_type": "code",
   "execution_count": null,
   "metadata": {},
   "outputs": [],
   "source": [
    "s={'ram',1,'hari',4.5,3,'shyam',(7,8,9),1,2,3,'ram'}\n",
    "s.discard((11))\n",
    "print(s)#no issue even if the member is not there"
   ]
  },
  {
   "cell_type": "code",
   "execution_count": null,
   "metadata": {},
   "outputs": [],
   "source": [
    "s={'ram',1,'hari',4.5,3,'shyam',(7,8,9),1,2,3,'ram'}\n",
    "s.pop()\n",
    "print(s)"
   ]
  },
  {
   "cell_type": "code",
   "execution_count": null,
   "metadata": {},
   "outputs": [],
   "source": [
    "help(set.pop)"
   ]
  },
  {
   "cell_type": "code",
   "execution_count": null,
   "metadata": {},
   "outputs": [],
   "source": [
    "x=[1,2,3,4,5]\n",
    "print(max(x))\n",
    "print(min(x))\n",
    "print(sum(x))"
   ]
  },
  {
   "cell_type": "code",
   "execution_count": null,
   "metadata": {},
   "outputs": [],
   "source": [
    "x=[7,22,11,1,4,3,18,5,15]\n",
    "sorted(x,reverse=True)"
   ]
  },
  {
   "cell_type": "code",
   "execution_count": null,
   "metadata": {},
   "outputs": [],
   "source": [
    "#flow control\n",
    "#if....else....\n"
   ]
  },
  {
   "cell_type": "code",
   "execution_count": null,
   "metadata": {},
   "outputs": [],
   "source": [
    "age=17\n",
    "if age<18:\n",
    "    print('Unauthorized') #Indentation=> tab\n",
    "    "
   ]
  },
  {
   "cell_type": "code",
   "execution_count": null,
   "metadata": {},
   "outputs": [],
   "source": [
    "age=19\n",
    "if age>=18:\n",
    "    print('Authorized')\n",
    "    print('Hi')\n",
    "\n",
    "print('hello')"
   ]
  },
  {
   "cell_type": "code",
   "execution_count": null,
   "metadata": {},
   "outputs": [],
   "source": []
  },
  {
   "cell_type": "code",
   "execution_count": null,
   "metadata": {},
   "outputs": [],
   "source": [
    "age=int(input('Enter the age: '))\n",
    "\n",
    "if age>=18:\n",
    "    print('authorized')\n",
    "\n"
   ]
  },
  {
   "cell_type": "code",
   "execution_count": 1,
   "metadata": {},
   "outputs": [
    {
     "name": "stdout",
     "output_type": "stream",
     "text": [
      "Enter marks :  45\n"
     ]
    },
    {
     "name": "stdout",
     "output_type": "stream",
     "text": [
      "Pass\n"
     ]
    }
   ],
   "source": [
    "marks = int(input(\"Enter marks : \"))\n",
    "if marks>=45:\n",
    "    print('Pass')\n",
    "if marks<45:\n",
    "    print('Fail')    \n"
   ]
  },
  {
   "cell_type": "code",
   "execution_count": 2,
   "metadata": {},
   "outputs": [
    {
     "name": "stdout",
     "output_type": "stream",
     "text": [
      "Enter the value of x 3\n",
      "Enter the value of y 4\n"
     ]
    },
    {
     "name": "stdout",
     "output_type": "stream",
     "text": [
      "y is greater than x\n"
     ]
    }
   ],
   "source": [
    "x=int(input('Enter the value of x'))\n",
    "y=int(input('Enter the value of y'))\n",
    "if x>y:\n",
    "    print('x is greater than y')\n",
    "elif y>x:\n",
    "    print('y is greater than x')\n",
    "elif x==y:\n",
    "    print('x and y are equal')"
   ]
  },
  {
   "cell_type": "code",
   "execution_count": 3,
   "metadata": {},
   "outputs": [
    {
     "name": "stdout",
     "output_type": "stream",
     "text": [
      "Enter the value of x 4\n",
      "Enter the value of y 7\n"
     ]
    },
    {
     "name": "stdout",
     "output_type": "stream",
     "text": [
      "y is greater than x\n"
     ]
    }
   ],
   "source": [
    "x=int(input('Enter the value of x'))\n",
    "y=int(input('Enter the value of y'))\n",
    "if x>y:\n",
    "    print('x is greater than y')\n",
    "elif y>x:\n",
    "    print('y is greater than x')\n",
    "else:\n",
    "    print('x and y are equal')"
   ]
  },
  {
   "cell_type": "code",
   "execution_count": 4,
   "metadata": {},
   "outputs": [
    {
     "name": "stdout",
     "output_type": "stream",
     "text": [
      "hello1\n"
     ]
    }
   ],
   "source": [
    "if True:\n",
    "    print('hello1')\n",
    "elif True:\n",
    "    print('hello2')\n",
    "elif True:\n",
    "    print('hello3')\n",
    "else:\n",
    "    print('hello4')\n",
    "    "
   ]
  },
  {
   "cell_type": "code",
   "execution_count": 1,
   "metadata": {},
   "outputs": [
    {
     "name": "stdout",
     "output_type": "stream",
     "text": [
      "hello2\n",
      "hello3\n",
      "hello4\n"
     ]
    }
   ],
   "source": [
    "if False:\n",
    "    print('hello1')\n",
    "if True:\n",
    "    print('hello2')\n",
    "if True:\n",
    "    print('hello3')\n",
    "if True:\n",
    "    print('hello4')\n",
    "else:\n",
    "    print('hello5')\n",
    "    "
   ]
  },
  {
   "cell_type": "code",
   "execution_count": 2,
   "metadata": {},
   "outputs": [
    {
     "name": "stdout",
     "output_type": "stream",
     "text": [
      "hello2\n",
      "hello4\n"
     ]
    }
   ],
   "source": [
    "if False:\n",
    "    print('hello1')\n",
    "if True:\n",
    "    print('hello2')\n",
    "elif True:\n",
    "    print('hello3')\n",
    "if True:\n",
    "    print('hello4')\n",
    "else:\n",
    "    prinr('hello5')\n",
    "    "
   ]
  },
  {
   "cell_type": "code",
   "execution_count": 4,
   "metadata": {},
   "outputs": [
    {
     "name": "stdout",
     "output_type": "stream",
     "text": [
      "enter the username:  hgs8\n",
      "enter the. password:  yuotube\n"
     ]
    },
    {
     "name": "stdout",
     "output_type": "stream",
     "text": [
      "You are not signed in\n"
     ]
    }
   ],
   "source": [
    "#username:'admin'\n",
    "#password:'admin123'\n",
    "username=input('enter the username: ')\n",
    "passsword=input('enter the. password: ')\n",
    "if username=='admin'and password='admin123':\n",
    "    print('You are signed in')\n",
    "else:\n",
    "    print('You are not signed in')\n",
    "\n"
   ]
  },
  {
   "cell_type": "code",
   "execution_count": null,
   "metadata": {},
   "outputs": [],
   "source": []
  },
  {
   "cell_type": "code",
   "execution_count": 17,
   "metadata": {},
   "outputs": [
    {
     "name": "stdout",
     "output_type": "stream",
     "text": [
      "enter the username:  788\n",
      "enter the. password:  u9809\n",
      "enter the secret:  0998\n"
     ]
    },
    {
     "name": "stdout",
     "output_type": "stream",
     "text": [
      "You are not signed in\n"
     ]
    }
   ],
   "source": [
    "#username:'admin'\n",
    "#password:'admin123'\n",
    "#secret='secretkey123'\n",
    "username=input('enter the username: ')\n",
    "password=input('enter the. password: ')\n",
    "secret=input('enter the secret: ')\n",
    "if(\n",
    "(username=='admin'and password=='admin123') or (secret=='secret123')\n",
    "    ):\n",
    "    print('You are signed in')\n",
    "else:\n",
    "    print('You are not signed in')\n",
    "    \n"
   ]
  },
  {
   "cell_type": "code",
   "execution_count": 18,
   "metadata": {},
   "outputs": [
    {
     "name": "stdout",
     "output_type": "stream",
     "text": [
      "enter the username:  admin\n",
      "enter the. password:  admin123\n",
      "enter the secret:  secretkey123\n"
     ]
    },
    {
     "name": "stdout",
     "output_type": "stream",
     "text": [
      "You are signed in\n"
     ]
    }
   ],
   "source": [
    "#username:'admin'\n",
    "#password:'admin123'\n",
    "#secret='secretkey123'\n",
    "username=input('enter the username: ')\n",
    "password=input('enter the. password: ')\n",
    "secret=input('enter the secret: ')\n",
    "if username=='admin' and password=='admin123' or secret=='secretkey123':\n",
    "    print('You are signed in')\n",
    "else:\n",
    "    print('You are not signed in')\n",
    "    \n",
    "    \n"
   ]
  },
  {
   "cell_type": "code",
   "execution_count": 26,
   "metadata": {},
   "outputs": [
    {
     "ename": "IndentationError",
     "evalue": "unexpected indent (1631693433.py, line 10)",
     "output_type": "error",
     "traceback": [
      "  \u001b[36mCell\u001b[39m\u001b[36m \u001b[39m\u001b[32mIn[26]\u001b[39m\u001b[32m, line 10\u001b[39m\n\u001b[31m    \u001b[39m\u001b[31mif secret=='secret123'\u001b[39m\n    ^\n\u001b[31mIndentationError\u001b[39m\u001b[31m:\u001b[39m unexpected indent\n"
     ]
    }
   ],
   "source": [
    "username:'admin'\n",
    "#password:'admin123'\n",
    "#secret='secretkey123'\n",
    "username=input('enter the username: ')\n",
    "password=input('enter the. password: ')\n",
    "if username=='admin' and password=='admin123':\n",
    "    print('You are signed in')\n",
    "else:\n",
    "   secret=input('enter the secret: ')\n",
    "    if secret=='secret123'\n",
    "        print('You are signed in')\n",
    "    else:\n",
    "        print('You are not signed in')\n",
    "\n"
   ]
  },
  {
   "cell_type": "code",
   "execution_count": 23,
   "metadata": {},
   "outputs": [
    {
     "name": "stdout",
     "output_type": "stream",
     "text": [
      "enter the username:  admin\n",
      "enter the password:  admin123\n"
     ]
    },
    {
     "name": "stdout",
     "output_type": "stream",
     "text": [
      "You are signed in\n"
     ]
    }
   ],
   "source": [
    "username = 'admin'  # Default value\n",
    "# password = 'admin123'  # Default value, commented out\n",
    "# secret = 'secretkey123'  # Default value, commented out\n",
    "\n",
    "username = input('enter the username: ')\n",
    "password = input('enter the password: ')\n",
    "\n",
    "if username == 'admin' and password == 'admin123':\n",
    "    print('You are signed in')\n",
    "else:\n",
    "    secret = input('enter the secret: ')\n",
    "    if secret == 'secretkey123':\n",
    "        print('You are signed in')\n",
    "    else:\n",
    "        print('You are not signed in')"
   ]
  },
  {
   "cell_type": "code",
   "execution_count": 1,
   "metadata": {},
   "outputs": [
    {
     "name": "stdin",
     "output_type": "stream",
     "text": [
      "Enter your Math marks:  67\n",
      "Enter your Science marks:  89\n",
      "Enter your EPH marks:  89\n",
      "Enter your Nepali marks:  89\n",
      "Enter your Computer marks:  99\n"
     ]
    },
    {
     "name": "stdout",
     "output_type": "stream",
     "text": [
      "Your total score is 433 out of 500\n",
      "Wow! You got Distinction\n"
     ]
    }
   ],
   "source": [
    "Math = int(input('Enter your Math marks: '))\n",
    "Science = int(input('Enter your Science marks: '))\n",
    "EPH = int(input('Enter your EPH marks: '))\n",
    "Nepali = int(input('Enter your Nepali marks: '))\n",
    "Computer = int(input('Enter your Computer marks: '))\n",
    "\n",
    "total = Math + Science + EPH + Nepali + Computer\n",
    "percent = total / 5\n",
    "\n",
    "print('Your total score is', total, 'out of 500')\n",
    "if percent < 35:\n",
    "    print(\"Sorry, you failed\")\n",
    "elif percent >= 35 and percent < 50:\n",
    "    print('You got Third Division')\n",
    "elif 50 <= percent < 60:\n",
    "    print('You got Second Division')\n",
    "elif 60 <= percent < 80:\n",
    "    print('You got First Division')\n",
    "elif 80 <= percent <= 100:\n",
    "    print('Wow! You got Distinction')\n",
    "                "
   ]
  },
  {
   "cell_type": "code",
   "execution_count": 3,
   "metadata": {},
   "outputs": [
    {
     "name": "stdout",
     "output_type": "stream",
     "text": [
      "[1, 4, 9, 16, 25, 36]\n"
     ]
    }
   ],
   "source": [
    "x=[1,2,3,4,5,6]\n",
    "#output=[1.4,9,16,25,36]\n",
    "output=[]\n",
    "for i in x:\n",
    "    output.append(i**2)\n",
    "print(output)\n"
   ]
  },
  {
   "cell_type": "code",
   "execution_count": 6,
   "metadata": {},
   "outputs": [
    {
     "name": "stdout",
     "output_type": "stream",
     "text": [
      "['odd', 'even', 'odd', 'even', 'odd']\n"
     ]
    }
   ],
   "source": [
    "x=[1,2,3,4,5]\n",
    "#output=[odd,even,odd,even,odd]\n",
    "output=[]\n",
    "for i in x:\n",
    "    if i%2==0:\n",
    "        output.append('even')\n",
    "    else:\n",
    "        output.append('odd')\n",
    "print(output)"
   ]
  },
  {
   "cell_type": "code",
   "execution_count": 10,
   "metadata": {},
   "outputs": [
    {
     "name": "stdout",
     "output_type": "stream",
     "text": [
      "[11, 24, 12, 13, 14, 4, 5, 6, 7, 8, 9, 10, 44, 55]\n"
     ]
    }
   ],
   "source": [
    "x=[11,24,12,13,14,11,12,4,5,6,7,8,9,10,10,12,7,44,55]\n",
    "#unique item\n",
    "output=[]# This is your new empty box where you'll keep one of each crayon\n",
    "for i in x:# \"i\" is like your hand picking each crayon from the big box\n",
    "    if i not in output:# You check: \"Do I already have this color in my new box?\"\n",
    "        output.append(i)# If you don’t have it, add it to your new box!\n",
    "print(output)"
   ]
  },
  {
   "cell_type": "code",
   "execution_count": 15,
   "metadata": {},
   "outputs": [
    {
     "name": "stdout",
     "output_type": "stream",
     "text": [
      "4\n"
     ]
    }
   ],
   "source": [
    "name='rAmesh pradhan'\n",
    "#output=count vowels\n",
    "count=0\n",
    "for i in name:\n",
    "    if i in 'AEIOUaeiou':\n",
    "        count=count+1\n",
    "print(count)\n",
    "  "
   ]
  },
  {
   "cell_type": "code",
   "execution_count": 19,
   "metadata": {},
   "outputs": [
    {
     "name": "stdout",
     "output_type": "stream",
     "text": [
      "4\n"
     ]
    }
   ],
   "source": [
    "name='Prason Shrestha'# This is the name we’re going to play with!\n",
    "count=0 # This is like a scoreboard starting at zero\n",
    "for i in name:# \"i\" is like your finger pointing at each letter\n",
    "    if i in 'AEIOUaeiou':# You ask: \"Is this letter an A, E, I, O, or U (big or small)?\"\n",
    "        count=count+1 # If yes, add 1 to your scoreboard!\n",
    "print(count)\n",
    "    \n",
    "    \n"
   ]
  },
  {
   "cell_type": "code",
   "execution_count": 24,
   "metadata": {},
   "outputs": [
    {
     "name": "stdout",
     "output_type": "stream",
     "text": [
      "AeAaAA\n"
     ]
    }
   ],
   "source": [
    "name='rAmesh prAdhanASA'\n",
    "vowels=''\n",
    "for i in name:\n",
    "    if i in 'AEIOUaeiou':\n",
    "        vowels=vowels+i\n",
    "     \n",
    "print(vowels)\n",
    "    \n",
    "    \n"
   ]
  },
  {
   "cell_type": "code",
   "execution_count": null,
   "metadata": {},
   "outputs": [],
   "source": []
  }
 ],
 "metadata": {
  "kernelspec": {
   "display_name": "Python 3 (ipykernel)",
   "language": "python",
   "name": "python3"
  },
  "language_info": {
   "codemirror_mode": {
    "name": "ipython",
    "version": 3
   },
   "file_extension": ".py",
   "mimetype": "text/x-python",
   "name": "python",
   "nbconvert_exporter": "python",
   "pygments_lexer": "ipython3",
   "version": "3.13.1"
  }
 },
 "nbformat": 4,
 "nbformat_minor": 4
}
