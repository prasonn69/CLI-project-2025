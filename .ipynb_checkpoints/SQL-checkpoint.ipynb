{
 "cells": [
  {
   "cell_type": "code",
   "execution_count": 3,
   "id": "32022526-c9da-4d02-b108-db44bd14d719",
   "metadata": {},
   "outputs": [
    {
     "ename": "SyntaxError",
     "evalue": "unmatched ')' (2752799297.py, line 19)",
     "output_type": "error",
     "traceback": [
      "  \u001b[36mCell\u001b[39m\u001b[36m \u001b[39m\u001b[32mIn[3]\u001b[39m\u001b[32m, line 19\u001b[39m\n\u001b[31m    \u001b[39m\u001b[31m''')\u001b[39m\n       ^\n\u001b[31mSyntaxError\u001b[39m\u001b[31m:\u001b[39m unmatched ')'\n"
     ]
    }
   ],
   "source": [
    "import sqlite3\n",
    "\n",
    "# Connect to SQLite database (creates a new database if it doesn't exist)\n",
    "con=sqlite.connect('students1.sq;ite3')\n",
    "cur = con.cursor() #THREE IMP\n",
    "\n",
    "# Create the student table\n",
    "create_table query='''\n",
    "    CREATE TABLE IF NOT EXISTS student (\n",
    "        id int primary key,\n",
    "    name varchar not null,\n",
    "    address varchar not null,\n",
    "    college varchar not null,\n",
    "    age int not null,\n",
    "    gender varchar(1) not null,\n",
    "    faculty varchar not null\n",
    ");\n",
    "    \n",
    "''')\n"
   ]
  },
  {
   "cell_type": "code",
   "execution_count": null,
   "id": "326ef2c8-db19-4bc1-ab4a-a12aee296e01",
   "metadata": {},
   "outputs": [],
   "source": [
    "insert_records=\"\"\"\"\"\""
   ]
  }
 ],
 "metadata": {
  "kernelspec": {
   "display_name": "Python 3 (ipykernel)",
   "language": "python",
   "name": "python3"
  },
  "language_info": {
   "codemirror_mode": {
    "name": "ipython",
    "version": 3
   },
   "file_extension": ".py",
   "mimetype": "text/x-python",
   "name": "python",
   "nbconvert_exporter": "python",
   "pygments_lexer": "ipython3",
   "version": "3.13.1"
  }
 },
 "nbformat": 4,
 "nbformat_minor": 5
}
