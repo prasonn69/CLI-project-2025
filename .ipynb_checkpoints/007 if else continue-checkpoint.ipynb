{
 "cells": [
  {
   "cell_type": "code",
   "execution_count": 5,
   "id": "c85f51ef-dc2b-4566-ac6b-3961592d5f27",
   "metadata": {},
   "outputs": [
    {
     "name": "stdin",
     "output_type": "stream",
     "text": [
      "Enter the username:  asfas\n",
      "Enter the password:  asdfasdf\n",
      "Do you want to access through secret key. Please type y or yes or ok to continue:  asfsad\n"
     ]
    },
    {
     "name": "stdout",
     "output_type": "stream",
     "text": [
      "Cannot log in.\n"
     ]
    }
   ],
   "source": [
    "# username = \"admin\"\n",
    "# password = \"admin123\"\n",
    "# secret = \"secretkey123\"\n",
    "\n",
    "username = input(\"Enter the username: \")\n",
    "password = input(\"Enter the password: \")\n",
    "\n",
    "if username == \"admin\" and password == \"admin123\":\n",
    "    print(\"Successfully logged in.\")\n",
    "else:\n",
    "    confirmation = input(\"Do you want to access through secret key. \"\n",
    "                         \"Please type y or yes or ok to continue: \")\n",
    "    if confirmation.lower() in {'y', 'yes', 'ok'}: \n",
    "        secret = input(\"Enter the secret: \")\n",
    "        if secret == \"secretkey123\":\n",
    "            print(\"Successfully logged in.\")\n",
    "        else:\n",
    "            print(\"Cannot log in.\")\n",
    "    else:\n",
    "        print(\"Cannot log in.\")"
   ]
  },
  {
   "cell_type": "code",
   "execution_count": 2,
   "id": "7adb5c6a-7d99-4cc6-8c33-1dbcd12a19d0",
   "metadata": {},
   "outputs": [
    {
     "name": "stdout",
     "output_type": "stream",
     "text": [
      "Do you want to access through secret key. Please type y or yes or ok to continue: \n"
     ]
    }
   ],
   "source": [
    "print(\"Do you want to access through secret key. \"\n",
    "                         \"Please type y or yes or ok to continue: \")"
   ]
  },
  {
   "cell_type": "code",
   "execution_count": 6,
   "id": "2baddd0c-ad55-4726-9b40-53cad9bcaa60",
   "metadata": {},
   "outputs": [
    {
     "name": "stdin",
     "output_type": "stream",
     "text": [
      "ENter mark in math:  59\n",
      "Enter mark in science:  80\n"
     ]
    },
    {
     "name": "stdout",
     "output_type": "stream",
     "text": [
      "80.0\n",
      "distinction\n"
     ]
    }
   ],
   "source": [
    "# >= 80 => distinction\n",
    "# 60-80 => first division\n",
    "# 50-60 => second division\n",
    "# 35-50 => third division\n",
    "# < 35 => fail\n",
    "\n",
    "math = int(input(\"ENter mark in math: \"))\n",
    "science = int(input(\"Enter mark in science: \"))\n",
    "english = 90\n",
    "nepali = 84\n",
    "optional_math = 66\n",
    "social = 77\n",
    "eph = 95\n",
    "computer = 89\n",
    "\n",
    "average = (math + science + \n",
    "           english + nepali + \n",
    "           optional_math + social + \n",
    "           eph + computer) / 8\n",
    "print(average)\n",
    "\n",
    "if average < 35:\n",
    "    print(\"failed\")\n",
    "elif average >=35 and average < 50: # 35<=average<50\n",
    "    print('third division')\n",
    "elif 50<=average<60:\n",
    "    print('second division')\n",
    "elif 60<=average<80:\n",
    "    print('first division')\n",
    "elif 80<=average<=100:\n",
    "    print('distinction')"
   ]
  },
  {
   "cell_type": "code",
   "execution_count": 7,
   "id": "099b9152-efac-43dc-b7e4-f01aa0f9c2e1",
   "metadata": {},
   "outputs": [],
   "source": [
    "# age => 1-13 -> teenage\n",
    "# age => 13-18 -> young\n",
    "# age => 18-35 -> adult\n",
    "# age => 35-45 -> old\n",
    "# age => >=45 -> very old"
   ]
  },
  {
   "cell_type": "code",
   "execution_count": 9,
   "id": "c3f71ee1-890d-4ecb-967f-6e541f6daede",
   "metadata": {},
   "outputs": [
    {
     "name": "stdout",
     "output_type": "stream",
     "text": [
      "1 2 3\n"
     ]
    }
   ],
   "source": [
    "x = [1,2,3,4,5]\n",
    "print(x[0], x[1], x[2])"
   ]
  },
  {
   "cell_type": "code",
   "execution_count": 10,
   "id": "da7c4c4d-bf45-4486-995c-f7ab9723c5a9",
   "metadata": {},
   "outputs": [
    {
     "name": "stdout",
     "output_type": "stream",
     "text": [
      "1\n",
      "2\n",
      "3\n",
      "4\n",
      "5\n"
     ]
    }
   ],
   "source": [
    "x = [1,2,3,4,5]\n",
    "\n",
    "for i in x: # for loop\n",
    "    print(i)"
   ]
  },
  {
   "cell_type": "code",
   "execution_count": 11,
   "id": "2e9996bf-8e7f-4ee9-bfeb-acd15be846d0",
   "metadata": {},
   "outputs": [
    {
     "data": {
      "text/plain": [
       "21"
      ]
     },
     "execution_count": 11,
     "metadata": {},
     "output_type": "execute_result"
    }
   ],
   "source": [
    "x = [1,2,3,4,5,6]\n",
    "sum(x)"
   ]
  },
  {
   "cell_type": "code",
   "execution_count": 14,
   "id": "e7d6923a-f85f-4c34-97a7-a702f7a59033",
   "metadata": {},
   "outputs": [
    {
     "name": "stdout",
     "output_type": "stream",
     "text": [
      "21\n"
     ]
    }
   ],
   "source": [
    "x = [1,2,3,4,5,6]\n",
    "\n",
    "sum = 0\n",
    "for i in x: # 3\n",
    "    sum += i # sum = sum + i => 0 + 1 +2 + 3 .. 6\n",
    "\n",
    "print(sum)"
   ]
  },
  {
   "cell_type": "code",
   "execution_count": 15,
   "id": "2df9889d-e55d-4192-84c7-24cddbe4f88d",
   "metadata": {},
   "outputs": [
    {
     "name": "stdout",
     "output_type": "stream",
     "text": [
      "720\n"
     ]
    }
   ],
   "source": [
    "x = [1,2,3,4,5,6]\n",
    "mul = 1\n",
    "\n",
    "for i in x:\n",
    "    mul *= i\n",
    "\n",
    "print(mul)"
   ]
  },
  {
   "cell_type": "code",
   "execution_count": 17,
   "id": "318cdb10-4efe-4990-b27a-e6f104bb1d51",
   "metadata": {},
   "outputs": [
    {
     "name": "stdout",
     "output_type": "stream",
     "text": [
      "1\n",
      "4\n",
      "9\n",
      "16\n",
      "25\n",
      "36\n"
     ]
    }
   ],
   "source": [
    "x = [1,2,3,4,5,6]\n",
    "for i in x:\n",
    "    print(i ** 2)"
   ]
  },
  {
   "cell_type": "code",
   "execution_count": 20,
   "id": "d93d0ef7-0fa0-4ea9-ab87-446864a7e7ae",
   "metadata": {},
   "outputs": [
    {
     "name": "stdout",
     "output_type": "stream",
     "text": [
      "[1, 4, 9, 16, 25, 36]\n"
     ]
    }
   ],
   "source": [
    "x = [1,2,3,4,5,6]\n",
    "\n",
    "squares = []\n",
    "for i in x:\n",
    "    squares.append(i ** 2)\n",
    "\n",
    "print(squares)"
   ]
  },
  {
   "cell_type": "code",
   "execution_count": 21,
   "id": "bdc952ef-9863-4c02-8fad-c1037609b4fd",
   "metadata": {},
   "outputs": [
    {
     "data": {
      "text/plain": [
       "1"
      ]
     },
     "execution_count": 21,
     "metadata": {},
     "output_type": "execute_result"
    }
   ],
   "source": [
    "1 % 2"
   ]
  },
  {
   "cell_type": "code",
   "execution_count": 22,
   "id": "c2be0028-e813-4ab9-9ca3-53caebb08d46",
   "metadata": {},
   "outputs": [
    {
     "data": {
      "text/plain": [
       "0"
      ]
     },
     "execution_count": 22,
     "metadata": {},
     "output_type": "execute_result"
    }
   ],
   "source": [
    "2 % 2"
   ]
  },
  {
   "cell_type": "code",
   "execution_count": null,
   "id": "14a47ca1-8e8d-47a7-8230-805d1c7e3248",
   "metadata": {},
   "outputs": [],
   "source": []
  },
  {
   "cell_type": "code",
   "execution_count": 23,
   "id": "012ed4e7-5ff9-4106-aa5f-2c63ff782f6a",
   "metadata": {},
   "outputs": [
    {
     "name": "stdout",
     "output_type": "stream",
     "text": [
      "['odd', 'even', 'odd', 'even', 'odd']\n"
     ]
    }
   ],
   "source": [
    "x = [1,2,3,4,5] \n",
    "# output = [\"odd\", \"even\", \"odd\" ...]\n",
    "\n",
    "output = []\n",
    "for i in x:\n",
    "    if i % 2 == 0:\n",
    "        output.append(\"even\")\n",
    "    else:\n",
    "        output.append(\"odd\")\n",
    "\n",
    "print(output)"
   ]
  },
  {
   "cell_type": "code",
   "execution_count": 28,
   "id": "cd30bf28-0afa-4c73-82a8-8eac8703e0db",
   "metadata": {},
   "outputs": [
    {
     "name": "stdout",
     "output_type": "stream",
     "text": [
      "odd_numbers=[1, 3, 1, 7, 1, 11, 19, 3, 9, 3, 9, 11, 1, 3]\n",
      "even_numbers=[2, 6, 2, 8, 10, 12, 24, 2, 8]\n"
     ]
    }
   ],
   "source": [
    "x = [1,2,3,1,6,2,7,1,11,19,3,8,9,3,9,10,11,12,24,1,2,3,8]\n",
    "\n",
    "# odd_numbers = [1, 3, 1, 7, 1, 11, 19, 3, 9, 3, 9, 11, 1, 3]\n",
    "# even_numbers = [2, 6, 2, 8, 10, 12, 24, 2, 8] \n",
    "\n",
    "odd_numbers = []\n",
    "even_numbers = []\n",
    "\n",
    "for i in x: # 2\n",
    "    if i % 2 == 0:\n",
    "        even_numbers.append(i)\n",
    "    else:\n",
    "        odd_numbers.append(i) \n",
    "        \n",
    "print(f\"{odd_numbers=}\")\n",
    "print(f\"{even_numbers=}\")"
   ]
  },
  {
   "cell_type": "code",
   "execution_count": 30,
   "id": "c802c55e-b7bf-46c8-b8a3-6ae0e5c83746",
   "metadata": {},
   "outputs": [
    {
     "name": "stdout",
     "output_type": "stream",
     "text": [
      "[11, 12, 24, 1, 2, 3, 6, 7, 19, 8, 9, 10]\n"
     ]
    }
   ],
   "source": [
    "x = [11, 12, 24, 1,2,3,1,6,2,7,1,11,19,3,8,9,3,9,10,11,12,24,1,2,3,8]\n",
    "# unique_items = [11, 12, 24, 1, 2, 3, 6, 7, 19, 8, 9, 10]\n",
    "\n",
    "unique_items = []\n",
    "\n",
    "for i in x: # 11\n",
    "    if i not in unique_items:\n",
    "        unique_items.append(i) # [11,12,24,1,2,3,19]\n",
    "\n",
    "\n",
    "print(unique_items)"
   ]
  },
  {
   "cell_type": "code",
   "execution_count": 32,
   "id": "3b7b47ef-e8a0-4788-86d6-3494160dec7c",
   "metadata": {},
   "outputs": [
    {
     "name": "stdout",
     "output_type": "stream",
     "text": [
      "4\n"
     ]
    }
   ],
   "source": [
    "name = 'rAmesh pradhan' # no of vowels => aeiou\n",
    "\n",
    "count = 0\n",
    "for i in name:\n",
    "    if i.lower() in 'aeiou':\n",
    "        count += 1\n",
    "\n",
    "print(count)"
   ]
  },
  {
   "cell_type": "code",
   "execution_count": null,
   "id": "827c5588-3018-4444-a259-1faa21debec4",
   "metadata": {},
   "outputs": [],
   "source": []
  }
 ],
 "metadata": {
  "kernelspec": {
   "display_name": "Python 3 (ipykernel)",
   "language": "python",
   "name": "python3"
  },
  "language_info": {
   "codemirror_mode": {
    "name": "ipython",
    "version": 3
   },
   "file_extension": ".py",
   "mimetype": "text/x-python",
   "name": "python",
   "nbconvert_exporter": "python",
   "pygments_lexer": "ipython3",
   "version": "3.12.4"
  },
  "widgets": {
   "application/vnd.jupyter.widget-state+json": {
    "state": {},
    "version_major": 2,
    "version_minor": 0
   }
  }
 },
 "nbformat": 4,
 "nbformat_minor": 5
}
