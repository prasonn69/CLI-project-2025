{
 "cells": [
  {
   "cell_type": "markdown",
   "id": "069520d4-2707-4cfb-8401-ab2ed506cc46",
   "metadata": {},
   "source": [
    "1.10. 💻 Exercises ➞ Tuple\n",
    "1.10.1. Exercises ➞ Level 1\n",
    "Create a tuple containing names of fruits and vegetables\n",
    "Join fruits and vegetables tuples and assign it to fruits_vegetables\n",
    "How many fruits_vegetables do you have?\n",
    "Modify the fruits_vegetables tuple and add the name of your favorite mushroom and beverage and assign it to food_tuple\n",
    "1.10.2. Exercises ➞ Level 2\n",
    "Unpack fruits_vegetables and mushroom and beverage from food_tuple\n",
    "Change the about food_tuple tuple to a food_list list\n",
    "Slice out the middle item or items from the food_tuple tuple or food_list list.\n",
    "Slice out the first three items and the last three items from food_list list\n",
    "Delete the food_tuple tuple completely\n",
    "Check if an item exists in tuple:\n",
    "Check if 'Finland' is a asian country\n",
    "Check if 'India' is a asian country\n",
    "asian_countries = ('India','China','Singapore','Thailand','Indonesia') ```"
   ]
  },
  {
   "cell_type": "code",
   "execution_count": 2,
   "id": "f5b04743-182a-4635-b61c-7c9694108d4c",
   "metadata": {},
   "outputs": [
    {
     "name": "stdout",
     "output_type": "stream",
     "text": [
      "('Apple', 'Banana', 'Mango', 'Strawberry') ('Tomato', 'Potato', 'Spinach', 'Carrot')\n"
     ]
    }
   ],
   "source": [
    "#Create a tuple containing names of fruits and vegetables\n",
    "fruits=('Apple','Banana','Mango','Strawberry')\n",
    "vegetables=('Tomato','Potato','Spinach','Carrot')\n",
    "print(fruits,vegetables)"
   ]
  },
  {
   "cell_type": "code",
   "execution_count": 4,
   "id": "4d27604d-9cb9-4264-ac39-3304295c67d0",
   "metadata": {},
   "outputs": [
    {
     "name": "stdout",
     "output_type": "stream",
     "text": [
      "('Apple', 'Banana', 'Mango', 'Strawberry', 'Tomato', 'Potato', 'Spinach', 'Carrot')\n"
     ]
    }
   ],
   "source": [
    "#Join fruits and vegetables tuples and assign it to fruits_vegetables\n",
    "fruits=('Apple','Banana','Mango','Strawberry')\n",
    "vegetables=('Tomato','Potato','Spinach','Carrot')\n",
    "fruits_and_vegetables=fruits+vegetables\n",
    "print(fruits_and_vegetables)"
   ]
  },
  {
   "cell_type": "code",
   "execution_count": 5,
   "id": "14c05d64-b296-497d-8239-921cb903ba76",
   "metadata": {},
   "outputs": [
    {
     "name": "stdout",
     "output_type": "stream",
     "text": [
      "8\n"
     ]
    }
   ],
   "source": [
    "#How many fruits_vegetables do you have?\n",
    "fruits=('Apple','Banana','Mango','Strawberry')\n",
    "vegetables=('Tomato','Potato','Spinach','Carrot')\n",
    "fruits_and_vegetables=fruits+vegetables\n",
    "print(len(fruits_and_vegetables))"
   ]
  },
  {
   "cell_type": "code",
   "execution_count": 9,
   "id": "a45360a1-1a9b-4565-bee3-cc7c70cc3f41",
   "metadata": {},
   "outputs": [
    {
     "name": "stdout",
     "output_type": "stream",
     "text": [
      "('Apple', 'Banana', 'Mango', 'Strawberry', 'Tomato', 'Potato', 'Spinach', 'Carrot', 'Mushroom', 'Coffee')\n"
     ]
    }
   ],
   "source": [
    "fruits = ('Apple', 'Banana', 'Mango', 'Strawberry')\n",
    "vegetables = ('Tomato', 'Potato', 'Spinach', 'Carrot')\n",
    "fruits_and_vegetables = fruits + vegetables\n",
    "food_tuple = fruits_and_vegetables + ('Mushroom', 'Coffee') \n",
    "\n",
    "print(food_tuple)"
   ]
  },
  {
   "cell_type": "code",
   "execution_count": 14,
   "id": "6bc0167d-07b9-4a13-85cb-521fa94434aa",
   "metadata": {},
   "outputs": [
    {
     "name": "stdout",
     "output_type": "stream",
     "text": [
      "('Apple', 'Banana', 'Mango', 'Strawberry', 'Tomato', 'Potato', 'Spinach', 'Carrot', 'Mushroom', 'Coffee')\n",
      "Mushroom:Mushroom\n",
      "Beverage:Coffee\n"
     ]
    }
   ],
   "source": [
    "#Unpack fruits_vegetables and mushroom and beverage from food_tuple\n",
    "fruits = ('Apple', 'Banana', 'Mango', 'Strawberry')\n",
    "vegetables = ('Tomato', 'Potato', 'Spinach', 'Carrot')\n",
    "fruits_and_vegetables = fruits + vegetables\n",
    "food_tuple = fruits_and_vegetables + ('Mushroom', 'Coffee') \n",
    "Mushroom='Mushroom'\n",
    "Beverage='Coffee'\n",
    "print(food_tuple)\n",
    "print(f'Mushroom:{Mushroom}')\n",
    "print(f'Beverage:{Beverage}')"
   ]
  },
  {
   "cell_type": "code",
   "execution_count": 17,
   "id": "a73af734-8dca-41ec-9ce2-6aa7eb3de41e",
   "metadata": {},
   "outputs": [
    {
     "name": "stdout",
     "output_type": "stream",
     "text": [
      "Potato\n",
      "Food list: ['Apple', 'Banana', 'Mango', 'Strawberry', 'Tomato', 'Potato', 'Spinach', 'Carrot', 'Shiitake', 'Coffee']\n",
      "Middle item(s): ['Tomato', 'Potato']\n",
      "First three items: ['Apple', 'Banana', 'Mango']\n",
      "Last three items: ['Carrot', 'Shiitake', 'Coffee']\n",
      "Is Finland in Asia? False\n",
      "Is India in Asia? True\n"
     ]
    }
   ],
   "source": [
    "# Convert food_tuple tuple to food_list list\n",
    "fruits = ('Apple', 'Banana', 'Mango', 'Strawberry')\n",
    "vegetables = ('Tomato', 'Potato', 'Spinach', 'Carrot')\n",
    "fruits_and_vegetables = fruits + vegetables\n",
    "food_tuple = list(fruits_and_vegetables + ('Shiitake', 'Coffee'))\n",
    "\n",
    "# Slice out the middle item or items from food_list\n",
    "middle_index = print(food_list[5])\n",
    "\n",
    "# Slice out the first three items and last three items from food_list\n",
    "first_three = food_list[:3]\n",
    "last_three = food_list[-3:]\n",
    "\n",
    "# Delete the food_tuple tuple completely\n",
    "del food_tuple\n",
    "\n",
    "# Check if items exist in tuple:\n",
    "# Check if 'Finland' is an Asian country\n",
    "# Check if 'India' is an Asian country\n",
    "asian_countries = ('India', 'China', 'Singapore', 'Thailand', 'Indonesia')\n",
    "finland_in_asia = 'Finland' in asian_countries\n",
    "india_in_asia = 'India' in asian_countries\n",
    "\n",
    "print(\"Food list:\", food_list)\n",
    "print(\"Middle item(s):\", middle_items)\n",
    "print(\"First three items:\", first_three)\n",
    "print(\"Last three items:\", last_three)\n",
    "print(\"Is Finland in Asia?\", finland_in_asia)\n",
    "print(\"Is India in Asia?\", india_in_asia)"
   ]
  },
  {
   "cell_type": "code",
   "execution_count": null,
   "id": "30f2a109-cacf-4fe7-a205-ff88c72dc301",
   "metadata": {},
   "outputs": [],
   "source": []
  }
 ],
 "metadata": {
  "kernelspec": {
   "display_name": "Python 3 (ipykernel)",
   "language": "python",
   "name": "python3"
  },
  "language_info": {
   "codemirror_mode": {
    "name": "ipython",
    "version": 3
   },
   "file_extension": ".py",
   "mimetype": "text/x-python",
   "name": "python",
   "nbconvert_exporter": "python",
   "pygments_lexer": "ipython3",
   "version": "3.13.1"
  }
 },
 "nbformat": 4,
 "nbformat_minor": 5
}
